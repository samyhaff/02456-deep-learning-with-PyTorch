{
  "cells": [
    {
      "cell_type": "markdown",
      "metadata": {
        "id": "HAva8TnYFtFu"
      },
      "source": [
        "# Contents and why we need this lab\n",
        "\n",
        "This lab is about implementing neural networks yourself before we start using other frameworks which hide some of the computation from you. It builds on the first lab where you derived the equations for neural network forward and backward propagation and gradient descent parameter updates. \n",
        "\n",
        "All the frameworks for deep learning you will meet from now on uses automatic differentiation (autodiff) so you don't have to code the backward step yourself. In this version of this lab you will develop your own autodif implementation. We also have a [version](https://github.com/DeepLearningDTU/02456-deep-learning-with-PyTorch/blob/master/2_Feedforward_NumPy/2.1-FNN-NumPy.ipynb) of this lab where you have to code the backward pass explicitly in Numpy."
      ]
    },
    {
      "cell_type": "markdown",
      "metadata": {
        "id": "sCa7HzwpFtFy"
      },
      "source": [
        "# External sources of information\n",
        "\n",
        "1. Jupyter notebook. You can find more information about Jupyter notebooks [here](https://jupyter.org/). It will come as part of the [Anaconda](https://www.anaconda.com/) Python installation. \n",
        "2. [NumPy](https://numpy.org/). Part of Anaconda distribution. If you already know how to program most things about Python and NumPy can be found through Google search.\n",
        "3. [Nanograd](https://github.com/rasmusbergpalm/nanograd) is a minimalistic version of autodiff developed by Rasmus Berg Palm that we use for our framework.\n"
      ]
    },
    {
      "cell_type": "markdown",
      "metadata": {
        "id": "1SjiIp-TFtF0"
      },
      "source": [
        "# This notebook will follow the next steps:\n",
        "\n",
        "1. Nanograd automatic differentiation framework\n",
        "2. Finite difference method\n",
        "3. Data generation\n",
        "4. Defining and initializing the network\n",
        "5. Forward pass\n",
        "6. Training loop \n",
        "7. Testing your model\n",
        "8. Further extensions"
      ]
    },
    {
      "cell_type": "markdown",
      "metadata": {
        "id": "OyXeAA-HuT7s"
      },
      "source": [
        "# Nanograd automatic differention framework"
      ]
    },
    {
      "cell_type": "markdown",
      "metadata": {
        "id": "k6UWKCLKubgA"
      },
      "source": [
        "The [Nanograd](https://github.com/rasmusbergpalm/nanograd) framework defines a class Var which both holds a value and gradient value that we can use to store the intermediate values when we apply the chain rule of differentiation."
      ]
    },
    {
      "cell_type": "code",
      "execution_count": 45,
      "metadata": {
        "id": "Jd4CoEBNzNWS"
      },
      "outputs": [],
      "source": [
        "# Copy and pasted from https://github.com/rasmusbergpalm/nanograd/blob/main/nanograd.py\n",
        "\n",
        "from math import exp, log\n",
        "\n",
        "class Var:\n",
        "    \"\"\"\n",
        "    A variable which holds a float and enables gradient computations.\n",
        "    \"\"\"\n",
        "\n",
        "    def __init__(self, val: float, grad_fn=lambda: []):\n",
        "        assert type(val) == float\n",
        "        self.v = val\n",
        "        self.grad_fn = grad_fn\n",
        "        self.grad = 0.0\n",
        "\n",
        "    def backprop(self, bp):\n",
        "        self.grad += bp\n",
        "        for input, grad in self.grad_fn():\n",
        "            input.backprop(grad * bp)\n",
        "\n",
        "    def backward(self):\n",
        "        self.backprop(1.0)\n",
        "\n",
        "    def __add__(self: 'Var', other: 'Var') -> 'Var':\n",
        "        return Var(self.v + other.v, lambda: [(self, 1.0), (other, 1.0)])\n",
        "\n",
        "    def __mul__(self: 'Var', other: 'Var') -> 'Var':\n",
        "        return Var(self.v * other.v, lambda: [(self, other.v), (other, self.v)])\n",
        "\n",
        "    def __pow__(self, power):\n",
        "        assert type(power) in {float, int}, \"power must be float or int\"\n",
        "        return Var(self.v ** power, lambda: [(self, power * self.v ** (power - 1))])\n",
        "\n",
        "    def __neg__(self: 'Var') -> 'Var':\n",
        "        return Var(-1.0) * self\n",
        "\n",
        "    def __sub__(self: 'Var', other: 'Var') -> 'Var':\n",
        "        return self + (-other)\n",
        "\n",
        "    def __truediv__(self: 'Var', other: 'Var') -> 'Var':\n",
        "        return self * other ** -1\n",
        "\n",
        "    def __repr__(self):\n",
        "        return \"Var(v=%.4f, grad=%.4f)\" % (self.v, self.grad)\n",
        "\n",
        "    def relu(self):\n",
        "        return Var(self.v if self.v > 0.0 else 0.0, lambda: [(self, 1.0 if self.v > 0.0 else 0.0)])\n",
        "\n",
        "    def identity(self):\n",
        "        return Var(self.v, lambda: [(self, 1.0)])\n",
        "\n",
        "    # def sigmoid(self):\n",
        "    #     return Var(1 / (1 + exp(-self.v)), lambda: [(self, exp(-x) / (1 + exp(-x))**2 )])\n",
        "\n",
        "    # def tanh(self):\n",
        "    #     return Var((exp(self.v) - exp(-self.v)) / (exp(self.v) + exp(-self.v)), [(self, 4 / (exp(self.v) + exp(-self.v))**2)])\n",
        "\n",
        "    def exp(self):\n",
        "        return Var(exp(self.v), lambda: [(self, exp(self.v))])\n",
        "\n",
        "    def log(self):\n",
        "        return Var(log(self.v), lambda: [(self, self.v ** -1)])\n",
        "\n",
        "    def sigmoid(self):\n",
        "        return (Var(1.0) + (-self).exp()) ** -1\n",
        "\n",
        "    def tanh(self):\n",
        "        return (self.exp() - (-self).exp()) / (self.exp() + (-self).exp())"
      ]
    },
    {
      "cell_type": "markdown",
      "metadata": {
        "id": "yDX67D6jzcte"
      },
      "source": [
        "A few examples illustrate how we can use this:"
      ]
    },
    {
      "cell_type": "code",
      "execution_count": 46,
      "metadata": {
        "colab": {
          "base_uri": "https://localhost:8080/"
        },
        "id": "xk6PeLc3zwPT",
        "outputId": "df7e54fb-5ae6-4f47-87b8-ff4ec9b17ab7"
      },
      "outputs": [
        {
          "output_type": "stream",
          "name": "stdout",
          "text": [
            "Var(v=3.0000, grad=5.0000)\n",
            "Var(v=5.0000, grad=3.0000)\n",
            "Var(v=15.0000, grad=1.0000)\n"
          ]
        }
      ],
      "source": [
        "a = Var(3.0)\n",
        "b = Var(5.0)\n",
        "f = a * b\n",
        "\n",
        "f.backward()\n",
        "\n",
        "for v in [a, b, f]:\n",
        "    print(v)"
      ]
    },
    {
      "cell_type": "code",
      "execution_count": 47,
      "metadata": {
        "colab": {
          "base_uri": "https://localhost:8080/"
        },
        "id": "JmKhYgsY0g_o",
        "outputId": "e9ef750f-873e-49cd-b591-4bc0b8864683"
      },
      "outputs": [
        {
          "output_type": "stream",
          "name": "stdout",
          "text": [
            "Var(v=3.0000, grad=14.0000)\n",
            "Var(v=5.0000, grad=3.0000)\n",
            "Var(v=15.0000, grad=1.0000)\n",
            "Var(v=9.0000, grad=3.0000)\n",
            "Var(v=27.0000, grad=1.0000)\n",
            "Var(v=42.0000, grad=1.0000)\n"
          ]
        }
      ],
      "source": [
        "a = Var(3.0)\n",
        "b = Var(5.0)\n",
        "c = a * b\n",
        "d = Var(9.0)\n",
        "e = a * d\n",
        "f = c + e\n",
        "\n",
        "f.backward()\n",
        "\n",
        "for v in [a, b, c, d, e, f]:\n",
        "    print(v)"
      ]
    },
    {
      "cell_type": "markdown",
      "metadata": {
        "id": "Fe3B6uEH140p"
      },
      "source": [
        "## Exercise a) What is being calculated?\n",
        "\n",
        "Explain briefly the output of the code? What is the expression we differentiate and with respect to what variables?"
      ]
    },
    {
      "cell_type": "markdown",
      "source": [
        "## Solution\n",
        "\n",
        "The code above differenciates the expression `f` with respect to its variables: (`a, b` for the first cell and  `a, b, c, d, e, f` for the second). For example the second to last output line from the second cell comes from $ \\frac{\\partial f}{\\partial e} = \\frac{\\partial (c + e)}{\\partial e} = 1$."
      ],
      "metadata": {
        "id": "Jf3S5deaX5v2"
      }
    },
    {
      "cell_type": "markdown",
      "metadata": {
        "id": "q8_Q0t2I3Ruj"
      },
      "source": [
        "## Exercise b) How does the backward function work?\n",
        "\n",
        "You need to understand how the backward function calculates the gradients. We can use the two examples above to help with that.\n",
        "\n",
        "Go through the following four steps and answer the questions on the way:\n",
        "\n",
        "1. We represent the two expressions as graphs as shown below. Fill in the missing expressions for the different derivatives.\n",
        "\n",
        "2. In the remainder consider the first expression. Make a schematic of the data structure which is generated when we define the expression for f. \n",
        "\n",
        "3. Then execute the backward function by hand to convince yourself that it indeed calculates the gradients with respect to the variables. \n",
        "\n",
        "4. Write down the sequence of calls to backprop."
      ]
    },
    {
      "cell_type": "code",
      "execution_count": 48,
      "metadata": {
        "id": "idGr71jYXl26"
      },
      "outputs": [],
      "source": [
        "# import logging\n",
        "import graphviz\n",
        "\n",
        "#logging.basicConfig(format='[%(levelname)s@%(name)s] %(message)s', level=logging.DEBUG)\n",
        "\n",
        "#graphviz.__version__, graphviz.version()"
      ]
    },
    {
      "cell_type": "code",
      "execution_count": 49,
      "metadata": {
        "colab": {
          "base_uri": "https://localhost:8080/",
          "height": 151
        },
        "id": "KPe30Q2QXzeG",
        "outputId": "443aa8fb-79f3-4fde-ece5-dc5e12cf7dbc"
      },
      "outputs": [
        {
          "output_type": "execute_result",
          "data": {
            "text/plain": [
              "<graphviz.dot.Digraph at 0x7fa673d10710>"
            ],
            "image/svg+xml": "<?xml version=\"1.0\" encoding=\"UTF-8\" standalone=\"no\"?>\n<!DOCTYPE svg PUBLIC \"-//W3C//DTD SVG 1.1//EN\"\n \"http://www.w3.org/Graphics/SVG/1.1/DTD/svg11.dtd\">\n<!-- Generated by graphviz version 2.40.1 (20161225.0304)\n -->\n<!-- Title: first expression Pages: 1 -->\n<svg width=\"162pt\" height=\"98pt\"\n viewBox=\"0.00 0.00 162.00 98.00\" xmlns=\"http://www.w3.org/2000/svg\" xmlns:xlink=\"http://www.w3.org/1999/xlink\">\n<g id=\"graph0\" class=\"graph\" transform=\"scale(1 1) rotate(0) translate(4 94)\">\n<title>first expression</title>\n<polygon fill=\"#ffffff\" stroke=\"transparent\" points=\"-4,4 -4,-94 158,-94 158,4 -4,4\"/>\n<!-- a -->\n<g id=\"node1\" class=\"node\">\n<title>a</title>\n<ellipse fill=\"none\" stroke=\"#000000\" cx=\"18\" cy=\"-72\" rx=\"18\" ry=\"18\"/>\n<text text-anchor=\"middle\" x=\"18\" y=\"-68.3\" font-family=\"Times,serif\" font-size=\"14.00\" fill=\"#000000\">a</text>\n</g>\n<!-- f -->\n<g id=\"node2\" class=\"node\">\n<title>f</title>\n<ellipse fill=\"none\" stroke=\"#000000\" cx=\"136\" cy=\"-45\" rx=\"18\" ry=\"18\"/>\n<text text-anchor=\"middle\" x=\"136\" y=\"-41.3\" font-family=\"Times,serif\" font-size=\"14.00\" fill=\"#000000\">f</text>\n</g>\n<!-- a&#45;&gt;f -->\n<g id=\"edge1\" class=\"edge\">\n<title>a&#45;&gt;f</title>\n<path fill=\"none\" stroke=\"#000000\" d=\"M35.6658,-67.9578C54.8698,-63.5637 85.8151,-56.483 108.2661,-51.3459\"/>\n<polygon fill=\"#000000\" stroke=\"#000000\" points=\"109.2461,-54.7122 118.2134,-49.0698 107.6847,-47.8885 109.2461,-54.7122\"/>\n<text text-anchor=\"middle\" x=\"77\" y=\"-66.8\" font-family=\"Times,serif\" font-size=\"14.00\" fill=\"#000000\">df/da=b</text>\n</g>\n<!-- b -->\n<g id=\"node3\" class=\"node\">\n<title>b</title>\n<ellipse fill=\"none\" stroke=\"#000000\" cx=\"18\" cy=\"-18\" rx=\"18\" ry=\"18\"/>\n<text text-anchor=\"middle\" x=\"18\" y=\"-14.3\" font-family=\"Times,serif\" font-size=\"14.00\" fill=\"#000000\">b</text>\n</g>\n<!-- b&#45;&gt;f -->\n<g id=\"edge2\" class=\"edge\">\n<title>b&#45;&gt;f</title>\n<path fill=\"none\" stroke=\"#000000\" d=\"M36.0339,-20.9637C52.7278,-23.8381 78.1872,-28.555 100,-34 103.0098,-34.7513 106.1413,-35.6022 109.2457,-36.4899\"/>\n<polygon fill=\"#000000\" stroke=\"#000000\" points=\"108.3051,-39.8618 118.8887,-39.3744 110.3112,-33.1554 108.3051,-39.8618\"/>\n<text text-anchor=\"middle\" x=\"77\" y=\"-37.8\" font-family=\"Times,serif\" font-size=\"14.00\" fill=\"#000000\">df/db=a</text>\n</g>\n</g>\n</svg>\n"
          },
          "metadata": {},
          "execution_count": 49
        }
      ],
      "source": [
        "e1 = graphviz.Digraph('first expression', filename='fsm.gv')\n",
        "\n",
        "e1.attr(rankdir='LR', size='8,5')\n",
        "\n",
        "e1.attr('node', shape='circle')\n",
        "e1.edge('a', 'f', label='df/da=b')\n",
        "e1.edge('b', 'f', label='df/db=a')\n",
        "\n",
        "e1"
      ]
    },
    {
      "cell_type": "code",
      "execution_count": 50,
      "metadata": {
        "colab": {
          "base_uri": "https://localhost:8080/",
          "height": 231
        },
        "id": "0nittR-mZFeX",
        "outputId": "52e2949d-8a19-4eed-fa9f-94e4dca9e182"
      },
      "outputs": [
        {
          "output_type": "execute_result",
          "data": {
            "text/plain": [
              "<graphviz.dot.Digraph at 0x7fa672c96650>"
            ],
            "image/svg+xml": "<?xml version=\"1.0\" encoding=\"UTF-8\" standalone=\"no\"?>\n<!DOCTYPE svg PUBLIC \"-//W3C//DTD SVG 1.1//EN\"\n \"http://www.w3.org/Graphics/SVG/1.1/DTD/svg11.dtd\">\n<!-- Generated by graphviz version 2.40.1 (20161225.0304)\n -->\n<!-- Title: second expression Pages: 1 -->\n<svg width=\"281pt\" height=\"158pt\"\n viewBox=\"0.00 0.00 281.00 158.00\" xmlns=\"http://www.w3.org/2000/svg\" xmlns:xlink=\"http://www.w3.org/1999/xlink\">\n<g id=\"graph0\" class=\"graph\" transform=\"scale(1 1) rotate(0) translate(4 154)\">\n<title>second expression</title>\n<polygon fill=\"#ffffff\" stroke=\"transparent\" points=\"-4,4 -4,-154 277,-154 277,4 -4,4\"/>\n<!-- a -->\n<g id=\"node1\" class=\"node\">\n<title>a</title>\n<ellipse fill=\"none\" stroke=\"#000000\" cx=\"18\" cy=\"-75\" rx=\"18\" ry=\"18\"/>\n<text text-anchor=\"middle\" x=\"18\" y=\"-71.3\" font-family=\"Times,serif\" font-size=\"14.00\" fill=\"#000000\">a</text>\n</g>\n<!-- c -->\n<g id=\"node2\" class=\"node\">\n<title>c</title>\n<ellipse fill=\"none\" stroke=\"#000000\" cx=\"137\" cy=\"-102\" rx=\"18\" ry=\"18\"/>\n<text text-anchor=\"middle\" x=\"137\" y=\"-98.3\" font-family=\"Times,serif\" font-size=\"14.00\" fill=\"#000000\">c</text>\n</g>\n<!-- a&#45;&gt;c -->\n<g id=\"edge1\" class=\"edge\">\n<title>a&#45;&gt;c</title>\n<path fill=\"none\" stroke=\"#000000\" d=\"M35.5589,-78.9839C55.0696,-83.4108 86.8223,-90.6151 109.6075,-95.7849\"/>\n<polygon fill=\"#000000\" stroke=\"#000000\" points=\"108.8425,-99.2002 119.3691,-97.9997 110.3914,-92.3737 108.8425,-99.2002\"/>\n<text text-anchor=\"middle\" x=\"77.5\" y=\"-96.8\" font-family=\"Times,serif\" font-size=\"14.00\" fill=\"#000000\">dc/da=b</text>\n</g>\n<!-- e -->\n<g id=\"node4\" class=\"node\">\n<title>e</title>\n<ellipse fill=\"none\" stroke=\"#000000\" cx=\"137\" cy=\"-48\" rx=\"18\" ry=\"18\"/>\n<text text-anchor=\"middle\" x=\"137\" y=\"-44.3\" font-family=\"Times,serif\" font-size=\"14.00\" fill=\"#000000\">e</text>\n</g>\n<!-- a&#45;&gt;e -->\n<g id=\"edge3\" class=\"edge\">\n<title>a&#45;&gt;e</title>\n<path fill=\"none\" stroke=\"#000000\" d=\"M35.1093,-69.3663C41.0519,-67.518 47.7844,-65.5441 54,-64 72.2255,-59.4724 92.9698,-55.4733 109.1606,-52.6056\"/>\n<polygon fill=\"#000000\" stroke=\"#000000\" points=\"109.8139,-56.0446 119.0705,-50.8903 108.62,-49.1472 109.8139,-56.0446\"/>\n<text text-anchor=\"middle\" x=\"77.5\" y=\"-67.8\" font-family=\"Times,serif\" font-size=\"14.00\" fill=\"#000000\">de/da=d</text>\n</g>\n<!-- f -->\n<g id=\"node6\" class=\"node\">\n<title>f</title>\n<ellipse fill=\"none\" stroke=\"#000000\" cx=\"255\" cy=\"-75\" rx=\"18\" ry=\"18\"/>\n<text text-anchor=\"middle\" x=\"255\" y=\"-71.3\" font-family=\"Times,serif\" font-size=\"14.00\" fill=\"#000000\">f</text>\n</g>\n<!-- c&#45;&gt;f -->\n<g id=\"edge5\" class=\"edge\">\n<title>c&#45;&gt;f</title>\n<path fill=\"none\" stroke=\"#000000\" d=\"M154.6658,-97.9578C173.8698,-93.5637 204.8151,-86.483 227.2661,-81.3459\"/>\n<polygon fill=\"#000000\" stroke=\"#000000\" points=\"228.2461,-84.7122 237.2134,-79.0698 226.6847,-77.8885 228.2461,-84.7122\"/>\n<text text-anchor=\"middle\" x=\"196\" y=\"-96.8\" font-family=\"Times,serif\" font-size=\"14.00\" fill=\"#000000\">df/dc=1</text>\n</g>\n<!-- b -->\n<g id=\"node3\" class=\"node\">\n<title>b</title>\n<ellipse fill=\"none\" stroke=\"#000000\" cx=\"18\" cy=\"-132\" rx=\"18\" ry=\"18\"/>\n<text text-anchor=\"middle\" x=\"18\" y=\"-128.3\" font-family=\"Times,serif\" font-size=\"14.00\" fill=\"#000000\">b</text>\n</g>\n<!-- b&#45;&gt;c -->\n<g id=\"edge2\" class=\"edge\">\n<title>b&#45;&gt;c</title>\n<path fill=\"none\" stroke=\"#000000\" d=\"M35.5589,-127.5734C55.0696,-122.6547 86.8223,-114.6498 109.6075,-108.9057\"/>\n<polygon fill=\"#000000\" stroke=\"#000000\" points=\"110.5281,-112.2832 119.3691,-106.4448 108.8169,-105.4955 110.5281,-112.2832\"/>\n<text text-anchor=\"middle\" x=\"77.5\" y=\"-125.8\" font-family=\"Times,serif\" font-size=\"14.00\" fill=\"#000000\">dc/db=a</text>\n</g>\n<!-- e&#45;&gt;f -->\n<g id=\"edge6\" class=\"edge\">\n<title>e&#45;&gt;f</title>\n<path fill=\"none\" stroke=\"#000000\" d=\"M155.0339,-50.9637C171.7278,-53.8381 197.1872,-58.555 219,-64 222.0098,-64.7513 225.1413,-65.6022 228.2457,-66.4899\"/>\n<polygon fill=\"#000000\" stroke=\"#000000\" points=\"227.3051,-69.8618 237.8887,-69.3744 229.3112,-63.1554 227.3051,-69.8618\"/>\n<text text-anchor=\"middle\" x=\"196\" y=\"-67.8\" font-family=\"Times,serif\" font-size=\"14.00\" fill=\"#000000\">df/de=1</text>\n</g>\n<!-- d -->\n<g id=\"node5\" class=\"node\">\n<title>d</title>\n<ellipse fill=\"none\" stroke=\"#000000\" cx=\"18\" cy=\"-18\" rx=\"18\" ry=\"18\"/>\n<text text-anchor=\"middle\" x=\"18\" y=\"-14.3\" font-family=\"Times,serif\" font-size=\"14.00\" fill=\"#000000\">d</text>\n</g>\n<!-- d&#45;&gt;e -->\n<g id=\"edge4\" class=\"edge\">\n<title>d&#45;&gt;e</title>\n<path fill=\"none\" stroke=\"#000000\" d=\"M35.9889,-20.9104C52.9226,-23.8318 78.9119,-28.785 101,-35 104.0364,-35.8544 107.1845,-36.8389 110.2985,-37.8758\"/>\n<polygon fill=\"#000000\" stroke=\"#000000\" points=\"109.3565,-41.2547 119.9514,-41.2723 111.68,-34.6515 109.3565,-41.2547\"/>\n<text text-anchor=\"middle\" x=\"77.5\" y=\"-38.8\" font-family=\"Times,serif\" font-size=\"14.00\" fill=\"#000000\">de/dd=a</text>\n</g>\n</g>\n</svg>\n"
          },
          "metadata": {},
          "execution_count": 50
        }
      ],
      "source": [
        "e2 = graphviz.Digraph('second expression', filename='fsm.gv')\n",
        "\n",
        "e2.attr(rankdir='LR', size='8,5')\n",
        "\n",
        "e2.attr('node', shape='circle')\n",
        "e2.edge('a', 'c', label='dc/da=b')\n",
        "e2.edge('b', 'c', label='dc/db=a')\n",
        "e2.edge('a', 'e', label='de/da=d')\n",
        "e2.edge('d', 'e', label='de/dd=a')\n",
        "e2.edge('c', 'f', label='df/dc=1')\n",
        "e2.edge('e', 'f', label='df/de=1')\n",
        "\n",
        "e2"
      ]
    },
    {
      "cell_type": "markdown",
      "source": [
        "## 2."
      ],
      "metadata": {
        "id": "PdiTOipreAA8"
      }
    },
    {
      "cell_type": "code",
      "source": [
        "e1 = graphviz.Digraph('first expression', filename='fsm.gv')\n",
        "\n",
        "e1.attr(rankdir='LR', size='8,5')\n",
        "\n",
        "e1.attr('node', shape='circle')\n",
        "e1.edge('a', 'f', label='df/da=b.v')\n",
        "e1.edge('b', 'f', label='df/db=a.v')\n",
        "\n",
        "e1"
      ],
      "metadata": {
        "colab": {
          "base_uri": "https://localhost:8080/",
          "height": 151
        },
        "id": "yCS1YD2NeDxZ",
        "outputId": "23252d0e-e817-4a8f-e591-2b7495566d9d"
      },
      "execution_count": 51,
      "outputs": [
        {
          "output_type": "execute_result",
          "data": {
            "text/plain": [
              "<graphviz.dot.Digraph at 0x7fa672312dd0>"
            ],
            "image/svg+xml": "<?xml version=\"1.0\" encoding=\"UTF-8\" standalone=\"no\"?>\n<!DOCTYPE svg PUBLIC \"-//W3C//DTD SVG 1.1//EN\"\n \"http://www.w3.org/Graphics/SVG/1.1/DTD/svg11.dtd\">\n<!-- Generated by graphviz version 2.40.1 (20161225.0304)\n -->\n<!-- Title: first expression Pages: 1 -->\n<svg width=\"173pt\" height=\"98pt\"\n viewBox=\"0.00 0.00 173.00 98.00\" xmlns=\"http://www.w3.org/2000/svg\" xmlns:xlink=\"http://www.w3.org/1999/xlink\">\n<g id=\"graph0\" class=\"graph\" transform=\"scale(1 1) rotate(0) translate(4 94)\">\n<title>first expression</title>\n<polygon fill=\"#ffffff\" stroke=\"transparent\" points=\"-4,4 -4,-94 169,-94 169,4 -4,4\"/>\n<!-- a -->\n<g id=\"node1\" class=\"node\">\n<title>a</title>\n<ellipse fill=\"none\" stroke=\"#000000\" cx=\"18\" cy=\"-72\" rx=\"18\" ry=\"18\"/>\n<text text-anchor=\"middle\" x=\"18\" y=\"-68.3\" font-family=\"Times,serif\" font-size=\"14.00\" fill=\"#000000\">a</text>\n</g>\n<!-- f -->\n<g id=\"node2\" class=\"node\">\n<title>f</title>\n<ellipse fill=\"none\" stroke=\"#000000\" cx=\"147\" cy=\"-45\" rx=\"18\" ry=\"18\"/>\n<text text-anchor=\"middle\" x=\"147\" y=\"-41.3\" font-family=\"Times,serif\" font-size=\"14.00\" fill=\"#000000\">f</text>\n</g>\n<!-- a&#45;&gt;f -->\n<g id=\"edge1\" class=\"edge\">\n<title>a&#45;&gt;f</title>\n<path fill=\"none\" stroke=\"#000000\" d=\"M35.6664,-68.3024C57.161,-63.8035 93.7111,-56.1535 119.0409,-50.8519\"/>\n<polygon fill=\"#000000\" stroke=\"#000000\" points=\"120.0621,-54.2141 129.133,-48.7396 118.628,-47.3625 120.0621,-54.2141\"/>\n<text text-anchor=\"middle\" x=\"82.5\" y=\"-67.8\" font-family=\"Times,serif\" font-size=\"14.00\" fill=\"#000000\">df/da=b.v</text>\n</g>\n<!-- b -->\n<g id=\"node3\" class=\"node\">\n<title>b</title>\n<ellipse fill=\"none\" stroke=\"#000000\" cx=\"18\" cy=\"-18\" rx=\"18\" ry=\"18\"/>\n<text text-anchor=\"middle\" x=\"18\" y=\"-14.3\" font-family=\"Times,serif\" font-size=\"14.00\" fill=\"#000000\">b</text>\n</g>\n<!-- b&#45;&gt;f -->\n<g id=\"edge2\" class=\"edge\">\n<title>b&#45;&gt;f</title>\n<path fill=\"none\" stroke=\"#000000\" d=\"M36.0013,-20.026C54.8628,-22.3526 85.2703,-26.6808 111,-33 114.037,-33.7459 117.1855,-34.6278 120.2998,-35.5695\"/>\n<polygon fill=\"#000000\" stroke=\"#000000\" points=\"119.3611,-38.9443 129.9528,-38.689 121.5136,-32.2835 119.3611,-38.9443\"/>\n<text text-anchor=\"middle\" x=\"82.5\" y=\"-36.8\" font-family=\"Times,serif\" font-size=\"14.00\" fill=\"#000000\">df/db=a.v</text>\n</g>\n</g>\n</svg>\n"
          },
          "metadata": {},
          "execution_count": 51
        }
      ]
    },
    {
      "cell_type": "markdown",
      "source": [
        "## 3."
      ],
      "metadata": {
        "id": "sRi66zy9eNx7"
      }
    },
    {
      "cell_type": "code",
      "source": [
        "a = Var(3.0)\n",
        "b = Var(5.0)\n",
        "f = a * b\n",
        "\n",
        "f.backprop(1.0)\n",
        "\n",
        "print(\"a:\", a)\n",
        "print(\"b:\", b)"
      ],
      "metadata": {
        "colab": {
          "base_uri": "https://localhost:8080/"
        },
        "id": "f33hkYABeMsL",
        "outputId": "20554458-9f00-49c1-bbbb-ed3f2cac454f"
      },
      "execution_count": 52,
      "outputs": [
        {
          "output_type": "stream",
          "name": "stdout",
          "text": [
            "a: Var(v=3.0000, grad=5.0000)\n",
            "b: Var(v=5.0000, grad=3.0000)\n"
          ]
        }
      ]
    },
    {
      "cell_type": "markdown",
      "source": [
        "## 4."
      ],
      "metadata": {
        "id": "mq40S9LMiCSA"
      }
    },
    {
      "cell_type": "markdown",
      "source": [
        "The sequence of calls to `backprop` is:\n",
        "\n",
        "1. `f.backprop(1.0)`\n",
        "2. `a.backprop(1.0 * 1.0)`\n",
        "3. `b.backprop(1.0 * 1.0)`"
      ],
      "metadata": {
        "id": "7Bf7Fq3ci62R"
      }
    },
    {
      "cell_type": "markdown",
      "metadata": {
        "id": "A5oi21W4gpeM"
      },
      "source": [
        "## Exercise c) What happens if we run backward again?\n",
        "\n",
        "Try to execute the code below. Explain what happens."
      ]
    },
    {
      "cell_type": "code",
      "execution_count": 53,
      "metadata": {
        "colab": {
          "base_uri": "https://localhost:8080/"
        },
        "id": "DCtpJyr-gyX1",
        "outputId": "23131d2d-b960-427a-9402-0c59817cd40c"
      },
      "outputs": [
        {
          "output_type": "stream",
          "name": "stdout",
          "text": [
            "Var(v=3.0000, grad=14.0000)\n",
            "Var(v=5.0000, grad=3.0000)\n",
            "Var(v=15.0000, grad=1.0000)\n",
            "Var(v=9.0000, grad=3.0000)\n",
            "Var(v=27.0000, grad=1.0000)\n",
            "Var(v=42.0000, grad=1.0000)\n",
            "\n",
            "Var(v=3.0000, grad=28.0000)\n",
            "Var(v=5.0000, grad=6.0000)\n",
            "Var(v=15.0000, grad=2.0000)\n",
            "Var(v=9.0000, grad=6.0000)\n",
            "Var(v=27.0000, grad=2.0000)\n",
            "Var(v=42.0000, grad=2.0000)\n"
          ]
        }
      ],
      "source": [
        "a = Var(3.0)\n",
        "b = Var(5.0)\n",
        "c = a * b\n",
        "d = Var(9.0)\n",
        "e = a * d\n",
        "f = c + e\n",
        "\n",
        "f.backward()\n",
        "\n",
        "for v in [a, b, c, d, e, f]:\n",
        "    print(v)\n",
        "print(\"\")\n",
        "\n",
        "f.backward()\n",
        "\n",
        "for v in [a, b, c, d, e, f]:\n",
        "    print(v)"
      ]
    },
    {
      "cell_type": "markdown",
      "source": [
        "We can see that the results from the second run differ from the expected result (the results from the first run).\n",
        "\n",
        "In fact, this bahavior is caused by `self.grad += bp`, we are not setting the gradients to zero when calling `backprop` but instead we are accumulating them."
      ],
      "metadata": {
        "id": "Zi5t-h9Yjo0Q"
      }
    },
    {
      "cell_type": "markdown",
      "metadata": {
        "id": "e8bPVq2VhsP-"
      },
      "source": [
        "## Exercise d) Zero gradient\n",
        "\n",
        "We can zero the gradient by backpropagating a -1.0 as is shown in the example below. (If you have run backward multiple time then you also have to run the cell below an equal amount of times.) Explain what is going on."
      ]
    },
    {
      "cell_type": "code",
      "execution_count": 54,
      "metadata": {
        "colab": {
          "base_uri": "https://localhost:8080/"
        },
        "id": "OnyPDQx9lJe0",
        "outputId": "fb0e90dd-5ac7-4a07-cb52-ceff70602d59"
      },
      "outputs": [
        {
          "output_type": "stream",
          "name": "stdout",
          "text": [
            "Var(v=2.0000, grad=0.0000)\n",
            "Var(v=5.0000, grad=6.0000)\n",
            "Var(v=15.0000, grad=2.0000)\n",
            "Var(v=9.0000, grad=6.0000)\n",
            "Var(v=27.0000, grad=2.0000)\n",
            "Var(v=42.0000, grad=2.0000)\n",
            "\n",
            "Var(v=2.0000, grad=0.0000)\n",
            "Var(v=5.0000, grad=3.0000)\n",
            "Var(v=15.0000, grad=1.0000)\n",
            "Var(v=9.0000, grad=3.0000)\n",
            "Var(v=27.0000, grad=1.0000)\n",
            "Var(v=42.0000, grad=1.0000)\n"
          ]
        }
      ],
      "source": [
        "a = Var(2.0)\n",
        "\n",
        "for v in [a, b, c, d, e, f]:\n",
        "    print(v)\n",
        "print(\"\")\n",
        "\n",
        "f.backprop(-1.0)\n",
        "\n",
        "for v in [a, b, c, d, e, f]:\n",
        "    print(v)"
      ]
    },
    {
      "cell_type": "markdown",
      "source": [
        "Calling `f.backprop(-1.0)` means that instead of accumulating, we now substract the gradient. We can thus use this call to zero the gradient."
      ],
      "metadata": {
        "id": "uBaEAC6FkuF_"
      }
    },
    {
      "cell_type": "markdown",
      "metadata": {
        "id": "U4057_ljNvWB"
      },
      "source": [
        "## Exercise e) Test correctness of derivatives with the finite difference method\n",
        "\n",
        "Write a small function that uses [the finite difference method](https://en.wikipedia.org/wiki/Finite_difference_method) to numerically test that backpropation implementation is working. In short we will use\n",
        "$$\n",
        "\\frac{\\partial f(a)}{\\partial a} \\approx \\frac{f(a+da)-f(a)}{da}\n",
        "$$\n",
        "for $da \\ll 1$.\n",
        "\n",
        "As an example, we could approximate the derivative of the function $f(a)=a^2$ in e.g. the value $a=4$ using the finite difference method. This amounts to inserting the relevant values and approximating the gradient $f'(4)$ with the fraction above. \n"
      ]
    },
    {
      "cell_type": "code",
      "execution_count": 55,
      "metadata": {
        "colab": {
          "base_uri": "https://localhost:8080/"
        },
        "id": "9TGil92lSXDN",
        "outputId": "32b19e6e-58cb-45c3-ffd0-c235eb43049e"
      },
      "outputs": [
        {
          "output_type": "stream",
          "name": "stdout",
          "text": [
            "Var(v=4.0000, grad=8.0000)\n",
            "8.000000661922968\n"
          ]
        }
      ],
      "source": [
        "a = 4.\n",
        "\n",
        "# f function - try to change the code to test other types of functions as well (such as different polynomials etc.)\n",
        "def f_function(a):\n",
        "  a = Var(a)\n",
        "  f = a * a\n",
        "  f.backward()\n",
        "  return a\n",
        "\n",
        "print(f_function(a))\n",
        "\n",
        "# Insert your finite difference code here\n",
        "def finite_difference(f, a, da=1e-10):\n",
        "    \"\"\"\n",
        "    This function compute the finite difference between\n",
        "    \n",
        "    Input:\n",
        "    da:          The finite difference                           (float)\n",
        "    \n",
        "    Output:\n",
        "    finite_difference: numerical approximation to the derivative (float) \n",
        "    \"\"\"\n",
        "    \n",
        "    fa_da = f(a + da)           # <- Insert correct expression\n",
        "    fa = f(a)                   # <- Insert correct expression\n",
        "\n",
        "    finite_difference = (fa_da - fa) / da\n",
        "    \n",
        "    return finite_difference\n",
        "\n",
        "f = lambda x: x * x\n",
        "print(finite_difference(f, a))"
      ]
    },
    {
      "cell_type": "markdown",
      "metadata": {
        "id": "6pZar5RKaUkg"
      },
      "source": [
        "# Create an artificial dataset to play with\n",
        "\n",
        "We create a non-linear 1d regression task. The generator supports various noise levels and it creates train, validation and test sets. You can modify it yourself if you want more or less challenging tasks."
      ]
    },
    {
      "cell_type": "code",
      "execution_count": 56,
      "metadata": {
        "id": "Y6yfMAQ8aduj"
      },
      "outputs": [],
      "source": [
        "import numpy as np\n",
        "import matplotlib.pyplot as plt\n",
        "\n",
        "np.random.seed(42)"
      ]
    },
    {
      "cell_type": "code",
      "execution_count": 57,
      "metadata": {
        "id": "4YabfD43ajNh"
      },
      "outputs": [],
      "source": [
        "def data_generator(noise=0.1, n_samples=300, D1=True):\n",
        "    # Create covariates and response variable\n",
        "    if D1:\n",
        "        X = np.linspace(-3, 3, num=n_samples).reshape(-1,1) # 1-D\n",
        "        np.random.shuffle(X)\n",
        "        y = np.random.normal((0.5*np.sin(X[:,0]*3) + X[:,0]), noise) # 1-D with trend\n",
        "    else:\n",
        "        X = np.random.multivariate_normal(np.zeros(3), noise*np.eye(3), size = n_samples) # 3-D\n",
        "        np.random.shuffle(X)    \n",
        "        y = np.sin(X[:,0]) - 5*(X[:,1]**2) + 0.5*X[:,2] # 3-D\n",
        "\n",
        "    # Stack them together vertically to split data set\n",
        "    data_set = np.vstack((X.T,y)).T\n",
        "    \n",
        "    train, validation, test = np.split(data_set, [int(0.35*n_samples), int(0.7*n_samples)], axis=0)\n",
        "    \n",
        "    # Standardization of the data, remember we do the standardization with the training set mean and standard deviation\n",
        "    train_mu = np.mean(train, axis=0)\n",
        "    train_sigma = np.std(train, axis=0)\n",
        "    \n",
        "    train = (train-train_mu)/train_sigma\n",
        "    validation = (validation-train_mu)/train_sigma\n",
        "    test = (test-train_mu)/train_sigma\n",
        "    \n",
        "    x_train, x_validation, x_test = train[:,:-1], validation[:,:-1], test[:,:-1]\n",
        "    y_train, y_validation, y_test = train[:,-1], validation[:,-1], test[:,-1]\n",
        "\n",
        "    return x_train, y_train,  x_validation, y_validation, x_test, y_test"
      ]
    },
    {
      "cell_type": "code",
      "execution_count": 116,
      "metadata": {
        "id": "u1oDngHLapIz"
      },
      "outputs": [],
      "source": [
        "D1 = False\n",
        "x_train, y_train,  x_validation, y_validation, x_test, y_test = data_generator(noise=0.5, D1=D1)"
      ]
    },
    {
      "cell_type": "code",
      "execution_count": 117,
      "metadata": {
        "colab": {
          "base_uri": "https://localhost:8080/",
          "height": 265
        },
        "id": "Ysfa3FsBavlm",
        "outputId": "47735490-2ec1-478c-a158-4b10da46c7fe"
      },
      "outputs": [
        {
          "output_type": "display_data",
          "data": {
            "text/plain": [
              "<Figure size 432x288 with 1 Axes>"
            ],
            "image/png": "[encoded data removed]"
          },
          "metadata": {
            "needs_background": "light"
          }
        }
      ],
      "source": [
        "if D1:\n",
        "    plt.scatter(x_train[:,0], y_train);\n",
        "    plt.scatter(x_validation[:,0], y_validation);\n",
        "    plt.scatter(x_test[:,0], y_test);\n",
        "else:\n",
        "    plt.scatter(x_train[:,1], y_train);\n",
        "    plt.scatter(x_validation[:,1], y_validation);\n",
        "    plt.scatter(x_test[:,1], y_test);\n",
        "plt.show()"
      ]
    },
    {
      "cell_type": "code",
      "execution_count": 118,
      "metadata": {
        "id": "zac2HHNlgbpm"
      },
      "outputs": [],
      "source": [
        "# convert from nparray to Var\n",
        "def nparray_to_Var(x):\n",
        "  if x.ndim==1:\n",
        "    y = [[Var(float(x[i]))] for i in range(x.shape[0])] # always work with list of list\n",
        "  else:\n",
        "    y = [[Var(float(x[i,j])) for j in range(x.shape[1])] for i in range(x.shape[0])]\n",
        "  return y\n",
        "   \n",
        "x_train = nparray_to_Var(x_train)\n",
        "y_train = nparray_to_Var(y_train)\n",
        "x_validation = nparray_to_Var(x_validation)\n",
        "y_validation = nparray_to_Var(y_validation)\n",
        "x_test = nparray_to_Var(x_test)\n",
        "y_test = nparray_to_Var(y_test)\n"
      ]
    },
    {
      "cell_type": "markdown",
      "metadata": {
        "id": "VbjrqcpVFtGe"
      },
      "source": [
        "# Defining and initializing the network\n",
        "\n",
        "The steps to create a feed forward neural network are the following:\n",
        "\n",
        "1. **Number of hidden layer and hidden units**. We have to define the number of hidden units in each layer. The number of features in X and the output dimensionality (the size of Y) are given but the numbers in between are set by the researcher. Remember that for each unit in each layer beside in the input has a bias term.\n",
        "2. **Activation functions** for each hidden layer. Each hidden layer in your list must have an activation function (it can also be the linear activation which is equivalent to identity function). The power of neural networks comes from non-linear activation functions that learn representations (features) from the data allowing us to learn from it. \n",
        "3. **Parameter initialization**. We will initialize the weights to have random values. This is done in practice by drawing pseudo random numbers from a Gaussian or uniform distribution. It turns out that for deeper models we have to be careful about how we scale the random numbers. This will be the topic of the exercise below. For now we will just use unit variance Gaussians.  \n",
        "\n",
        "In order to make life easier for ourselves we define a DenseLayer class that takes care of initialization and the forward pass. We can also extend it later with print and advanced initialization capabilities. For the latter we have introduced a Initializer class.\n",
        "\n",
        "Note that we use Sequence in the code below. A Sequence is an ordered list. This means the order we insert and access items are the same."
      ]
    },
    {
      "cell_type": "code",
      "execution_count": 61,
      "metadata": {
        "id": "ij_ieRsAt7Xt"
      },
      "outputs": [],
      "source": [
        "class Initializer:\n",
        "\n",
        "  def init_weights(self, n_in, n_out):\n",
        "    raise NotImplementedError\n",
        "\n",
        "  def init_bias(self, n_out):\n",
        "    raise NotImplementedError"
      ]
    },
    {
      "cell_type": "code",
      "execution_count": 62,
      "metadata": {
        "id": "eb18N5phuIha"
      },
      "outputs": [],
      "source": [
        "import random\n",
        "\n",
        "class NormalInitializer(Initializer):\n",
        "\n",
        "  def __init__(self, mean=0, std=0.1):\n",
        "    self.mean = mean\n",
        "    self.std = std\n",
        "\n",
        "  def init_weights(self, n_in, n_out):\n",
        "    return [[Var(random.gauss(self.mean, self.std)) for _ in range(n_out)] for _ in range(n_in)]\n",
        "\n",
        "  def init_bias(self, n_out):\n",
        "    return [Var(0.0) for _ in range(n_out)]\n",
        "\n",
        "class ConstantInitializer(Initializer):\n",
        "\n",
        "  def __init__(self, weight=1.0, bias=0.0):\n",
        "    self.weight = weight\n",
        "    self.bias = bias\n",
        "\n",
        "  def init_weights(self, n_in, n_out):\n",
        "    return [[Var(self.weight) for _ in range(n_out)] for _ in range(n_in)]\n",
        "\n",
        "  def init_bias(self, n_out):\n",
        "    return [Var(self.bias) for _ in range(n_out)]"
      ]
    },
    {
      "cell_type": "code",
      "execution_count": 63,
      "metadata": {
        "id": "jOLYGnZKuM6W"
      },
      "outputs": [],
      "source": [
        "from typing import Sequence\n",
        "\n",
        "class DenseLayer:\n",
        "    def __init__(self, n_in: int, n_out: int, act_fn, initializer = NormalInitializer()):\n",
        "        self.weights = initializer.init_weights(n_in, n_out)\n",
        "        self.bias = initializer.init_bias(n_out)\n",
        "        self.act_fn = act_fn\n",
        "    \n",
        "    def __repr__(self):    \n",
        "        return 'Weights: ' + repr(self.weights) + ' Biases: ' + repr(self.bias)\n",
        "\n",
        "    def parameters(self) -> Sequence[Var]:\n",
        "      params = []\n",
        "      for r in self.weights:\n",
        "        params += r\n",
        "\n",
        "      return params + self.bias\n",
        "\n",
        "    def forward(self, single_input: Sequence[Var]) -> Sequence[Var]:\n",
        "        # self.weights is a matrix with dimension n_in x n_out. We check that the dimensionality of the input \n",
        "        # to the current layer matches the number of nodes in the current layer\n",
        "        assert len(self.weights) == len(single_input), \"weights and single_input must match in first dimension\"\n",
        "        weights = self.weights\n",
        "        out = []\n",
        "        # For some given data point single_input, we now want to calculate the resulting value in each node in the current layer\n",
        "        # We therefore loop over the (number of) nodes in the current layer:\n",
        "        for j in range(len(weights[0])): \n",
        "            # Initialize the node value depending on its corresponding parameters.\n",
        "            node = self.bias[j] # <- Insert code\n",
        "            # We now finish the linear transformation corresponding to the parameters of the currently considered node.\n",
        "            for i in range(len(single_input)):\n",
        "                node += weights[i][j] * single_input[i]  # <- Insert code\n",
        "            node = self.act_fn(node)\n",
        "            out.append(node)\n",
        "\n",
        "        return out"
      ]
    },
    {
      "cell_type": "markdown",
      "metadata": {
        "id": "jpIZPBpNI0pO"
      },
      "source": [
        "## Exercise f) Add more activation functions\n",
        "\n",
        "To have a full definition of the neural network, we must define an activation function for every layer. Several activation functions have been proposed and have different characteristics. In the Var class we have already defined the rectified linear init (relu). \n",
        " \n",
        "Implement the following activation functions in the Var class:\n",
        "\n",
        "* Identity: $$\\mathrm{identity}(x) = x$$\n",
        "* Hyperbolic tangent: $$\\tanh(x)$$\n",
        "* Sigmoid (or logistic function): $$\\mathrm{sigmoid}(x) = \\frac{1}{1.0 + \\exp(-x ) }$$  Hint: $\\mathrm{sigmoid}'(x)= \\mathrm{sigmoid}(x)(1-\\mathrm{sigmoid}(x))$.  \n",
        "\n",
        "Hint: You can seek inspiration in the relu method in the Var class."
      ]
    },
    {
      "cell_type": "markdown",
      "source": [
        "## Solutions\n",
        "\n",
        "We define the functions as methods in the `Var` class definition code above."
      ],
      "metadata": {
        "id": "fbQ4DjzkrENJ"
      }
    },
    {
      "cell_type": "markdown",
      "metadata": {
        "id": "p_8n_SKnIW2F"
      },
      "source": [
        "## Exercise g) Complete the forward pass\n",
        "\n",
        "In the code below we initialize a 1-5-1 network and pass the training set through it. *The forward method in DenseLayer is **not** complete*. It just outputs zeros right now. The method forward should perform an [affine transformation](https://en.wikipedia.org/wiki/Affine_transformation) on the input followed by an application of the activation function."
      ]
    },
    {
      "cell_type": "code",
      "execution_count": 130,
      "metadata": {
        "colab": {
          "base_uri": "https://localhost:8080/"
        },
        "id": "xDEjtePxE7Mv",
        "outputId": "267f3b47-4d10-4b62-ce88-4a41bc6ef759"
      },
      "outputs": [
        {
          "output_type": "stream",
          "name": "stdout",
          "text": [
            "[[Var(v=0.0592, grad=0.0000)], [Var(v=-0.0235, grad=0.0000)], [Var(v=0.0582, grad=0.0000)], [Var(v=0.0208, grad=0.0000)], [Var(v=0.0346, grad=0.0000)], [Var(v=-0.0140, grad=0.0000)], [Var(v=-0.0013, grad=0.0000)], [Var(v=-0.0340, grad=0.0000)], [Var(v=0.0000, grad=0.0000)], [Var(v=-0.0196, grad=0.0000)], [Var(v=0.0091, grad=0.0000)], [Var(v=0.0422, grad=0.0000)], [Var(v=0.0000, grad=0.0000)], [Var(v=0.0494, grad=0.0000)], [Var(v=0.0078, grad=0.0000)], [Var(v=-0.0239, grad=0.0000)], [Var(v=0.0088, grad=0.0000)], [Var(v=0.0188, grad=0.0000)], [Var(v=0.0235, grad=0.0000)], [Var(v=-0.0008, grad=0.0000)], [Var(v=-0.0121, grad=0.0000)], [Var(v=-0.0087, grad=0.0000)], [Var(v=0.0483, grad=0.0000)], [Var(v=0.0065, grad=0.0000)], [Var(v=0.0058, grad=0.0000)], [Var(v=0.0157, grad=0.0000)], [Var(v=-0.0008, grad=0.0000)], [Var(v=-0.0317, grad=0.0000)], [Var(v=0.0000, grad=0.0000)], [Var(v=-0.0234, grad=0.0000)], [Var(v=-0.0153, grad=0.0000)], [Var(v=-0.0390, grad=0.0000)], [Var(v=0.0550, grad=0.0000)], [Var(v=0.0542, grad=0.0000)], [Var(v=-0.0122, grad=0.0000)], [Var(v=0.0744, grad=0.0000)], [Var(v=-0.0268, grad=0.0000)], [Var(v=-0.0146, grad=0.0000)], [Var(v=-0.0013, grad=0.0000)], [Var(v=-0.0310, grad=0.0000)], [Var(v=0.0564, grad=0.0000)], [Var(v=-0.0056, grad=0.0000)], [Var(v=0.0092, grad=0.0000)], [Var(v=-0.0009, grad=0.0000)], [Var(v=-0.0271, grad=0.0000)], [Var(v=0.0081, grad=0.0000)], [Var(v=-0.0192, grad=0.0000)], [Var(v=0.0322, grad=0.0000)], [Var(v=0.0354, grad=0.0000)], [Var(v=-0.0072, grad=0.0000)], [Var(v=0.0043, grad=0.0000)], [Var(v=0.0771, grad=0.0000)], [Var(v=0.1397, grad=0.0000)], [Var(v=0.0027, grad=0.0000)], [Var(v=0.0010, grad=0.0000)], [Var(v=0.0571, grad=0.0000)], [Var(v=0.0363, grad=0.0000)], [Var(v=0.0135, grad=0.0000)], [Var(v=-0.0295, grad=0.0000)], [Var(v=0.0532, grad=0.0000)], [Var(v=-0.0253, grad=0.0000)], [Var(v=-0.0069, grad=0.0000)], [Var(v=-0.0283, grad=0.0000)], [Var(v=0.0621, grad=0.0000)], [Var(v=0.0159, grad=0.0000)], [Var(v=0.0335, grad=0.0000)], [Var(v=0.0046, grad=0.0000)], [Var(v=-0.0469, grad=0.0000)], [Var(v=-0.0087, grad=0.0000)], [Var(v=0.0000, grad=0.0000)], [Var(v=0.0004, grad=0.0000)], [Var(v=-0.0019, grad=0.0000)], [Var(v=0.0075, grad=0.0000)], [Var(v=0.0002, grad=0.0000)], [Var(v=0.0307, grad=0.0000)], [Var(v=0.0045, grad=0.0000)], [Var(v=0.1145, grad=0.0000)], [Var(v=-0.0021, grad=0.0000)], [Var(v=-0.0076, grad=0.0000)], [Var(v=-0.0160, grad=0.0000)], [Var(v=0.0810, grad=0.0000)], [Var(v=0.0338, grad=0.0000)], [Var(v=0.0147, grad=0.0000)], [Var(v=-0.0015, grad=0.0000)], [Var(v=-0.0187, grad=0.0000)], [Var(v=-0.0538, grad=0.0000)], [Var(v=0.0086, grad=0.0000)], [Var(v=-0.0325, grad=0.0000)], [Var(v=-0.0062, grad=0.0000)], [Var(v=-0.0167, grad=0.0000)], [Var(v=-0.0316, grad=0.0000)], [Var(v=-0.0116, grad=0.0000)], [Var(v=0.0231, grad=0.0000)], [Var(v=-0.0051, grad=0.0000)], [Var(v=-0.0115, grad=0.0000)], [Var(v=-0.0083, grad=0.0000)], [Var(v=0.0314, grad=0.0000)], [Var(v=-0.0226, grad=0.0000)], [Var(v=0.0541, grad=0.0000)], [Var(v=0.0415, grad=0.0000)], [Var(v=0.0634, grad=0.0000)], [Var(v=0.0157, grad=0.0000)], [Var(v=-0.0007, grad=0.0000)], [Var(v=0.0623, grad=0.0000)], [Var(v=0.0711, grad=0.0000)]]\n"
          ]
        }
      ],
      "source": [
        "NN = [\n",
        "    DenseLayer(3, 5, lambda x: x.relu()),\n",
        "    DenseLayer(5, 1, lambda x: x.identity())\n",
        "]\n",
        "\n",
        "def forward(input, network):\n",
        "\n",
        "  def forward_single(x, network):\n",
        "    for layer in network:\n",
        "        x = layer.forward(x)\n",
        "    return x\n",
        "\n",
        "  output = [ forward_single(input[n], network) for n in range(len(input))]\n",
        "  return output\n",
        "\n",
        "print(forward(x_train, NN))\n"
      ]
    },
    {
      "cell_type": "markdown",
      "metadata": {
        "id": "oLrGJytZFtGm"
      },
      "source": [
        "## Exercise h) Print all network parameters\n",
        "\n",
        "Make a function that prints all the parameters of the network (weights and biases) with information about in which layer the appear. In the object oriented spirit you should introduce a method in the DenseLayer class to print the parameters of a layer. Hint: You can take inspiration from the corresponding method in Var. "
      ]
    },
    {
      "cell_type": "code",
      "execution_count": 121,
      "metadata": {
        "id": "iac-VwYGFtGm",
        "colab": {
          "base_uri": "https://localhost:8080/"
        },
        "outputId": "6bf28a9b-ba9c-46dd-fc3e-79a917ea0bfc"
      },
      "outputs": [
        {
          "output_type": "stream",
          "name": "stdout",
          "text": [
            "Layer 0:\n",
            "Weights: [[Var(v=0.0144, grad=0.0000), Var(v=-0.0395, grad=0.0000), Var(v=0.2234, grad=0.0000), Var(v=-0.0253, grad=0.0000), Var(v=0.0675, grad=0.0000)], [Var(v=0.0428, grad=0.0000), Var(v=0.0770, grad=0.0000), Var(v=0.1008, grad=0.0000), Var(v=-0.0849, grad=0.0000), Var(v=0.1276, grad=0.0000)], [Var(v=0.0171, grad=0.0000), Var(v=0.0651, grad=0.0000), Var(v=-0.0871, grad=0.0000), Var(v=0.1326, grad=0.0000), Var(v=-0.0955, grad=0.0000)]] Biases: [Var(v=0.0000, grad=0.0000), Var(v=0.0000, grad=0.0000), Var(v=0.0000, grad=0.0000), Var(v=0.0000, grad=0.0000), Var(v=0.0000, grad=0.0000)]\n",
            "Layer 1:\n",
            "Weights: [[Var(v=0.0795, grad=0.0000), Var(v=0.0288, grad=0.0000), Var(v=-0.2145, grad=0.0000)], [Var(v=0.1154, grad=0.0000), Var(v=0.0414, grad=0.0000), Var(v=0.0799, grad=0.0000)], [Var(v=-0.0394, grad=0.0000), Var(v=-0.0399, grad=0.0000), Var(v=-0.0687, grad=0.0000)], [Var(v=0.0316, grad=0.0000), Var(v=-0.0386, grad=0.0000), Var(v=0.2562, grad=0.0000)], [Var(v=0.1378, grad=0.0000), Var(v=-0.0008, grad=0.0000), Var(v=0.1237, grad=0.0000)]] Biases: [Var(v=0.0000, grad=0.0000), Var(v=0.0000, grad=0.0000), Var(v=0.0000, grad=0.0000)]\n"
          ]
        }
      ],
      "source": [
        "# Insert code here and in the DenseLayer class\n",
        "\n",
        "for i, layer in enumerate(NN):\n",
        "    print(f\"Layer {i}:\")\n",
        "    print(layer)"
      ]
    },
    {
      "cell_type": "markdown",
      "metadata": {
        "id": "_79HOAXrFtHK"
      },
      "source": [
        "## Visualization\n",
        "\n",
        "Now that we have defined our activation functions we can visualize them to see what they look like:"
      ]
    },
    {
      "cell_type": "code",
      "execution_count": 122,
      "metadata": {
        "id": "1FcylHqLTl-Z",
        "colab": {
          "base_uri": "https://localhost:8080/",
          "height": 284
        },
        "outputId": "cdff4ce8-c977-402b-8c67-f9d484693122"
      },
      "outputs": [
        {
          "output_type": "execute_result",
          "data": {
            "text/plain": [
              "[<matplotlib.lines.Line2D at 0x7fa6769e8910>]"
            ]
          },
          "metadata": {},
          "execution_count": 122
        },
        {
          "output_type": "display_data",
          "data": {
            "text/plain": [
              "<Figure size 432x288 with 1 Axes>"
            ],
            "image/png": "[encoded data removed]"
          },
          "metadata": {
            "needs_background": "light"
          }
        }
      ],
      "source": [
        "x = np.linspace(-6, 6, 100)\n",
        "\n",
        "# convert from Var to ndarray  \n",
        "def Var_to_nparray(x):\n",
        "  y = np.zeros((len(x),len(x[0])))\n",
        "  for i in range(len(x)):\n",
        "    for j in range(len(x[0])):\n",
        "      y[i,j] = x[i][j].v\n",
        "  return y\n",
        "\n",
        "# define 1-1 network with weight = 1 and relu activation \n",
        "NN = [ DenseLayer(1, 1, lambda x: x.relu(), initializer = ConstantInitializer(1.0)) ] \n",
        "y = Var_to_nparray(forward(nparray_to_Var(x), NN))\n",
        "\n",
        "#y = Var_to_nparray(relu(nparray_to_Var(x)))\n",
        "plt.plot(x,y)"
      ]
    },
    {
      "cell_type": "code",
      "execution_count": 123,
      "metadata": {
        "id": "oOL2UolJFtHL",
        "colab": {
          "base_uri": "https://localhost:8080/",
          "height": 341
        },
        "outputId": "015e2110-a409-4030-87ea-4aabadb076ec"
      },
      "outputs": [
        {
          "output_type": "display_data",
          "data": {
            "text/plain": [
              "<Figure size 360x360 with 1 Axes>"
            ],
            "image/png": "[encoded data removed]"
          },
          "metadata": {
            "needs_background": "light"
          }
        }
      ],
      "source": [
        "# Testing all activation layers\n",
        "\n",
        "x = np.linspace(-6, 6, 100)\n",
        "units = {\n",
        "    \"identity\": lambda x: x.identity(),\n",
        "    \"sigmoid\": lambda x: x.sigmoid(),\n",
        "    \"relu\": lambda x: x.relu(),\n",
        "    \"tanh\": lambda x: x.tanh()\n",
        "}\n",
        "\n",
        "plt.figure(figsize=(5, 5))\n",
        "[plt.plot(x, Var_to_nparray(forward(nparray_to_Var(x), [DenseLayer(1, 1, unit, initializer = ConstantInitializer(1.0))]) ), label=unit_name, lw=2) for unit_name, unit in units.items()] # unit(nparray_to_Var(x))), label=unit_name, lw=2) for unit_name, unit in units.items()]\n",
        "plt.legend(loc=2, fontsize=16)\n",
        "plt.title('Our activation functions', fontsize=20)\n",
        "plt.ylim([-2, 5])\n",
        "plt.xlim([-6, 6])\n",
        "plt.show()"
      ]
    },
    {
      "cell_type": "markdown",
      "metadata": {
        "id": "b-jdEl-7FtGs"
      },
      "source": [
        "# Advanced initialization schemes\n",
        "\n",
        "If we are not careful with initialization, the signals we propagate forward ($a^{(l)}$, $l=1,\\ldots,L$) and backward ($\\delta^l$, $l=L,L-1,\\ldots,1$) can blow up or shrink to zero. A statistical analysis of the variance of the signals for different activation functions can be found in these two papers: [Glorot initialization](http://proceedings.mlr.press/v9/glorot10a/glorot10a.pdf) and [He initialization](https://arxiv.org/pdf/1502.01852v1.pdf). \n",
        "\n",
        "The result of the analyses are proposals for how to make the initialization such that the variance of the signals (forward and backward) are kept approxmimatly constant when propagating from layer to layer. The exact expressions depend upon the non-linear activation function used. In Glorot initialization, the aim is to keep both the forward and backward variances constant whereas He only aims at keeping the variance in the forward pass constant.\n",
        "\n",
        "We define $n_{in}$ and $n_{out}$ as the number of input units and output units of a particular layer. \n",
        "\n",
        "The Glorot initialization has the form: \n",
        "\n",
        "$$w_{ij} \\sim N \\bigg( 0, \\, \\frac{2 \\alpha }{n_{in} + n_{out}} \\bigg) \\ . $$\n",
        "\n",
        "where $N(\\mu,\\sigma^2)$ is a Gaussian distribution with mean $\\mu$ and variance $\\sigma^2$ and $\\alpha$ is a parameter that depends upon the activation function used. For $\\tanh$, $\\alpha=1$ and for Rectified Linear Unit (ReLU) activations, $\\alpha=2$. (It is also possible to use a uniform distribution for initialization, see [this blog post](https://mmuratarat.github.io/2019-02-25/xavier-glorot-he-weight-init).) \n",
        "\n",
        "The He initialization is very similar\n",
        "\n",
        "$$w_{ij} \\sim N \\bigg( 0, \\, \\frac{\\alpha}{n_{in}} \\bigg) \\ . $$"
      ]
    },
    {
      "cell_type": "markdown",
      "metadata": {
        "id": "mqeyab9qFtGs"
      },
      "source": [
        "## Exercise i) Glorot and He initialization\n",
        " \n",
        "Using the Initializer class, implement functions that implement Glorot and He \n",
        "\n",
        "Explain briefly how you would test numerically that these initializations have the sought after property. Hint: See plots in Glorot paper.\n",
        "\n",
        "Comment: If you want to be more advanced then try to make a universal initializer taking both the activation function and type (Glorot or He) as argument."
      ]
    },
    {
      "cell_type": "code",
      "execution_count": 68,
      "metadata": {
        "id": "Qyk01CgaFtGt"
      },
      "outputs": [],
      "source": [
        "## Glorot\n",
        "def DenseLayer_Glorot_tanh(n_in: int, n_out: int):\n",
        "  std = 2 / (n_in + n_out) # <- replace with proper initialization\n",
        "  return DenseLayer(n_in, n_out, lambda x: x.tanh(), initializer = NormalInitializer(std))\n",
        "\n",
        "## He\n",
        "def DenseLayer_He_relu(n_in: int, n_out: int):\n",
        "  std = 2 / n_in # <- replace with proper initialization\n",
        "  return DenseLayer(n_in, n_out, lambda x: x.relu(), initializer = NormalInitializer(std))"
      ]
    },
    {
      "cell_type": "markdown",
      "source": [
        "## Solution\n",
        "\n",
        "To numerically test that these initializations have the sought after property, one could simply compute the variance of tha activations (averaged across a given layer and samples) for each layer of the network and ensure that these variances remain constant troughout training."
      ],
      "metadata": {
        "id": "1PCTpf6wgprN"
      }
    },
    {
      "cell_type": "markdown",
      "metadata": {
        "id": "-XyXBD37FtHk"
      },
      "source": [
        "## Exercise j) Forward pass unit test\n",
        "\n",
        "Write a bit of code to make a unit test that the forward pass works. This can be done by defining a simple network with for example all weights equal to one (using the ConstantInitializer method) and identity activation functions. \n",
        "\n",
        "Hints: Use the [assert](https://www.w3schools.com/python/ref_keyword_assert.asp), the nparray_to_Var and the Var_to_nparray commands. "
      ]
    },
    {
      "cell_type": "code",
      "execution_count": 124,
      "metadata": {
        "id": "k0miqRUAFtHl"
      },
      "outputs": [],
      "source": [
        "x = np.ones(100)\n",
        "NN = [ DenseLayer(1, 1, lambda x: x.identity(), initializer = ConstantInitializer(1.0)) ] \n",
        "y = Var_to_nparray(forward(nparray_to_Var(x), NN))\n",
        "assert (y == x).all()"
      ]
    },
    {
      "cell_type": "markdown",
      "metadata": {
        "id": "faCxhfFnFtHp"
      },
      "source": [
        "# Loss functions\n",
        "\n",
        "We are only missing a loss function to we need to define a loss function and its derivative with respect to the output of the neural network $y$"
      ]
    },
    {
      "cell_type": "code",
      "execution_count": 70,
      "metadata": {
        "id": "I2eDYKvAFtHq"
      },
      "outputs": [],
      "source": [
        "def squared_loss(t, y):\n",
        "  \n",
        "  # add check that sizes agree\n",
        "  assert len(y) == len(t) and len(y[0]) == len(t[0])\n",
        "  \n",
        "  def squared_loss_single(t, y):\n",
        "    Loss = Var(0.0)\n",
        "    for i in range(len(t)): # sum over outputs\n",
        "      Loss += (t[i]-y[i]) ** 2\n",
        "    return Loss\n",
        "\n",
        "  Loss = Var(0.0)\n",
        "  for n in range(len(t)): # sum over training data\n",
        "    Loss += squared_loss_single(t[n],y[n])\n",
        "  return Loss"
      ]
    },
    {
      "cell_type": "markdown",
      "metadata": {
        "id": "SrwSJ2UWFtHu"
      },
      "source": [
        "## Exercise j) Implement cross entropy loss\n",
        "\n",
        "Insert code below to implement cross-entropy loss for general dimensionality of $t$. Use a logits formulation:\n",
        "$$\n",
        "\\rm{Loss} = - \\sum_i t_i \\, log \\, p_i \n",
        "$$\n",
        "with $p$ given by the the softmax function in terms of the logits $h$:\n",
        "$$\n",
        "p_i = \\frac{\\exp(h_i)}{\\sum_{i'} \\exp(h_{i'})} .\n",
        "$$\n",
        "Inserting $p$ in the expression for the loss gives\n",
        "$$\n",
        "\\rm{Loss} = - \\sum_i t_i h_i + \\rm{LogSumExp}(h) \\ ,\n",
        "$$\n",
        "where \n",
        "$$\n",
        "\\rm{LogSumExp}(h) = \\log \\sum_i \\exp h_i \\ .\n",
        "$$\n",
        "This is true for $t$ being a one-hot vector. \n",
        "\n",
        "Call the function to convince yourself it works. \n",
        "\n",
        "In practice you want to implement a [numerically stable](https://leimao.github.io/blog/LogSumExp/) version of LogSumExp. But we will not bother about that here.\n",
        "\n",
        "Help: You can add these methods in the Var class:\n",
        "\n",
        "    def exp(self):\n",
        "        return Var(exp(self.v), lambda: [(self, exp(self.v))])\n",
        "    \n",
        "    def log(self):\n",
        "        return Var(log(self.v), lambda: [(self, self.v ** -1)])"
      ]
    },
    {
      "cell_type": "code",
      "execution_count": 101,
      "metadata": {
        "id": "6nMuxyfzFtHv"
      },
      "outputs": [],
      "source": [
        "# for a single sample\n",
        "def cross_entropy_loss(t, h):\n",
        "    assert len(t) == len(h)\n",
        "     \n",
        "    Loss = Var(0.0)\n",
        "    for i in range(len(t)):\n",
        "        Loss -= h[i] * t[i]\n",
        "    log_sum_exp = Var(0.0)\n",
        "    for i in range(len(h)):\n",
        "        log_sum_exp += h[i].exp()\n",
        "    log_sum_exp = log_sum_exp.log()\n",
        "    Loss += log_sum_exp\n",
        "    \n",
        "    return Loss"
      ]
    },
    {
      "cell_type": "markdown",
      "metadata": {
        "id": "8fAF5ew4FtHy"
      },
      "source": [
        "# Backward pass\n",
        "\n",
        "Now the magic happens! We get the calculation of the gradients for free. Just do:"
      ]
    },
    {
      "cell_type": "code",
      "execution_count": 128,
      "metadata": {
        "id": "iHyfPPI9Qqwu"
      },
      "outputs": [],
      "source": [
        "NN = [\n",
        "    DenseLayer(3, 5, lambda x: x.relu()),\n",
        "    DenseLayer(5, 1, lambda x: x.identity())\n",
        "]\n",
        "\n",
        "output = forward(x_train, NN)\n",
        "\n",
        "Loss = squared_loss(y_train,output)\n",
        "Loss.backward()"
      ]
    },
    {
      "cell_type": "markdown",
      "metadata": {
        "id": "49biIAYKQ1oG"
      },
      "source": [
        "and the gradients will be calculated:"
      ]
    },
    {
      "cell_type": "code",
      "execution_count": 131,
      "metadata": {
        "id": "_rGt1bq_Q7uk",
        "outputId": "eff1f793-9080-4433-9eb0-0de0066fa66a",
        "colab": {
          "base_uri": "https://localhost:8080/"
        }
      },
      "outputs": [
        {
          "output_type": "stream",
          "name": "stdout",
          "text": [
            "Layer 0 \n",
            " Weights: [[Var(v=0.2808, grad=0.0000), Var(v=-0.1329, grad=0.0000), Var(v=-0.0718, grad=0.0000), Var(v=0.0136, grad=0.0000), Var(v=-0.0418, grad=0.0000)], [Var(v=-0.0698, grad=0.0000), Var(v=-0.0301, grad=0.0000), Var(v=-0.0540, grad=0.0000), Var(v=-0.0813, grad=0.0000), Var(v=-0.1082, grad=0.0000)], [Var(v=0.1853, grad=0.0000), Var(v=-0.0207, grad=0.0000), Var(v=0.0230, grad=0.0000), Var(v=0.0233, grad=0.0000), Var(v=-0.1372, grad=0.0000)]] Biases: [Var(v=0.0000, grad=0.0000), Var(v=0.0000, grad=0.0000), Var(v=0.0000, grad=0.0000), Var(v=0.0000, grad=0.0000), Var(v=0.0000, grad=0.0000)]\n",
            "Layer 1 \n",
            " Weights: [[Var(v=0.1673, grad=0.0000)], [Var(v=-0.1286, grad=0.0000)], [Var(v=0.1898, grad=0.0000)], [Var(v=-0.2314, grad=0.0000)], [Var(v=-0.0632, grad=0.0000)]] Biases: [Var(v=0.0000, grad=0.0000)]\n"
          ]
        },
        {
          "output_type": "execute_result",
          "data": {
            "text/plain": [
              "[None, None]"
            ]
          },
          "metadata": {},
          "execution_count": 131
        }
      ],
      "source": [
        "[print('Layer', i, '\\n', NN[i]) for i in range(len(NN))] "
      ]
    },
    {
      "cell_type": "markdown",
      "metadata": {
        "id": "D7d7qK0uFtH9"
      },
      "source": [
        "# Backward pass unit test\n",
        "\n",
        "Above we used finite differences to test that Nanograd is actually doing what it is supposed to do. We can in principle try the same for the neural network. But we will trust that the test above is enough."
      ]
    },
    {
      "cell_type": "markdown",
      "metadata": {
        "id": "WgBi8GOSFtIN"
      },
      "source": [
        "# Training and validation\n",
        "\n",
        "We are ready to train some neural networks!\n",
        "\n",
        "We initialize again:"
      ]
    },
    {
      "cell_type": "code",
      "execution_count": 132,
      "metadata": {
        "id": "01ePmzBzRtdh"
      },
      "outputs": [],
      "source": [
        "NN = [\n",
        "    DenseLayer(3, 15, lambda x: x.relu()),\n",
        "    DenseLayer(15, 50, lambda x: x.relu()),\n",
        "    DenseLayer(50, 1, lambda x: x.identity())\n",
        "]\n",
        "\n",
        "output = forward(x_train, NN)\n",
        "\n",
        "Loss = squared_loss(y_train,output)\n",
        "Loss.backward()"
      ]
    },
    {
      "cell_type": "markdown",
      "metadata": {
        "id": "10iRPiQ1ISHw"
      },
      "source": [
        "and make an update:\n",
        "\n",
        "We introduce a help function parameters to have a handle in all parameters in the network."
      ]
    },
    {
      "cell_type": "code",
      "execution_count": 133,
      "metadata": {
        "id": "dhAI7eyeznia",
        "outputId": "33fe904b-cabe-48ff-8b39-82c98fa1543a",
        "colab": {
          "base_uri": "https://localhost:8080/"
        }
      },
      "outputs": [
        {
          "output_type": "stream",
          "name": "stdout",
          "text": [
            "Network before update:\n",
            "Layer 0 \n",
            " Weights: [[Var(v=0.2471, grad=0.2105), Var(v=-0.0332, grad=-0.1868), Var(v=0.0684, grad=1.2518), Var(v=0.1044, grad=-0.8988), Var(v=-0.0607, grad=-0.8452), Var(v=-0.0227, grad=-0.0383), Var(v=0.1486, grad=0.3326), Var(v=-0.0196, grad=-0.2788), Var(v=0.0323, grad=-0.7616), Var(v=0.1727, grad=-0.7755), Var(v=0.2011, grad=1.1992), Var(v=-0.0502, grad=-0.6481), Var(v=-0.0346, grad=0.2927), Var(v=0.0907, grad=-2.4477), Var(v=0.0369, grad=-0.3938)], [Var(v=-0.0482, grad=-1.8983), Var(v=-0.1283, grad=0.7699), Var(v=0.0791, grad=-6.6011), Var(v=0.1887, grad=5.3547), Var(v=-0.0198, grad=-1.5254), Var(v=0.0077, grad=-1.0922), Var(v=-0.0283, grad=-0.8972), Var(v=-0.0615, grad=-1.1218), Var(v=0.1495, grad=4.8911), Var(v=0.0468, grad=5.5433), Var(v=0.1665, grad=-3.9926), Var(v=-0.0551, grad=0.8848), Var(v=-0.0058, grad=-1.9772), Var(v=0.0060, grad=3.9106), Var(v=0.0977, grad=0.6073)], [Var(v=0.2015, grad=0.1787), Var(v=-0.1151, grad=-0.0931), Var(v=-0.1198, grad=-0.1752), Var(v=0.0648, grad=-1.3862), Var(v=0.0297, grad=-2.0241), Var(v=-0.0640, grad=0.3370), Var(v=-0.0781, grad=-0.2015), Var(v=0.0608, grad=-2.2623), Var(v=-0.0954, grad=0.0572), Var(v=-0.0574, grad=-1.0521), Var(v=-0.0483, grad=1.1920), Var(v=-0.0087, grad=0.8510), Var(v=-0.0927, grad=0.5989), Var(v=-0.1658, grad=-1.3693), Var(v=0.0870, grad=0.8198)]] Biases: [Var(v=0.0000, grad=0.2998), Var(v=0.0000, grad=-0.0640), Var(v=0.0000, grad=-0.1666), Var(v=0.0000, grad=-0.3151), Var(v=0.0000, grad=-0.7310), Var(v=0.0000, grad=-0.5807), Var(v=0.0000, grad=0.6846), Var(v=0.0000, grad=-1.8864), Var(v=0.0000, grad=1.6870), Var(v=0.0000, grad=-0.5314), Var(v=0.0000, grad=0.1166), Var(v=0.0000, grad=0.1907), Var(v=0.0000, grad=-0.4023), Var(v=0.0000, grad=-0.7401), Var(v=0.0000, grad=0.2735)]\n",
            "Layer 1 \n",
            " Weights: [[Var(v=-0.1436, grad=0.0060), Var(v=0.0516, grad=-0.7354), Var(v=-0.0792, grad=-0.0293), Var(v=0.0944, grad=1.8006), Var(v=0.0184, grad=0.4188), Var(v=-0.1260, grad=0.0006), Var(v=0.0943, grad=0.4308), Var(v=0.1004, grad=-0.0235), Var(v=-0.1510, grad=0.0000), Var(v=0.0406, grad=-0.2126), Var(v=0.0353, grad=-1.0103), Var(v=0.0828, grad=0.1023), Var(v=-0.0345, grad=0.2917), Var(v=0.1456, grad=-0.6920), Var(v=-0.1148, grad=0.0198), Var(v=-0.0111, grad=-1.4789), Var(v=0.0391, grad=-0.9020), Var(v=-0.0062, grad=-0.4034), Var(v=-0.1518, grad=0.1481), Var(v=0.0318, grad=0.1508), Var(v=-0.1870, grad=-0.0014), Var(v=-0.2009, grad=0.1083), Var(v=0.0837, grad=-0.3016), Var(v=0.1372, grad=1.6857), Var(v=-0.0369, grad=0.4968), Var(v=-0.0154, grad=0.0023), Var(v=-0.0555, grad=-1.6715), Var(v=0.0741, grad=0.4622), Var(v=0.0352, grad=-0.6867), Var(v=0.1631, grad=0.2323), Var(v=0.2323, grad=0.3009), Var(v=-0.0110, grad=-0.0369), Var(v=0.0551, grad=0.1020), Var(v=-0.1105, grad=-0.2283), Var(v=0.0812, grad=-0.7015), Var(v=0.0048, grad=0.0965), Var(v=0.0561, grad=-0.6058), Var(v=0.0368, grad=0.7428), Var(v=-0.0182, grad=-0.0949), Var(v=-0.0569, grad=0.0000), Var(v=-0.0646, grad=-0.2348), Var(v=0.0659, grad=0.9533), Var(v=-0.0587, grad=0.0041), Var(v=0.0499, grad=0.0252), Var(v=0.1086, grad=-1.2699), Var(v=0.0414, grad=-0.4200), Var(v=-0.0957, grad=-0.0199), Var(v=0.0412, grad=-0.0021), Var(v=0.0113, grad=0.1640), Var(v=0.2042, grad=-0.4463)], [Var(v=-0.0489, grad=0.0089), Var(v=-0.0316, grad=0.0667), Var(v=-0.0483, grad=-0.1372), Var(v=0.0336, grad=-0.7937), Var(v=0.0027, grad=-0.3776), Var(v=-0.0150, grad=0.0235), Var(v=-0.0036, grad=-0.7536), Var(v=0.0349, grad=0.0112), Var(v=-0.0297, grad=0.0001), Var(v=-0.0014, grad=-0.0268), Var(v=-0.0667, grad=-0.0382), Var(v=0.1059, grad=-0.0889), Var(v=-0.0403, grad=-0.3758), Var(v=-0.0368, grad=0.2720), Var(v=0.1030, grad=0.4420), Var(v=0.0135, grad=-0.2379), Var(v=-0.0237, grad=0.9042), Var(v=-0.1609, grad=0.0000), Var(v=-0.0574, grad=-0.0417), Var(v=-0.0451, grad=0.4788), Var(v=0.0039, grad=0.0259), Var(v=-0.1041, grad=0.1055), Var(v=0.0881, grad=0.2644), Var(v=-0.1412, grad=0.0191), Var(v=-0.0080, grad=-0.5076), Var(v=0.1978, grad=-0.0466), Var(v=-0.1128, grad=-0.1064), Var(v=0.0685, grad=-0.7331), Var(v=0.0661, grad=0.0361), Var(v=-0.1351, grad=-0.1269), Var(v=0.0907, grad=-0.2464), Var(v=-0.0330, grad=0.0017), Var(v=0.1094, grad=-0.0857), Var(v=-0.1611, grad=-0.0766), Var(v=0.0018, grad=0.4626), Var(v=0.0149, grad=0.4279), Var(v=-0.1077, grad=-0.0983), Var(v=-0.1094, grad=-0.0098), Var(v=0.2143, grad=-0.4116), Var(v=-0.0735, grad=-0.1644), Var(v=-0.0824, grad=0.0103), Var(v=-0.0352, grad=0.0474), Var(v=0.0928, grad=0.0091), Var(v=0.0438, grad=-0.0281), Var(v=-0.0671, grad=0.0631), Var(v=0.0708, grad=0.4180), Var(v=-0.0542, grad=0.0360), Var(v=0.0283, grad=0.0110), Var(v=0.0428, grad=0.0000), Var(v=0.0219, grad=0.4218)], [Var(v=-0.0010, grad=0.0000), Var(v=-0.0651, grad=0.6872), Var(v=-0.1033, grad=-0.0164), Var(v=0.0760, grad=0.2027), Var(v=-0.0161, grad=-0.3979), Var(v=0.1631, grad=0.0092), Var(v=0.1467, grad=-0.8001), Var(v=0.0336, grad=0.0233), Var(v=-0.1470, grad=0.0000), Var(v=-0.0301, grad=-0.0226), Var(v=-0.1306, grad=0.6212), Var(v=0.1791, grad=-0.0972), Var(v=-0.1211, grad=-0.1781), Var(v=-0.2104, grad=-0.0810), Var(v=-0.1028, grad=0.3427), Var(v=0.0887, grad=0.8671), Var(v=-0.2567, grad=0.3753), Var(v=0.0136, grad=0.0434), Var(v=-0.0126, grad=0.5689), Var(v=-0.1919, grad=0.0121), Var(v=-0.0172, grad=0.0158), Var(v=0.0297, grad=0.2151), Var(v=-0.0951, grad=0.2889), Var(v=0.1095, grad=-1.0256), Var(v=0.0868, grad=-0.5945), Var(v=-0.1201, grad=-0.0306), Var(v=-0.0116, grad=1.3460), Var(v=-0.0928, grad=0.0000), Var(v=-0.0413, grad=-0.1218), Var(v=-0.0209, grad=-0.0903), Var(v=0.0043, grad=0.0102), Var(v=-0.0739, grad=0.0571), Var(v=0.1255, grad=-0.0965), Var(v=0.0356, grad=0.5921), Var(v=-0.1814, grad=-0.0829), Var(v=0.0335, grad=-0.0567), Var(v=-0.0577, grad=0.0332), Var(v=-0.1671, grad=0.0432), Var(v=-0.1478, grad=0.0112), Var(v=0.0968, grad=0.8030), Var(v=-0.1252, grad=-0.3097), Var(v=0.1390, grad=-0.7017), Var(v=-0.0215, grad=-0.0003), Var(v=0.0476, grad=-0.0076), Var(v=0.0876, grad=-0.1659), Var(v=-0.0684, grad=0.4001), Var(v=0.0139, grad=-0.2473), Var(v=0.1878, grad=-0.0012), Var(v=-0.0776, grad=-0.0877), Var(v=0.1072, grad=0.4339)], [Var(v=-0.0454, grad=0.0000), Var(v=0.0643, grad=1.3590), Var(v=0.0386, grad=-0.2439), Var(v=-0.0588, grad=0.7167), Var(v=0.2964, grad=-0.8325), Var(v=-0.1793, grad=-0.0015), Var(v=-0.0718, grad=-1.5823), Var(v=-0.0144, grad=0.0399), Var(v=-0.0403, grad=0.0000), Var(v=-0.0757, grad=-0.0610), Var(v=0.0195, grad=1.2711), Var(v=0.0268, grad=-0.2034), Var(v=-0.1196, grad=-0.1659), Var(v=0.0300, grad=0.2753), Var(v=-0.0584, grad=0.7671), Var(v=0.0646, grad=1.8690), Var(v=0.1075, grad=1.1387), Var(v=0.0469, grad=0.1855), Var(v=0.1147, grad=1.2724), Var(v=-0.1011, grad=-0.0539), Var(v=-0.0816, grad=0.0001), Var(v=-0.0760, grad=0.0592), Var(v=0.0201, grad=0.6084), Var(v=-0.1856, grad=-1.8411), Var(v=0.0991, grad=-1.2673), Var(v=0.0052, grad=-0.0663), Var(v=0.0684, grad=2.9011), Var(v=-0.0346, grad=0.2172), Var(v=-0.1924, grad=-0.1974), Var(v=0.0259, grad=-0.2685), Var(v=0.0509, grad=-0.1846), Var(v=-0.0462, grad=0.1196), Var(v=0.1168, grad=-0.1979), Var(v=0.2378, grad=1.4733), Var(v=0.0240, grad=-0.2626), Var(v=-0.1287, grad=-0.0011), Var(v=-0.0086, grad=0.2510), Var(v=-0.1168, grad=0.2419), Var(v=-0.0004, grad=-0.1532), Var(v=-0.0932, grad=1.1098), Var(v=-0.0011, grad=-0.8351), Var(v=0.0975, grad=-1.4889), Var(v=-0.1254, grad=0.0000), Var(v=0.1384, grad=-0.0290), Var(v=-0.1296, grad=-0.4052), Var(v=0.0247, grad=0.8295), Var(v=0.0483, grad=-0.3766), Var(v=-0.0877, grad=-0.0040), Var(v=0.1019, grad=-0.2376), Var(v=0.0155, grad=0.8871)], [Var(v=0.0741, grad=0.0807), Var(v=-0.1310, grad=0.0300), Var(v=0.0129, grad=0.0890), Var(v=-0.0393, grad=-0.0928), Var(v=-0.0986, grad=-0.0759), Var(v=-0.1084, grad=-0.0047), Var(v=-0.1370, grad=-0.0823), Var(v=-0.0707, grad=0.0034), Var(v=-0.0995, grad=0.0000), Var(v=0.1603, grad=-0.0104), Var(v=0.0124, grad=-0.0410), Var(v=0.0709, grad=-0.0126), Var(v=0.1308, grad=-0.0377), Var(v=-0.0401, grad=0.0110), Var(v=-0.1135, grad=0.1119), Var(v=0.0508, grad=-0.0289), Var(v=0.1918, grad=0.1096), Var(v=0.0823, grad=-0.0006), Var(v=-0.0760, grad=0.0240), Var(v=0.0836, grad=-0.0059), Var(v=-0.0260, grad=-0.0063), Var(v=-0.0183, grad=-0.0784), Var(v=-0.0941, grad=0.0673), Var(v=-0.0073, grad=0.0553), Var(v=0.0404, grad=-0.0820), Var(v=-0.0344, grad=-0.0098), Var(v=0.0570, grad=-0.1828), Var(v=-0.1445, grad=-0.1538), Var(v=-0.0763, grad=-0.0042), Var(v=0.1251, grad=-0.0067), Var(v=0.0962, grad=-0.0308), Var(v=-0.0890, grad=-0.0000), Var(v=-0.0425, grad=-0.0261), Var(v=-0.0934, grad=0.0377), Var(v=0.1074, grad=0.0368), Var(v=0.0972, grad=0.0932), Var(v=-0.0059, grad=0.0444), Var(v=-0.0459, grad=0.0452), Var(v=0.0472, grad=-0.0670), Var(v=-0.0857, grad=0.0194), Var(v=-0.0003, grad=-0.0253), Var(v=-0.0732, grad=0.0413), Var(v=-0.3085, grad=0.0020), Var(v=0.0657, grad=-0.0027), Var(v=0.0079, grad=-0.0634), Var(v=-0.0913, grad=0.0406), Var(v=-0.1391, grad=-0.0116), Var(v=0.0813, grad=-0.0013), Var(v=0.0585, grad=0.0084), Var(v=0.0313, grad=0.0548)], [Var(v=-0.1341, grad=0.0058), Var(v=-0.0391, grad=0.1721), Var(v=-0.1042, grad=0.0128), Var(v=-0.0639, grad=-0.0031), Var(v=-0.0437, grad=-0.1228), Var(v=0.1588, grad=0.0019), Var(v=0.1230, grad=-0.2234), Var(v=0.0052, grad=0.0063), Var(v=-0.0514, grad=0.0000), Var(v=0.0587, grad=-0.0037), Var(v=0.0428, grad=0.1756), Var(v=0.0982, grad=-0.0280), Var(v=0.1065, grad=-0.0687), Var(v=0.1611, grad=-0.0371), Var(v=-0.0341, grad=0.0774), Var(v=0.0460, grad=0.2216), Var(v=0.0422, grad=0.1165), Var(v=0.0350, grad=0.0638), Var(v=0.0262, grad=0.1467), Var(v=0.0259, grad=0.0531), Var(v=0.2523, grad=0.0047), Var(v=-0.0544, grad=-0.0074), Var(v=0.1222, grad=0.0832), Var(v=0.2001, grad=-0.1360), Var(v=-0.1007, grad=-0.1765), Var(v=-0.0380, grad=-0.0052), Var(v=0.1118, grad=0.2979), Var(v=-0.0235, grad=-0.0304), Var(v=-0.1146, grad=-0.0173), Var(v=-0.0238, grad=-0.0372), Var(v=-0.0210, grad=-0.0115), Var(v=-0.0129, grad=0.0093), Var(v=0.0532, grad=-0.0256), Var(v=0.0443, grad=0.1374), Var(v=-0.0751, grad=0.0136), Var(v=0.0291, grad=0.0164), Var(v=-0.1469, grad=0.0381), Var(v=-0.1016, grad=0.0000), Var(v=-0.0014, grad=-0.0206), Var(v=-0.0915, grad=0.2794), Var(v=0.0713, grad=-0.0937), Var(v=0.0475, grad=-0.1368), Var(v=-0.0448, grad=-0.0003), Var(v=-0.1353, grad=-0.0013), Var(v=-0.0422, grad=-0.0135), Var(v=-0.1625, grad=0.1091), Var(v=0.0491, grad=-0.0650), Var(v=-0.1531, grad=-0.0010), Var(v=-0.0185, grad=-0.0191), Var(v=0.0809, grad=0.1288)], [Var(v=-0.0094, grad=0.0000), Var(v=0.0278, grad=-0.1240), Var(v=0.1953, grad=-0.1227), Var(v=0.0980, grad=0.4201), Var(v=0.1022, grad=0.0698), Var(v=0.0671, grad=0.0149), Var(v=-0.2146, grad=-0.0589), Var(v=0.0570, grad=-0.0042), Var(v=0.0540, grad=0.0000), Var(v=-0.0863, grad=-0.0653), Var(v=-0.1723, grad=-0.2131), Var(v=0.1462, grad=0.0171), Var(v=0.2247, grad=0.0668), Var(v=0.0147, grad=-0.2920), Var(v=-0.0822, grad=-0.0548), Var(v=-0.1226, grad=-0.4220), Var(v=-0.0191, grad=-0.1811), Var(v=0.0291, grad=-0.0022), Var(v=-0.0951, grad=0.0591), Var(v=0.0520, grad=0.1363), Var(v=0.0693, grad=0.0098), Var(v=0.1528, grad=0.2249), Var(v=0.0517, grad=-0.0507), Var(v=-0.0849, grad=0.2928), Var(v=0.0709, grad=0.0986), Var(v=-0.0069, grad=0.0071), Var(v=0.1060, grad=-0.3228), Var(v=-0.1053, grad=-0.0664), Var(v=-0.0200, grad=-0.2592), Var(v=-0.1079, grad=0.0754), Var(v=-0.0110, grad=0.1210), Var(v=0.1090, grad=-0.0161), Var(v=-0.0819, grad=0.0226), Var(v=0.1406, grad=-0.2070), Var(v=0.0302, grad=-0.1464), Var(v=-0.0185, grad=-0.0326), Var(v=-0.0529, grad=-0.0054), Var(v=0.0992, grad=0.1623), Var(v=-0.2038, grad=-0.0490), Var(v=-0.0421, grad=0.0616), Var(v=0.0388, grad=0.0018), Var(v=0.0416, grad=0.1767), Var(v=-0.0751, grad=0.0011), Var(v=-0.1475, grad=0.0062), Var(v=0.0827, grad=-0.3408), Var(v=0.0620, grad=-0.0628), Var(v=0.0245, grad=-0.0328), Var(v=-0.0072, grad=0.0034), Var(v=-0.0658, grad=0.0293), Var(v=0.0451, grad=-0.0498)], [Var(v=0.0555, grad=0.0594), Var(v=-0.1811, grad=-0.0831), Var(v=-0.1130, grad=0.0727), Var(v=-0.1538, grad=-0.1718), Var(v=0.2440, grad=-0.0686), Var(v=-0.0154, grad=-0.0004), Var(v=0.0798, grad=-0.1208), Var(v=0.0217, grad=0.0032), Var(v=-0.0603, grad=0.0000), Var(v=-0.1812, grad=-0.0319), Var(v=0.0461, grad=-0.2405), Var(v=0.0257, grad=-0.0146), Var(v=0.0698, grad=-0.1269), Var(v=-0.0940, grad=0.0298), Var(v=0.1019, grad=0.2155), Var(v=0.0785, grad=-0.3212), Var(v=0.0928, grad=0.1284), Var(v=0.0360, grad=-0.1464), Var(v=0.0084, grad=-0.0345), Var(v=0.1155, grad=0.1193), Var(v=-0.1044, grad=-0.0010), Var(v=-0.1298, grad=-0.0236), Var(v=-0.0552, grad=0.0669), Var(v=-0.1911, grad=0.2124), Var(v=0.0647, grad=-0.0989), Var(v=0.0091, grad=-0.0252), Var(v=0.1228, grad=-0.4316), Var(v=-0.0607, grad=-0.2282), Var(v=-0.0188, grad=-0.0301), Var(v=0.2413, grad=0.0026), Var(v=-0.0555, grad=-0.0374), Var(v=-0.0187, grad=-0.0008), Var(v=-0.0133, grad=-0.0279), Var(v=0.0652, grad=-0.0144), Var(v=-0.0169, grad=0.0772), Var(v=-0.1053, grad=0.2053), Var(v=-0.1934, grad=-0.1475), Var(v=-0.0171, grad=0.1096), Var(v=0.0267, grad=-0.1355), Var(v=0.0531, grad=-0.0455), Var(v=-0.0852, grad=0.0031), Var(v=0.0171, grad=0.1829), Var(v=0.0620, grad=0.0054), Var(v=-0.0018, grad=-0.0046), Var(v=0.0048, grad=-0.1566), Var(v=0.1134, grad=0.0628), Var(v=-0.0908, grad=0.0000), Var(v=0.0669, grad=0.0020), Var(v=-0.0417, grad=0.0466), Var(v=0.0893, grad=0.0651)], [Var(v=-0.1201, grad=0.0000), Var(v=-0.0320, grad=1.3653), Var(v=-0.1039, grad=-0.1253), Var(v=-0.0064, grad=0.0942), Var(v=0.1619, grad=-0.8713), Var(v=-0.0145, grad=-0.0096), Var(v=-0.0279, grad=-1.6056), Var(v=0.1480, grad=0.0471), Var(v=-0.1130, grad=0.0000), Var(v=-0.1590, grad=0.0023), Var(v=0.1061, grad=1.3424), Var(v=0.2040, grad=-0.2129), Var(v=-0.0074, grad=-0.3575), Var(v=-0.0819, grad=0.2154), Var(v=-0.1002, grad=0.6333), Var(v=0.0839, grad=1.9562), Var(v=0.0615, grad=1.0614), Var(v=0.0959, grad=0.2661), Var(v=0.0356, grad=1.1021), Var(v=0.0886, grad=0.1115), Var(v=-0.0339, grad=-0.0075), Var(v=-0.0377, grad=-0.0518), Var(v=0.2418, grad=0.6327), Var(v=-0.1578, grad=-1.9450), Var(v=0.0211, grad=-1.3017), Var(v=-0.0901, grad=-0.0588), Var(v=-0.0659, grad=2.9453), Var(v=0.0229, grad=-0.0119), Var(v=-0.1195, grad=-0.0451), Var(v=0.0692, grad=-0.2815), Var(v=-0.1013, grad=-0.1651), Var(v=0.0350, grad=0.1070), Var(v=0.0648, grad=-0.1949), Var(v=-0.0456, grad=1.2374), Var(v=-0.0398, grad=0.0293), Var(v=0.0245, grad=0.0416), Var(v=0.0837, grad=0.3604), Var(v=0.0007, grad=0.0160), Var(v=0.0104, grad=-0.1273), Var(v=0.1188, grad=1.4661), Var(v=0.0348, grad=-0.6797), Var(v=-0.0742, grad=-1.4671), Var(v=-0.1150, grad=-0.0002), Var(v=-0.1184, grad=-0.0234), Var(v=-0.1514, grad=-0.0662), Var(v=0.0032, grad=0.8191), Var(v=0.0844, grad=-0.4171), Var(v=-0.0158, grad=-0.0006), Var(v=-0.0010, grad=-0.2087), Var(v=0.0492, grad=0.9298)], [Var(v=0.0637, grad=0.0000), Var(v=0.0832, grad=0.2175), Var(v=0.0004, grad=-0.0675), Var(v=-0.0343, grad=0.6854), Var(v=-0.1168, grad=-0.1310), Var(v=-0.1262, grad=0.0093), Var(v=-0.1499, grad=-0.4219), Var(v=0.1255, grad=0.0076), Var(v=0.0483, grad=0.0000), Var(v=-0.0165, grad=-0.0658), Var(v=0.1363, grad=0.1577), Var(v=0.0199, grad=-0.0320), Var(v=0.0125, grad=0.0167), Var(v=0.1489, grad=-0.2569), Var(v=0.1902, grad=0.1832), Var(v=0.1159, grad=0.1822), Var(v=0.1582, grad=0.0790), Var(v=-0.0255, grad=-0.0056), Var(v=0.0900, grad=0.3909), Var(v=-0.1421, grad=0.0475), Var(v=0.0741, grad=0.0055), Var(v=0.1819, grad=0.2481), Var(v=0.0327, grad=0.0951), Var(v=0.1186, grad=-0.4370), Var(v=0.0554, grad=-0.2027), Var(v=0.0241, grad=-0.0136), Var(v=0.0826, grad=0.4797), Var(v=-0.0876, grad=0.0333), Var(v=-0.1148, grad=-0.3350), Var(v=-0.0309, grad=0.0317), Var(v=0.0757, grad=0.0889), Var(v=0.1484, grad=0.0249), Var(v=0.0208, grad=-0.0275), Var(v=0.1194, grad=0.1939), Var(v=-0.0311, grad=-0.2279), Var(v=0.0554, grad=-0.0626), Var(v=-0.0388, grad=-0.0107), Var(v=-0.1037, grad=0.2061), Var(v=0.0389, grad=-0.0159), Var(v=-0.0827, grad=0.3515), Var(v=-0.0856, grad=-0.2107), Var(v=0.0970, grad=-0.2305), Var(v=-0.0738, grad=0.0001), Var(v=0.0638, grad=-0.0000), Var(v=0.0060, grad=-0.4477), Var(v=0.0498, grad=0.1295), Var(v=0.0741, grad=-0.1453), Var(v=-0.1195, grad=0.0009), Var(v=0.0060, grad=-0.0261), Var(v=-0.0123, grad=0.1516)], [Var(v=0.0228, grad=0.0000), Var(v=0.1505, grad=1.0671), Var(v=-0.0844, grad=-0.0394), Var(v=-0.0292, grad=0.9287), Var(v=-0.0166, grad=-0.6654), Var(v=0.0083, grad=0.0022), Var(v=0.0734, grad=-1.4219), Var(v=0.1592, grad=0.0369), Var(v=-0.0033, grad=0.0000), Var(v=0.0941, grad=-0.0669), Var(v=0.0175, grad=1.0159), Var(v=0.1875, grad=-0.1626), Var(v=0.1439, grad=-0.1402), Var(v=-0.0755, grad=-0.0918), Var(v=0.1474, grad=0.6596), Var(v=-0.0233, grad=1.5166), Var(v=-0.1102, grad=0.7382), Var(v=-0.2435, grad=0.0660), Var(v=0.0511, grad=1.1202), Var(v=-0.0787, grad=-0.0041), Var(v=-0.2365, grad=0.0026), Var(v=-0.1521, grad=0.3008), Var(v=0.2672, grad=0.4831), Var(v=0.2262, grad=-1.7976), Var(v=0.0462, grad=-0.9969), Var(v=0.1502, grad=-0.0555), Var(v=-0.0244, grad=2.3235), Var(v=-0.0271, grad=0.1051), Var(v=0.1999, grad=-0.4047), Var(v=-0.0699, grad=-0.1452), Var(v=-0.0372, grad=-0.0169), Var(v=0.0203, grad=0.1025), Var(v=0.0466, grad=-0.1588), Var(v=-0.0860, grad=1.0887), Var(v=-0.0479, grad=-0.2997), Var(v=-0.0164, grad=-0.0717), Var(v=-0.1345, grad=0.0795), Var(v=0.1365, grad=0.2568), Var(v=0.0110, grad=-0.0315), Var(v=0.0068, grad=1.1598), Var(v=0.2113, grad=-0.7031), Var(v=-0.0609, grad=-1.1901), Var(v=-0.0954, grad=0.0000), Var(v=0.0006, grad=-0.0178), Var(v=-0.0890, grad=-0.5696), Var(v=0.1336, grad=0.6513), Var(v=-0.0459, grad=-0.4040), Var(v=-0.0392, grad=-0.0014), Var(v=-0.0123, grad=-0.1772), Var(v=-0.0606, grad=0.7138)], [Var(v=0.0076, grad=0.0503), Var(v=-0.2323, grad=0.0212), Var(v=0.2177, grad=0.0380), Var(v=0.0298, grad=-0.3361), Var(v=0.0314, grad=-0.1783), Var(v=-0.0084, grad=0.0018), Var(v=0.1228, grad=-0.3063), Var(v=-0.0986, grad=0.0065), Var(v=0.0517, grad=0.0000), Var(v=-0.0858, grad=-0.0061), Var(v=-0.0395, grad=-0.0267), Var(v=0.2067, grad=-0.0392), Var(v=-0.0100, grad=-0.1656), Var(v=0.0779, grad=0.1119), Var(v=-0.0100, grad=0.2240), Var(v=-0.2287, grad=-0.0515), Var(v=0.0378, grad=0.3709), Var(v=-0.2215, grad=-0.0021), Var(v=0.0403, grad=-0.0063), Var(v=-0.0445, grad=0.1699), Var(v=-0.0029, grad=0.0024), Var(v=-0.0015, grad=-0.0252), Var(v=0.1927, grad=0.1310), Var(v=-0.0055, grad=-0.0077), Var(v=-0.0512, grad=-0.2259), Var(v=-0.0141, grad=-0.0225), Var(v=0.0865, grad=-0.1236), Var(v=0.0908, grad=-0.3475), Var(v=-0.1226, grad=0.0133), Var(v=0.0385, grad=-0.0467), Var(v=0.0387, grad=-0.1037), Var(v=0.0260, grad=0.0013), Var(v=0.0230, grad=-0.0448), Var(v=-0.1421, grad=-0.0020), Var(v=0.0701, grad=0.2016), Var(v=0.1463, grad=0.2085), Var(v=0.2045, grad=-0.0343), Var(v=0.0893, grad=0.0108), Var(v=0.0540, grad=-0.1748), Var(v=0.1281, grad=-0.0439), Var(v=0.0761, grad=-0.0045), Var(v=-0.0606, grad=0.0258), Var(v=-0.0249, grad=0.0044), Var(v=-0.0943, grad=-0.0112), Var(v=-0.1261, grad=0.0056), Var(v=0.0791, grad=0.1722), Var(v=-0.0705, grad=0.0001), Var(v=-0.1754, grad=0.0038), Var(v=-0.0983, grad=0.0040), Var(v=-0.0831, grad=0.1774)], [Var(v=-0.0138, grad=0.0092), Var(v=-0.0513, grad=0.1673), Var(v=-0.0861, grad=0.0028), Var(v=-0.1072, grad=-0.0211), Var(v=0.0281, grad=-0.1411), Var(v=0.0083, grad=0.0050), Var(v=-0.0050, grad=-0.2629), Var(v=-0.0699, grad=0.0058), Var(v=0.0834, grad=0.0000), Var(v=0.1277, grad=-0.0074), Var(v=-0.1116, grad=0.1676), Var(v=-0.3521, grad=-0.0314), Var(v=0.0913, grad=-0.0862), Var(v=-0.0209, grad=-0.0487), Var(v=-0.0321, grad=0.1001), Var(v=0.0059, grad=0.1788), Var(v=-0.1529, grad=0.1689), Var(v=-0.0078, grad=0.0758), Var(v=0.0484, grad=0.1375), Var(v=-0.1247, grad=0.0640), Var(v=-0.0258, grad=0.0091), Var(v=0.1298, grad=-0.0019), Var(v=0.1660, grad=0.0934), Var(v=-0.0024, grad=-0.0840), Var(v=0.0451, grad=-0.1987), Var(v=0.1216, grad=-0.0065), Var(v=-0.0332, grad=0.2441), Var(v=-0.1719, grad=-0.0781), Var(v=0.0728, grad=-0.0185), Var(v=-0.0508, grad=-0.0398), Var(v=0.1294, grad=-0.0284), Var(v=0.0063, grad=0.0074), Var(v=-0.1701, grad=-0.0289), Var(v=-0.1842, grad=0.1162), Var(v=0.1218, grad=0.0411), Var(v=0.0152, grad=0.0440), Var(v=0.1802, grad=0.0281), Var(v=-0.1048, grad=0.0000), Var(v=0.1066, grad=-0.0483), Var(v=0.0196, grad=0.2569), Var(v=-0.0156, grad=-0.0946), Var(v=0.0702, grad=-0.1046), Var(v=-0.0949, grad=-0.0003), Var(v=0.1340, grad=-0.0027), Var(v=-0.0960, grad=-0.0102), Var(v=-0.0819, grad=0.1288), Var(v=-0.0146, grad=-0.0568), Var(v=0.0810, grad=-0.0012), Var(v=-0.0364, grad=-0.0180), Var(v=0.0894, grad=0.1492)], [Var(v=0.0018, grad=0.0000), Var(v=0.0460, grad=0.2126), Var(v=-0.0146, grad=-0.0889), Var(v=-0.1349, grad=0.2452), Var(v=0.0780, grad=-0.0798), Var(v=0.0373, grad=0.0225), Var(v=-0.0521, grad=-0.2471), Var(v=-0.0135, grad=0.0049), Var(v=-0.0225, grad=0.0001), Var(v=0.0670, grad=-0.0448), Var(v=0.2244, grad=0.1393), Var(v=0.0324, grad=-0.0195), Var(v=-0.0051, grad=-0.0604), Var(v=0.1020, grad=-0.2342), Var(v=0.0184, grad=0.1052), Var(v=0.0416, grad=0.0610), Var(v=0.1277, grad=-0.0040), Var(v=-0.0942, grad=0.0003), Var(v=0.0182, grad=0.2110), Var(v=-0.0317, grad=0.0030), Var(v=0.0331, grad=0.0273), Var(v=0.0940, grad=0.2969), Var(v=0.2340, grad=0.0580), Var(v=0.1619, grad=-0.2427), Var(v=0.0288, grad=-0.1194), Var(v=0.0906, grad=-0.0075), Var(v=0.2765, grad=0.2851), Var(v=-0.0522, grad=-0.0027), Var(v=0.0452, grad=-0.1742), Var(v=0.0071, grad=0.0329), Var(v=-0.1414, grad=0.0974), Var(v=0.0400, grad=0.0155), Var(v=-0.0999, grad=-0.0191), Var(v=0.0477, grad=0.0907), Var(v=0.1021, grad=-0.1343), Var(v=-0.0462, grad=-0.0864), Var(v=0.0174, grad=-0.0443), Var(v=-0.0372, grad=0.0808), Var(v=0.1002, grad=0.0090), Var(v=0.0420, grad=0.2903), Var(v=-0.2198, grad=-0.0361), Var(v=-0.0498, grad=-0.1337), Var(v=0.0938, grad=-0.0004), Var(v=-0.1105, grad=0.0026), Var(v=0.1107, grad=-0.2213), Var(v=-0.0465, grad=0.1012), Var(v=0.0076, grad=-0.1000), Var(v=0.0168, grad=-0.0008), Var(v=-0.1400, grad=-0.0047), Var(v=-0.1430, grad=0.1137)], [Var(v=-0.0866, grad=0.0166), Var(v=0.0075, grad=0.6191), Var(v=0.1752, grad=-0.1262), Var(v=-0.0418, grad=0.5259), Var(v=-0.1470, grad=-0.3382), Var(v=-0.1763, grad=-0.0002), Var(v=0.2642, grad=-0.6285), Var(v=-0.1417, grad=0.0149), Var(v=0.0541, grad=0.0000), Var(v=0.0600, grad=-0.0552), Var(v=0.0632, grad=0.5085), Var(v=-0.0144, grad=-0.0814), Var(v=0.0490, grad=0.0099), Var(v=0.0748, grad=0.1209), Var(v=0.0789, grad=0.3744), Var(v=0.0429, grad=0.7503), Var(v=0.1057, grad=0.4714), Var(v=0.0019, grad=0.0330), Var(v=0.1603, grad=0.6222), Var(v=-0.1022, grad=-0.1324), Var(v=0.0951, grad=-0.0001), Var(v=-0.0965, grad=0.0017), Var(v=0.0512, grad=0.2556), Var(v=0.0489, grad=-0.6472), Var(v=-0.0234, grad=-0.5332), Var(v=-0.1126, grad=-0.0307), Var(v=0.0165, grad=1.1850), Var(v=0.0500, grad=0.2238), Var(v=0.0349, grad=-0.1184), Var(v=0.0993, grad=-0.1166), Var(v=0.0157, grad=-0.0815), Var(v=0.0006, grad=0.0554), Var(v=-0.0968, grad=-0.0881), Var(v=-0.0723, grad=0.7680), Var(v=-0.1126, grad=-0.2530), Var(v=-0.1709, grad=-0.0085), Var(v=0.0184, grad=0.1052), Var(v=0.0273, grad=0.2063), Var(v=0.0129, grad=-0.0670), Var(v=-0.1023, grad=0.4382), Var(v=-0.1296, grad=-0.4502), Var(v=0.1348, grad=-0.6121), Var(v=-0.0489, grad=0.0000), Var(v=-0.0710, grad=-0.0125), Var(v=0.0077, grad=-0.3204), Var(v=0.1774, grad=0.3332), Var(v=-0.1244, grad=-0.1559), Var(v=-0.0196, grad=-0.0058), Var(v=0.0389, grad=-0.1045), Var(v=0.0180, grad=0.3549)]] Biases: [Var(v=0.0000, grad=0.7216), Var(v=0.0000, grad=0.6053), Var(v=0.0000, grad=0.5697), Var(v=0.0000, grad=4.6990), Var(v=0.0000, grad=-0.3881), Var(v=0.0000, grad=0.1292), Var(v=0.0000, grad=-2.1256), Var(v=0.0000, grad=0.0032), Var(v=0.0000, grad=0.0008), Var(v=0.0000, grad=-0.7869), Var(v=0.0000, grad=-1.0260), Var(v=0.0000, grad=-0.0303), Var(v=0.0000, grad=0.8836), Var(v=0.0000, grad=-2.7383), Var(v=0.0000, grad=1.5026), Var(v=0.0000, grad=-1.6507), Var(v=0.0000, grad=-1.1262), Var(v=0.0000, grad=-0.4583), Var(v=0.0000, grad=2.1094), Var(v=0.0000, grad=-0.4490), Var(v=0.0000, grad=0.1316), Var(v=0.0000, grad=1.4982), Var(v=0.0000, grad=0.4098), Var(v=0.0000, grad=3.8843), Var(v=0.0000, grad=-0.8880), Var(v=0.0000, grad=-0.0362), Var(v=0.0000, grad=-3.6247), Var(v=0.0000, grad=0.2718), Var(v=0.0000, grad=-2.8786), Var(v=0.0000, grad=0.1072), Var(v=0.0000, grad=0.7513), Var(v=0.0000, grad=-0.0627), Var(v=0.0000, grad=-0.2228), Var(v=0.0000, grad=1.4648), Var(v=0.0000, grad=-2.1804), Var(v=0.0000, grad=0.4342), Var(v=0.0000, grad=-0.3487), Var(v=0.0000, grad=2.4522), Var(v=0.0000, grad=-0.3280), Var(v=0.0000, grad=3.0738), Var(v=0.0000, grad=-2.1515), Var(v=0.0000, grad=1.5609), Var(v=0.0000, grad=0.0200), Var(v=0.0000, grad=0.0149), Var(v=0.0000, grad=-4.3494), Var(v=0.0000, grad=0.2020), Var(v=0.0000, grad=-0.8179), Var(v=0.0000, grad=-0.0441), Var(v=0.0000, grad=0.0417), Var(v=0.0000, grad=0.3967)]\n",
            "Layer 2 \n",
            " Weights: [[Var(v=-0.1207, grad=-0.0499)], [Var(v=0.1115, grad=1.2511)], [Var(v=-0.1392, grad=0.1985)], [Var(v=-0.2142, grad=-0.3444)], [Var(v=-0.0698, grad=4.4597)], [Var(v=-0.0231, grad=-0.1307)], [Var(v=-0.1434, grad=1.1118)], [Var(v=0.0041, grad=2.0748)], [Var(v=-0.0003, grad=-0.0013)], [Var(v=0.0176, grad=-0.3455)], [Var(v=0.1065, grad=1.6025)], [Var(v=-0.0170, grad=5.6535)], [Var(v=-0.0720, grad=-0.2451)], [Var(v=0.0972, grad=-1.5746)], [Var(v=0.0767, grad=0.9001)], [Var(v=0.1567, grad=2.8312)], [Var(v=0.1503, grad=0.2970)], [Var(v=0.1154, grad=0.1572)], [Var(v=0.0867, grad=4.1110)], [Var(v=0.1525, grad=0.0615)], [Var(v=-0.0286, grad=-0.1023)], [Var(v=-0.2145, grad=-0.1738)], [Var(v=0.0507, grad=6.5704)], [Var(v=-0.2323, grad=-0.6143)], [Var(v=-0.1043, grad=2.3944)], [Var(v=-0.0089, grad=0.7539)], [Var(v=0.2492, grad=0.3685)], [Var(v=-0.1274, grad=-0.0583)], [Var(v=0.1029, grad=-0.2212)], [Var(v=-0.0364, grad=-0.5786)], [Var(v=-0.0437, grad=-0.8590)], [Var(v=0.0125, grad=-0.0808)], [Var(v=-0.0164, grad=2.8728)], [Var(v=0.1055, grad=1.7288)], [Var(v=0.0864, grad=0.0468)], [Var(v=0.0871, grad=0.3321)], [Var(v=0.1685, grad=0.0866)], [Var(v=-0.0690, grad=-0.3246)], [Var(v=-0.0789, grad=1.2878)], [Var(v=0.2011, grad=0.3672)], [Var(v=-0.0909, grad=0.4365)], [Var(v=-0.1248, grad=0.8527)], [Var(v=0.0033, grad=0.0450)], [Var(v=-0.0048, grad=0.2493)], [Var(v=0.1231, grad=-0.8262)], [Var(v=0.0700, grad=2.0105)], [Var(v=-0.0434, grad=0.7374)], [Var(v=0.0032, grad=-0.0638)], [Var(v=-0.0282, grad=0.6911)], [Var(v=0.0744, grad=-0.2229)]] Biases: [Var(v=0.0000, grad=1.7792)]\n",
            "\n",
            "Network after update:\n",
            "Layer 0 \n",
            " Weights: [[Var(v=0.2450, grad=0.2105), Var(v=-0.0314, grad=-0.1868), Var(v=0.0559, grad=1.2518), Var(v=0.1134, grad=-0.8988), Var(v=-0.0522, grad=-0.8452), Var(v=-0.0224, grad=-0.0383), Var(v=0.1453, grad=0.3326), Var(v=-0.0168, grad=-0.2788), Var(v=0.0399, grad=-0.7616), Var(v=0.1804, grad=-0.7755), Var(v=0.1891, grad=1.1992), Var(v=-0.0437, grad=-0.6481), Var(v=-0.0376, grad=0.2927), Var(v=0.1151, grad=-2.4477), Var(v=0.0408, grad=-0.3938)], [Var(v=-0.0292, grad=-1.8983), Var(v=-0.1360, grad=0.7699), Var(v=0.1452, grad=-6.6011), Var(v=0.1352, grad=5.3547), Var(v=-0.0045, grad=-1.5254), Var(v=0.0186, grad=-1.0922), Var(v=-0.0193, grad=-0.8972), Var(v=-0.0502, grad=-1.1218), Var(v=0.1006, grad=4.8911), Var(v=-0.0087, grad=5.5433), Var(v=0.2064, grad=-3.9926), Var(v=-0.0640, grad=0.8848), Var(v=0.0140, grad=-1.9772), Var(v=-0.0331, grad=3.9106), Var(v=0.0917, grad=0.6073)], [Var(v=0.1997, grad=0.1787), Var(v=-0.1142, grad=-0.0931), Var(v=-0.1180, grad=-0.1752), Var(v=0.0787, grad=-1.3862), Var(v=0.0500, grad=-2.0241), Var(v=-0.0674, grad=0.3370), Var(v=-0.0761, grad=-0.2015), Var(v=0.0834, grad=-2.2623), Var(v=-0.0960, grad=0.0572), Var(v=-0.0469, grad=-1.0521), Var(v=-0.0603, grad=1.1920), Var(v=-0.0172, grad=0.8510), Var(v=-0.0987, grad=0.5989), Var(v=-0.1521, grad=-1.3693), Var(v=0.0788, grad=0.8198)]] Biases: [Var(v=-0.0030, grad=0.2998), Var(v=0.0006, grad=-0.0640), Var(v=0.0017, grad=-0.1666), Var(v=0.0032, grad=-0.3151), Var(v=0.0073, grad=-0.7310), Var(v=0.0058, grad=-0.5807), Var(v=-0.0068, grad=0.6846), Var(v=0.0189, grad=-1.8864), Var(v=-0.0169, grad=1.6870), Var(v=0.0053, grad=-0.5314), Var(v=-0.0012, grad=0.1166), Var(v=-0.0019, grad=0.1907), Var(v=0.0040, grad=-0.4023), Var(v=0.0074, grad=-0.7401), Var(v=-0.0027, grad=0.2735)]\n",
            "Layer 1 \n",
            " Weights: [[Var(v=-0.1437, grad=0.0060), Var(v=0.0589, grad=-0.7354), Var(v=-0.0789, grad=-0.0293), Var(v=0.0763, grad=1.8006), Var(v=0.0142, grad=0.4188), Var(v=-0.1260, grad=0.0006), Var(v=0.0900, grad=0.4308), Var(v=0.1006, grad=-0.0235), Var(v=-0.1510, grad=0.0000), Var(v=0.0427, grad=-0.2126), Var(v=0.0454, grad=-1.0103), Var(v=0.0818, grad=0.1023), Var(v=-0.0374, grad=0.2917), Var(v=0.1525, grad=-0.6920), Var(v=-0.1150, grad=0.0198), Var(v=0.0036, grad=-1.4789), Var(v=0.0481, grad=-0.9020), Var(v=-0.0022, grad=-0.4034), Var(v=-0.1533, grad=0.1481), Var(v=0.0303, grad=0.1508), Var(v=-0.1869, grad=-0.0014), Var(v=-0.2020, grad=0.1083), Var(v=0.0867, grad=-0.3016), Var(v=0.1203, grad=1.6857), Var(v=-0.0419, grad=0.4968), Var(v=-0.0154, grad=0.0023), Var(v=-0.0388, grad=-1.6715), Var(v=0.0694, grad=0.4622), Var(v=0.0421, grad=-0.6867), Var(v=0.1608, grad=0.2323), Var(v=0.2293, grad=0.3009), Var(v=-0.0107, grad=-0.0369), Var(v=0.0541, grad=0.1020), Var(v=-0.1082, grad=-0.2283), Var(v=0.0882, grad=-0.7015), Var(v=0.0038, grad=0.0965), Var(v=0.0621, grad=-0.6058), Var(v=0.0294, grad=0.7428), Var(v=-0.0172, grad=-0.0949), Var(v=-0.0569, grad=0.0000), Var(v=-0.0623, grad=-0.2348), Var(v=0.0564, grad=0.9533), Var(v=-0.0588, grad=0.0041), Var(v=0.0496, grad=0.0252), Var(v=0.1213, grad=-1.2699), Var(v=0.0456, grad=-0.4200), Var(v=-0.0955, grad=-0.0199), Var(v=0.0412, grad=-0.0021), Var(v=0.0096, grad=0.1640), Var(v=0.2087, grad=-0.4463)], [Var(v=-0.0490, grad=0.0089), Var(v=-0.0323, grad=0.0667), Var(v=-0.0469, grad=-0.1372), Var(v=0.0416, grad=-0.7937), Var(v=0.0064, grad=-0.3776), Var(v=-0.0153, grad=0.0235), Var(v=0.0040, grad=-0.7536), Var(v=0.0348, grad=0.0112), Var(v=-0.0297, grad=0.0001), Var(v=-0.0011, grad=-0.0268), Var(v=-0.0663, grad=-0.0382), Var(v=0.1068, grad=-0.0889), Var(v=-0.0365, grad=-0.3758), Var(v=-0.0396, grad=0.2720), Var(v=0.0986, grad=0.4420), Var(v=0.0159, grad=-0.2379), Var(v=-0.0328, grad=0.9042), Var(v=-0.1609, grad=0.0000), Var(v=-0.0569, grad=-0.0417), Var(v=-0.0499, grad=0.4788), Var(v=0.0037, grad=0.0259), Var(v=-0.1052, grad=0.1055), Var(v=0.0855, grad=0.2644), Var(v=-0.1414, grad=0.0191), Var(v=-0.0029, grad=-0.5076), Var(v=0.1982, grad=-0.0466), Var(v=-0.1117, grad=-0.1064), Var(v=0.0759, grad=-0.7331), Var(v=0.0657, grad=0.0361), Var(v=-0.1338, grad=-0.1269), Var(v=0.0932, grad=-0.2464), Var(v=-0.0330, grad=0.0017), Var(v=0.1103, grad=-0.0857), Var(v=-0.1604, grad=-0.0766), Var(v=-0.0028, grad=0.4626), Var(v=0.0106, grad=0.4279), Var(v=-0.1067, grad=-0.0983), Var(v=-0.1093, grad=-0.0098), Var(v=0.2185, grad=-0.4116), Var(v=-0.0718, grad=-0.1644), Var(v=-0.0825, grad=0.0103), Var(v=-0.0357, grad=0.0474), Var(v=0.0928, grad=0.0091), Var(v=0.0440, grad=-0.0281), Var(v=-0.0677, grad=0.0631), Var(v=0.0666, grad=0.4180), Var(v=-0.0545, grad=0.0360), Var(v=0.0282, grad=0.0110), Var(v=0.0428, grad=0.0000), Var(v=0.0177, grad=0.4218)], [Var(v=-0.0010, grad=0.0000), Var(v=-0.0720, grad=0.6872), Var(v=-0.1031, grad=-0.0164), Var(v=0.0739, grad=0.2027), Var(v=-0.0121, grad=-0.3979), Var(v=0.1630, grad=0.0092), Var(v=0.1547, grad=-0.8001), Var(v=0.0334, grad=0.0233), Var(v=-0.1470, grad=0.0000), Var(v=-0.0298, grad=-0.0226), Var(v=-0.1368, grad=0.6212), Var(v=0.1801, grad=-0.0972), Var(v=-0.1193, grad=-0.1781), Var(v=-0.2096, grad=-0.0810), Var(v=-0.1062, grad=0.3427), Var(v=0.0800, grad=0.8671), Var(v=-0.2604, grad=0.3753), Var(v=0.0132, grad=0.0434), Var(v=-0.0183, grad=0.5689), Var(v=-0.1920, grad=0.0121), Var(v=-0.0173, grad=0.0158), Var(v=0.0275, grad=0.2151), Var(v=-0.0979, grad=0.2889), Var(v=0.1197, grad=-1.0256), Var(v=0.0928, grad=-0.5945), Var(v=-0.1198, grad=-0.0306), Var(v=-0.0251, grad=1.3460), Var(v=-0.0928, grad=0.0000), Var(v=-0.0400, grad=-0.1218), Var(v=-0.0200, grad=-0.0903), Var(v=0.0042, grad=0.0102), Var(v=-0.0745, grad=0.0571), Var(v=0.1265, grad=-0.0965), Var(v=0.0297, grad=0.5921), Var(v=-0.1805, grad=-0.0829), Var(v=0.0341, grad=-0.0567), Var(v=-0.0580, grad=0.0332), Var(v=-0.1675, grad=0.0432), Var(v=-0.1479, grad=0.0112), Var(v=0.0888, grad=0.8030), Var(v=-0.1221, grad=-0.3097), Var(v=0.1460, grad=-0.7017), Var(v=-0.0215, grad=-0.0003), Var(v=0.0476, grad=-0.0076), Var(v=0.0892, grad=-0.1659), Var(v=-0.0724, grad=0.4001), Var(v=0.0163, grad=-0.2473), Var(v=0.1879, grad=-0.0012), Var(v=-0.0767, grad=-0.0877), Var(v=0.1029, grad=0.4339)], [Var(v=-0.0454, grad=0.0000), Var(v=0.0507, grad=1.3590), Var(v=0.0411, grad=-0.2439), Var(v=-0.0660, grad=0.7167), Var(v=0.3047, grad=-0.8325), Var(v=-0.1793, grad=-0.0015), Var(v=-0.0559, grad=-1.5823), Var(v=-0.0148, grad=0.0399), Var(v=-0.0403, grad=0.0000), Var(v=-0.0751, grad=-0.0610), Var(v=0.0068, grad=1.2711), Var(v=0.0289, grad=-0.2034), Var(v=-0.1179, grad=-0.1659), Var(v=0.0273, grad=0.2753), Var(v=-0.0660, grad=0.7671), Var(v=0.0459, grad=1.8690), Var(v=0.0961, grad=1.1387), Var(v=0.0451, grad=0.1855), Var(v=0.1020, grad=1.2724), Var(v=-0.1006, grad=-0.0539), Var(v=-0.0816, grad=0.0001), Var(v=-0.0766, grad=0.0592), Var(v=0.0140, grad=0.6084), Var(v=-0.1672, grad=-1.8411), Var(v=0.1118, grad=-1.2673), Var(v=0.0058, grad=-0.0663), Var(v=0.0394, grad=2.9011), Var(v=-0.0368, grad=0.2172), Var(v=-0.1905, grad=-0.1974), Var(v=0.0286, grad=-0.2685), Var(v=0.0527, grad=-0.1846), Var(v=-0.0474, grad=0.1196), Var(v=0.1188, grad=-0.1979), Var(v=0.2231, grad=1.4733), Var(v=0.0266, grad=-0.2626), Var(v=-0.1287, grad=-0.0011), Var(v=-0.0111, grad=0.2510), Var(v=-0.1192, grad=0.2419), Var(v=0.0011, grad=-0.1532), Var(v=-0.1043, grad=1.1098), Var(v=0.0073, grad=-0.8351), Var(v=0.1124, grad=-1.4889), Var(v=-0.1254, grad=0.0000), Var(v=0.1387, grad=-0.0290), Var(v=-0.1255, grad=-0.4052), Var(v=0.0164, grad=0.8295), Var(v=0.0521, grad=-0.3766), Var(v=-0.0877, grad=-0.0040), Var(v=0.1042, grad=-0.2376), Var(v=0.0067, grad=0.8871)], [Var(v=0.0733, grad=0.0807), Var(v=-0.1313, grad=0.0300), Var(v=0.0120, grad=0.0890), Var(v=-0.0384, grad=-0.0928), Var(v=-0.0979, grad=-0.0759), Var(v=-0.1083, grad=-0.0047), Var(v=-0.1362, grad=-0.0823), Var(v=-0.0707, grad=0.0034), Var(v=-0.0995, grad=0.0000), Var(v=0.1604, grad=-0.0104), Var(v=0.0128, grad=-0.0410), Var(v=0.0710, grad=-0.0126), Var(v=0.1312, grad=-0.0377), Var(v=-0.0402, grad=0.0110), Var(v=-0.1147, grad=0.1119), Var(v=0.0510, grad=-0.0289), Var(v=0.1907, grad=0.1096), Var(v=0.0823, grad=-0.0006), Var(v=-0.0763, grad=0.0240), Var(v=0.0837, grad=-0.0059), Var(v=-0.0260, grad=-0.0063), Var(v=-0.0175, grad=-0.0784), Var(v=-0.0948, grad=0.0673), Var(v=-0.0079, grad=0.0553), Var(v=0.0412, grad=-0.0820), Var(v=-0.0343, grad=-0.0098), Var(v=0.0589, grad=-0.1828), Var(v=-0.1429, grad=-0.1538), Var(v=-0.0762, grad=-0.0042), Var(v=0.1251, grad=-0.0067), Var(v=0.0965, grad=-0.0308), Var(v=-0.0890, grad=-0.0000), Var(v=-0.0423, grad=-0.0261), Var(v=-0.0937, grad=0.0377), Var(v=0.1070, grad=0.0368), Var(v=0.0963, grad=0.0932), Var(v=-0.0064, grad=0.0444), Var(v=-0.0464, grad=0.0452), Var(v=0.0479, grad=-0.0670), Var(v=-0.0859, grad=0.0194), Var(v=-0.0000, grad=-0.0253), Var(v=-0.0736, grad=0.0413), Var(v=-0.3085, grad=0.0020), Var(v=0.0657, grad=-0.0027), Var(v=0.0085, grad=-0.0634), Var(v=-0.0917, grad=0.0406), Var(v=-0.1390, grad=-0.0116), Var(v=0.0813, grad=-0.0013), Var(v=0.0584, grad=0.0084), Var(v=0.0307, grad=0.0548)], [Var(v=-0.1342, grad=0.0058), Var(v=-0.0408, grad=0.1721), Var(v=-0.1043, grad=0.0128), Var(v=-0.0639, grad=-0.0031), Var(v=-0.0424, grad=-0.1228), Var(v=0.1588, grad=0.0019), Var(v=0.1253, grad=-0.2234), Var(v=0.0052, grad=0.0063), Var(v=-0.0514, grad=0.0000), Var(v=0.0587, grad=-0.0037), Var(v=0.0411, grad=0.1756), Var(v=0.0984, grad=-0.0280), Var(v=0.1072, grad=-0.0687), Var(v=0.1615, grad=-0.0371), Var(v=-0.0349, grad=0.0774), Var(v=0.0438, grad=0.2216), Var(v=0.0410, grad=0.1165), Var(v=0.0344, grad=0.0638), Var(v=0.0247, grad=0.1467), Var(v=0.0254, grad=0.0531), Var(v=0.2523, grad=0.0047), Var(v=-0.0543, grad=-0.0074), Var(v=0.1214, grad=0.0832), Var(v=0.2014, grad=-0.1360), Var(v=-0.0990, grad=-0.1765), Var(v=-0.0380, grad=-0.0052), Var(v=0.1088, grad=0.2979), Var(v=-0.0232, grad=-0.0304), Var(v=-0.1144, grad=-0.0173), Var(v=-0.0234, grad=-0.0372), Var(v=-0.0209, grad=-0.0115), Var(v=-0.0130, grad=0.0093), Var(v=0.0535, grad=-0.0256), Var(v=0.0429, grad=0.1374), Var(v=-0.0752, grad=0.0136), Var(v=0.0289, grad=0.0164), Var(v=-0.1473, grad=0.0381), Var(v=-0.1016, grad=0.0000), Var(v=-0.0012, grad=-0.0206), Var(v=-0.0943, grad=0.2794), Var(v=0.0722, grad=-0.0937), Var(v=0.0489, grad=-0.1368), Var(v=-0.0448, grad=-0.0003), Var(v=-0.1353, grad=-0.0013), Var(v=-0.0421, grad=-0.0135), Var(v=-0.1636, grad=0.1091), Var(v=0.0498, grad=-0.0650), Var(v=-0.1531, grad=-0.0010), Var(v=-0.0183, grad=-0.0191), Var(v=0.0796, grad=0.1288)], [Var(v=-0.0094, grad=0.0000), Var(v=0.0290, grad=-0.1240), Var(v=0.1965, grad=-0.1227), Var(v=0.0938, grad=0.4201), Var(v=0.1015, grad=0.0698), Var(v=0.0669, grad=0.0149), Var(v=-0.2140, grad=-0.0589), Var(v=0.0571, grad=-0.0042), Var(v=0.0540, grad=0.0000), Var(v=-0.0857, grad=-0.0653), Var(v=-0.1702, grad=-0.2131), Var(v=0.1461, grad=0.0171), Var(v=0.2240, grad=0.0668), Var(v=0.0176, grad=-0.2920), Var(v=-0.0817, grad=-0.0548), Var(v=-0.1184, grad=-0.4220), Var(v=-0.0173, grad=-0.1811), Var(v=0.0291, grad=-0.0022), Var(v=-0.0957, grad=0.0591), Var(v=0.0507, grad=0.1363), Var(v=0.0692, grad=0.0098), Var(v=0.1506, grad=0.2249), Var(v=0.0522, grad=-0.0507), Var(v=-0.0878, grad=0.2928), Var(v=0.0699, grad=0.0986), Var(v=-0.0070, grad=0.0071), Var(v=0.1093, grad=-0.3228), Var(v=-0.1046, grad=-0.0664), Var(v=-0.0174, grad=-0.2592), Var(v=-0.1087, grad=0.0754), Var(v=-0.0122, grad=0.1210), Var(v=0.1092, grad=-0.0161), Var(v=-0.0822, grad=0.0226), Var(v=0.1427, grad=-0.2070), Var(v=0.0317, grad=-0.1464), Var(v=-0.0181, grad=-0.0326), Var(v=-0.0529, grad=-0.0054), Var(v=0.0976, grad=0.1623), Var(v=-0.2033, grad=-0.0490), Var(v=-0.0427, grad=0.0616), Var(v=0.0388, grad=0.0018), Var(v=0.0399, grad=0.1767), Var(v=-0.0752, grad=0.0011), Var(v=-0.1476, grad=0.0062), Var(v=0.0862, grad=-0.3408), Var(v=0.0627, grad=-0.0628), Var(v=0.0248, grad=-0.0328), Var(v=-0.0072, grad=0.0034), Var(v=-0.0661, grad=0.0293), Var(v=0.0456, grad=-0.0498)], [Var(v=0.0549, grad=0.0594), Var(v=-0.1803, grad=-0.0831), Var(v=-0.1137, grad=0.0727), Var(v=-0.1521, grad=-0.1718), Var(v=0.2447, grad=-0.0686), Var(v=-0.0154, grad=-0.0004), Var(v=0.0810, grad=-0.1208), Var(v=0.0216, grad=0.0032), Var(v=-0.0603, grad=0.0000), Var(v=-0.1809, grad=-0.0319), Var(v=0.0485, grad=-0.2405), Var(v=0.0258, grad=-0.0146), Var(v=0.0711, grad=-0.1269), Var(v=-0.0943, grad=0.0298), Var(v=0.0998, grad=0.2155), Var(v=0.0817, grad=-0.3212), Var(v=0.0916, grad=0.1284), Var(v=0.0375, grad=-0.1464), Var(v=0.0087, grad=-0.0345), Var(v=0.1143, grad=0.1193), Var(v=-0.1044, grad=-0.0010), Var(v=-0.1296, grad=-0.0236), Var(v=-0.0559, grad=0.0669), Var(v=-0.1932, grad=0.2124), Var(v=0.0657, grad=-0.0989), Var(v=0.0094, grad=-0.0252), Var(v=0.1272, grad=-0.4316), Var(v=-0.0584, grad=-0.2282), Var(v=-0.0185, grad=-0.0301), Var(v=0.2413, grad=0.0026), Var(v=-0.0551, grad=-0.0374), Var(v=-0.0187, grad=-0.0008), Var(v=-0.0130, grad=-0.0279), Var(v=0.0653, grad=-0.0144), Var(v=-0.0176, grad=0.0772), Var(v=-0.1074, grad=0.2053), Var(v=-0.1919, grad=-0.1475), Var(v=-0.0182, grad=0.1096), Var(v=0.0280, grad=-0.1355), Var(v=0.0536, grad=-0.0455), Var(v=-0.0853, grad=0.0031), Var(v=0.0152, grad=0.1829), Var(v=0.0619, grad=0.0054), Var(v=-0.0018, grad=-0.0046), Var(v=0.0064, grad=-0.1566), Var(v=0.1128, grad=0.0628), Var(v=-0.0908, grad=0.0000), Var(v=0.0669, grad=0.0020), Var(v=-0.0422, grad=0.0466), Var(v=0.0887, grad=0.0651)], [Var(v=-0.1201, grad=0.0000), Var(v=-0.0456, grad=1.3653), Var(v=-0.1026, grad=-0.1253), Var(v=-0.0073, grad=0.0942), Var(v=0.1706, grad=-0.8713), Var(v=-0.0145, grad=-0.0096), Var(v=-0.0119, grad=-1.6056), Var(v=0.1475, grad=0.0471), Var(v=-0.1130, grad=0.0000), Var(v=-0.1590, grad=0.0023), Var(v=0.0927, grad=1.3424), Var(v=0.2061, grad=-0.2129), Var(v=-0.0039, grad=-0.3575), Var(v=-0.0841, grad=0.2154), Var(v=-0.1065, grad=0.6333), Var(v=0.0643, grad=1.9562), Var(v=0.0509, grad=1.0614), Var(v=0.0932, grad=0.2661), Var(v=0.0245, grad=1.1021), Var(v=0.0874, grad=0.1115), Var(v=-0.0338, grad=-0.0075), Var(v=-0.0372, grad=-0.0518), Var(v=0.2355, grad=0.6327), Var(v=-0.1384, grad=-1.9450), Var(v=0.0342, grad=-1.3017), Var(v=-0.0895, grad=-0.0588), Var(v=-0.0953, grad=2.9453), Var(v=0.0230, grad=-0.0119), Var(v=-0.1190, grad=-0.0451), Var(v=0.0720, grad=-0.2815), Var(v=-0.0996, grad=-0.1651), Var(v=0.0339, grad=0.1070), Var(v=0.0667, grad=-0.1949), Var(v=-0.0580, grad=1.2374), Var(v=-0.0400, grad=0.0293), Var(v=0.0241, grad=0.0416), Var(v=0.0801, grad=0.3604), Var(v=0.0006, grad=0.0160), Var(v=0.0116, grad=-0.1273), Var(v=0.1041, grad=1.4661), Var(v=0.0416, grad=-0.6797), Var(v=-0.0596, grad=-1.4671), Var(v=-0.1149, grad=-0.0002), Var(v=-0.1181, grad=-0.0234), Var(v=-0.1508, grad=-0.0662), Var(v=-0.0050, grad=0.8191), Var(v=0.0886, grad=-0.4171), Var(v=-0.0158, grad=-0.0006), Var(v=0.0011, grad=-0.2087), Var(v=0.0399, grad=0.9298)], [Var(v=0.0637, grad=0.0000), Var(v=0.0810, grad=0.2175), Var(v=0.0011, grad=-0.0675), Var(v=-0.0412, grad=0.6854), Var(v=-0.1154, grad=-0.1310), Var(v=-0.1263, grad=0.0093), Var(v=-0.1457, grad=-0.4219), Var(v=0.1254, grad=0.0076), Var(v=0.0483, grad=0.0000), Var(v=-0.0158, grad=-0.0658), Var(v=0.1347, grad=0.1577), Var(v=0.0203, grad=-0.0320), Var(v=0.0123, grad=0.0167), Var(v=0.1515, grad=-0.2569), Var(v=0.1884, grad=0.1832), Var(v=0.1141, grad=0.1822), Var(v=0.1574, grad=0.0790), Var(v=-0.0255, grad=-0.0056), Var(v=0.0861, grad=0.3909), Var(v=-0.1426, grad=0.0475), Var(v=0.0741, grad=0.0055), Var(v=0.1794, grad=0.2481), Var(v=0.0317, grad=0.0951), Var(v=0.1230, grad=-0.4370), Var(v=0.0575, grad=-0.2027), Var(v=0.0242, grad=-0.0136), Var(v=0.0778, grad=0.4797), Var(v=-0.0880, grad=0.0333), Var(v=-0.1114, grad=-0.3350), Var(v=-0.0312, grad=0.0317), Var(v=0.0749, grad=0.0889), Var(v=0.1481, grad=0.0249), Var(v=0.0210, grad=-0.0275), Var(v=0.1174, grad=0.1939), Var(v=-0.0288, grad=-0.2279), Var(v=0.0561, grad=-0.0626), Var(v=-0.0387, grad=-0.0107), Var(v=-0.1057, grad=0.2061), Var(v=0.0391, grad=-0.0159), Var(v=-0.0862, grad=0.3515), Var(v=-0.0835, grad=-0.2107), Var(v=0.0993, grad=-0.2305), Var(v=-0.0738, grad=0.0001), Var(v=0.0638, grad=-0.0000), Var(v=0.0105, grad=-0.4477), Var(v=0.0485, grad=0.1295), Var(v=0.0755, grad=-0.1453), Var(v=-0.1195, grad=0.0009), Var(v=0.0063, grad=-0.0261), Var(v=-0.0139, grad=0.1516)], [Var(v=0.0228, grad=0.0000), Var(v=0.1398, grad=1.0671), Var(v=-0.0840, grad=-0.0394), Var(v=-0.0385, grad=0.9287), Var(v=-0.0100, grad=-0.6654), Var(v=0.0083, grad=0.0022), Var(v=0.0876, grad=-1.4219), Var(v=0.1588, grad=0.0369), Var(v=-0.0033, grad=0.0000), Var(v=0.0948, grad=-0.0669), Var(v=0.0073, grad=1.0159), Var(v=0.1891, grad=-0.1626), Var(v=0.1453, grad=-0.1402), Var(v=-0.0745, grad=-0.0918), Var(v=0.1408, grad=0.6596), Var(v=-0.0384, grad=1.5166), Var(v=-0.1176, grad=0.7382), Var(v=-0.2442, grad=0.0660), Var(v=0.0399, grad=1.1202), Var(v=-0.0787, grad=-0.0041), Var(v=-0.2365, grad=0.0026), Var(v=-0.1551, grad=0.3008), Var(v=0.2624, grad=0.4831), Var(v=0.2442, grad=-1.7976), Var(v=0.0562, grad=-0.9969), Var(v=0.1508, grad=-0.0555), Var(v=-0.0476, grad=2.3235), Var(v=-0.0282, grad=0.1051), Var(v=0.2039, grad=-0.4047), Var(v=-0.0684, grad=-0.1452), Var(v=-0.0371, grad=-0.0169), Var(v=0.0192, grad=0.1025), Var(v=0.0482, grad=-0.1588), Var(v=-0.0969, grad=1.0887), Var(v=-0.0449, grad=-0.2997), Var(v=-0.0157, grad=-0.0717), Var(v=-0.1353, grad=0.0795), Var(v=0.1339, grad=0.2568), Var(v=0.0113, grad=-0.0315), Var(v=-0.0048, grad=1.1598), Var(v=0.2184, grad=-0.7031), Var(v=-0.0490, grad=-1.1901), Var(v=-0.0954, grad=0.0000), Var(v=0.0007, grad=-0.0178), Var(v=-0.0833, grad=-0.5696), Var(v=0.1271, grad=0.6513), Var(v=-0.0418, grad=-0.4040), Var(v=-0.0392, grad=-0.0014), Var(v=-0.0105, grad=-0.1772), Var(v=-0.0678, grad=0.7138)], [Var(v=0.0071, grad=0.0503), Var(v=-0.2325, grad=0.0212), Var(v=0.2174, grad=0.0380), Var(v=0.0332, grad=-0.3361), Var(v=0.0332, grad=-0.1783), Var(v=-0.0084, grad=0.0018), Var(v=0.1258, grad=-0.3063), Var(v=-0.0987, grad=0.0065), Var(v=0.0517, grad=0.0000), Var(v=-0.0857, grad=-0.0061), Var(v=-0.0392, grad=-0.0267), Var(v=0.2071, grad=-0.0392), Var(v=-0.0083, grad=-0.1656), Var(v=0.0767, grad=0.1119), Var(v=-0.0123, grad=0.2240), Var(v=-0.2281, grad=-0.0515), Var(v=0.0341, grad=0.3709), Var(v=-0.2215, grad=-0.0021), Var(v=0.0403, grad=-0.0063), Var(v=-0.0462, grad=0.1699), Var(v=-0.0030, grad=0.0024), Var(v=-0.0012, grad=-0.0252), Var(v=0.1914, grad=0.1310), Var(v=-0.0054, grad=-0.0077), Var(v=-0.0490, grad=-0.2259), Var(v=-0.0139, grad=-0.0225), Var(v=0.0877, grad=-0.1236), Var(v=0.0942, grad=-0.3475), Var(v=-0.1227, grad=0.0133), Var(v=0.0390, grad=-0.0467), Var(v=0.0398, grad=-0.1037), Var(v=0.0260, grad=0.0013), Var(v=0.0235, grad=-0.0448), Var(v=-0.1421, grad=-0.0020), Var(v=0.0681, grad=0.2016), Var(v=0.1442, grad=0.2085), Var(v=0.2049, grad=-0.0343), Var(v=0.0892, grad=0.0108), Var(v=0.0557, grad=-0.1748), Var(v=0.1285, grad=-0.0439), Var(v=0.0761, grad=-0.0045), Var(v=-0.0608, grad=0.0258), Var(v=-0.0249, grad=0.0044), Var(v=-0.0942, grad=-0.0112), Var(v=-0.1262, grad=0.0056), Var(v=0.0774, grad=0.1722), Var(v=-0.0705, grad=0.0001), Var(v=-0.1755, grad=0.0038), Var(v=-0.0983, grad=0.0040), Var(v=-0.0849, grad=0.1774)], [Var(v=-0.0139, grad=0.0092), Var(v=-0.0529, grad=0.1673), Var(v=-0.0861, grad=0.0028), Var(v=-0.1069, grad=-0.0211), Var(v=0.0295, grad=-0.1411), Var(v=0.0083, grad=0.0050), Var(v=-0.0024, grad=-0.2629), Var(v=-0.0699, grad=0.0058), Var(v=0.0834, grad=0.0000), Var(v=0.1277, grad=-0.0074), Var(v=-0.1133, grad=0.1676), Var(v=-0.3518, grad=-0.0314), Var(v=0.0921, grad=-0.0862), Var(v=-0.0204, grad=-0.0487), Var(v=-0.0331, grad=0.1001), Var(v=0.0041, grad=0.1788), Var(v=-0.1546, grad=0.1689), Var(v=-0.0085, grad=0.0758), Var(v=0.0470, grad=0.1375), Var(v=-0.1254, grad=0.0640), Var(v=-0.0259, grad=0.0091), Var(v=0.1298, grad=-0.0019), Var(v=0.1651, grad=0.0934), Var(v=-0.0016, grad=-0.0840), Var(v=0.0470, grad=-0.1987), Var(v=0.1217, grad=-0.0065), Var(v=-0.0357, grad=0.2441), Var(v=-0.1711, grad=-0.0781), Var(v=0.0729, grad=-0.0185), Var(v=-0.0504, grad=-0.0398), Var(v=0.1296, grad=-0.0284), Var(v=0.0062, grad=0.0074), Var(v=-0.1698, grad=-0.0289), Var(v=-0.1854, grad=0.1162), Var(v=0.1214, grad=0.0411), Var(v=0.0148, grad=0.0440), Var(v=0.1799, grad=0.0281), Var(v=-0.1048, grad=0.0000), Var(v=0.1071, grad=-0.0483), Var(v=0.0170, grad=0.2569), Var(v=-0.0147, grad=-0.0946), Var(v=0.0713, grad=-0.1046), Var(v=-0.0949, grad=-0.0003), Var(v=0.1340, grad=-0.0027), Var(v=-0.0959, grad=-0.0102), Var(v=-0.0832, grad=0.1288), Var(v=-0.0141, grad=-0.0568), Var(v=0.0810, grad=-0.0012), Var(v=-0.0362, grad=-0.0180), Var(v=0.0880, grad=0.1492)], [Var(v=0.0018, grad=0.0000), Var(v=0.0439, grad=0.2126), Var(v=-0.0137, grad=-0.0889), Var(v=-0.1374, grad=0.2452), Var(v=0.0788, grad=-0.0798), Var(v=0.0371, grad=0.0225), Var(v=-0.0496, grad=-0.2471), Var(v=-0.0135, grad=0.0049), Var(v=-0.0225, grad=0.0001), Var(v=0.0675, grad=-0.0448), Var(v=0.2230, grad=0.1393), Var(v=0.0326, grad=-0.0195), Var(v=-0.0045, grad=-0.0604), Var(v=0.1043, grad=-0.2342), Var(v=0.0174, grad=0.1052), Var(v=0.0410, grad=0.0610), Var(v=0.1278, grad=-0.0040), Var(v=-0.0942, grad=0.0003), Var(v=0.0161, grad=0.2110), Var(v=-0.0318, grad=0.0030), Var(v=0.0328, grad=0.0273), Var(v=0.0911, grad=0.2969), Var(v=0.2334, grad=0.0580), Var(v=0.1644, grad=-0.2427), Var(v=0.0300, grad=-0.1194), Var(v=0.0907, grad=-0.0075), Var(v=0.2736, grad=0.2851), Var(v=-0.0522, grad=-0.0027), Var(v=0.0470, grad=-0.1742), Var(v=0.0068, grad=0.0329), Var(v=-0.1424, grad=0.0974), Var(v=0.0398, grad=0.0155), Var(v=-0.0998, grad=-0.0191), Var(v=0.0468, grad=0.0907), Var(v=0.1034, grad=-0.1343), Var(v=-0.0453, grad=-0.0864), Var(v=0.0179, grad=-0.0443), Var(v=-0.0381, grad=0.0808), Var(v=0.1002, grad=0.0090), Var(v=0.0391, grad=0.2903), Var(v=-0.2194, grad=-0.0361), Var(v=-0.0485, grad=-0.1337), Var(v=0.0938, grad=-0.0004), Var(v=-0.1105, grad=0.0026), Var(v=0.1130, grad=-0.2213), Var(v=-0.0475, grad=0.1012), Var(v=0.0086, grad=-0.1000), Var(v=0.0168, grad=-0.0008), Var(v=-0.1400, grad=-0.0047), Var(v=-0.1441, grad=0.1137)], [Var(v=-0.0867, grad=0.0166), Var(v=0.0013, grad=0.6191), Var(v=0.1765, grad=-0.1262), Var(v=-0.0471, grad=0.5259), Var(v=-0.1437, grad=-0.3382), Var(v=-0.1763, grad=-0.0002), Var(v=0.2705, grad=-0.6285), Var(v=-0.1419, grad=0.0149), Var(v=0.0541, grad=0.0000), Var(v=0.0606, grad=-0.0552), Var(v=0.0582, grad=0.5085), Var(v=-0.0136, grad=-0.0814), Var(v=0.0489, grad=0.0099), Var(v=0.0736, grad=0.1209), Var(v=0.0751, grad=0.3744), Var(v=0.0354, grad=0.7503), Var(v=0.1010, grad=0.4714), Var(v=0.0015, grad=0.0330), Var(v=0.1541, grad=0.6222), Var(v=-0.1009, grad=-0.1324), Var(v=0.0951, grad=-0.0001), Var(v=-0.0965, grad=0.0017), Var(v=0.0486, grad=0.2556), Var(v=0.0554, grad=-0.6472), Var(v=-0.0181, grad=-0.5332), Var(v=-0.1123, grad=-0.0307), Var(v=0.0047, grad=1.1850), Var(v=0.0477, grad=0.2238), Var(v=0.0361, grad=-0.1184), Var(v=0.1005, grad=-0.1166), Var(v=0.0165, grad=-0.0815), Var(v=0.0000, grad=0.0554), Var(v=-0.0960, grad=-0.0881), Var(v=-0.0799, grad=0.7680), Var(v=-0.1101, grad=-0.2530), Var(v=-0.1708, grad=-0.0085), Var(v=0.0173, grad=0.1052), Var(v=0.0252, grad=0.2063), Var(v=0.0136, grad=-0.0670), Var(v=-0.1067, grad=0.4382), Var(v=-0.1251, grad=-0.4502), Var(v=0.1409, grad=-0.6121), Var(v=-0.0489, grad=0.0000), Var(v=-0.0709, grad=-0.0125), Var(v=0.0109, grad=-0.3204), Var(v=0.1741, grad=0.3332), Var(v=-0.1228, grad=-0.1559), Var(v=-0.0196, grad=-0.0058), Var(v=0.0400, grad=-0.1045), Var(v=0.0145, grad=0.3549)]] Biases: [Var(v=-0.0072, grad=0.7216), Var(v=-0.0061, grad=0.6053), Var(v=-0.0057, grad=0.5697), Var(v=-0.0470, grad=4.6990), Var(v=0.0039, grad=-0.3881), Var(v=-0.0013, grad=0.1292), Var(v=0.0213, grad=-2.1256), Var(v=-0.0000, grad=0.0032), Var(v=-0.0000, grad=0.0008), Var(v=0.0079, grad=-0.7869), Var(v=0.0103, grad=-1.0260), Var(v=0.0003, grad=-0.0303), Var(v=-0.0088, grad=0.8836), Var(v=0.0274, grad=-2.7383), Var(v=-0.0150, grad=1.5026), Var(v=0.0165, grad=-1.6507), Var(v=0.0113, grad=-1.1262), Var(v=0.0046, grad=-0.4583), Var(v=-0.0211, grad=2.1094), Var(v=0.0045, grad=-0.4490), Var(v=-0.0013, grad=0.1316), Var(v=-0.0150, grad=1.4982), Var(v=-0.0041, grad=0.4098), Var(v=-0.0388, grad=3.8843), Var(v=0.0089, grad=-0.8880), Var(v=0.0004, grad=-0.0362), Var(v=0.0362, grad=-3.6247), Var(v=-0.0027, grad=0.2718), Var(v=0.0288, grad=-2.8786), Var(v=-0.0011, grad=0.1072), Var(v=-0.0075, grad=0.7513), Var(v=0.0006, grad=-0.0627), Var(v=0.0022, grad=-0.2228), Var(v=-0.0146, grad=1.4648), Var(v=0.0218, grad=-2.1804), Var(v=-0.0043, grad=0.4342), Var(v=0.0035, grad=-0.3487), Var(v=-0.0245, grad=2.4522), Var(v=0.0033, grad=-0.3280), Var(v=-0.0307, grad=3.0738), Var(v=0.0215, grad=-2.1515), Var(v=-0.0156, grad=1.5609), Var(v=-0.0002, grad=0.0200), Var(v=-0.0001, grad=0.0149), Var(v=0.0435, grad=-4.3494), Var(v=-0.0020, grad=0.2020), Var(v=0.0082, grad=-0.8179), Var(v=0.0004, grad=-0.0441), Var(v=-0.0004, grad=0.0417), Var(v=-0.0040, grad=0.3967)]\n",
            "Layer 2 \n",
            " Weights: [[Var(v=-0.1203, grad=-0.0499)], [Var(v=0.0989, grad=1.2511)], [Var(v=-0.1411, grad=0.1985)], [Var(v=-0.2107, grad=-0.3444)], [Var(v=-0.1144, grad=4.4597)], [Var(v=-0.0218, grad=-0.1307)], [Var(v=-0.1545, grad=1.1118)], [Var(v=-0.0167, grad=2.0748)], [Var(v=-0.0003, grad=-0.0013)], [Var(v=0.0210, grad=-0.3455)], [Var(v=0.0905, grad=1.6025)], [Var(v=-0.0736, grad=5.6535)], [Var(v=-0.0696, grad=-0.2451)], [Var(v=0.1130, grad=-1.5746)], [Var(v=0.0676, grad=0.9001)], [Var(v=0.1284, grad=2.8312)], [Var(v=0.1473, grad=0.2970)], [Var(v=0.1139, grad=0.1572)], [Var(v=0.0456, grad=4.1110)], [Var(v=0.1519, grad=0.0615)], [Var(v=-0.0276, grad=-0.1023)], [Var(v=-0.2127, grad=-0.1738)], [Var(v=-0.0150, grad=6.5704)], [Var(v=-0.2261, grad=-0.6143)], [Var(v=-0.1282, grad=2.3944)], [Var(v=-0.0165, grad=0.7539)], [Var(v=0.2455, grad=0.3685)], [Var(v=-0.1268, grad=-0.0583)], [Var(v=0.1051, grad=-0.2212)], [Var(v=-0.0307, grad=-0.5786)], [Var(v=-0.0352, grad=-0.8590)], [Var(v=0.0133, grad=-0.0808)], [Var(v=-0.0451, grad=2.8728)], [Var(v=0.0882, grad=1.7288)], [Var(v=0.0859, grad=0.0468)], [Var(v=0.0838, grad=0.3321)], [Var(v=0.1677, grad=0.0866)], [Var(v=-0.0657, grad=-0.3246)], [Var(v=-0.0918, grad=1.2878)], [Var(v=0.1975, grad=0.3672)], [Var(v=-0.0953, grad=0.4365)], [Var(v=-0.1333, grad=0.8527)], [Var(v=0.0028, grad=0.0450)], [Var(v=-0.0073, grad=0.2493)], [Var(v=0.1314, grad=-0.8262)], [Var(v=0.0499, grad=2.0105)], [Var(v=-0.0508, grad=0.7374)], [Var(v=0.0038, grad=-0.0638)], [Var(v=-0.0351, grad=0.6911)], [Var(v=0.0766, grad=-0.2229)]] Biases: [Var(v=-0.0178, grad=1.7792)]\n",
            "\n",
            "Network after zeroing gradients:\n",
            "Layer 0 \n",
            " Weights: [[Var(v=0.2450, grad=0.0000), Var(v=-0.0314, grad=0.0000), Var(v=0.0559, grad=0.0000), Var(v=0.1134, grad=0.0000), Var(v=-0.0522, grad=0.0000), Var(v=-0.0224, grad=0.0000), Var(v=0.1453, grad=0.0000), Var(v=-0.0168, grad=0.0000), Var(v=0.0399, grad=0.0000), Var(v=0.1804, grad=0.0000), Var(v=0.1891, grad=0.0000), Var(v=-0.0437, grad=0.0000), Var(v=-0.0376, grad=0.0000), Var(v=0.1151, grad=0.0000), Var(v=0.0408, grad=0.0000)], [Var(v=-0.0292, grad=0.0000), Var(v=-0.1360, grad=0.0000), Var(v=0.1452, grad=0.0000), Var(v=0.1352, grad=0.0000), Var(v=-0.0045, grad=0.0000), Var(v=0.0186, grad=0.0000), Var(v=-0.0193, grad=0.0000), Var(v=-0.0502, grad=0.0000), Var(v=0.1006, grad=0.0000), Var(v=-0.0087, grad=0.0000), Var(v=0.2064, grad=0.0000), Var(v=-0.0640, grad=0.0000), Var(v=0.0140, grad=0.0000), Var(v=-0.0331, grad=0.0000), Var(v=0.0917, grad=0.0000)], [Var(v=0.1997, grad=0.0000), Var(v=-0.1142, grad=0.0000), Var(v=-0.1180, grad=0.0000), Var(v=0.0787, grad=0.0000), Var(v=0.0500, grad=0.0000), Var(v=-0.0674, grad=0.0000), Var(v=-0.0761, grad=0.0000), Var(v=0.0834, grad=0.0000), Var(v=-0.0960, grad=0.0000), Var(v=-0.0469, grad=0.0000), Var(v=-0.0603, grad=0.0000), Var(v=-0.0172, grad=0.0000), Var(v=-0.0987, grad=0.0000), Var(v=-0.1521, grad=0.0000), Var(v=0.0788, grad=0.0000)]] Biases: [Var(v=-0.0030, grad=0.0000), Var(v=0.0006, grad=0.0000), Var(v=0.0017, grad=0.0000), Var(v=0.0032, grad=0.0000), Var(v=0.0073, grad=0.0000), Var(v=0.0058, grad=0.0000), Var(v=-0.0068, grad=0.0000), Var(v=0.0189, grad=0.0000), Var(v=-0.0169, grad=0.0000), Var(v=0.0053, grad=0.0000), Var(v=-0.0012, grad=0.0000), Var(v=-0.0019, grad=0.0000), Var(v=0.0040, grad=0.0000), Var(v=0.0074, grad=0.0000), Var(v=-0.0027, grad=0.0000)]\n",
            "Layer 1 \n",
            " Weights: [[Var(v=-0.1437, grad=0.0000), Var(v=0.0589, grad=0.0000), Var(v=-0.0789, grad=0.0000), Var(v=0.0763, grad=0.0000), Var(v=0.0142, grad=0.0000), Var(v=-0.1260, grad=0.0000), Var(v=0.0900, grad=0.0000), Var(v=0.1006, grad=0.0000), Var(v=-0.1510, grad=0.0000), Var(v=0.0427, grad=0.0000), Var(v=0.0454, grad=0.0000), Var(v=0.0818, grad=0.0000), Var(v=-0.0374, grad=0.0000), Var(v=0.1525, grad=0.0000), Var(v=-0.1150, grad=0.0000), Var(v=0.0036, grad=0.0000), Var(v=0.0481, grad=0.0000), Var(v=-0.0022, grad=0.0000), Var(v=-0.1533, grad=0.0000), Var(v=0.0303, grad=0.0000), Var(v=-0.1869, grad=0.0000), Var(v=-0.2020, grad=0.0000), Var(v=0.0867, grad=0.0000), Var(v=0.1203, grad=0.0000), Var(v=-0.0419, grad=0.0000), Var(v=-0.0154, grad=0.0000), Var(v=-0.0388, grad=0.0000), Var(v=0.0694, grad=0.0000), Var(v=0.0421, grad=0.0000), Var(v=0.1608, grad=0.0000), Var(v=0.2293, grad=0.0000), Var(v=-0.0107, grad=0.0000), Var(v=0.0541, grad=0.0000), Var(v=-0.1082, grad=0.0000), Var(v=0.0882, grad=0.0000), Var(v=0.0038, grad=0.0000), Var(v=0.0621, grad=0.0000), Var(v=0.0294, grad=0.0000), Var(v=-0.0172, grad=0.0000), Var(v=-0.0569, grad=0.0000), Var(v=-0.0623, grad=0.0000), Var(v=0.0564, grad=0.0000), Var(v=-0.0588, grad=0.0000), Var(v=0.0496, grad=0.0000), Var(v=0.1213, grad=0.0000), Var(v=0.0456, grad=0.0000), Var(v=-0.0955, grad=0.0000), Var(v=0.0412, grad=0.0000), Var(v=0.0096, grad=0.0000), Var(v=0.2087, grad=0.0000)], [Var(v=-0.0490, grad=0.0000), Var(v=-0.0323, grad=0.0000), Var(v=-0.0469, grad=0.0000), Var(v=0.0416, grad=0.0000), Var(v=0.0064, grad=0.0000), Var(v=-0.0153, grad=0.0000), Var(v=0.0040, grad=0.0000), Var(v=0.0348, grad=0.0000), Var(v=-0.0297, grad=0.0000), Var(v=-0.0011, grad=0.0000), Var(v=-0.0663, grad=0.0000), Var(v=0.1068, grad=0.0000), Var(v=-0.0365, grad=0.0000), Var(v=-0.0396, grad=0.0000), Var(v=0.0986, grad=0.0000), Var(v=0.0159, grad=0.0000), Var(v=-0.0328, grad=0.0000), Var(v=-0.1609, grad=0.0000), Var(v=-0.0569, grad=0.0000), Var(v=-0.0499, grad=0.0000), Var(v=0.0037, grad=0.0000), Var(v=-0.1052, grad=0.0000), Var(v=0.0855, grad=0.0000), Var(v=-0.1414, grad=0.0000), Var(v=-0.0029, grad=0.0000), Var(v=0.1982, grad=0.0000), Var(v=-0.1117, grad=0.0000), Var(v=0.0759, grad=0.0000), Var(v=0.0657, grad=0.0000), Var(v=-0.1338, grad=0.0000), Var(v=0.0932, grad=0.0000), Var(v=-0.0330, grad=0.0000), Var(v=0.1103, grad=0.0000), Var(v=-0.1604, grad=0.0000), Var(v=-0.0028, grad=0.0000), Var(v=0.0106, grad=0.0000), Var(v=-0.1067, grad=0.0000), Var(v=-0.1093, grad=0.0000), Var(v=0.2185, grad=0.0000), Var(v=-0.0718, grad=0.0000), Var(v=-0.0825, grad=0.0000), Var(v=-0.0357, grad=0.0000), Var(v=0.0928, grad=0.0000), Var(v=0.0440, grad=0.0000), Var(v=-0.0677, grad=0.0000), Var(v=0.0666, grad=0.0000), Var(v=-0.0545, grad=0.0000), Var(v=0.0282, grad=0.0000), Var(v=0.0428, grad=0.0000), Var(v=0.0177, grad=0.0000)], [Var(v=-0.0010, grad=0.0000), Var(v=-0.0720, grad=0.0000), Var(v=-0.1031, grad=0.0000), Var(v=0.0739, grad=0.0000), Var(v=-0.0121, grad=0.0000), Var(v=0.1630, grad=0.0000), Var(v=0.1547, grad=0.0000), Var(v=0.0334, grad=0.0000), Var(v=-0.1470, grad=0.0000), Var(v=-0.0298, grad=0.0000), Var(v=-0.1368, grad=0.0000), Var(v=0.1801, grad=0.0000), Var(v=-0.1193, grad=0.0000), Var(v=-0.2096, grad=0.0000), Var(v=-0.1062, grad=0.0000), Var(v=0.0800, grad=0.0000), Var(v=-0.2604, grad=0.0000), Var(v=0.0132, grad=0.0000), Var(v=-0.0183, grad=0.0000), Var(v=-0.1920, grad=0.0000), Var(v=-0.0173, grad=0.0000), Var(v=0.0275, grad=0.0000), Var(v=-0.0979, grad=0.0000), Var(v=0.1197, grad=0.0000), Var(v=0.0928, grad=0.0000), Var(v=-0.1198, grad=0.0000), Var(v=-0.0251, grad=0.0000), Var(v=-0.0928, grad=0.0000), Var(v=-0.0400, grad=0.0000), Var(v=-0.0200, grad=0.0000), Var(v=0.0042, grad=0.0000), Var(v=-0.0745, grad=0.0000), Var(v=0.1265, grad=0.0000), Var(v=0.0297, grad=0.0000), Var(v=-0.1805, grad=0.0000), Var(v=0.0341, grad=0.0000), Var(v=-0.0580, grad=0.0000), Var(v=-0.1675, grad=0.0000), Var(v=-0.1479, grad=0.0000), Var(v=0.0888, grad=0.0000), Var(v=-0.1221, grad=0.0000), Var(v=0.1460, grad=0.0000), Var(v=-0.0215, grad=0.0000), Var(v=0.0476, grad=0.0000), Var(v=0.0892, grad=0.0000), Var(v=-0.0724, grad=0.0000), Var(v=0.0163, grad=0.0000), Var(v=0.1879, grad=0.0000), Var(v=-0.0767, grad=0.0000), Var(v=0.1029, grad=0.0000)], [Var(v=-0.0454, grad=0.0000), Var(v=0.0507, grad=0.0000), Var(v=0.0411, grad=0.0000), Var(v=-0.0660, grad=0.0000), Var(v=0.3047, grad=0.0000), Var(v=-0.1793, grad=0.0000), Var(v=-0.0559, grad=0.0000), Var(v=-0.0148, grad=0.0000), Var(v=-0.0403, grad=0.0000), Var(v=-0.0751, grad=0.0000), Var(v=0.0068, grad=0.0000), Var(v=0.0289, grad=0.0000), Var(v=-0.1179, grad=0.0000), Var(v=0.0273, grad=0.0000), Var(v=-0.0660, grad=0.0000), Var(v=0.0459, grad=0.0000), Var(v=0.0961, grad=0.0000), Var(v=0.0451, grad=0.0000), Var(v=0.1020, grad=0.0000), Var(v=-0.1006, grad=0.0000), Var(v=-0.0816, grad=0.0000), Var(v=-0.0766, grad=0.0000), Var(v=0.0140, grad=0.0000), Var(v=-0.1672, grad=0.0000), Var(v=0.1118, grad=0.0000), Var(v=0.0058, grad=0.0000), Var(v=0.0394, grad=0.0000), Var(v=-0.0368, grad=0.0000), Var(v=-0.1905, grad=0.0000), Var(v=0.0286, grad=0.0000), Var(v=0.0527, grad=0.0000), Var(v=-0.0474, grad=0.0000), Var(v=0.1188, grad=0.0000), Var(v=0.2231, grad=0.0000), Var(v=0.0266, grad=0.0000), Var(v=-0.1287, grad=0.0000), Var(v=-0.0111, grad=0.0000), Var(v=-0.1192, grad=0.0000), Var(v=0.0011, grad=0.0000), Var(v=-0.1043, grad=0.0000), Var(v=0.0073, grad=0.0000), Var(v=0.1124, grad=0.0000), Var(v=-0.1254, grad=0.0000), Var(v=0.1387, grad=0.0000), Var(v=-0.1255, grad=0.0000), Var(v=0.0164, grad=0.0000), Var(v=0.0521, grad=0.0000), Var(v=-0.0877, grad=0.0000), Var(v=0.1042, grad=0.0000), Var(v=0.0067, grad=0.0000)], [Var(v=0.0733, grad=0.0000), Var(v=-0.1313, grad=0.0000), Var(v=0.0120, grad=0.0000), Var(v=-0.0384, grad=0.0000), Var(v=-0.0979, grad=0.0000), Var(v=-0.1083, grad=0.0000), Var(v=-0.1362, grad=0.0000), Var(v=-0.0707, grad=0.0000), Var(v=-0.0995, grad=0.0000), Var(v=0.1604, grad=0.0000), Var(v=0.0128, grad=0.0000), Var(v=0.0710, grad=0.0000), Var(v=0.1312, grad=0.0000), Var(v=-0.0402, grad=0.0000), Var(v=-0.1147, grad=0.0000), Var(v=0.0510, grad=0.0000), Var(v=0.1907, grad=0.0000), Var(v=0.0823, grad=0.0000), Var(v=-0.0763, grad=0.0000), Var(v=0.0837, grad=0.0000), Var(v=-0.0260, grad=0.0000), Var(v=-0.0175, grad=0.0000), Var(v=-0.0948, grad=0.0000), Var(v=-0.0079, grad=0.0000), Var(v=0.0412, grad=0.0000), Var(v=-0.0343, grad=0.0000), Var(v=0.0589, grad=0.0000), Var(v=-0.1429, grad=0.0000), Var(v=-0.0762, grad=0.0000), Var(v=0.1251, grad=0.0000), Var(v=0.0965, grad=0.0000), Var(v=-0.0890, grad=0.0000), Var(v=-0.0423, grad=0.0000), Var(v=-0.0937, grad=0.0000), Var(v=0.1070, grad=0.0000), Var(v=0.0963, grad=0.0000), Var(v=-0.0064, grad=0.0000), Var(v=-0.0464, grad=0.0000), Var(v=0.0479, grad=0.0000), Var(v=-0.0859, grad=0.0000), Var(v=-0.0000, grad=0.0000), Var(v=-0.0736, grad=0.0000), Var(v=-0.3085, grad=0.0000), Var(v=0.0657, grad=0.0000), Var(v=0.0085, grad=0.0000), Var(v=-0.0917, grad=0.0000), Var(v=-0.1390, grad=0.0000), Var(v=0.0813, grad=0.0000), Var(v=0.0584, grad=0.0000), Var(v=0.0307, grad=0.0000)], [Var(v=-0.1342, grad=0.0000), Var(v=-0.0408, grad=0.0000), Var(v=-0.1043, grad=0.0000), Var(v=-0.0639, grad=0.0000), Var(v=-0.0424, grad=0.0000), Var(v=0.1588, grad=0.0000), Var(v=0.1253, grad=0.0000), Var(v=0.0052, grad=0.0000), Var(v=-0.0514, grad=0.0000), Var(v=0.0587, grad=0.0000), Var(v=0.0411, grad=0.0000), Var(v=0.0984, grad=0.0000), Var(v=0.1072, grad=0.0000), Var(v=0.1615, grad=0.0000), Var(v=-0.0349, grad=0.0000), Var(v=0.0438, grad=0.0000), Var(v=0.0410, grad=0.0000), Var(v=0.0344, grad=0.0000), Var(v=0.0247, grad=0.0000), Var(v=0.0254, grad=0.0000), Var(v=0.2523, grad=0.0000), Var(v=-0.0543, grad=0.0000), Var(v=0.1214, grad=0.0000), Var(v=0.2014, grad=0.0000), Var(v=-0.0990, grad=0.0000), Var(v=-0.0380, grad=0.0000), Var(v=0.1088, grad=0.0000), Var(v=-0.0232, grad=0.0000), Var(v=-0.1144, grad=0.0000), Var(v=-0.0234, grad=0.0000), Var(v=-0.0209, grad=0.0000), Var(v=-0.0130, grad=0.0000), Var(v=0.0535, grad=0.0000), Var(v=0.0429, grad=0.0000), Var(v=-0.0752, grad=0.0000), Var(v=0.0289, grad=0.0000), Var(v=-0.1473, grad=0.0000), Var(v=-0.1016, grad=0.0000), Var(v=-0.0012, grad=0.0000), Var(v=-0.0943, grad=0.0000), Var(v=0.0722, grad=0.0000), Var(v=0.0489, grad=0.0000), Var(v=-0.0448, grad=0.0000), Var(v=-0.1353, grad=0.0000), Var(v=-0.0421, grad=0.0000), Var(v=-0.1636, grad=0.0000), Var(v=0.0498, grad=0.0000), Var(v=-0.1531, grad=0.0000), Var(v=-0.0183, grad=0.0000), Var(v=0.0796, grad=0.0000)], [Var(v=-0.0094, grad=0.0000), Var(v=0.0290, grad=0.0000), Var(v=0.1965, grad=0.0000), Var(v=0.0938, grad=0.0000), Var(v=0.1015, grad=0.0000), Var(v=0.0669, grad=0.0000), Var(v=-0.2140, grad=0.0000), Var(v=0.0571, grad=0.0000), Var(v=0.0540, grad=0.0000), Var(v=-0.0857, grad=0.0000), Var(v=-0.1702, grad=0.0000), Var(v=0.1461, grad=0.0000), Var(v=0.2240, grad=0.0000), Var(v=0.0176, grad=0.0000), Var(v=-0.0817, grad=0.0000), Var(v=-0.1184, grad=0.0000), Var(v=-0.0173, grad=0.0000), Var(v=0.0291, grad=0.0000), Var(v=-0.0957, grad=0.0000), Var(v=0.0507, grad=0.0000), Var(v=0.0692, grad=0.0000), Var(v=0.1506, grad=0.0000), Var(v=0.0522, grad=0.0000), Var(v=-0.0878, grad=0.0000), Var(v=0.0699, grad=0.0000), Var(v=-0.0070, grad=0.0000), Var(v=0.1093, grad=0.0000), Var(v=-0.1046, grad=0.0000), Var(v=-0.0174, grad=0.0000), Var(v=-0.1087, grad=0.0000), Var(v=-0.0122, grad=0.0000), Var(v=0.1092, grad=0.0000), Var(v=-0.0822, grad=0.0000), Var(v=0.1427, grad=0.0000), Var(v=0.0317, grad=0.0000), Var(v=-0.0181, grad=0.0000), Var(v=-0.0529, grad=0.0000), Var(v=0.0976, grad=0.0000), Var(v=-0.2033, grad=0.0000), Var(v=-0.0427, grad=0.0000), Var(v=0.0388, grad=0.0000), Var(v=0.0399, grad=0.0000), Var(v=-0.0752, grad=0.0000), Var(v=-0.1476, grad=0.0000), Var(v=0.0862, grad=0.0000), Var(v=0.0627, grad=0.0000), Var(v=0.0248, grad=0.0000), Var(v=-0.0072, grad=0.0000), Var(v=-0.0661, grad=0.0000), Var(v=0.0456, grad=0.0000)], [Var(v=0.0549, grad=0.0000), Var(v=-0.1803, grad=0.0000), Var(v=-0.1137, grad=0.0000), Var(v=-0.1521, grad=0.0000), Var(v=0.2447, grad=0.0000), Var(v=-0.0154, grad=0.0000), Var(v=0.0810, grad=0.0000), Var(v=0.0216, grad=0.0000), Var(v=-0.0603, grad=0.0000), Var(v=-0.1809, grad=0.0000), Var(v=0.0485, grad=0.0000), Var(v=0.0258, grad=0.0000), Var(v=0.0711, grad=0.0000), Var(v=-0.0943, grad=0.0000), Var(v=0.0998, grad=0.0000), Var(v=0.0817, grad=0.0000), Var(v=0.0916, grad=0.0000), Var(v=0.0375, grad=0.0000), Var(v=0.0087, grad=0.0000), Var(v=0.1143, grad=0.0000), Var(v=-0.1044, grad=0.0000), Var(v=-0.1296, grad=0.0000), Var(v=-0.0559, grad=0.0000), Var(v=-0.1932, grad=0.0000), Var(v=0.0657, grad=0.0000), Var(v=0.0094, grad=0.0000), Var(v=0.1272, grad=0.0000), Var(v=-0.0584, grad=0.0000), Var(v=-0.0185, grad=0.0000), Var(v=0.2413, grad=0.0000), Var(v=-0.0551, grad=0.0000), Var(v=-0.0187, grad=0.0000), Var(v=-0.0130, grad=0.0000), Var(v=0.0653, grad=0.0000), Var(v=-0.0176, grad=0.0000), Var(v=-0.1074, grad=0.0000), Var(v=-0.1919, grad=0.0000), Var(v=-0.0182, grad=0.0000), Var(v=0.0280, grad=0.0000), Var(v=0.0536, grad=0.0000), Var(v=-0.0853, grad=0.0000), Var(v=0.0152, grad=0.0000), Var(v=0.0619, grad=0.0000), Var(v=-0.0018, grad=0.0000), Var(v=0.0064, grad=0.0000), Var(v=0.1128, grad=0.0000), Var(v=-0.0908, grad=0.0000), Var(v=0.0669, grad=0.0000), Var(v=-0.0422, grad=0.0000), Var(v=0.0887, grad=0.0000)], [Var(v=-0.1201, grad=0.0000), Var(v=-0.0456, grad=0.0000), Var(v=-0.1026, grad=0.0000), Var(v=-0.0073, grad=0.0000), Var(v=0.1706, grad=0.0000), Var(v=-0.0145, grad=0.0000), Var(v=-0.0119, grad=0.0000), Var(v=0.1475, grad=0.0000), Var(v=-0.1130, grad=0.0000), Var(v=-0.1590, grad=0.0000), Var(v=0.0927, grad=0.0000), Var(v=0.2061, grad=0.0000), Var(v=-0.0039, grad=0.0000), Var(v=-0.0841, grad=0.0000), Var(v=-0.1065, grad=0.0000), Var(v=0.0643, grad=0.0000), Var(v=0.0509, grad=0.0000), Var(v=0.0932, grad=0.0000), Var(v=0.0245, grad=0.0000), Var(v=0.0874, grad=0.0000), Var(v=-0.0338, grad=0.0000), Var(v=-0.0372, grad=0.0000), Var(v=0.2355, grad=0.0000), Var(v=-0.1384, grad=0.0000), Var(v=0.0342, grad=0.0000), Var(v=-0.0895, grad=0.0000), Var(v=-0.0953, grad=0.0000), Var(v=0.0230, grad=0.0000), Var(v=-0.1190, grad=0.0000), Var(v=0.0720, grad=0.0000), Var(v=-0.0996, grad=0.0000), Var(v=0.0339, grad=0.0000), Var(v=0.0667, grad=0.0000), Var(v=-0.0580, grad=0.0000), Var(v=-0.0400, grad=0.0000), Var(v=0.0241, grad=0.0000), Var(v=0.0801, grad=0.0000), Var(v=0.0006, grad=0.0000), Var(v=0.0116, grad=0.0000), Var(v=0.1041, grad=0.0000), Var(v=0.0416, grad=0.0000), Var(v=-0.0596, grad=0.0000), Var(v=-0.1149, grad=0.0000), Var(v=-0.1181, grad=0.0000), Var(v=-0.1508, grad=0.0000), Var(v=-0.0050, grad=0.0000), Var(v=0.0886, grad=0.0000), Var(v=-0.0158, grad=0.0000), Var(v=0.0011, grad=0.0000), Var(v=0.0399, grad=0.0000)], [Var(v=0.0637, grad=0.0000), Var(v=0.0810, grad=0.0000), Var(v=0.0011, grad=0.0000), Var(v=-0.0412, grad=0.0000), Var(v=-0.1154, grad=0.0000), Var(v=-0.1263, grad=0.0000), Var(v=-0.1457, grad=0.0000), Var(v=0.1254, grad=0.0000), Var(v=0.0483, grad=0.0000), Var(v=-0.0158, grad=0.0000), Var(v=0.1347, grad=0.0000), Var(v=0.0203, grad=0.0000), Var(v=0.0123, grad=0.0000), Var(v=0.1515, grad=0.0000), Var(v=0.1884, grad=0.0000), Var(v=0.1141, grad=0.0000), Var(v=0.1574, grad=0.0000), Var(v=-0.0255, grad=0.0000), Var(v=0.0861, grad=0.0000), Var(v=-0.1426, grad=0.0000), Var(v=0.0741, grad=0.0000), Var(v=0.1794, grad=0.0000), Var(v=0.0317, grad=0.0000), Var(v=0.1230, grad=0.0000), Var(v=0.0575, grad=0.0000), Var(v=0.0242, grad=0.0000), Var(v=0.0778, grad=0.0000), Var(v=-0.0880, grad=0.0000), Var(v=-0.1114, grad=0.0000), Var(v=-0.0312, grad=0.0000), Var(v=0.0749, grad=0.0000), Var(v=0.1481, grad=0.0000), Var(v=0.0210, grad=0.0000), Var(v=0.1174, grad=0.0000), Var(v=-0.0288, grad=0.0000), Var(v=0.0561, grad=0.0000), Var(v=-0.0387, grad=0.0000), Var(v=-0.1057, grad=0.0000), Var(v=0.0391, grad=0.0000), Var(v=-0.0862, grad=0.0000), Var(v=-0.0835, grad=0.0000), Var(v=0.0993, grad=0.0000), Var(v=-0.0738, grad=0.0000), Var(v=0.0638, grad=0.0000), Var(v=0.0105, grad=0.0000), Var(v=0.0485, grad=0.0000), Var(v=0.0755, grad=0.0000), Var(v=-0.1195, grad=0.0000), Var(v=0.0063, grad=0.0000), Var(v=-0.0139, grad=0.0000)], [Var(v=0.0228, grad=0.0000), Var(v=0.1398, grad=0.0000), Var(v=-0.0840, grad=0.0000), Var(v=-0.0385, grad=0.0000), Var(v=-0.0100, grad=0.0000), Var(v=0.0083, grad=0.0000), Var(v=0.0876, grad=0.0000), Var(v=0.1588, grad=0.0000), Var(v=-0.0033, grad=0.0000), Var(v=0.0948, grad=0.0000), Var(v=0.0073, grad=0.0000), Var(v=0.1891, grad=0.0000), Var(v=0.1453, grad=0.0000), Var(v=-0.0745, grad=0.0000), Var(v=0.1408, grad=0.0000), Var(v=-0.0384, grad=0.0000), Var(v=-0.1176, grad=0.0000), Var(v=-0.2442, grad=0.0000), Var(v=0.0399, grad=0.0000), Var(v=-0.0787, grad=0.0000), Var(v=-0.2365, grad=0.0000), Var(v=-0.1551, grad=0.0000), Var(v=0.2624, grad=0.0000), Var(v=0.2442, grad=0.0000), Var(v=0.0562, grad=0.0000), Var(v=0.1508, grad=0.0000), Var(v=-0.0476, grad=0.0000), Var(v=-0.0282, grad=0.0000), Var(v=0.2039, grad=0.0000), Var(v=-0.0684, grad=0.0000), Var(v=-0.0371, grad=0.0000), Var(v=0.0192, grad=0.0000), Var(v=0.0482, grad=0.0000), Var(v=-0.0969, grad=0.0000), Var(v=-0.0449, grad=0.0000), Var(v=-0.0157, grad=0.0000), Var(v=-0.1353, grad=0.0000), Var(v=0.1339, grad=0.0000), Var(v=0.0113, grad=0.0000), Var(v=-0.0048, grad=0.0000), Var(v=0.2184, grad=0.0000), Var(v=-0.0490, grad=0.0000), Var(v=-0.0954, grad=0.0000), Var(v=0.0007, grad=0.0000), Var(v=-0.0833, grad=0.0000), Var(v=0.1271, grad=0.0000), Var(v=-0.0418, grad=0.0000), Var(v=-0.0392, grad=0.0000), Var(v=-0.0105, grad=0.0000), Var(v=-0.0678, grad=0.0000)], [Var(v=0.0071, grad=0.0000), Var(v=-0.2325, grad=0.0000), Var(v=0.2174, grad=0.0000), Var(v=0.0332, grad=0.0000), Var(v=0.0332, grad=0.0000), Var(v=-0.0084, grad=0.0000), Var(v=0.1258, grad=0.0000), Var(v=-0.0987, grad=0.0000), Var(v=0.0517, grad=0.0000), Var(v=-0.0857, grad=0.0000), Var(v=-0.0392, grad=0.0000), Var(v=0.2071, grad=0.0000), Var(v=-0.0083, grad=0.0000), Var(v=0.0767, grad=0.0000), Var(v=-0.0123, grad=0.0000), Var(v=-0.2281, grad=0.0000), Var(v=0.0341, grad=0.0000), Var(v=-0.2215, grad=0.0000), Var(v=0.0403, grad=0.0000), Var(v=-0.0462, grad=0.0000), Var(v=-0.0030, grad=0.0000), Var(v=-0.0012, grad=0.0000), Var(v=0.1914, grad=0.0000), Var(v=-0.0054, grad=0.0000), Var(v=-0.0490, grad=0.0000), Var(v=-0.0139, grad=0.0000), Var(v=0.0877, grad=0.0000), Var(v=0.0942, grad=0.0000), Var(v=-0.1227, grad=0.0000), Var(v=0.0390, grad=0.0000), Var(v=0.0398, grad=0.0000), Var(v=0.0260, grad=0.0000), Var(v=0.0235, grad=0.0000), Var(v=-0.1421, grad=0.0000), Var(v=0.0681, grad=0.0000), Var(v=0.1442, grad=0.0000), Var(v=0.2049, grad=0.0000), Var(v=0.0892, grad=0.0000), Var(v=0.0557, grad=0.0000), Var(v=0.1285, grad=0.0000), Var(v=0.0761, grad=0.0000), Var(v=-0.0608, grad=0.0000), Var(v=-0.0249, grad=0.0000), Var(v=-0.0942, grad=0.0000), Var(v=-0.1262, grad=0.0000), Var(v=0.0774, grad=0.0000), Var(v=-0.0705, grad=0.0000), Var(v=-0.1755, grad=0.0000), Var(v=-0.0983, grad=0.0000), Var(v=-0.0849, grad=0.0000)], [Var(v=-0.0139, grad=0.0000), Var(v=-0.0529, grad=0.0000), Var(v=-0.0861, grad=0.0000), Var(v=-0.1069, grad=0.0000), Var(v=0.0295, grad=0.0000), Var(v=0.0083, grad=0.0000), Var(v=-0.0024, grad=0.0000), Var(v=-0.0699, grad=0.0000), Var(v=0.0834, grad=0.0000), Var(v=0.1277, grad=0.0000), Var(v=-0.1133, grad=0.0000), Var(v=-0.3518, grad=0.0000), Var(v=0.0921, grad=0.0000), Var(v=-0.0204, grad=0.0000), Var(v=-0.0331, grad=0.0000), Var(v=0.0041, grad=0.0000), Var(v=-0.1546, grad=0.0000), Var(v=-0.0085, grad=0.0000), Var(v=0.0470, grad=0.0000), Var(v=-0.1254, grad=0.0000), Var(v=-0.0259, grad=0.0000), Var(v=0.1298, grad=0.0000), Var(v=0.1651, grad=0.0000), Var(v=-0.0016, grad=0.0000), Var(v=0.0470, grad=0.0000), Var(v=0.1217, grad=0.0000), Var(v=-0.0357, grad=0.0000), Var(v=-0.1711, grad=0.0000), Var(v=0.0729, grad=0.0000), Var(v=-0.0504, grad=0.0000), Var(v=0.1296, grad=0.0000), Var(v=0.0062, grad=0.0000), Var(v=-0.1698, grad=0.0000), Var(v=-0.1854, grad=0.0000), Var(v=0.1214, grad=0.0000), Var(v=0.0148, grad=0.0000), Var(v=0.1799, grad=0.0000), Var(v=-0.1048, grad=0.0000), Var(v=0.1071, grad=0.0000), Var(v=0.0170, grad=0.0000), Var(v=-0.0147, grad=0.0000), Var(v=0.0713, grad=0.0000), Var(v=-0.0949, grad=0.0000), Var(v=0.1340, grad=0.0000), Var(v=-0.0959, grad=0.0000), Var(v=-0.0832, grad=0.0000), Var(v=-0.0141, grad=0.0000), Var(v=0.0810, grad=0.0000), Var(v=-0.0362, grad=0.0000), Var(v=0.0880, grad=0.0000)], [Var(v=0.0018, grad=0.0000), Var(v=0.0439, grad=0.0000), Var(v=-0.0137, grad=0.0000), Var(v=-0.1374, grad=0.0000), Var(v=0.0788, grad=0.0000), Var(v=0.0371, grad=0.0000), Var(v=-0.0496, grad=0.0000), Var(v=-0.0135, grad=0.0000), Var(v=-0.0225, grad=0.0000), Var(v=0.0675, grad=0.0000), Var(v=0.2230, grad=0.0000), Var(v=0.0326, grad=0.0000), Var(v=-0.0045, grad=0.0000), Var(v=0.1043, grad=0.0000), Var(v=0.0174, grad=0.0000), Var(v=0.0410, grad=0.0000), Var(v=0.1278, grad=0.0000), Var(v=-0.0942, grad=0.0000), Var(v=0.0161, grad=0.0000), Var(v=-0.0318, grad=0.0000), Var(v=0.0328, grad=0.0000), Var(v=0.0911, grad=0.0000), Var(v=0.2334, grad=0.0000), Var(v=0.1644, grad=0.0000), Var(v=0.0300, grad=0.0000), Var(v=0.0907, grad=0.0000), Var(v=0.2736, grad=0.0000), Var(v=-0.0522, grad=0.0000), Var(v=0.0470, grad=0.0000), Var(v=0.0068, grad=0.0000), Var(v=-0.1424, grad=0.0000), Var(v=0.0398, grad=0.0000), Var(v=-0.0998, grad=0.0000), Var(v=0.0468, grad=0.0000), Var(v=0.1034, grad=0.0000), Var(v=-0.0453, grad=0.0000), Var(v=0.0179, grad=0.0000), Var(v=-0.0381, grad=0.0000), Var(v=0.1002, grad=0.0000), Var(v=0.0391, grad=0.0000), Var(v=-0.2194, grad=0.0000), Var(v=-0.0485, grad=0.0000), Var(v=0.0938, grad=0.0000), Var(v=-0.1105, grad=0.0000), Var(v=0.1130, grad=0.0000), Var(v=-0.0475, grad=0.0000), Var(v=0.0086, grad=0.0000), Var(v=0.0168, grad=0.0000), Var(v=-0.1400, grad=0.0000), Var(v=-0.1441, grad=0.0000)], [Var(v=-0.0867, grad=0.0000), Var(v=0.0013, grad=0.0000), Var(v=0.1765, grad=0.0000), Var(v=-0.0471, grad=0.0000), Var(v=-0.1437, grad=0.0000), Var(v=-0.1763, grad=0.0000), Var(v=0.2705, grad=0.0000), Var(v=-0.1419, grad=0.0000), Var(v=0.0541, grad=0.0000), Var(v=0.0606, grad=0.0000), Var(v=0.0582, grad=0.0000), Var(v=-0.0136, grad=0.0000), Var(v=0.0489, grad=0.0000), Var(v=0.0736, grad=0.0000), Var(v=0.0751, grad=0.0000), Var(v=0.0354, grad=0.0000), Var(v=0.1010, grad=0.0000), Var(v=0.0015, grad=0.0000), Var(v=0.1541, grad=0.0000), Var(v=-0.1009, grad=0.0000), Var(v=0.0951, grad=0.0000), Var(v=-0.0965, grad=0.0000), Var(v=0.0486, grad=0.0000), Var(v=0.0554, grad=0.0000), Var(v=-0.0181, grad=0.0000), Var(v=-0.1123, grad=0.0000), Var(v=0.0047, grad=0.0000), Var(v=0.0477, grad=0.0000), Var(v=0.0361, grad=0.0000), Var(v=0.1005, grad=0.0000), Var(v=0.0165, grad=0.0000), Var(v=0.0000, grad=0.0000), Var(v=-0.0960, grad=0.0000), Var(v=-0.0799, grad=0.0000), Var(v=-0.1101, grad=0.0000), Var(v=-0.1708, grad=0.0000), Var(v=0.0173, grad=0.0000), Var(v=0.0252, grad=0.0000), Var(v=0.0136, grad=0.0000), Var(v=-0.1067, grad=0.0000), Var(v=-0.1251, grad=0.0000), Var(v=0.1409, grad=0.0000), Var(v=-0.0489, grad=0.0000), Var(v=-0.0709, grad=0.0000), Var(v=0.0109, grad=0.0000), Var(v=0.1741, grad=0.0000), Var(v=-0.1228, grad=0.0000), Var(v=-0.0196, grad=0.0000), Var(v=0.0400, grad=0.0000), Var(v=0.0145, grad=0.0000)]] Biases: [Var(v=-0.0072, grad=0.0000), Var(v=-0.0061, grad=0.0000), Var(v=-0.0057, grad=0.0000), Var(v=-0.0470, grad=0.0000), Var(v=0.0039, grad=0.0000), Var(v=-0.0013, grad=0.0000), Var(v=0.0213, grad=0.0000), Var(v=-0.0000, grad=0.0000), Var(v=-0.0000, grad=0.0000), Var(v=0.0079, grad=0.0000), Var(v=0.0103, grad=0.0000), Var(v=0.0003, grad=0.0000), Var(v=-0.0088, grad=0.0000), Var(v=0.0274, grad=0.0000), Var(v=-0.0150, grad=0.0000), Var(v=0.0165, grad=0.0000), Var(v=0.0113, grad=0.0000), Var(v=0.0046, grad=0.0000), Var(v=-0.0211, grad=0.0000), Var(v=0.0045, grad=0.0000), Var(v=-0.0013, grad=0.0000), Var(v=-0.0150, grad=0.0000), Var(v=-0.0041, grad=0.0000), Var(v=-0.0388, grad=0.0000), Var(v=0.0089, grad=0.0000), Var(v=0.0004, grad=0.0000), Var(v=0.0362, grad=0.0000), Var(v=-0.0027, grad=0.0000), Var(v=0.0288, grad=0.0000), Var(v=-0.0011, grad=0.0000), Var(v=-0.0075, grad=0.0000), Var(v=0.0006, grad=0.0000), Var(v=0.0022, grad=0.0000), Var(v=-0.0146, grad=0.0000), Var(v=0.0218, grad=0.0000), Var(v=-0.0043, grad=0.0000), Var(v=0.0035, grad=0.0000), Var(v=-0.0245, grad=0.0000), Var(v=0.0033, grad=0.0000), Var(v=-0.0307, grad=0.0000), Var(v=0.0215, grad=0.0000), Var(v=-0.0156, grad=0.0000), Var(v=-0.0002, grad=0.0000), Var(v=-0.0001, grad=0.0000), Var(v=0.0435, grad=0.0000), Var(v=-0.0020, grad=0.0000), Var(v=0.0082, grad=0.0000), Var(v=0.0004, grad=0.0000), Var(v=-0.0004, grad=0.0000), Var(v=-0.0040, grad=0.0000)]\n",
            "Layer 2 \n",
            " Weights: [[Var(v=-0.1203, grad=0.0000)], [Var(v=0.0989, grad=0.0000)], [Var(v=-0.1411, grad=0.0000)], [Var(v=-0.2107, grad=0.0000)], [Var(v=-0.1144, grad=0.0000)], [Var(v=-0.0218, grad=0.0000)], [Var(v=-0.1545, grad=0.0000)], [Var(v=-0.0167, grad=0.0000)], [Var(v=-0.0003, grad=0.0000)], [Var(v=0.0210, grad=0.0000)], [Var(v=0.0905, grad=0.0000)], [Var(v=-0.0736, grad=0.0000)], [Var(v=-0.0696, grad=0.0000)], [Var(v=0.1130, grad=0.0000)], [Var(v=0.0676, grad=0.0000)], [Var(v=0.1284, grad=0.0000)], [Var(v=0.1473, grad=0.0000)], [Var(v=0.1139, grad=0.0000)], [Var(v=0.0456, grad=0.0000)], [Var(v=0.1519, grad=0.0000)], [Var(v=-0.0276, grad=0.0000)], [Var(v=-0.2127, grad=0.0000)], [Var(v=-0.0150, grad=0.0000)], [Var(v=-0.2261, grad=0.0000)], [Var(v=-0.1282, grad=0.0000)], [Var(v=-0.0165, grad=0.0000)], [Var(v=0.2455, grad=0.0000)], [Var(v=-0.1268, grad=0.0000)], [Var(v=0.1051, grad=0.0000)], [Var(v=-0.0307, grad=0.0000)], [Var(v=-0.0352, grad=0.0000)], [Var(v=0.0133, grad=0.0000)], [Var(v=-0.0451, grad=0.0000)], [Var(v=0.0882, grad=0.0000)], [Var(v=0.0859, grad=0.0000)], [Var(v=0.0838, grad=0.0000)], [Var(v=0.1677, grad=0.0000)], [Var(v=-0.0657, grad=0.0000)], [Var(v=-0.0918, grad=0.0000)], [Var(v=0.1975, grad=0.0000)], [Var(v=-0.0953, grad=0.0000)], [Var(v=-0.1333, grad=0.0000)], [Var(v=0.0028, grad=0.0000)], [Var(v=-0.0073, grad=0.0000)], [Var(v=0.1314, grad=0.0000)], [Var(v=0.0499, grad=0.0000)], [Var(v=-0.0508, grad=0.0000)], [Var(v=0.0038, grad=0.0000)], [Var(v=-0.0351, grad=0.0000)], [Var(v=0.0766, grad=0.0000)]] Biases: [Var(v=-0.0178, grad=0.0000)]\n"
          ]
        },
        {
          "output_type": "execute_result",
          "data": {
            "text/plain": [
              "[None, None, None]"
            ]
          },
          "metadata": {},
          "execution_count": 133
        }
      ],
      "source": [
        "print('Network before update:')\n",
        "[print('Layer', i, '\\n', NN[i]) for i in range(len(NN))] \n",
        "\n",
        "def parameters(network):\n",
        "  params = []\n",
        "  for layer in range(len(network)):\n",
        "    params += network[layer].parameters()\n",
        "  return params\n",
        "\n",
        "def update_parameters(params, learning_rate=0.01):\n",
        "  for p in params:\n",
        "    p.v -= learning_rate*p.grad\n",
        "\n",
        "def zero_gradients(params):\n",
        "  for p in params:\n",
        "    p.grad = 0.0\n",
        "\n",
        "update_parameters(parameters(NN))\n",
        "\n",
        "print('\\nNetwork after update:')\n",
        "[print('Layer', i, '\\n', NN[i]) for i in range(len(NN))] \n",
        "\n",
        "zero_gradients(parameters(NN))\n",
        "\n",
        "print('\\nNetwork after zeroing gradients:')\n",
        "[print('Layer', i, '\\n', NN[i]) for i in range(len(NN))] "
      ]
    },
    {
      "cell_type": "code",
      "execution_count": 134,
      "metadata": {
        "id": "woWYpdw6FtIO"
      },
      "outputs": [],
      "source": [
        "# Initialize an arbitrary neural network\n",
        "#NN = [\n",
        "#    DenseLayer(1, 8, lambda x: x.relu()),\n",
        "#    DenseLayer(8, 1, lambda x: x.identity())\n",
        "#]\n",
        "\n",
        "# Recommended hyper-parameters for 3-D: \n",
        "NN = [\n",
        "    DenseLayer(3, 16, lambda x: x.relu()),\n",
        "    DenseLayer(16, 1, lambda x: x.identity())\n",
        "]\n",
        "\n",
        "\n",
        "### Notice that, when we switch from tanh to relu activation, we decrease the learning rate. This is due the stability of the gradients \n",
        "## of the activation functions."
      ]
    },
    {
      "cell_type": "code",
      "execution_count": 135,
      "metadata": {
        "id": "mdqaqYBVFtIR"
      },
      "outputs": [],
      "source": [
        "# Initialize training hyperparameters\n",
        "EPOCHS = 200\n",
        "LEARN_R = 2e-3 "
      ]
    },
    {
      "cell_type": "code",
      "execution_count": 136,
      "metadata": {
        "id": "5kfg76GMFtIW",
        "scrolled": true,
        "outputId": "e0c09c3f-2a34-4452-82e7-58b7776094ba",
        "colab": {
          "base_uri": "https://localhost:8080/"
        }
      },
      "outputs": [
        {
          "output_type": "stream",
          "name": "stdout",
          "text": [
            "   0 ( 0.00%) Train loss: 105.276 \t Validation loss: 104.758\n",
            "  10 ( 5.00%) Train loss: 78.588 \t Validation loss: 87.811\n",
            "  20 (10.00%) Train loss: 33.546 \t Validation loss: 48.014\n",
            "  30 (15.00%) Train loss: 11.036 \t Validation loss: 19.687\n",
            "  40 (20.00%) Train loss: 7.527 \t Validation loss: 13.952\n",
            "  50 (25.00%) Train loss: 6.293 \t Validation loss: 11.588\n",
            "  60 (30.00%) Train loss: 5.336 \t Validation loss: 9.785\n",
            "  70 (35.00%) Train loss: 4.540 \t Validation loss: 8.343\n",
            "  80 (40.00%) Train loss: 3.849 \t Validation loss: 7.115\n",
            "  90 (45.00%) Train loss: 3.291 \t Validation loss: 6.082\n",
            " 100 (50.00%) Train loss: 2.882 \t Validation loss: 5.314\n",
            " 110 (55.00%) Train loss: 2.554 \t Validation loss: 4.670\n",
            " 120 (60.00%) Train loss: 2.309 \t Validation loss: 4.181\n",
            " 130 (65.00%) Train loss: 2.134 \t Validation loss: 3.786\n",
            " 140 (70.00%) Train loss: 1.990 \t Validation loss: 3.480\n",
            " 150 (75.00%) Train loss: 1.881 \t Validation loss: 3.252\n",
            " 160 (80.00%) Train loss: 1.800 \t Validation loss: 3.074\n",
            " 170 (85.00%) Train loss: 1.730 \t Validation loss: 2.928\n",
            " 180 (90.00%) Train loss: 1.664 \t Validation loss: 2.813\n",
            " 190 (95.00%) Train loss: 1.605 \t Validation loss: 2.708\n"
          ]
        }
      ],
      "source": [
        "train_loss = []\n",
        "val_loss = []\n",
        "\n",
        "for e in range(EPOCHS):\n",
        "     \n",
        "    # Forward pass and loss computation\n",
        "    Loss = squared_loss(y_train, forward(x_train, NN))\n",
        "\n",
        "    # Backward pass\n",
        "    Loss.backward()\n",
        "    \n",
        "    # gradient descent update\n",
        "    update_parameters(parameters(NN), LEARN_R)\n",
        "    zero_gradients(parameters(NN))\n",
        "    \n",
        "    # Training loss\n",
        "    train_loss.append(Loss.v)\n",
        "    \n",
        "    # Validation\n",
        "    Loss_validation = squared_loss(y_validation, forward(x_validation, NN))\n",
        "    val_loss.append(Loss_validation.v)\n",
        "    \n",
        "    if e%10==0:\n",
        "        print(\"{:4d}\".format(e),\n",
        "              \"({:5.2f}%)\".format(e/EPOCHS*100), \n",
        "              \"Train loss: {:4.3f} \\t Validation loss: {:4.3f}\".format(train_loss[-1], val_loss[-1]))\n",
        "        \n"
      ]
    },
    {
      "cell_type": "code",
      "execution_count": 137,
      "metadata": {
        "id": "VetyRWFwFtIY",
        "outputId": "e58c1b1d-a265-47ca-a249-6bd9d9bd081f",
        "colab": {
          "base_uri": "https://localhost:8080/",
          "height": 265
        }
      },
      "outputs": [
        {
          "output_type": "display_data",
          "data": {
            "text/plain": [
              "<Figure size 432x288 with 1 Axes>"
            ],
            "image/png": "[encoded data removed]"
          },
          "metadata": {
            "needs_background": "light"
          }
        }
      ],
      "source": [
        "plt.plot(range(len(train_loss)), train_loss);\n",
        "plt.plot(range(len(val_loss)), val_loss);"
      ]
    },
    {
      "cell_type": "markdown",
      "metadata": {
        "id": "8OgmIrM9FtIb"
      },
      "source": [
        "# Testing\n",
        "\n",
        "We have kept the calculation of the test error separate in order to emphasize that you should not use the test set in optimization."
      ]
    },
    {
      "cell_type": "code",
      "execution_count": 138,
      "metadata": {
        "id": "HmNi7S-vFtIc"
      },
      "outputs": [],
      "source": [
        "output_test = forward(x_test, NN)"
      ]
    },
    {
      "cell_type": "code",
      "execution_count": 139,
      "metadata": {
        "id": "7mmJOTSEFtIf",
        "outputId": "84f5da62-9985-4881-cebb-a3be6f12fda2",
        "colab": {
          "base_uri": "https://localhost:8080/",
          "height": 316
        }
      },
      "outputs": [
        {
          "output_type": "stream",
          "name": "stdout",
          "text": [
            "Test loss:  1.689\n"
          ]
        },
        {
          "output_type": "display_data",
          "data": {
            "text/plain": [
              "<Figure size 432x288 with 1 Axes>"
            ],
            "image/png": "[encoded data removed]"
          },
          "metadata": {
            "needs_background": "light"
          }
        }
      ],
      "source": [
        "y_test_np = Var_to_nparray(y_test)\n",
        "plt.scatter(y_test_np, Var_to_nparray(output_test));\n",
        "plt.plot([np.min(y_test_np), np.max(y_test_np)], [np.min(y_test_np), np.max(y_test_np)], color='k');\n",
        "plt.xlabel(\"y\");\n",
        "plt.ylabel(\"$\\hat{y}$\");\n",
        "plt.title(\"Model prediction vs real in the test set, the close to the line the better\")\n",
        "plt.grid(True);\n",
        "plt.axis('equal');\n",
        "plt.tight_layout();\n",
        "\n",
        "Loss_test = squared_loss(y_test, forward(x_test, NN))\n",
        "\n",
        "print(\"Test loss:  {:4.3f}\".format(Loss_test.v))"
      ]
    },
    {
      "cell_type": "code",
      "execution_count": 141,
      "metadata": {
        "id": "ODi0WlmQFtIh",
        "outputId": "4d508e99-6501-48f3-ad4d-542e822e671d",
        "colab": {
          "base_uri": "https://localhost:8080/",
          "height": 279
        }
      },
      "outputs": [
        {
          "output_type": "display_data",
          "data": {
            "text/plain": [
              "<Figure size 432x288 with 1 Axes>"
            ],
            "image/png": "[encoded data removed]"
          },
          "metadata": {
            "needs_background": "light"
          }
        }
      ],
      "source": [
        "x_test_np = Var_to_nparray(x_test)\n",
        "x_train_np = Var_to_nparray(x_train)\n",
        "y_train_np = Var_to_nparray(y_train)\n",
        "if D1:\n",
        "    plt.scatter(x_train_np, y_train_np, label=\"train data\");\n",
        "    plt.scatter(x_test_np, Var_to_nparray(output_test), label=\"test prediction\");\n",
        "    plt.scatter(x_test_np, y_test_np, label=\"test data\");\n",
        "    plt.legend();\n",
        "    plt.xlabel(\"x\");\n",
        "    plt.ylabel(\"y\");\n",
        "else:\n",
        "    plt.scatter(x_train_np[:,1], y_train_np, label=\"train data\");\n",
        "    plt.scatter(x_test_np[:,1], Var_to_nparray(output_test), label=\"test data prediction\");\n",
        "    plt.scatter(x_test_np[:,1], y_test_np, label=\"test data\");\n",
        "    plt.legend();\n",
        "    plt.xlabel(\"x\");\n",
        "    plt.ylabel(\"y\");"
      ]
    },
    {
      "cell_type": "markdown",
      "metadata": {
        "id": "zTBAmjsAFtIk"
      },
      "source": [
        "## Exercise k) Show overfitting, underfitting and just right fitting\n",
        "\n",
        "Vary the architecture and other things to show clear signs of overfitting (=training loss significantly lower than test loss) and underfitting (=not fitting enoung to training data so that test performance is also hurt).\n",
        "\n",
        "See also if you can get a good compromise which leads to a low validation loss. \n",
        "\n",
        "For this problem do you see any big difference between validation and test loss? The answer here will probably be no. Discuss cases where it is important to keep the two separate.\n",
        "\n",
        "For this simple problem, we do not notice any major difference between the validation and test loss.\n",
        "\n",
        "The test set must exclusively be used to test the model at the end of the experiments. The validation set could thus be used to get some results on data which has not been shown during the training phase and to choose the values for the hyperparameters. In fact, if we were to choose the values using the test set, the results would be biased and it could no longer serve as a proper evaluation of the model.\n"
      ]
    },
    {
      "cell_type": "code",
      "execution_count": 142,
      "metadata": {
        "id": "tQZCn2dxFtIl",
        "outputId": "10bc9729-3013-4431-cf9d-d5ef968db3df",
        "colab": {
          "base_uri": "https://localhost:8080/",
          "height": 281
        }
      },
      "outputs": [
        {
          "output_type": "display_data",
          "data": {
            "text/plain": [
              "<Figure size 432x288 with 1 Axes>"
            ],
            "image/png": "[encoded data removed]"
          },
          "metadata": {
            "needs_background": "light"
          }
        }
      ],
      "source": [
        "EPOCHS = 200\n",
        "LEARN_R = 2e-3 \n",
        "\n",
        "NN = [\n",
        "    DenseLayer(3, 16, lambda x: x.relu()),\n",
        "    DenseLayer(16, 1, lambda x: x.identity())\n",
        "]\n",
        "\n",
        "train_loss = []\n",
        "test_loss = []\n",
        "\n",
        "for e in range(EPOCHS):\n",
        "    Loss = squared_loss(y_train, forward(x_train, NN))\n",
        "    Loss.backward()\n",
        "    update_parameters(parameters(NN), LEARN_R)\n",
        "    zero_gradients(parameters(NN))\n",
        "    train_loss.append(Loss.v)\n",
        "    Loss_test = squared_loss(y_test, forward(x_test, NN))\n",
        "    test_loss.append(Loss_test.v)\n",
        "\n",
        "plt.plot(range(len(train_loss)), train_loss, label=\"train\");\n",
        "plt.plot(range(len(test_loss)), test_loss, label=\"test\");\n",
        "plt.title(\"Just right fiting\")\n",
        "plt.legend()\n",
        "plt.show()"
      ]
    },
    {
      "cell_type": "code",
      "source": [
        "EPOCHS = 200\n",
        "LEARN_R = 2e-3 \n",
        "\n",
        "NN = [\n",
        "    DenseLayer(3, 1, lambda x: x.relu()),\n",
        "]\n",
        "\n",
        "train_loss = []\n",
        "test_loss = []\n",
        "\n",
        "for e in range(EPOCHS):\n",
        "    Loss = squared_loss(y_train, forward(x_train, NN))\n",
        "    Loss.backward()\n",
        "    update_parameters(parameters(NN), LEARN_R)\n",
        "    zero_gradients(parameters(NN))\n",
        "    train_loss.append(Loss.v)\n",
        "    Loss_test = squared_loss(y_test, forward(x_test, NN))\n",
        "    test_loss.append(Loss_test.v)\n",
        "\n",
        "plt.plot(range(len(train_loss)), train_loss, label=\"train\");\n",
        "plt.plot(range(len(test_loss)), test_loss, label=\"test\");\n",
        "plt.title(\"Underfiting\")\n",
        "plt.legend()\n",
        "plt.show()"
      ],
      "metadata": {
        "id": "YrUMvHL2YndZ",
        "outputId": "f516b830-5881-470b-ffe9-89103104b68c",
        "colab": {
          "base_uri": "https://localhost:8080/",
          "height": 281
        }
      },
      "execution_count": 143,
      "outputs": [
        {
          "output_type": "display_data",
          "data": {
            "text/plain": [
              "<Figure size 432x288 with 1 Axes>"
            ],
            "image/png": "[encoded data removed]"
          },
          "metadata": {
            "needs_background": "light"
          }
        }
      ]
    },
    {
      "cell_type": "markdown",
      "source": [
        "The previous datasets were too similar to obtain a choice of parameters resulting in overfiting, we thus modify the data to obtain a more complex task where simply learning the training set would result in poor generalization."
      ],
      "metadata": {
        "id": "Zh9KDs9PtfY8"
      }
    },
    {
      "cell_type": "code",
      "source": [
        "D1 = False\n",
        "x_train, y_train,  x_validation, y_validation, x_test, y_test = data_generator(noise=100, D1=D1)\n",
        "\n",
        "x_train = nparray_to_Var(x_train)\n",
        "y_train = nparray_to_Var(y_train)\n",
        "x_validation = nparray_to_Var(x_validation)\n",
        "y_validation = nparray_to_Var(y_validation)\n",
        "x_test = nparray_to_Var(x_test)\n",
        "y_test = nparray_to_Var(y_test)\n",
        "\n",
        "EPOCHS = 100\n",
        "LEARN_R = 2e-3 \n",
        "\n",
        "NN = [\n",
        "    DenseLayer(3, 32, lambda x: x.relu()),\n",
        "    DenseLayer(32, 1, lambda x: x.identity())\n",
        "]\n",
        "\n",
        "train_loss = []\n",
        "test_loss = []\n",
        "\n",
        "for e in range(EPOCHS):\n",
        "    Loss = squared_loss(y_train, forward(x_train, NN))\n",
        "    Loss.backward()\n",
        "    update_parameters(parameters(NN), LEARN_R)\n",
        "    zero_gradients(parameters(NN))\n",
        "    train_loss.append(Loss.v)\n",
        "    Loss_test = squared_loss(y_test, forward(x_test, NN))\n",
        "    test_loss.append(Loss_test.v)\n",
        "        \n",
        "\n",
        "plt.plot(range(len(train_loss)), train_loss, label=\"train\");\n",
        "plt.plot(range(len(test_loss)), test_loss, label=\"test\");\n",
        "plt.title(\"Overfiting\")\n",
        "plt.legend()\n",
        "plt.show()"
      ],
      "metadata": {
        "id": "BnEQjndRY3FQ",
        "outputId": "493e1604-b215-4784-fd8a-bed1e1190159",
        "colab": {
          "base_uri": "https://localhost:8080/",
          "height": 281
        }
      },
      "execution_count": 149,
      "outputs": [
        {
          "output_type": "display_data",
          "data": {
            "text/plain": [
              "<Figure size 432x288 with 1 Axes>"
            ],
            "image/png": "[encoded data removed]"
          },
          "metadata": {
            "needs_background": "light"
          }
        }
      ]
    },
    {
      "cell_type": "markdown",
      "metadata": {
        "id": "fYPZP-eTFtIo"
      },
      "source": [
        "# Next steps - classification\n",
        "\n",
        "It is straight forward to extend what we have done to classification. \n",
        "\n",
        "For numerical stability it is better to make softmax and cross-entropy as one function so we write the cross entropy loss as a function of the logits we talked about last week. \n",
        "\n",
        "Next week we will see how to perform classification in PyTorch."
      ]
    },
    {
      "cell_type": "markdown",
      "metadata": {
        "id": "qsVPul3QFtIo"
      },
      "source": [
        "## Exercise l) optional - Implement backpropagation for classification\n",
        "\n",
        "Should be possible with very few lines of code. :-)"
      ]
    },
    {
      "cell_type": "code",
      "execution_count": 84,
      "metadata": {
        "id": "oC8QrI2tFtIp"
      },
      "outputs": [],
      "source": [
        "# Just add code."
      ]
    },
    {
      "cell_type": "markdown",
      "metadata": {
        "id": "APqhJv3tta1O"
      },
      "source": [
        "## Exercise m) optional - Introduce a NeuralNetwork class\n",
        "\n",
        "The functions we applied on the neural network (parameters, update_parameters and zero_gradients) can more naturally be included as methods in a NeuralNetwork class. Make such a class and modify the code to use it. "
      ]
    },
    {
      "cell_type": "code",
      "execution_count": 85,
      "metadata": {
        "id": "Dqfnor1ouMLq"
      },
      "outputs": [],
      "source": [
        "# just add some code"
      ]
    }
  ],
  "metadata": {
    "anaconda-cloud": {},
    "colab": {
      "collapsed_sections": [
        "U4057_ljNvWB",
        "p_8n_SKnIW2F",
        "oLrGJytZFtGm",
        "jpIZPBpNI0pO",
        "_79HOAXrFtHK",
        "mqeyab9qFtGs",
        "-XyXBD37FtHk",
        "SrwSJ2UWFtHu",
        "zTBAmjsAFtIk",
        "qsVPul3QFtIo",
        "APqhJv3tta1O"
      ],
      "name": "2.1-EXE-FNN-AutoDif-Nanograd.ipynb",
      "provenance": []
    },
    "kernelspec": {
      "display_name": "Python 3 (ipykernel)",
      "language": "python",
      "name": "python3"
    },
    "language_info": {
      "codemirror_mode": {
        "name": "ipython",
        "version": 3
      },
      "file_extension": ".py",
      "mimetype": "text/x-python",
      "name": "python",
      "nbconvert_exporter": "python",
      "pygments_lexer": "ipython3",
      "version": "3.8.12"
    }
  },
  "nbformat": 4,
  "nbformat_minor": 0
}
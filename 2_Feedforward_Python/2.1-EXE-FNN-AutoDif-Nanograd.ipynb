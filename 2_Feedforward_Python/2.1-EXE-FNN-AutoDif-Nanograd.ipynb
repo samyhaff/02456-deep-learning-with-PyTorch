{
  "cells": [
    {
      "cell_type": "markdown",
      "metadata": {
        "id": "HAva8TnYFtFu"
      },
      "source": [
        "# Contents and why we need this lab\n",
        "\n",
        "This lab is about implementing neural networks yourself before we start using other frameworks which hide some of the computation from you. It builds on the first lab where you derived the equations for neural network forward and backward propagation and gradient descent parameter updates. \n",
        "\n",
        "All the frameworks for deep learning you will meet from now on uses automatic differentiation (autodiff) so you don't have to code the backward step yourself. In this version of this lab you will develop your own autodif implementation. We also have a [version](https://github.com/DeepLearningDTU/02456-deep-learning-with-PyTorch/blob/master/2_Feedforward_NumPy/2.1-FNN-NumPy.ipynb) of this lab where you have to code the backward pass explicitly in Numpy."
      ]
    },
    {
      "cell_type": "markdown",
      "metadata": {
        "id": "sCa7HzwpFtFy"
      },
      "source": [
        "# External sources of information\n",
        "\n",
        "1. Jupyter notebook. You can find more information about Jupyter notebooks [here](https://jupyter.org/). It will come as part of the [Anaconda](https://www.anaconda.com/) Python installation. \n",
        "2. [NumPy](https://numpy.org/). Part of Anaconda distribution. If you already know how to program most things about Python and NumPy can be found through Google search.\n",
        "3. [Nanograd](https://github.com/rasmusbergpalm/nanograd) is a minimalistic version of autodiff developed by Rasmus Berg Palm that we use for our framework.\n"
      ]
    },
    {
      "cell_type": "markdown",
      "metadata": {
        "id": "1SjiIp-TFtF0"
      },
      "source": [
        "# This notebook will follow the next steps:\n",
        "\n",
        "1. Nanograd automatic differentiation framework\n",
        "2. Finite difference method\n",
        "3. Data generation\n",
        "4. Defining and initializing the network\n",
        "5. Forward pass\n",
        "6. Training loop \n",
        "7. Testing your model\n",
        "8. Further extensions"
      ]
    },
    {
      "cell_type": "markdown",
      "metadata": {
        "id": "OyXeAA-HuT7s"
      },
      "source": [
        "# Nanograd automatic differention framework"
      ]
    },
    {
      "cell_type": "markdown",
      "metadata": {
        "id": "k6UWKCLKubgA"
      },
      "source": [
        "The [Nanograd](https://github.com/rasmusbergpalm/nanograd) framework defines a class Var which both holds a value and gradient value that we can use to store the intermediate values when we apply the chain rule of differentiation."
      ]
    },
    {
      "cell_type": "code",
      "execution_count": 1,
      "metadata": {
        "id": "Jd4CoEBNzNWS"
      },
      "outputs": [],
      "source": [
        "# Copy and pasted from https://github.com/rasmusbergpalm/nanograd/blob/main/nanograd.py\n",
        "\n",
        "from math import exp, log\n",
        "\n",
        "class Var:\n",
        "    \"\"\"\n",
        "    A variable which holds a float and enables gradient computations.\n",
        "    \"\"\"\n",
        "\n",
        "    def __init__(self, val: float, grad_fn=lambda: []):\n",
        "        assert type(val) == float\n",
        "        self.v = val\n",
        "        self.grad_fn = grad_fn\n",
        "        self.grad = 0.0\n",
        "\n",
        "    def backprop(self, bp):\n",
        "        self.grad += bp\n",
        "        for input, grad in self.grad_fn():\n",
        "            input.backprop(grad * bp)\n",
        "\n",
        "    def backward(self):\n",
        "        self.backprop(1.0)\n",
        "\n",
        "    def __add__(self: 'Var', other: 'Var') -> 'Var':\n",
        "        return Var(self.v + other.v, lambda: [(self, 1.0), (other, 1.0)])\n",
        "\n",
        "    def __mul__(self: 'Var', other: 'Var') -> 'Var':\n",
        "        return Var(self.v * other.v, lambda: [(self, other.v), (other, self.v)])\n",
        "\n",
        "    def __pow__(self, power):\n",
        "        assert type(power) in {float, int}, \"power must be float or int\"\n",
        "        return Var(self.v ** power, lambda: [(self, power * self.v ** (power - 1))])\n",
        "\n",
        "    def __neg__(self: 'Var') -> 'Var':\n",
        "        return Var(-1.0) * self\n",
        "\n",
        "    def __sub__(self: 'Var', other: 'Var') -> 'Var':\n",
        "        return self + (-other)\n",
        "\n",
        "    def __truediv__(self: 'Var', other: 'Var') -> 'Var':\n",
        "        return self * other ** -1\n",
        "\n",
        "    def __repr__(self):\n",
        "        return \"Var(v=%.4f, grad=%.4f)\" % (self.v, self.grad)\n",
        "\n",
        "    def relu(self):\n",
        "        return Var(self.v if self.v > 0.0 else 0.0, lambda: [(self, 1.0 if self.v > 0.0 else 0.0)])\n",
        "\n",
        "    def identity(self):\n",
        "        return Var(self.v, lambda: [(self, 1.0)])\n",
        "\n",
        "    # def sigmoid(self):\n",
        "    #     return Var(1 / (1 + exp(-self.v)), lambda: [(self, exp(-x) / (1 + exp(-x))**2 )])\n",
        "\n",
        "    # def tanh(self):\n",
        "    #     return Var((exp(self.v) - exp(-self.v)) / (exp(self.v) + exp(-self.v)), [(self, 4 / (exp(self.v) + exp(-self.v))**2)])\n",
        "\n",
        "    def exp(self):\n",
        "        return Var(exp(self.v), lambda: [(self, exp(self.v))])\n",
        "\n",
        "    def log(self):\n",
        "        return Var(log(self.v), lambda: [(self, self.v ** -1)])\n",
        "\n",
        "    def sigmoid(self):\n",
        "        return (Var(1.0) + (-self).exp()) ** -1\n",
        "\n",
        "    def tanh(self):\n",
        "        return (self.exp() - (-self).exp()) / (self.exp() + (-self).exp())"
      ]
    },
    {
      "cell_type": "markdown",
      "metadata": {
        "id": "yDX67D6jzcte"
      },
      "source": [
        "A few examples illustrate how we can use this:"
      ]
    },
    {
      "cell_type": "code",
      "execution_count": 2,
      "metadata": {
        "colab": {
          "base_uri": "https://localhost:8080/"
        },
        "id": "xk6PeLc3zwPT",
        "outputId": "aff5e237-c155-4aae-e065-aa0faca58c90"
      },
      "outputs": [
        {
          "output_type": "stream",
          "name": "stdout",
          "text": [
            "Var(v=3.0000, grad=5.0000)\n",
            "Var(v=5.0000, grad=3.0000)\n",
            "Var(v=15.0000, grad=1.0000)\n"
          ]
        }
      ],
      "source": [
        "a = Var(3.0)\n",
        "b = Var(5.0)\n",
        "f = a * b\n",
        "\n",
        "f.backward()\n",
        "\n",
        "for v in [a, b, f]:\n",
        "    print(v)"
      ]
    },
    {
      "cell_type": "code",
      "execution_count": 3,
      "metadata": {
        "colab": {
          "base_uri": "https://localhost:8080/"
        },
        "id": "JmKhYgsY0g_o",
        "outputId": "daceaf0d-fb68-4f2c-f175-49945f01be3e"
      },
      "outputs": [
        {
          "output_type": "stream",
          "name": "stdout",
          "text": [
            "Var(v=3.0000, grad=14.0000)\n",
            "Var(v=5.0000, grad=3.0000)\n",
            "Var(v=15.0000, grad=1.0000)\n",
            "Var(v=9.0000, grad=3.0000)\n",
            "Var(v=27.0000, grad=1.0000)\n",
            "Var(v=42.0000, grad=1.0000)\n"
          ]
        }
      ],
      "source": [
        "a = Var(3.0)\n",
        "b = Var(5.0)\n",
        "c = a * b\n",
        "d = Var(9.0)\n",
        "e = a * d\n",
        "f = c + e\n",
        "\n",
        "f.backward()\n",
        "\n",
        "for v in [a, b, c, d, e, f]:\n",
        "    print(v)"
      ]
    },
    {
      "cell_type": "markdown",
      "metadata": {
        "id": "Fe3B6uEH140p"
      },
      "source": [
        "## Exercise a) What is being calculated?\n",
        "\n",
        "Explain briefly the output of the code? What is the expression we differentiate and with respect to what variables?"
      ]
    },
    {
      "cell_type": "markdown",
      "source": [
        "## Solution\n",
        "\n",
        "The code above differenciates the expression `f` with respect to the variables used in the expression: (`a, b` for the first cell and  `a, b, c, d, e, f` for the second). For example the second to last output line from the second cell comes from $ \\frac{\\partial f}{\\partial e} = \\frac{\\partial (c + e)}{\\partial e} = 1$."
      ],
      "metadata": {
        "id": "Jf3S5deaX5v2"
      }
    },
    {
      "cell_type": "markdown",
      "metadata": {
        "id": "q8_Q0t2I3Ruj"
      },
      "source": [
        "## Exercise b) How does the backward function work?\n",
        "\n",
        "You need to understand how the backward function calculates the gradients. We can use the two examples above to help with that.\n",
        "\n",
        "Go through the following four steps and answer the questions on the way:\n",
        "\n",
        "1. We represent the two expressions as graphs as shown below. Fill in the missing expressions for the different derivatives.\n",
        "\n",
        "2. In the remainder consider the first expression. Make a schematic of the data structure which is generated when we define the expression for f. \n",
        "\n",
        "3. Then execute the backward function by hand to convince yourself that it indeed calculates the gradients with respect to the variables. \n",
        "\n",
        "4. Write down the sequence of calls to backprop."
      ]
    },
    {
      "cell_type": "code",
      "execution_count": 4,
      "metadata": {
        "id": "idGr71jYXl26"
      },
      "outputs": [],
      "source": [
        "# import logging\n",
        "import graphviz\n",
        "\n",
        "#logging.basicConfig(format='[%(levelname)s@%(name)s] %(message)s', level=logging.DEBUG)\n",
        "\n",
        "#graphviz.__version__, graphviz.version()"
      ]
    },
    {
      "cell_type": "code",
      "execution_count": 5,
      "metadata": {
        "colab": {
          "base_uri": "https://localhost:8080/",
          "height": 151
        },
        "id": "KPe30Q2QXzeG",
        "outputId": "b0455a3f-fd65-4092-8333-ebaea0e174c6"
      },
      "outputs": [
        {
          "output_type": "execute_result",
          "data": {
            "text/plain": [
              "<graphviz.dot.Digraph at 0x7ff42a27ae10>"
            ],
            "image/svg+xml": "<?xml version=\"1.0\" encoding=\"UTF-8\" standalone=\"no\"?>\n<!DOCTYPE svg PUBLIC \"-//W3C//DTD SVG 1.1//EN\"\n \"http://www.w3.org/Graphics/SVG/1.1/DTD/svg11.dtd\">\n<!-- Generated by graphviz version 2.40.1 (20161225.0304)\n -->\n<!-- Title: first expression Pages: 1 -->\n<svg width=\"162pt\" height=\"98pt\"\n viewBox=\"0.00 0.00 162.00 98.00\" xmlns=\"http://www.w3.org/2000/svg\" xmlns:xlink=\"http://www.w3.org/1999/xlink\">\n<g id=\"graph0\" class=\"graph\" transform=\"scale(1 1) rotate(0) translate(4 94)\">\n<title>first expression</title>\n<polygon fill=\"#ffffff\" stroke=\"transparent\" points=\"-4,4 -4,-94 158,-94 158,4 -4,4\"/>\n<!-- a -->\n<g id=\"node1\" class=\"node\">\n<title>a</title>\n<ellipse fill=\"none\" stroke=\"#000000\" cx=\"18\" cy=\"-72\" rx=\"18\" ry=\"18\"/>\n<text text-anchor=\"middle\" x=\"18\" y=\"-68.3\" font-family=\"Times,serif\" font-size=\"14.00\" fill=\"#000000\">a</text>\n</g>\n<!-- f -->\n<g id=\"node2\" class=\"node\">\n<title>f</title>\n<ellipse fill=\"none\" stroke=\"#000000\" cx=\"136\" cy=\"-45\" rx=\"18\" ry=\"18\"/>\n<text text-anchor=\"middle\" x=\"136\" y=\"-41.3\" font-family=\"Times,serif\" font-size=\"14.00\" fill=\"#000000\">f</text>\n</g>\n<!-- a&#45;&gt;f -->\n<g id=\"edge1\" class=\"edge\">\n<title>a&#45;&gt;f</title>\n<path fill=\"none\" stroke=\"#000000\" d=\"M35.6658,-67.9578C54.8698,-63.5637 85.8151,-56.483 108.2661,-51.3459\"/>\n<polygon fill=\"#000000\" stroke=\"#000000\" points=\"109.2461,-54.7122 118.2134,-49.0698 107.6847,-47.8885 109.2461,-54.7122\"/>\n<text text-anchor=\"middle\" x=\"77\" y=\"-66.8\" font-family=\"Times,serif\" font-size=\"14.00\" fill=\"#000000\">df/da=b</text>\n</g>\n<!-- b -->\n<g id=\"node3\" class=\"node\">\n<title>b</title>\n<ellipse fill=\"none\" stroke=\"#000000\" cx=\"18\" cy=\"-18\" rx=\"18\" ry=\"18\"/>\n<text text-anchor=\"middle\" x=\"18\" y=\"-14.3\" font-family=\"Times,serif\" font-size=\"14.00\" fill=\"#000000\">b</text>\n</g>\n<!-- b&#45;&gt;f -->\n<g id=\"edge2\" class=\"edge\">\n<title>b&#45;&gt;f</title>\n<path fill=\"none\" stroke=\"#000000\" d=\"M36.0339,-20.9637C52.7278,-23.8381 78.1872,-28.555 100,-34 103.0098,-34.7513 106.1413,-35.6022 109.2457,-36.4899\"/>\n<polygon fill=\"#000000\" stroke=\"#000000\" points=\"108.3051,-39.8618 118.8887,-39.3744 110.3112,-33.1554 108.3051,-39.8618\"/>\n<text text-anchor=\"middle\" x=\"77\" y=\"-37.8\" font-family=\"Times,serif\" font-size=\"14.00\" fill=\"#000000\">df/db=a</text>\n</g>\n</g>\n</svg>\n"
          },
          "metadata": {},
          "execution_count": 5
        }
      ],
      "source": [
        "e1 = graphviz.Digraph('first expression', filename='fsm.gv')\n",
        "\n",
        "e1.attr(rankdir='LR', size='8,5')\n",
        "\n",
        "e1.attr('node', shape='circle')\n",
        "e1.edge('a', 'f', label='df/da=b')\n",
        "e1.edge('b', 'f', label='df/db=a')\n",
        "\n",
        "e1"
      ]
    },
    {
      "cell_type": "code",
      "execution_count": 6,
      "metadata": {
        "colab": {
          "base_uri": "https://localhost:8080/",
          "height": 231
        },
        "id": "0nittR-mZFeX",
        "outputId": "443af90f-1466-48b1-fb94-718e2c7b33c9"
      },
      "outputs": [
        {
          "output_type": "execute_result",
          "data": {
            "text/plain": [
              "<graphviz.dot.Digraph at 0x7ff42a23cb90>"
            ],
            "image/svg+xml": "<?xml version=\"1.0\" encoding=\"UTF-8\" standalone=\"no\"?>\n<!DOCTYPE svg PUBLIC \"-//W3C//DTD SVG 1.1//EN\"\n \"http://www.w3.org/Graphics/SVG/1.1/DTD/svg11.dtd\">\n<!-- Generated by graphviz version 2.40.1 (20161225.0304)\n -->\n<!-- Title: second expression Pages: 1 -->\n<svg width=\"281pt\" height=\"158pt\"\n viewBox=\"0.00 0.00 281.00 158.00\" xmlns=\"http://www.w3.org/2000/svg\" xmlns:xlink=\"http://www.w3.org/1999/xlink\">\n<g id=\"graph0\" class=\"graph\" transform=\"scale(1 1) rotate(0) translate(4 154)\">\n<title>second expression</title>\n<polygon fill=\"#ffffff\" stroke=\"transparent\" points=\"-4,4 -4,-154 277,-154 277,4 -4,4\"/>\n<!-- a -->\n<g id=\"node1\" class=\"node\">\n<title>a</title>\n<ellipse fill=\"none\" stroke=\"#000000\" cx=\"18\" cy=\"-75\" rx=\"18\" ry=\"18\"/>\n<text text-anchor=\"middle\" x=\"18\" y=\"-71.3\" font-family=\"Times,serif\" font-size=\"14.00\" fill=\"#000000\">a</text>\n</g>\n<!-- c -->\n<g id=\"node2\" class=\"node\">\n<title>c</title>\n<ellipse fill=\"none\" stroke=\"#000000\" cx=\"137\" cy=\"-102\" rx=\"18\" ry=\"18\"/>\n<text text-anchor=\"middle\" x=\"137\" y=\"-98.3\" font-family=\"Times,serif\" font-size=\"14.00\" fill=\"#000000\">c</text>\n</g>\n<!-- a&#45;&gt;c -->\n<g id=\"edge1\" class=\"edge\">\n<title>a&#45;&gt;c</title>\n<path fill=\"none\" stroke=\"#000000\" d=\"M35.5589,-78.9839C55.0696,-83.4108 86.8223,-90.6151 109.6075,-95.7849\"/>\n<polygon fill=\"#000000\" stroke=\"#000000\" points=\"108.8425,-99.2002 119.3691,-97.9997 110.3914,-92.3737 108.8425,-99.2002\"/>\n<text text-anchor=\"middle\" x=\"77.5\" y=\"-96.8\" font-family=\"Times,serif\" font-size=\"14.00\" fill=\"#000000\">dc/da=b</text>\n</g>\n<!-- e -->\n<g id=\"node4\" class=\"node\">\n<title>e</title>\n<ellipse fill=\"none\" stroke=\"#000000\" cx=\"137\" cy=\"-48\" rx=\"18\" ry=\"18\"/>\n<text text-anchor=\"middle\" x=\"137\" y=\"-44.3\" font-family=\"Times,serif\" font-size=\"14.00\" fill=\"#000000\">e</text>\n</g>\n<!-- a&#45;&gt;e -->\n<g id=\"edge3\" class=\"edge\">\n<title>a&#45;&gt;e</title>\n<path fill=\"none\" stroke=\"#000000\" d=\"M35.1093,-69.3663C41.0519,-67.518 47.7844,-65.5441 54,-64 72.2255,-59.4724 92.9698,-55.4733 109.1606,-52.6056\"/>\n<polygon fill=\"#000000\" stroke=\"#000000\" points=\"109.8139,-56.0446 119.0705,-50.8903 108.62,-49.1472 109.8139,-56.0446\"/>\n<text text-anchor=\"middle\" x=\"77.5\" y=\"-67.8\" font-family=\"Times,serif\" font-size=\"14.00\" fill=\"#000000\">de/da=d</text>\n</g>\n<!-- f -->\n<g id=\"node6\" class=\"node\">\n<title>f</title>\n<ellipse fill=\"none\" stroke=\"#000000\" cx=\"255\" cy=\"-75\" rx=\"18\" ry=\"18\"/>\n<text text-anchor=\"middle\" x=\"255\" y=\"-71.3\" font-family=\"Times,serif\" font-size=\"14.00\" fill=\"#000000\">f</text>\n</g>\n<!-- c&#45;&gt;f -->\n<g id=\"edge5\" class=\"edge\">\n<title>c&#45;&gt;f</title>\n<path fill=\"none\" stroke=\"#000000\" d=\"M154.6658,-97.9578C173.8698,-93.5637 204.8151,-86.483 227.2661,-81.3459\"/>\n<polygon fill=\"#000000\" stroke=\"#000000\" points=\"228.2461,-84.7122 237.2134,-79.0698 226.6847,-77.8885 228.2461,-84.7122\"/>\n<text text-anchor=\"middle\" x=\"196\" y=\"-96.8\" font-family=\"Times,serif\" font-size=\"14.00\" fill=\"#000000\">df/dc=1</text>\n</g>\n<!-- b -->\n<g id=\"node3\" class=\"node\">\n<title>b</title>\n<ellipse fill=\"none\" stroke=\"#000000\" cx=\"18\" cy=\"-132\" rx=\"18\" ry=\"18\"/>\n<text text-anchor=\"middle\" x=\"18\" y=\"-128.3\" font-family=\"Times,serif\" font-size=\"14.00\" fill=\"#000000\">b</text>\n</g>\n<!-- b&#45;&gt;c -->\n<g id=\"edge2\" class=\"edge\">\n<title>b&#45;&gt;c</title>\n<path fill=\"none\" stroke=\"#000000\" d=\"M35.5589,-127.5734C55.0696,-122.6547 86.8223,-114.6498 109.6075,-108.9057\"/>\n<polygon fill=\"#000000\" stroke=\"#000000\" points=\"110.5281,-112.2832 119.3691,-106.4448 108.8169,-105.4955 110.5281,-112.2832\"/>\n<text text-anchor=\"middle\" x=\"77.5\" y=\"-125.8\" font-family=\"Times,serif\" font-size=\"14.00\" fill=\"#000000\">dc/db=a</text>\n</g>\n<!-- e&#45;&gt;f -->\n<g id=\"edge6\" class=\"edge\">\n<title>e&#45;&gt;f</title>\n<path fill=\"none\" stroke=\"#000000\" d=\"M155.0339,-50.9637C171.7278,-53.8381 197.1872,-58.555 219,-64 222.0098,-64.7513 225.1413,-65.6022 228.2457,-66.4899\"/>\n<polygon fill=\"#000000\" stroke=\"#000000\" points=\"227.3051,-69.8618 237.8887,-69.3744 229.3112,-63.1554 227.3051,-69.8618\"/>\n<text text-anchor=\"middle\" x=\"196\" y=\"-67.8\" font-family=\"Times,serif\" font-size=\"14.00\" fill=\"#000000\">df/de=1</text>\n</g>\n<!-- d -->\n<g id=\"node5\" class=\"node\">\n<title>d</title>\n<ellipse fill=\"none\" stroke=\"#000000\" cx=\"18\" cy=\"-18\" rx=\"18\" ry=\"18\"/>\n<text text-anchor=\"middle\" x=\"18\" y=\"-14.3\" font-family=\"Times,serif\" font-size=\"14.00\" fill=\"#000000\">d</text>\n</g>\n<!-- d&#45;&gt;e -->\n<g id=\"edge4\" class=\"edge\">\n<title>d&#45;&gt;e</title>\n<path fill=\"none\" stroke=\"#000000\" d=\"M35.9889,-20.9104C52.9226,-23.8318 78.9119,-28.785 101,-35 104.0364,-35.8544 107.1845,-36.8389 110.2985,-37.8758\"/>\n<polygon fill=\"#000000\" stroke=\"#000000\" points=\"109.3565,-41.2547 119.9514,-41.2723 111.68,-34.6515 109.3565,-41.2547\"/>\n<text text-anchor=\"middle\" x=\"77.5\" y=\"-38.8\" font-family=\"Times,serif\" font-size=\"14.00\" fill=\"#000000\">de/dd=a</text>\n</g>\n</g>\n</svg>\n"
          },
          "metadata": {},
          "execution_count": 6
        }
      ],
      "source": [
        "e2 = graphviz.Digraph('second expression', filename='fsm.gv')\n",
        "\n",
        "e2.attr(rankdir='LR', size='8,5')\n",
        "\n",
        "e2.attr('node', shape='circle')\n",
        "e2.edge('a', 'c', label='dc/da=b')\n",
        "e2.edge('b', 'c', label='dc/db=a')\n",
        "e2.edge('a', 'e', label='de/da=d')\n",
        "e2.edge('d', 'e', label='de/dd=a')\n",
        "e2.edge('c', 'f', label='df/dc=1')\n",
        "e2.edge('e', 'f', label='df/de=1')\n",
        "\n",
        "e2"
      ]
    },
    {
      "cell_type": "markdown",
      "source": [
        "## 2."
      ],
      "metadata": {
        "id": "PdiTOipreAA8"
      }
    },
    {
      "cell_type": "code",
      "source": [
        "e1 = graphviz.Digraph('first expression', filename='fsm.gv')\n",
        "\n",
        "e1.attr(rankdir='LR', size='8,5')\n",
        "\n",
        "e1.attr('node', shape='circle')\n",
        "e1.edge('a', 'f', label='df/da=b.v')\n",
        "e1.edge('b', 'f', label='df/db=a.v')\n",
        "\n",
        "e1"
      ],
      "metadata": {
        "colab": {
          "base_uri": "https://localhost:8080/",
          "height": 151
        },
        "id": "yCS1YD2NeDxZ",
        "outputId": "6be48876-dc79-4beb-965e-af8fe718e904"
      },
      "execution_count": 7,
      "outputs": [
        {
          "output_type": "execute_result",
          "data": {
            "text/plain": [
              "<graphviz.dot.Digraph at 0x7ff42a23cd90>"
            ],
            "image/svg+xml": "<?xml version=\"1.0\" encoding=\"UTF-8\" standalone=\"no\"?>\n<!DOCTYPE svg PUBLIC \"-//W3C//DTD SVG 1.1//EN\"\n \"http://www.w3.org/Graphics/SVG/1.1/DTD/svg11.dtd\">\n<!-- Generated by graphviz version 2.40.1 (20161225.0304)\n -->\n<!-- Title: first expression Pages: 1 -->\n<svg width=\"173pt\" height=\"98pt\"\n viewBox=\"0.00 0.00 173.00 98.00\" xmlns=\"http://www.w3.org/2000/svg\" xmlns:xlink=\"http://www.w3.org/1999/xlink\">\n<g id=\"graph0\" class=\"graph\" transform=\"scale(1 1) rotate(0) translate(4 94)\">\n<title>first expression</title>\n<polygon fill=\"#ffffff\" stroke=\"transparent\" points=\"-4,4 -4,-94 169,-94 169,4 -4,4\"/>\n<!-- a -->\n<g id=\"node1\" class=\"node\">\n<title>a</title>\n<ellipse fill=\"none\" stroke=\"#000000\" cx=\"18\" cy=\"-72\" rx=\"18\" ry=\"18\"/>\n<text text-anchor=\"middle\" x=\"18\" y=\"-68.3\" font-family=\"Times,serif\" font-size=\"14.00\" fill=\"#000000\">a</text>\n</g>\n<!-- f -->\n<g id=\"node2\" class=\"node\">\n<title>f</title>\n<ellipse fill=\"none\" stroke=\"#000000\" cx=\"147\" cy=\"-45\" rx=\"18\" ry=\"18\"/>\n<text text-anchor=\"middle\" x=\"147\" y=\"-41.3\" font-family=\"Times,serif\" font-size=\"14.00\" fill=\"#000000\">f</text>\n</g>\n<!-- a&#45;&gt;f -->\n<g id=\"edge1\" class=\"edge\">\n<title>a&#45;&gt;f</title>\n<path fill=\"none\" stroke=\"#000000\" d=\"M35.6664,-68.3024C57.161,-63.8035 93.7111,-56.1535 119.0409,-50.8519\"/>\n<polygon fill=\"#000000\" stroke=\"#000000\" points=\"120.0621,-54.2141 129.133,-48.7396 118.628,-47.3625 120.0621,-54.2141\"/>\n<text text-anchor=\"middle\" x=\"82.5\" y=\"-67.8\" font-family=\"Times,serif\" font-size=\"14.00\" fill=\"#000000\">df/da=b.v</text>\n</g>\n<!-- b -->\n<g id=\"node3\" class=\"node\">\n<title>b</title>\n<ellipse fill=\"none\" stroke=\"#000000\" cx=\"18\" cy=\"-18\" rx=\"18\" ry=\"18\"/>\n<text text-anchor=\"middle\" x=\"18\" y=\"-14.3\" font-family=\"Times,serif\" font-size=\"14.00\" fill=\"#000000\">b</text>\n</g>\n<!-- b&#45;&gt;f -->\n<g id=\"edge2\" class=\"edge\">\n<title>b&#45;&gt;f</title>\n<path fill=\"none\" stroke=\"#000000\" d=\"M36.0013,-20.026C54.8628,-22.3526 85.2703,-26.6808 111,-33 114.037,-33.7459 117.1855,-34.6278 120.2998,-35.5695\"/>\n<polygon fill=\"#000000\" stroke=\"#000000\" points=\"119.3611,-38.9443 129.9528,-38.689 121.5136,-32.2835 119.3611,-38.9443\"/>\n<text text-anchor=\"middle\" x=\"82.5\" y=\"-36.8\" font-family=\"Times,serif\" font-size=\"14.00\" fill=\"#000000\">df/db=a.v</text>\n</g>\n</g>\n</svg>\n"
          },
          "metadata": {},
          "execution_count": 7
        }
      ]
    },
    {
      "cell_type": "markdown",
      "source": [
        "## 3."
      ],
      "metadata": {
        "id": "sRi66zy9eNx7"
      }
    },
    {
      "cell_type": "code",
      "source": [
        "a = Var(3.0)\n",
        "b = Var(5.0)\n",
        "f = a * b\n",
        "\n",
        "f.backprop(1.0)\n",
        "\n",
        "print(\"a:\", a)\n",
        "print(\"b:\", b)"
      ],
      "metadata": {
        "colab": {
          "base_uri": "https://localhost:8080/"
        },
        "id": "f33hkYABeMsL",
        "outputId": "1af7907a-fce4-46e0-c1b5-beb976efd38f"
      },
      "execution_count": 8,
      "outputs": [
        {
          "output_type": "stream",
          "name": "stdout",
          "text": [
            "a: Var(v=3.0000, grad=5.0000)\n",
            "b: Var(v=5.0000, grad=3.0000)\n"
          ]
        }
      ]
    },
    {
      "cell_type": "markdown",
      "source": [
        "## 4."
      ],
      "metadata": {
        "id": "mq40S9LMiCSA"
      }
    },
    {
      "cell_type": "markdown",
      "source": [
        "The sequence of calls to `backprop` is:\n",
        "\n",
        "1. `f.backprop(1.0)`\n",
        "2. `a.backprop(5.0 * 1.0)`\n",
        "3. `b.backprop(3.0 * 1.0)`"
      ],
      "metadata": {
        "id": "7Bf7Fq3ci62R"
      }
    },
    {
      "cell_type": "markdown",
      "metadata": {
        "id": "A5oi21W4gpeM"
      },
      "source": [
        "## Exercise c) What happens if we run backward again?\n",
        "\n",
        "Try to execute the code below. Explain what happens."
      ]
    },
    {
      "cell_type": "code",
      "execution_count": 9,
      "metadata": {
        "colab": {
          "base_uri": "https://localhost:8080/"
        },
        "id": "DCtpJyr-gyX1",
        "outputId": "fecaaba3-22dc-4100-e68c-f2285e09c367"
      },
      "outputs": [
        {
          "output_type": "stream",
          "name": "stdout",
          "text": [
            "Var(v=3.0000, grad=14.0000)\n",
            "Var(v=5.0000, grad=3.0000)\n",
            "Var(v=15.0000, grad=1.0000)\n",
            "Var(v=9.0000, grad=3.0000)\n",
            "Var(v=27.0000, grad=1.0000)\n",
            "Var(v=42.0000, grad=1.0000)\n",
            "\n",
            "Var(v=3.0000, grad=28.0000)\n",
            "Var(v=5.0000, grad=6.0000)\n",
            "Var(v=15.0000, grad=2.0000)\n",
            "Var(v=9.0000, grad=6.0000)\n",
            "Var(v=27.0000, grad=2.0000)\n",
            "Var(v=42.0000, grad=2.0000)\n"
          ]
        }
      ],
      "source": [
        "a = Var(3.0)\n",
        "b = Var(5.0)\n",
        "c = a * b\n",
        "d = Var(9.0)\n",
        "e = a * d\n",
        "f = c + e\n",
        "\n",
        "f.backward()\n",
        "\n",
        "for v in [a, b, c, d, e, f]:\n",
        "    print(v)\n",
        "print(\"\")\n",
        "\n",
        "f.backward()\n",
        "\n",
        "for v in [a, b, c, d, e, f]:\n",
        "    print(v)"
      ]
    },
    {
      "cell_type": "markdown",
      "source": [
        "We can see that the results from the second run differ from the expected result (the results from the first run).\n",
        "\n",
        "In fact, this bahavior is caused by `self.grad += bp`, we are not setting the gradients to zero when calling `backprop` but instead we are accumulating them."
      ],
      "metadata": {
        "id": "Zi5t-h9Yjo0Q"
      }
    },
    {
      "cell_type": "markdown",
      "metadata": {
        "id": "e8bPVq2VhsP-"
      },
      "source": [
        "## Exercise d) Zero gradient\n",
        "\n",
        "We can zero the gradient by backpropagating a -1.0 as is shown in the example below. (If you have run backward multiple time then you also have to run the cell below an equal amount of times.) Explain what is going on."
      ]
    },
    {
      "cell_type": "code",
      "execution_count": 10,
      "metadata": {
        "colab": {
          "base_uri": "https://localhost:8080/"
        },
        "id": "OnyPDQx9lJe0",
        "outputId": "31e9956b-2166-4027-8202-cafa8f9a0818"
      },
      "outputs": [
        {
          "output_type": "stream",
          "name": "stdout",
          "text": [
            "Var(v=2.0000, grad=0.0000)\n",
            "Var(v=5.0000, grad=6.0000)\n",
            "Var(v=15.0000, grad=2.0000)\n",
            "Var(v=9.0000, grad=6.0000)\n",
            "Var(v=27.0000, grad=2.0000)\n",
            "Var(v=42.0000, grad=2.0000)\n",
            "\n",
            "Var(v=2.0000, grad=0.0000)\n",
            "Var(v=5.0000, grad=3.0000)\n",
            "Var(v=15.0000, grad=1.0000)\n",
            "Var(v=9.0000, grad=3.0000)\n",
            "Var(v=27.0000, grad=1.0000)\n",
            "Var(v=42.0000, grad=1.0000)\n"
          ]
        }
      ],
      "source": [
        "a = Var(2.0)\n",
        "\n",
        "for v in [a, b, c, d, e, f]:\n",
        "    print(v)\n",
        "print(\"\")\n",
        "\n",
        "f.backprop(-1.0)\n",
        "\n",
        "for v in [a, b, c, d, e, f]:\n",
        "    print(v)"
      ]
    },
    {
      "cell_type": "markdown",
      "source": [
        "Calling `f.backprop(-1.0)` means that instead of accumulating, we now substract the gradient. We can thus use this call to zero the gradient."
      ],
      "metadata": {
        "id": "uBaEAC6FkuF_"
      }
    },
    {
      "cell_type": "markdown",
      "metadata": {
        "id": "U4057_ljNvWB"
      },
      "source": [
        "## Exercise e) Test correctness of derivatives with the finite difference method\n",
        "\n",
        "Write a small function that uses [the finite difference method](https://en.wikipedia.org/wiki/Finite_difference_method) to numerically test that backpropation implementation is working. In short we will use\n",
        "$$\n",
        "\\frac{\\partial f(a)}{\\partial a} \\approx \\frac{f(a+da)-f(a)}{da}\n",
        "$$\n",
        "for $da \\ll 1$.\n",
        "\n",
        "As an example, we could approximate the derivative of the function $f(a)=a^2$ in e.g. the value $a=4$ using the finite difference method. This amounts to inserting the relevant values and approximating the gradient $f'(4)$ with the fraction above. \n"
      ]
    },
    {
      "cell_type": "code",
      "execution_count": 11,
      "metadata": {
        "colab": {
          "base_uri": "https://localhost:8080/"
        },
        "id": "9TGil92lSXDN",
        "outputId": "97fb41ee-fa1b-4052-a65d-1ea7ff388136"
      },
      "outputs": [
        {
          "output_type": "stream",
          "name": "stdout",
          "text": [
            "Var(v=4.0000, grad=8.0000)\n",
            "8.000000661922968\n"
          ]
        }
      ],
      "source": [
        "a = 4.\n",
        "\n",
        "# f function - try to change the code to test other types of functions as well (such as different polynomials etc.)\n",
        "def f_function(a):\n",
        "  a = Var(a)\n",
        "  f = a * a\n",
        "  f.backward()\n",
        "  return a\n",
        "\n",
        "print(f_function(a))\n",
        "\n",
        "# Insert your finite difference code here\n",
        "def finite_difference(f, a, da=1e-10):\n",
        "    \"\"\"\n",
        "    This function compute the finite difference between\n",
        "    \n",
        "    Input:\n",
        "    da:          The finite difference                           (float)\n",
        "    \n",
        "    Output:\n",
        "    finite_difference: numerical approximation to the derivative (float) \n",
        "    \"\"\"\n",
        "    \n",
        "    fa_da = f(a + da)\n",
        "    fa = f(a)\n",
        "\n",
        "    finite_difference = (fa_da - fa) / da\n",
        "    \n",
        "    return finite_difference\n",
        "\n",
        "f = lambda x: x * x\n",
        "print(finite_difference(f, a))"
      ]
    },
    {
      "cell_type": "markdown",
      "metadata": {
        "id": "6pZar5RKaUkg"
      },
      "source": [
        "# Create an artificial dataset to play with\n",
        "\n",
        "We create a non-linear 1d regression task. The generator supports various noise levels and it creates train, validation and test sets. You can modify it yourself if you want more or less challenging tasks."
      ]
    },
    {
      "cell_type": "code",
      "execution_count": 12,
      "metadata": {
        "id": "Y6yfMAQ8aduj"
      },
      "outputs": [],
      "source": [
        "import numpy as np\n",
        "import matplotlib.pyplot as plt\n",
        "\n",
        "np.random.seed(42)"
      ]
    },
    {
      "cell_type": "code",
      "execution_count": 13,
      "metadata": {
        "id": "4YabfD43ajNh"
      },
      "outputs": [],
      "source": [
        "def data_generator(noise=0.1, n_samples=300, D1=True):\n",
        "    # Create covariates and response variable\n",
        "    if D1:\n",
        "        X = np.linspace(-3, 3, num=n_samples).reshape(-1,1) # 1-D\n",
        "        np.random.shuffle(X)\n",
        "        y = np.random.normal((0.5*np.sin(X[:,0]*3) + X[:,0]), noise) # 1-D with trend\n",
        "    else:\n",
        "        X = np.random.multivariate_normal(np.zeros(3), noise*np.eye(3), size = n_samples) # 3-D\n",
        "        np.random.shuffle(X)    \n",
        "        y = np.sin(X[:,0]) - 5*(X[:,1]**2) + 0.5*X[:,2] # 3-D\n",
        "\n",
        "    # Stack them together vertically to split data set\n",
        "    data_set = np.vstack((X.T,y)).T\n",
        "    \n",
        "    train, validation, test = np.split(data_set, [int(0.35*n_samples), int(0.7*n_samples)], axis=0)\n",
        "    \n",
        "    # Standardization of the data, remember we do the standardization with the training set mean and standard deviation\n",
        "    train_mu = np.mean(train, axis=0)\n",
        "    train_sigma = np.std(train, axis=0)\n",
        "    \n",
        "    train = (train-train_mu)/train_sigma\n",
        "    validation = (validation-train_mu)/train_sigma\n",
        "    test = (test-train_mu)/train_sigma\n",
        "    \n",
        "    x_train, x_validation, x_test = train[:,:-1], validation[:,:-1], test[:,:-1]\n",
        "    y_train, y_validation, y_test = train[:,-1], validation[:,-1], test[:,-1]\n",
        "\n",
        "    return x_train, y_train,  x_validation, y_validation, x_test, y_test"
      ]
    },
    {
      "cell_type": "code",
      "execution_count": 14,
      "metadata": {
        "id": "u1oDngHLapIz"
      },
      "outputs": [],
      "source": [
        "D1 = False\n",
        "x_train, y_train,  x_validation, y_validation, x_test, y_test = data_generator(noise=0.5, D1=D1)"
      ]
    },
    {
      "cell_type": "code",
      "execution_count": 15,
      "metadata": {
        "colab": {
          "base_uri": "https://localhost:8080/",
          "height": 265
        },
        "id": "Ysfa3FsBavlm",
        "outputId": "28442a22-6a2b-4039-a4da-d20e2a3fcde2"
      },
      "outputs": [
        {
          "output_type": "display_data",
          "data": {
            "text/plain": [
              "<Figure size 432x288 with 1 Axes>"
            ],
            "image/png": "[encoded data removed]"
          },
          "metadata": {
            "needs_background": "light"
          }
        }
      ],
      "source": [
        "if D1:\n",
        "    plt.scatter(x_train[:,0], y_train);\n",
        "    plt.scatter(x_validation[:,0], y_validation);\n",
        "    plt.scatter(x_test[:,0], y_test);\n",
        "else:\n",
        "    plt.scatter(x_train[:,1], y_train);\n",
        "    plt.scatter(x_validation[:,1], y_validation);\n",
        "    plt.scatter(x_test[:,1], y_test);\n",
        "plt.show()"
      ]
    },
    {
      "cell_type": "code",
      "execution_count": 16,
      "metadata": {
        "id": "zac2HHNlgbpm"
      },
      "outputs": [],
      "source": [
        "# convert from nparray to Var\n",
        "def nparray_to_Var(x):\n",
        "  if x.ndim==1:\n",
        "    y = [[Var(float(x[i]))] for i in range(x.shape[0])] # always work with list of list\n",
        "  else:\n",
        "    y = [[Var(float(x[i,j])) for j in range(x.shape[1])] for i in range(x.shape[0])]\n",
        "  return y\n",
        "   \n",
        "x_train = nparray_to_Var(x_train)\n",
        "y_train = nparray_to_Var(y_train)\n",
        "x_validation = nparray_to_Var(x_validation)\n",
        "y_validation = nparray_to_Var(y_validation)\n",
        "x_test = nparray_to_Var(x_test)\n",
        "y_test = nparray_to_Var(y_test)\n"
      ]
    },
    {
      "cell_type": "markdown",
      "metadata": {
        "id": "VbjrqcpVFtGe"
      },
      "source": [
        "# Defining and initializing the network\n",
        "\n",
        "The steps to create a feed forward neural network are the following:\n",
        "\n",
        "1. **Number of hidden layer and hidden units**. We have to define the number of hidden units in each layer. The number of features in X and the output dimensionality (the size of Y) are given but the numbers in between are set by the researcher. Remember that for each unit in each layer beside in the input has a bias term.\n",
        "2. **Activation functions** for each hidden layer. Each hidden layer in your list must have an activation function (it can also be the linear activation which is equivalent to identity function). The power of neural networks comes from non-linear activation functions that learn representations (features) from the data allowing us to learn from it. \n",
        "3. **Parameter initialization**. We will initialize the weights to have random values. This is done in practice by drawing pseudo random numbers from a Gaussian or uniform distribution. It turns out that for deeper models we have to be careful about how we scale the random numbers. This will be the topic of the exercise below. For now we will just use unit variance Gaussians.  \n",
        "\n",
        "In order to make life easier for ourselves we define a DenseLayer class that takes care of initialization and the forward pass. We can also extend it later with print and advanced initialization capabilities. For the latter we have introduced a Initializer class.\n",
        "\n",
        "Note that we use Sequence in the code below. A Sequence is an ordered list. This means the order we insert and access items are the same."
      ]
    },
    {
      "cell_type": "code",
      "execution_count": 17,
      "metadata": {
        "id": "ij_ieRsAt7Xt"
      },
      "outputs": [],
      "source": [
        "class Initializer:\n",
        "\n",
        "  def init_weights(self, n_in, n_out):\n",
        "    raise NotImplementedError\n",
        "\n",
        "  def init_bias(self, n_out):\n",
        "    raise NotImplementedError"
      ]
    },
    {
      "cell_type": "code",
      "execution_count": 18,
      "metadata": {
        "id": "eb18N5phuIha"
      },
      "outputs": [],
      "source": [
        "import random\n",
        "\n",
        "class NormalInitializer(Initializer):\n",
        "\n",
        "  def __init__(self, mean=0, std=0.1):\n",
        "    self.mean = mean\n",
        "    self.std = std\n",
        "\n",
        "  def init_weights(self, n_in, n_out):\n",
        "    return [[Var(random.gauss(self.mean, self.std)) for _ in range(n_out)] for _ in range(n_in)]\n",
        "\n",
        "  def init_bias(self, n_out):\n",
        "    return [Var(0.0) for _ in range(n_out)]\n",
        "\n",
        "class ConstantInitializer(Initializer):\n",
        "\n",
        "  def __init__(self, weight=1.0, bias=0.0):\n",
        "    self.weight = weight\n",
        "    self.bias = bias\n",
        "\n",
        "  def init_weights(self, n_in, n_out):\n",
        "    return [[Var(self.weight) for _ in range(n_out)] for _ in range(n_in)]\n",
        "\n",
        "  def init_bias(self, n_out):\n",
        "    return [Var(self.bias) for _ in range(n_out)]"
      ]
    },
    {
      "cell_type": "code",
      "execution_count": 19,
      "metadata": {
        "id": "jOLYGnZKuM6W"
      },
      "outputs": [],
      "source": [
        "from typing import Sequence\n",
        "\n",
        "class DenseLayer:\n",
        "    def __init__(self, n_in: int, n_out: int, act_fn, initializer = NormalInitializer()):\n",
        "        self.weights = initializer.init_weights(n_in, n_out)\n",
        "        self.bias = initializer.init_bias(n_out)\n",
        "        self.act_fn = act_fn\n",
        "    \n",
        "    def __repr__(self):    \n",
        "        return 'Weights: ' + repr(self.weights) + ' Biases: ' + repr(self.bias)\n",
        "\n",
        "    def parameters(self) -> Sequence[Var]:\n",
        "      params = []\n",
        "      for r in self.weights:\n",
        "        params += r\n",
        "\n",
        "      return params + self.bias\n",
        "\n",
        "    def forward(self, single_input: Sequence[Var]) -> Sequence[Var]:\n",
        "        # self.weights is a matrix with dimension n_in x n_out. We check that the dimensionality of the input \n",
        "        # to the current layer matches the number of nodes in the current layer\n",
        "        assert len(self.weights) == len(single_input), \"weights and single_input must match in first dimension\"\n",
        "        weights = self.weights\n",
        "        out = []\n",
        "        # For some given data point single_input, we now want to calculate the resulting value in each node in the current layer\n",
        "        # We therefore loop over the (number of) nodes in the current layer:\n",
        "        for j in range(len(weights[0])): \n",
        "            # Initialize the node value depending on its corresponding parameters.\n",
        "            node = self.bias[j] # <- Insert code\n",
        "            # We now finish the linear transformation corresponding to the parameters of the currently considered node.\n",
        "            for i in range(len(single_input)):\n",
        "                node += weights[i][j] * single_input[i]  # <- Insert code\n",
        "            node = self.act_fn(node)\n",
        "            out.append(node)\n",
        "\n",
        "        return out"
      ]
    },
    {
      "cell_type": "markdown",
      "metadata": {
        "id": "jpIZPBpNI0pO"
      },
      "source": [
        "## Exercise f) Add more activation functions\n",
        "\n",
        "To have a full definition of the neural network, we must define an activation function for every layer. Several activation functions have been proposed and have different characteristics. In the Var class we have already defined the rectified linear init (relu). \n",
        " \n",
        "Implement the following activation functions in the Var class:\n",
        "\n",
        "* Identity: $$\\mathrm{identity}(x) = x$$\n",
        "* Hyperbolic tangent: $$\\tanh(x)$$\n",
        "* Sigmoid (or logistic function): $$\\mathrm{sigmoid}(x) = \\frac{1}{1.0 + \\exp(-x ) }$$  Hint: $\\mathrm{sigmoid}'(x)= \\mathrm{sigmoid}(x)(1-\\mathrm{sigmoid}(x))$.  \n",
        "\n",
        "Hint: You can seek inspiration in the relu method in the Var class."
      ]
    },
    {
      "cell_type": "markdown",
      "source": [
        "## Solutions\n",
        "\n",
        "We define the functions as methods in the `Var` class definition code above."
      ],
      "metadata": {
        "id": "fbQ4DjzkrENJ"
      }
    },
    {
      "cell_type": "markdown",
      "metadata": {
        "id": "p_8n_SKnIW2F"
      },
      "source": [
        "## Exercise g) Complete the forward pass\n",
        "\n",
        "In the code below we initialize a 1-5-1 network and pass the training set through it. *The forward method in DenseLayer is **not** complete*. It just outputs zeros right now. The method forward should perform an [affine transformation](https://en.wikipedia.org/wiki/Affine_transformation) on the input followed by an application of the activation function."
      ]
    },
    {
      "cell_type": "code",
      "execution_count": 20,
      "metadata": {
        "colab": {
          "base_uri": "https://localhost:8080/"
        },
        "id": "xDEjtePxE7Mv",
        "outputId": "31f6cce6-6bfb-4778-a16e-9051bc4d51d3"
      },
      "outputs": [
        {
          "output_type": "stream",
          "name": "stdout",
          "text": [
            "[[Var(v=0.0364, grad=0.0000)], [Var(v=0.0381, grad=0.0000)], [Var(v=-0.0074, grad=0.0000)], [Var(v=0.0090, grad=0.0000)], [Var(v=-0.0223, grad=0.0000)], [Var(v=-0.0057, grad=0.0000)], [Var(v=-0.0004, grad=0.0000)], [Var(v=0.0285, grad=0.0000)], [Var(v=0.0003, grad=0.0000)], [Var(v=0.0200, grad=0.0000)], [Var(v=0.0122, grad=0.0000)], [Var(v=0.0116, grad=0.0000)], [Var(v=0.0025, grad=0.0000)], [Var(v=0.0223, grad=0.0000)], [Var(v=0.0577, grad=0.0000)], [Var(v=-0.0145, grad=0.0000)], [Var(v=-0.0063, grad=0.0000)], [Var(v=0.0433, grad=0.0000)], [Var(v=0.0094, grad=0.0000)], [Var(v=0.0335, grad=0.0000)], [Var(v=0.0046, grad=0.0000)], [Var(v=0.0072, grad=0.0000)], [Var(v=-0.0138, grad=0.0000)], [Var(v=0.0039, grad=0.0000)], [Var(v=0.0106, grad=0.0000)], [Var(v=0.0060, grad=0.0000)], [Var(v=-0.0098, grad=0.0000)], [Var(v=0.0254, grad=0.0000)], [Var(v=0.0233, grad=0.0000)], [Var(v=-0.0128, grad=0.0000)], [Var(v=0.0327, grad=0.0000)], [Var(v=0.0060, grad=0.0000)], [Var(v=0.0111, grad=0.0000)], [Var(v=0.0176, grad=0.0000)], [Var(v=0.0469, grad=0.0000)], [Var(v=0.0108, grad=0.0000)], [Var(v=0.0441, grad=0.0000)], [Var(v=0.0000, grad=0.0000)], [Var(v=0.0310, grad=0.0000)], [Var(v=-0.0027, grad=0.0000)], [Var(v=-0.0183, grad=0.0000)], [Var(v=0.0398, grad=0.0000)], [Var(v=-0.0351, grad=0.0000)], [Var(v=-0.0083, grad=0.0000)], [Var(v=0.0454, grad=0.0000)], [Var(v=0.0117, grad=0.0000)], [Var(v=-0.0062, grad=0.0000)], [Var(v=0.0219, grad=0.0000)], [Var(v=-0.0004, grad=0.0000)], [Var(v=0.0224, grad=0.0000)], [Var(v=0.0221, grad=0.0000)], [Var(v=-0.0226, grad=0.0000)], [Var(v=-0.0018, grad=0.0000)], [Var(v=0.0038, grad=0.0000)], [Var(v=0.0143, grad=0.0000)], [Var(v=-0.0103, grad=0.0000)], [Var(v=0.0178, grad=0.0000)], [Var(v=0.0044, grad=0.0000)], [Var(v=0.0010, grad=0.0000)], [Var(v=0.0036, grad=0.0000)], [Var(v=0.0244, grad=0.0000)], [Var(v=0.0201, grad=0.0000)], [Var(v=0.0272, grad=0.0000)], [Var(v=0.0134, grad=0.0000)], [Var(v=0.0075, grad=0.0000)], [Var(v=-0.0205, grad=0.0000)], [Var(v=0.0002, grad=0.0000)], [Var(v=-0.0194, grad=0.0000)], [Var(v=-0.0079, grad=0.0000)], [Var(v=0.0027, grad=0.0000)], [Var(v=0.0232, grad=0.0000)], [Var(v=-0.0335, grad=0.0000)], [Var(v=0.0008, grad=0.0000)], [Var(v=0.0236, grad=0.0000)], [Var(v=0.0127, grad=0.0000)], [Var(v=0.0118, grad=0.0000)], [Var(v=0.0148, grad=0.0000)], [Var(v=-0.0110, grad=0.0000)], [Var(v=0.0252, grad=0.0000)], [Var(v=-0.0171, grad=0.0000)], [Var(v=0.0110, grad=0.0000)], [Var(v=0.0333, grad=0.0000)], [Var(v=0.0142, grad=0.0000)], [Var(v=0.0081, grad=0.0000)], [Var(v=0.0377, grad=0.0000)], [Var(v=0.0000, grad=0.0000)], [Var(v=-0.0025, grad=0.0000)], [Var(v=-0.0064, grad=0.0000)], [Var(v=-0.0007, grad=0.0000)], [Var(v=-0.0390, grad=0.0000)], [Var(v=0.0446, grad=0.0000)], [Var(v=-0.0060, grad=0.0000)], [Var(v=-0.0037, grad=0.0000)], [Var(v=0.0154, grad=0.0000)], [Var(v=0.0278, grad=0.0000)], [Var(v=0.0179, grad=0.0000)], [Var(v=-0.0118, grad=0.0000)], [Var(v=0.0207, grad=0.0000)], [Var(v=-0.0186, grad=0.0000)], [Var(v=0.0086, grad=0.0000)], [Var(v=0.0090, grad=0.0000)], [Var(v=0.0047, grad=0.0000)], [Var(v=0.0311, grad=0.0000)], [Var(v=-0.0085, grad=0.0000)], [Var(v=0.0130, grad=0.0000)]]\n"
          ]
        }
      ],
      "source": [
        "NN = [\n",
        "    DenseLayer(3, 5, lambda x: x.relu()),\n",
        "    DenseLayer(5, 1, lambda x: x.identity())\n",
        "]\n",
        "\n",
        "def forward(input, network):\n",
        "\n",
        "  def forward_single(x, network):\n",
        "    for layer in network:\n",
        "        x = layer.forward(x)\n",
        "    return x\n",
        "\n",
        "  output = [ forward_single(input[n], network) for n in range(len(input))]\n",
        "  return output\n",
        "\n",
        "print(forward(x_train, NN))\n"
      ]
    },
    {
      "cell_type": "markdown",
      "metadata": {
        "id": "oLrGJytZFtGm"
      },
      "source": [
        "## Exercise h) Print all network parameters\n",
        "\n",
        "Make a function that prints all the parameters of the network (weights and biases) with information about in which layer the appear. In the object oriented spirit you should introduce a method in the DenseLayer class to print the parameters of a layer. Hint: You can take inspiration from the corresponding method in Var. "
      ]
    },
    {
      "cell_type": "code",
      "execution_count": 21,
      "metadata": {
        "id": "iac-VwYGFtGm",
        "colab": {
          "base_uri": "https://localhost:8080/"
        },
        "outputId": "42ba72c6-f6b6-43a1-e59b-7a77f412bf72"
      },
      "outputs": [
        {
          "output_type": "stream",
          "name": "stdout",
          "text": [
            "Layer 0:\n",
            "Weights: [[Var(v=0.1803, grad=0.0000), Var(v=-0.0607, grad=0.0000), Var(v=0.1067, grad=0.0000), Var(v=-0.0203, grad=0.0000), Var(v=0.0420, grad=0.0000)], [Var(v=0.1865, grad=0.0000), Var(v=-0.0588, grad=0.0000), Var(v=0.0599, grad=0.0000), Var(v=-0.0586, grad=0.0000), Var(v=-0.0785, grad=0.0000)], [Var(v=-0.0537, grad=0.0000), Var(v=-0.1789, grad=0.0000), Var(v=0.0473, grad=0.0000), Var(v=0.0816, grad=0.0000), Var(v=0.1294, grad=0.0000)]] Biases: [Var(v=0.0000, grad=0.0000), Var(v=0.0000, grad=0.0000), Var(v=0.0000, grad=0.0000), Var(v=0.0000, grad=0.0000), Var(v=0.0000, grad=0.0000)]\n",
            "Layer 1:\n",
            "Weights: [[Var(v=0.0509, grad=0.0000)], [Var(v=0.1287, grad=0.0000)], [Var(v=-0.1611, grad=0.0000)], [Var(v=0.1092, grad=0.0000)], [Var(v=-0.0436, grad=0.0000)]] Biases: [Var(v=0.0000, grad=0.0000)]\n"
          ]
        }
      ],
      "source": [
        "# Insert code here and in the DenseLayer class\n",
        "\n",
        "for i, layer in enumerate(NN):\n",
        "    print(f\"Layer {i}:\")\n",
        "    print(layer)"
      ]
    },
    {
      "cell_type": "markdown",
      "metadata": {
        "id": "_79HOAXrFtHK"
      },
      "source": [
        "## Visualization\n",
        "\n",
        "Now that we have defined our activation functions we can visualize them to see what they look like:"
      ]
    },
    {
      "cell_type": "code",
      "execution_count": 22,
      "metadata": {
        "id": "1FcylHqLTl-Z",
        "colab": {
          "base_uri": "https://localhost:8080/",
          "height": 284
        },
        "outputId": "cbbf7bb3-5b3c-4265-b9da-06b58e437a66"
      },
      "outputs": [
        {
          "output_type": "execute_result",
          "data": {
            "text/plain": [
              "[<matplotlib.lines.Line2D at 0x7ff429c86490>]"
            ]
          },
          "metadata": {},
          "execution_count": 22
        },
        {
          "output_type": "display_data",
          "data": {
            "text/plain": [
              "<Figure size 432x288 with 1 Axes>"
            ],
            "image/png": "[encoded data removed]"
          },
          "metadata": {
            "needs_background": "light"
          }
        }
      ],
      "source": [
        "x = np.linspace(-6, 6, 100)\n",
        "\n",
        "# convert from Var to ndarray  \n",
        "def Var_to_nparray(x):\n",
        "  y = np.zeros((len(x),len(x[0])))\n",
        "  for i in range(len(x)):\n",
        "    for j in range(len(x[0])):\n",
        "      y[i,j] = x[i][j].v\n",
        "  return y\n",
        "\n",
        "# define 1-1 network with weight = 1 and relu activation \n",
        "NN = [ DenseLayer(1, 1, lambda x: x.relu(), initializer = ConstantInitializer(1.0)) ] \n",
        "y = Var_to_nparray(forward(nparray_to_Var(x), NN))\n",
        "\n",
        "#y = Var_to_nparray(relu(nparray_to_Var(x)))\n",
        "plt.plot(x,y)"
      ]
    },
    {
      "cell_type": "code",
      "execution_count": 23,
      "metadata": {
        "id": "oOL2UolJFtHL",
        "colab": {
          "base_uri": "https://localhost:8080/",
          "height": 341
        },
        "outputId": "515437d4-795b-4ef9-8f1f-5e2e844ae3e6"
      },
      "outputs": [
        {
          "output_type": "display_data",
          "data": {
            "text/plain": [
              "<Figure size 360x360 with 1 Axes>"
            ],
            "image/png": "[encoded data removed]"
          },
          "metadata": {
            "needs_background": "light"
          }
        }
      ],
      "source": [
        "# Testing all activation layers\n",
        "\n",
        "x = np.linspace(-6, 6, 100)\n",
        "units = {\n",
        "    \"identity\": lambda x: x.identity(),\n",
        "    \"sigmoid\": lambda x: x.sigmoid(),\n",
        "    \"relu\": lambda x: x.relu(),\n",
        "    \"tanh\": lambda x: x.tanh()\n",
        "}\n",
        "\n",
        "plt.figure(figsize=(5, 5))\n",
        "[plt.plot(x, Var_to_nparray(forward(nparray_to_Var(x), [DenseLayer(1, 1, unit, initializer = ConstantInitializer(1.0))]) ), label=unit_name, lw=2) for unit_name, unit in units.items()] # unit(nparray_to_Var(x))), label=unit_name, lw=2) for unit_name, unit in units.items()]\n",
        "plt.legend(loc=2, fontsize=16)\n",
        "plt.title('Our activation functions', fontsize=20)\n",
        "plt.ylim([-2, 5])\n",
        "plt.xlim([-6, 6])\n",
        "plt.show()"
      ]
    },
    {
      "cell_type": "markdown",
      "metadata": {
        "id": "b-jdEl-7FtGs"
      },
      "source": [
        "# Advanced initialization schemes\n",
        "\n",
        "If we are not careful with initialization, the signals we propagate forward ($a^{(l)}$, $l=1,\\ldots,L$) and backward ($\\delta^l$, $l=L,L-1,\\ldots,1$) can blow up or shrink to zero. A statistical analysis of the variance of the signals for different activation functions can be found in these two papers: [Glorot initialization](http://proceedings.mlr.press/v9/glorot10a/glorot10a.pdf) and [He initialization](https://arxiv.org/pdf/1502.01852v1.pdf). \n",
        "\n",
        "The result of the analyses are proposals for how to make the initialization such that the variance of the signals (forward and backward) are kept approxmimatly constant when propagating from layer to layer. The exact expressions depend upon the non-linear activation function used. In Glorot initialization, the aim is to keep both the forward and backward variances constant whereas He only aims at keeping the variance in the forward pass constant.\n",
        "\n",
        "We define $n_{in}$ and $n_{out}$ as the number of input units and output units of a particular layer. \n",
        "\n",
        "The Glorot initialization has the form: \n",
        "\n",
        "$$w_{ij} \\sim N \\bigg( 0, \\, \\frac{2 \\alpha }{n_{in} + n_{out}} \\bigg) \\ . $$\n",
        "\n",
        "where $N(\\mu,\\sigma^2)$ is a Gaussian distribution with mean $\\mu$ and variance $\\sigma^2$ and $\\alpha$ is a parameter that depends upon the activation function used. For $\\tanh$, $\\alpha=1$ and for Rectified Linear Unit (ReLU) activations, $\\alpha=2$. (It is also possible to use a uniform distribution for initialization, see [this blog post](https://mmuratarat.github.io/2019-02-25/xavier-glorot-he-weight-init).) \n",
        "\n",
        "The He initialization is very similar\n",
        "\n",
        "$$w_{ij} \\sim N \\bigg( 0, \\, \\frac{\\alpha}{n_{in}} \\bigg) \\ . $$"
      ]
    },
    {
      "cell_type": "markdown",
      "metadata": {
        "id": "mqeyab9qFtGs"
      },
      "source": [
        "## Exercise i) Glorot and He initialization\n",
        " \n",
        "Using the Initializer class, implement functions that implement Glorot and He \n",
        "\n",
        "Explain briefly how you would test numerically that these initializations have the sought after property. Hint: See plots in Glorot paper.\n",
        "\n",
        "Comment: If you want to be more advanced then try to make a universal initializer taking both the activation function and type (Glorot or He) as argument."
      ]
    },
    {
      "cell_type": "code",
      "execution_count": 24,
      "metadata": {
        "id": "Qyk01CgaFtGt"
      },
      "outputs": [],
      "source": [
        "## Glorot\n",
        "def DenseLayer_Glorot_tanh(n_in: int, n_out: int):\n",
        "  std = 2 / (n_in + n_out) # <- replace with proper initialization\n",
        "  return DenseLayer(n_in, n_out, lambda x: x.tanh(), initializer = NormalInitializer(std))\n",
        "\n",
        "## He\n",
        "def DenseLayer_He_relu(n_in: int, n_out: int):\n",
        "  std = 2 / n_in # <- replace with proper initialization\n",
        "  return DenseLayer(n_in, n_out, lambda x: x.relu(), initializer = NormalInitializer(std))"
      ]
    },
    {
      "cell_type": "markdown",
      "source": [
        "## Solution\n",
        "\n",
        "To numerically test that these initializations have the sought after property, one could simply compute the variance of tha activations (averaged across a given layer and samples) for each layer of the network and ensure that these variances remain constant troughout training."
      ],
      "metadata": {
        "id": "1PCTpf6wgprN"
      }
    },
    {
      "cell_type": "markdown",
      "metadata": {
        "id": "-XyXBD37FtHk"
      },
      "source": [
        "## Exercise j) Forward pass unit test\n",
        "\n",
        "Write a bit of code to make a unit test that the forward pass works. This can be done by defining a simple network with for example all weights equal to one (using the ConstantInitializer method) and identity activation functions. \n",
        "\n",
        "Hints: Use the [assert](https://www.w3schools.com/python/ref_keyword_assert.asp), the nparray_to_Var and the Var_to_nparray commands. "
      ]
    },
    {
      "cell_type": "code",
      "execution_count": 25,
      "metadata": {
        "id": "k0miqRUAFtHl"
      },
      "outputs": [],
      "source": [
        "x = np.ones(100)\n",
        "NN = [ DenseLayer(1, 1, lambda x: x.identity(), initializer = ConstantInitializer(1.0)) ] \n",
        "y = Var_to_nparray(forward(nparray_to_Var(x), NN))\n",
        "assert (y == x).all()"
      ]
    },
    {
      "cell_type": "markdown",
      "metadata": {
        "id": "faCxhfFnFtHp"
      },
      "source": [
        "# Loss functions\n",
        "\n",
        "We are only missing a loss function to we need to define a loss function and its derivative with respect to the output of the neural network $y$"
      ]
    },
    {
      "cell_type": "code",
      "execution_count": 26,
      "metadata": {
        "id": "I2eDYKvAFtHq"
      },
      "outputs": [],
      "source": [
        "def squared_loss(t, y):\n",
        "  \n",
        "  # add check that sizes agree\n",
        "  assert len(y) == len(t) and len(y[0]) == len(t[0])\n",
        "  \n",
        "  def squared_loss_single(t, y):\n",
        "    Loss = Var(0.0)\n",
        "    for i in range(len(t)): # sum over outputs\n",
        "      Loss += (t[i]-y[i]) ** 2\n",
        "    return Loss\n",
        "\n",
        "  Loss = Var(0.0)\n",
        "  for n in range(len(t)): # sum over training data\n",
        "    Loss += squared_loss_single(t[n],y[n])\n",
        "  return Loss"
      ]
    },
    {
      "cell_type": "markdown",
      "metadata": {
        "id": "SrwSJ2UWFtHu"
      },
      "source": [
        "## Exercise j) Implement cross entropy loss\n",
        "\n",
        "Insert code below to implement cross-entropy loss for general dimensionality of $t$. Use a logits formulation:\n",
        "$$\n",
        "\\rm{Loss} = - \\sum_i t_i \\, log \\, p_i \n",
        "$$\n",
        "with $p$ given by the the softmax function in terms of the logits $h$:\n",
        "$$\n",
        "p_i = \\frac{\\exp(h_i)}{\\sum_{i'} \\exp(h_{i'})} .\n",
        "$$\n",
        "Inserting $p$ in the expression for the loss gives\n",
        "$$\n",
        "\\rm{Loss} = - \\sum_i t_i h_i + \\rm{LogSumExp}(h) \\ ,\n",
        "$$\n",
        "where \n",
        "$$\n",
        "\\rm{LogSumExp}(h) = \\log \\sum_i \\exp h_i \\ .\n",
        "$$\n",
        "This is true for $t$ being a one-hot vector. \n",
        "\n",
        "Call the function to convince yourself it works. \n",
        "\n",
        "In practice you want to implement a [numerically stable](https://leimao.github.io/blog/LogSumExp/) version of LogSumExp. But we will not bother about that here.\n",
        "\n",
        "Help: You can add these methods in the Var class:\n",
        "\n",
        "    def exp(self):\n",
        "        return Var(exp(self.v), lambda: [(self, exp(self.v))])\n",
        "    \n",
        "    def log(self):\n",
        "        return Var(log(self.v), lambda: [(self, self.v ** -1)])"
      ]
    },
    {
      "cell_type": "code",
      "execution_count": 27,
      "metadata": {
        "id": "6nMuxyfzFtHv"
      },
      "outputs": [],
      "source": [
        "# for a single sample\n",
        "def cross_entropy_loss(t, h):\n",
        "    assert len(t) == len(h)\n",
        "     \n",
        "    Loss = Var(0.0)\n",
        "    for i in range(len(t)):\n",
        "        Loss -= h[i] * t[i]\n",
        "    log_sum_exp = Var(0.0)\n",
        "    for i in range(len(h)):\n",
        "        log_sum_exp += h[i].exp()\n",
        "    log_sum_exp = log_sum_exp.log()\n",
        "    Loss += log_sum_exp\n",
        "    \n",
        "    return Loss"
      ]
    },
    {
      "cell_type": "markdown",
      "metadata": {
        "id": "8fAF5ew4FtHy"
      },
      "source": [
        "# Backward pass\n",
        "\n",
        "Now the magic happens! We get the calculation of the gradients for free. Just do:"
      ]
    },
    {
      "cell_type": "code",
      "execution_count": 28,
      "metadata": {
        "id": "iHyfPPI9Qqwu"
      },
      "outputs": [],
      "source": [
        "NN = [\n",
        "    DenseLayer(3, 5, lambda x: x.relu()),\n",
        "    DenseLayer(5, 1, lambda x: x.identity())\n",
        "]\n",
        "\n",
        "output = forward(x_train, NN)\n",
        "\n",
        "Loss = squared_loss(y_train,output)\n",
        "Loss.backward()"
      ]
    },
    {
      "cell_type": "markdown",
      "metadata": {
        "id": "49biIAYKQ1oG"
      },
      "source": [
        "and the gradients will be calculated:"
      ]
    },
    {
      "cell_type": "code",
      "execution_count": 29,
      "metadata": {
        "id": "_rGt1bq_Q7uk",
        "outputId": "73e906db-1056-4a18-edc1-3c97b551d404",
        "colab": {
          "base_uri": "https://localhost:8080/"
        }
      },
      "outputs": [
        {
          "output_type": "stream",
          "name": "stdout",
          "text": [
            "Layer 0 \n",
            " Weights: [[Var(v=0.0919, grad=0.5516), Var(v=0.0078, grad=-0.6923), Var(v=0.0650, grad=0.8488), Var(v=0.0618, grad=-0.2105), Var(v=0.0982, grad=0.2875)], [Var(v=-0.1277, grad=1.7797), Var(v=-0.0792, grad=-3.0926), Var(v=-0.0742, grad=3.0851), Var(v=0.0448, grad=0.0068), Var(v=-0.0330, grad=1.0152)], [Var(v=-0.0628, grad=0.2409), Var(v=0.0415, grad=-1.5076), Var(v=-0.0086, grad=0.5627), Var(v=-0.0115, grad=-0.0780), Var(v=0.1005, grad=0.4999)]] Biases: [Var(v=0.0000, grad=-0.2384), Var(v=0.0000, grad=0.5794), Var(v=0.0000, grad=-0.4583), Var(v=0.0000, grad=-0.2160), Var(v=0.0000, grad=0.1427)]\n",
            "Layer 1 \n",
            " Weights: [[Var(v=-0.0180, grad=10.6635)], [Var(v=0.0301, grad=5.8913)], [Var(v=-0.0327, grad=5.4713)], [Var(v=0.0068, grad=-1.7388)], [Var(v=-0.0137, grad=-3.2902)]] Biases: [Var(v=0.0000, grad=-0.4045)]\n"
          ]
        },
        {
          "output_type": "execute_result",
          "data": {
            "text/plain": [
              "[None, None]"
            ]
          },
          "metadata": {},
          "execution_count": 29
        }
      ],
      "source": [
        "[print('Layer', i, '\\n', NN[i]) for i in range(len(NN))] "
      ]
    },
    {
      "cell_type": "markdown",
      "metadata": {
        "id": "D7d7qK0uFtH9"
      },
      "source": [
        "# Backward pass unit test\n",
        "\n",
        "Above we used finite differences to test that Nanograd is actually doing what it is supposed to do. We can in principle try the same for the neural network. But we will trust that the test above is enough."
      ]
    },
    {
      "cell_type": "markdown",
      "metadata": {
        "id": "WgBi8GOSFtIN"
      },
      "source": [
        "# Training and validation\n",
        "\n",
        "We are ready to train some neural networks!\n",
        "\n",
        "We initialize again:"
      ]
    },
    {
      "cell_type": "code",
      "execution_count": 30,
      "metadata": {
        "id": "01ePmzBzRtdh"
      },
      "outputs": [],
      "source": [
        "NN = [\n",
        "    DenseLayer(3, 15, lambda x: x.relu()),\n",
        "    DenseLayer(15, 50, lambda x: x.relu()),\n",
        "    DenseLayer(50, 1, lambda x: x.identity())\n",
        "]\n",
        "\n",
        "output = forward(x_train, NN)\n",
        "\n",
        "Loss = squared_loss(y_train,output)\n",
        "Loss.backward()"
      ]
    },
    {
      "cell_type": "markdown",
      "metadata": {
        "id": "10iRPiQ1ISHw"
      },
      "source": [
        "and make an update:\n",
        "\n",
        "We introduce a help function parameters to have a handle in all parameters in the network."
      ]
    },
    {
      "cell_type": "code",
      "execution_count": 31,
      "metadata": {
        "id": "dhAI7eyeznia",
        "outputId": "d91cd7b5-4ab0-4ab4-ac55-807e021416e7",
        "colab": {
          "base_uri": "https://localhost:8080/"
        }
      },
      "outputs": [
        {
          "output_type": "stream",
          "name": "stdout",
          "text": [
            "Network before update:\n",
            "Layer 0 \n",
            " Weights: [[Var(v=0.0715, grad=-0.0050), Var(v=0.2048, grad=-0.1281), Var(v=0.0668, grad=1.4535), Var(v=-0.1135, grad=-0.7188), Var(v=0.0653, grad=1.2119), Var(v=0.0306, grad=-0.4675), Var(v=-0.0034, grad=-1.0937), Var(v=0.0366, grad=-0.1770), Var(v=-0.0349, grad=0.4940), Var(v=-0.1423, grad=0.3861), Var(v=-0.0745, grad=-0.0511), Var(v=0.0876, grad=-2.2665), Var(v=-0.0133, grad=-0.4622), Var(v=0.0797, grad=-0.4670), Var(v=0.1813, grad=-0.2322)], [Var(v=-0.0404, grad=0.3090), Var(v=-0.1591, grad=-0.0732), Var(v=0.0164, grad=1.6577), Var(v=0.1257, grad=1.4126), Var(v=0.0063, grad=0.7763), Var(v=0.1115, grad=-1.1917), Var(v=0.0732, grad=0.1580), Var(v=0.0412, grad=-0.2175), Var(v=0.0398, grad=-0.2440), Var(v=-0.1175, grad=-0.3353), Var(v=0.1018, grad=0.5862), Var(v=-0.1328, grad=-8.4703), Var(v=-0.0530, grad=-1.7338), Var(v=-0.0271, grad=-1.1460), Var(v=0.1861, grad=0.2410)], [Var(v=0.0031, grad=0.1856), Var(v=-0.0372, grad=0.5692), Var(v=0.2012, grad=2.2177), Var(v=-0.0869, grad=0.2458), Var(v=0.1141, grad=2.1683), Var(v=0.2863, grad=-0.1011), Var(v=-0.1034, grad=0.1149), Var(v=0.0022, grad=0.8382), Var(v=-0.0540, grad=-0.0978), Var(v=0.0018, grad=-1.3415), Var(v=-0.0522, grad=0.2546), Var(v=0.0836, grad=-4.4982), Var(v=0.0850, grad=-3.5384), Var(v=-0.1024, grad=-0.1308), Var(v=0.0799, grad=0.2876)]] Biases: [Var(v=0.0000, grad=-0.0413), Var(v=0.0000, grad=-0.2096), Var(v=0.0000, grad=1.5828), Var(v=0.0000, grad=-0.7912), Var(v=0.0000, grad=1.6628), Var(v=0.0000, grad=0.2531), Var(v=0.0000, grad=-0.4595), Var(v=0.0000, grad=-0.1778), Var(v=0.0000, grad=0.2260), Var(v=0.0000, grad=0.1755), Var(v=0.0000, grad=-0.6766), Var(v=0.0000, grad=1.4868), Var(v=0.0000, grad=-2.1390), Var(v=0.0000, grad=0.3976), Var(v=0.0000, grad=0.1074)]\n",
            "Layer 1 \n",
            " Weights: [[Var(v=-0.0377, grad=-0.0012), Var(v=0.0217, grad=-0.1411), Var(v=-0.1962, grad=0.0003), Var(v=-0.0549, grad=0.0000), Var(v=0.0850, grad=-0.3336), Var(v=0.0001, grad=-0.0182), Var(v=0.0006, grad=0.1406), Var(v=-0.1488, grad=0.0015), Var(v=-0.0874, grad=0.0000), Var(v=-0.0351, grad=-0.0425), Var(v=-0.0637, grad=-0.4572), Var(v=-0.0321, grad=0.2510), Var(v=0.0158, grad=0.1610), Var(v=-0.0633, grad=-0.0233), Var(v=0.0039, grad=0.0251), Var(v=-0.2689, grad=0.0004), Var(v=0.0279, grad=-0.0000), Var(v=0.0127, grad=0.1089), Var(v=-0.2400, grad=0.0423), Var(v=0.1305, grad=-0.1644), Var(v=-0.0767, grad=0.0593), Var(v=-0.0962, grad=-0.0057), Var(v=-0.1129, grad=0.0000), Var(v=-0.0334, grad=0.0042), Var(v=0.1386, grad=-0.0475), Var(v=0.1391, grad=-0.0924), Var(v=-0.1150, grad=-0.0928), Var(v=-0.0654, grad=0.0079), Var(v=-0.0905, grad=0.0401), Var(v=0.0667, grad=-0.0144), Var(v=0.0838, grad=-0.0454), Var(v=0.2243, grad=-0.0475), Var(v=-0.0164, grad=0.1097), Var(v=-0.0750, grad=-0.0022), Var(v=0.1345, grad=-0.0648), Var(v=0.0895, grad=0.3238), Var(v=0.0086, grad=0.0643), Var(v=-0.1476, grad=0.0000), Var(v=-0.0142, grad=0.0013), Var(v=-0.0168, grad=0.0551), Var(v=-0.1508, grad=-0.1929), Var(v=0.0880, grad=-0.0005), Var(v=0.0681, grad=0.0107), Var(v=-0.1019, grad=-0.0073), Var(v=0.0920, grad=0.2736), Var(v=0.1308, grad=-0.0370), Var(v=-0.0369, grad=0.4186), Var(v=-0.1578, grad=-0.0301), Var(v=0.1137, grad=0.0000), Var(v=0.1829, grad=-0.0161)], [Var(v=-0.0392, grad=-0.0016), Var(v=0.0175, grad=-0.8161), Var(v=-0.0944, grad=0.0005), Var(v=-0.1528, grad=0.0000), Var(v=-0.0837, grad=-1.5321), Var(v=-0.0059, grad=0.0415), Var(v=0.0886, grad=0.8067), Var(v=-0.0686, grad=0.0069), Var(v=-0.0852, grad=-0.0004), Var(v=0.0570, grad=-0.3521), Var(v=0.0463, grad=-1.8790), Var(v=0.0806, grad=1.4389), Var(v=-0.0590, grad=0.6913), Var(v=0.0958, grad=-0.1289), Var(v=-0.1065, grad=0.0333), Var(v=-0.0663, grad=0.0022), Var(v=-0.0467, grad=0.0000), Var(v=-0.0544, grad=0.6115), Var(v=-0.2054, grad=0.0647), Var(v=0.0705, grad=-0.9409), Var(v=-0.2137, grad=0.1353), Var(v=0.0842, grad=-0.2426), Var(v=-0.0226, grad=0.0000), Var(v=0.0820, grad=0.0328), Var(v=-0.2400, grad=-0.0614), Var(v=0.0845, grad=-0.4549), Var(v=-0.0101, grad=-0.3995), Var(v=-0.0546, grad=0.0128), Var(v=-0.0121, grad=0.2657), Var(v=0.1049, grad=0.0929), Var(v=0.1554, grad=-0.4811), Var(v=0.1126, grad=-0.2508), Var(v=-0.0698, grad=0.4870), Var(v=-0.0647, grad=0.0478), Var(v=0.0608, grad=-0.3045), Var(v=0.0483, grad=1.8545), Var(v=-0.0202, grad=0.3298), Var(v=-0.0233, grad=-0.0014), Var(v=-0.0186, grad=0.0076), Var(v=0.0227, grad=0.1458), Var(v=0.0144, grad=-0.7824), Var(v=-0.2192, grad=-0.0012), Var(v=-0.0847, grad=0.0679), Var(v=0.1078, grad=-0.0381), Var(v=0.0395, grad=1.4345), Var(v=0.0515, grad=-0.4944), Var(v=0.0434, grad=1.7066), Var(v=0.1061, grad=-0.1114), Var(v=-0.1777, grad=0.0000), Var(v=-0.0080, grad=-0.0909)], [Var(v=0.0177, grad=-0.0004), Var(v=0.0732, grad=0.1267), Var(v=-0.0690, grad=0.0014), Var(v=-0.0958, grad=0.0000), Var(v=0.0430, grad=-0.1006), Var(v=0.0252, grad=-0.8391), Var(v=-0.0444, grad=-0.5775), Var(v=-0.0255, grad=0.0013), Var(v=0.0056, grad=0.0000), Var(v=0.1049, grad=0.7351), Var(v=0.0761, grad=-0.1389), Var(v=0.0593, grad=-1.0324), Var(v=0.1591, grad=-0.0514), Var(v=0.0415, grad=0.0851), Var(v=0.0009, grad=0.5701), Var(v=-0.1741, grad=-0.0014), Var(v=-0.0538, grad=-0.0017), Var(v=-0.0013, grad=-0.3663), Var(v=0.0443, grad=0.3373), Var(v=0.3527, grad=0.7201), Var(v=0.1204, grad=0.4243), Var(v=-0.0434, grad=0.5372), Var(v=-0.0053, grad=-0.0075), Var(v=0.1041, grad=-0.0295), Var(v=-0.0492, grad=-0.8001), Var(v=-0.1276, grad=0.0528), Var(v=0.1394, grad=0.1696), Var(v=0.0819, grad=0.1171), Var(v=0.0082, grad=0.0075), Var(v=0.0646, grad=-0.3167), Var(v=0.0823, grad=1.0148), Var(v=0.0558, grad=0.1444), Var(v=0.1215, grad=-0.1962), Var(v=-0.0737, grad=-0.3738), Var(v=-0.0016, grad=-0.0003), Var(v=-0.1320, grad=-1.3171), Var(v=0.0996, grad=-0.0313), Var(v=-0.0355, grad=0.0034), Var(v=-0.1026, grad=0.0000), Var(v=-0.0287, grad=0.0144), Var(v=-0.1687, grad=-0.0606), Var(v=-0.1440, grad=0.0002), Var(v=-0.0424, grad=0.0100), Var(v=-0.0105, grad=0.0240), Var(v=0.0591, grad=-0.6447), Var(v=-0.0371, grad=0.9770), Var(v=-0.1142, grad=-0.0044), Var(v=-0.0496, grad=-0.4108), Var(v=-0.0566, grad=0.0000), Var(v=-0.0724, grad=0.0226)], [Var(v=-0.0226, grad=-0.0040), Var(v=-0.0175, grad=-0.2573), Var(v=-0.0055, grad=-0.0020), Var(v=-0.1084, grad=0.0000), Var(v=-0.0016, grad=0.1424), Var(v=-0.1766, grad=-0.0282), Var(v=-0.0901, grad=-0.0609), Var(v=-0.0544, grad=0.0020), Var(v=-0.0535, grad=0.0024), Var(v=-0.0388, grad=0.0352), Var(v=-0.0761, grad=0.0688), Var(v=0.2132, grad=0.4146), Var(v=0.0047, grad=-0.0226), Var(v=-0.0475, grad=0.0088), Var(v=0.0675, grad=-0.3019), Var(v=-0.0361, grad=-0.0134), Var(v=-0.1517, grad=0.0000), Var(v=-0.1340, grad=0.0752), Var(v=0.0136, grad=-0.2234), Var(v=-0.1619, grad=0.1061), Var(v=-0.0474, grad=-0.1853), Var(v=0.0540, grad=-0.2172), Var(v=0.0558, grad=-0.1132), Var(v=0.0549, grad=0.0133), Var(v=0.1024, grad=0.5051), Var(v=-0.2437, grad=0.0018), Var(v=0.0819, grad=0.0000), Var(v=-0.0514, grad=0.0060), Var(v=-0.0720, grad=0.0581), Var(v=0.0930, grad=0.4242), Var(v=0.0244, grad=-0.5126), Var(v=0.1519, grad=-0.0370), Var(v=-0.0760, grad=-0.0319), Var(v=0.0028, grad=0.1925), Var(v=0.1023, grad=-0.0925), Var(v=0.0313, grad=0.5647), Var(v=0.0624, grad=0.1035), Var(v=0.2266, grad=0.1786), Var(v=0.0036, grad=-0.2740), Var(v=-0.1009, grad=0.0006), Var(v=-0.1813, grad=0.0167), Var(v=0.0179, grad=0.0031), Var(v=0.0270, grad=-0.0458), Var(v=0.1269, grad=-0.0104), Var(v=0.1522, grad=0.4400), Var(v=-0.0249, grad=-0.2273), Var(v=0.0020, grad=0.2336), Var(v=0.0372, grad=0.2327), Var(v=-0.0618, grad=0.0000), Var(v=-0.1033, grad=0.0067)], [Var(v=-0.2942, grad=0.0080), Var(v=-0.0651, grad=0.1275), Var(v=0.1316, grad=0.0010), Var(v=0.0170, grad=0.0000), Var(v=0.0173, grad=-0.0401), Var(v=0.0048, grad=-0.5019), Var(v=-0.0441, grad=-0.3784), Var(v=0.0736, grad=0.0005), Var(v=0.1503, grad=0.0000), Var(v=-0.0206, grad=0.4523), Var(v=0.0628, grad=-0.0724), Var(v=-0.2008, grad=-0.6671), Var(v=0.0549, grad=-0.0259), Var(v=0.0052, grad=0.0554), Var(v=0.0004, grad=0.3301), Var(v=-0.1912, grad=-0.0008), Var(v=-0.0004, grad=-0.0010), Var(v=0.0586, grad=-0.2487), Var(v=0.1168, grad=0.2373), Var(v=-0.0673, grad=0.4515), Var(v=0.0678, grad=0.2695), Var(v=0.1784, grad=0.3469), Var(v=-0.0561, grad=-0.0049), Var(v=0.0462, grad=-0.0212), Var(v=-0.0169, grad=-0.4832), Var(v=-0.0403, grad=0.0507), Var(v=-0.0473, grad=0.1096), Var(v=0.0621, grad=0.0682), Var(v=0.0383, grad=-0.0123), Var(v=-0.0407, grad=-0.2343), Var(v=0.0610, grad=0.6386), Var(v=-0.0664, grad=0.0929), Var(v=-0.2028, grad=-0.1164), Var(v=0.0324, grad=-0.2272), Var(v=-0.2237, grad=0.0090), Var(v=0.0355, grad=-0.8606), Var(v=-0.0335, grad=-0.0357), Var(v=0.0230, grad=0.0000), Var(v=-0.0366, grad=0.0000), Var(v=-0.1852, grad=0.0364), Var(v=-0.1384, grad=-0.0254), Var(v=0.0183, grad=-0.0004), Var(v=-0.1222, grad=0.0005), Var(v=0.0532, grad=0.0153), Var(v=-0.0259, grad=-0.4342), Var(v=0.1635, grad=0.6421), Var(v=-0.0255, grad=-0.0016), Var(v=-0.0064, grad=-0.2287), Var(v=-0.0306, grad=0.0000), Var(v=-0.0115, grad=0.0213)], [Var(v=0.0510, grad=0.0218), Var(v=-0.1234, grad=0.0277), Var(v=-0.0662, grad=0.0017), Var(v=-0.1805, grad=0.0000), Var(v=-0.0592, grad=-0.0311), Var(v=0.2280, grad=-1.3674), Var(v=0.0682, grad=-0.8741), Var(v=-0.0531, grad=-0.0009), Var(v=-0.1796, grad=0.0000), Var(v=0.1199, grad=1.1354), Var(v=-0.1839, grad=-0.0954), Var(v=0.0213, grad=-1.4370), Var(v=-0.0694, grad=-0.1670), Var(v=-0.0031, grad=0.1310), Var(v=0.0201, grad=0.7846), Var(v=0.1027, grad=-0.0068), Var(v=0.0768, grad=-0.0029), Var(v=-0.1139, grad=-0.5163), Var(v=-0.0823, grad=0.4695), Var(v=0.0454, grad=1.0891), Var(v=-0.0405, grad=0.5655), Var(v=0.0885, grad=0.7328), Var(v=-0.0399, grad=-0.0369), Var(v=-0.1158, grad=-0.0346), Var(v=0.1066, grad=-1.1088), Var(v=-0.0983, grad=0.0530), Var(v=-0.0803, grad=0.2506), Var(v=0.0626, grad=0.1759), Var(v=-0.1285, grad=0.0090), Var(v=-0.1043, grad=-0.3049), Var(v=0.1370, grad=1.3125), Var(v=0.0481, grad=0.2074), Var(v=0.1425, grad=-0.3242), Var(v=-0.0044, grad=-0.5501), Var(v=-0.1166, grad=-0.0317), Var(v=0.0398, grad=-1.8182), Var(v=-0.1786, grad=-0.0121), Var(v=-0.1141, grad=0.0557), Var(v=-0.2085, grad=0.0009), Var(v=-0.0351, grad=0.0107), Var(v=-0.1286, grad=-0.0443), Var(v=-0.0558, grad=0.0007), Var(v=-0.1361, grad=0.0101), Var(v=0.0815, grad=0.0333), Var(v=0.0154, grad=-0.8396), Var(v=0.0260, grad=1.2816), Var(v=0.0395, grad=-0.0620), Var(v=0.1100, grad=-0.6028), Var(v=0.0193, grad=0.0000), Var(v=0.0071, grad=0.0216)], [Var(v=-0.0883, grad=-0.0032), Var(v=0.0481, grad=-0.0466), Var(v=-0.0197, grad=-0.0013), Var(v=-0.0294, grad=0.0000), Var(v=0.0484, grad=0.0051), Var(v=-0.0196, grad=-0.0020), Var(v=0.0359, grad=-0.0904), Var(v=0.1316, grad=0.0009), Var(v=0.0179, grad=-0.0019), Var(v=-0.0000, grad=0.0015), Var(v=0.0137, grad=-0.0229), Var(v=0.0323, grad=0.1190), Var(v=-0.2821, grad=0.0000), Var(v=-0.2042, grad=0.0023), Var(v=0.0311, grad=-0.1384), Var(v=0.1424, grad=-0.0068), Var(v=0.1148, grad=0.0000), Var(v=0.1542, grad=0.0098), Var(v=0.0373, grad=-0.1530), Var(v=0.0479, grad=0.1342), Var(v=-0.0445, grad=-0.0683), Var(v=-0.0117, grad=-0.0850), Var(v=0.0271, grad=-0.0858), Var(v=0.0386, grad=0.0036), Var(v=0.0721, grad=0.3075), Var(v=-0.0656, grad=0.0185), Var(v=-0.1650, grad=0.0000), Var(v=-0.0060, grad=0.0002), Var(v=0.0915, grad=0.0048), Var(v=0.0498, grad=0.0996), Var(v=0.1050, grad=-0.1598), Var(v=0.0393, grad=-0.0091), Var(v=0.1472, grad=-0.0151), Var(v=-0.0199, grad=0.1485), Var(v=-0.1338, grad=-0.0233), Var(v=0.0835, grad=0.1535), Var(v=0.0519, grad=0.0262), Var(v=-0.0455, grad=0.0367), Var(v=0.1098, grad=-0.1431), Var(v=-0.1841, grad=0.0865), Var(v=-0.1667, grad=0.0033), Var(v=-0.0679, grad=0.0016), Var(v=-0.0489, grad=-0.0473), Var(v=0.0438, grad=-0.0049), Var(v=0.1857, grad=0.1193), Var(v=0.0978, grad=-0.0744), Var(v=0.0040, grad=0.0933), Var(v=0.0179, grad=0.0380), Var(v=0.0277, grad=0.0000), Var(v=0.0472, grad=0.0189)], [Var(v=-0.1305, grad=-0.0004), Var(v=0.0636, grad=0.0490), Var(v=-0.1364, grad=-0.0000), Var(v=-0.2114, grad=0.0000), Var(v=-0.0014, grad=0.0021), Var(v=-0.1491, grad=-0.0966), Var(v=-0.0415, grad=-0.1368), Var(v=-0.0042, grad=0.0005), Var(v=-0.0906, grad=0.0000), Var(v=-0.0278, grad=0.1058), Var(v=0.0550, grad=0.0016), Var(v=0.0662, grad=-0.1538), Var(v=0.1734, grad=-0.0014), Var(v=0.0251, grad=0.0178), Var(v=0.0347, grad=0.0099), Var(v=0.0695, grad=-0.0038), Var(v=0.0014, grad=-0.0001), Var(v=0.0095, grad=-0.0641), Var(v=0.2031, grad=0.0076), Var(v=0.0916, grad=0.1676), Var(v=0.0346, grad=0.0336), Var(v=0.1337, grad=0.0626), Var(v=0.1326, grad=-0.0322), Var(v=0.1348, grad=-0.0071), Var(v=-0.1314, grad=0.0041), Var(v=-0.0668, grad=0.0465), Var(v=0.0677, grad=0.0222), Var(v=-0.0605, grad=0.0117), Var(v=-0.1480, grad=-0.0137), Var(v=-0.1714, grad=-0.0803), Var(v=-0.1974, grad=0.1346), Var(v=0.0837, grad=0.0254), Var(v=0.2678, grad=-0.0193), Var(v=0.0369, grad=0.0139), Var(v=-0.0302, grad=0.0041), Var(v=0.1788, grad=-0.1984), Var(v=0.2055, grad=-0.0127), Var(v=-0.1150, grad=0.0013), Var(v=0.0424, grad=-0.0443), Var(v=-0.0552, grad=0.0702), Var(v=0.0375, grad=0.0000), Var(v=-0.0760, grad=0.0003), Var(v=-0.0629, grad=-0.0051), Var(v=-0.0354, grad=0.0024), Var(v=-0.0502, grad=-0.0809), Var(v=0.0774, grad=0.1474), Var(v=0.0478, grad=0.0010), Var(v=-0.0224, grad=-0.0279), Var(v=0.0273, grad=0.0000), Var(v=-0.0367, grad=0.0203)], [Var(v=0.0264, grad=-0.0039), Var(v=0.0863, grad=-0.0703), Var(v=-0.0482, grad=-0.0008), Var(v=0.0122, grad=0.0000), Var(v=0.1439, grad=0.0385), Var(v=-0.0842, grad=0.0035), Var(v=-0.0045, grad=-0.0245), Var(v=0.0444, grad=0.0005), Var(v=0.0612, grad=0.0002), Var(v=-0.1149, grad=0.0026), Var(v=-0.0530, grad=0.0098), Var(v=-0.1372, grad=0.1314), Var(v=0.0143, grad=-0.0033), Var(v=0.0571, grad=0.0006), Var(v=-0.0004, grad=-0.0977), Var(v=-0.1626, grad=-0.0041), Var(v=0.0156, grad=0.0001), Var(v=0.0051, grad=0.0209), Var(v=-0.0291, grad=-0.0797), Var(v=0.0605, grad=0.0428), Var(v=0.0968, grad=-0.0584), Var(v=0.0142, grad=-0.0736), Var(v=-0.0784, grad=-0.0440), Var(v=-0.0153, grad=0.0043), Var(v=-0.0505, grad=0.1891), Var(v=-0.1044, grad=-0.0022), Var(v=0.0571, grad=0.0000), Var(v=-0.1047, grad=0.0004), Var(v=-0.0372, grad=0.0150), Var(v=-0.1972, grad=0.1278), Var(v=0.0690, grad=-0.1729), Var(v=-0.2058, grad=-0.0130), Var(v=-0.0749, grad=-0.0109), Var(v=0.0258, grad=0.0753), Var(v=-0.0521, grad=-0.0271), Var(v=0.0267, grad=0.1790), Var(v=-0.0233, grad=0.0303), Var(v=-0.1537, grad=0.0469), Var(v=-0.0219, grad=-0.0920), Var(v=-0.0359, grad=0.0074), Var(v=0.1792, grad=0.0055), Var(v=0.0257, grad=0.0010), Var(v=-0.0019, grad=-0.0267), Var(v=0.1583, grad=-0.0036), Var(v=0.1509, grad=0.1372), Var(v=-0.1419, grad=-0.0761), Var(v=0.0733, grad=0.0792), Var(v=-0.0036, grad=0.0669), Var(v=-0.0227, grad=0.0000), Var(v=-0.1132, grad=0.0038)], [Var(v=-0.0462, grad=-0.2025), Var(v=0.0021, grad=-0.6832), Var(v=-0.1200, grad=0.0000), Var(v=-0.1167, grad=0.0000), Var(v=0.2392, grad=-1.7523), Var(v=-0.0056, grad=0.5716), Var(v=0.0964, grad=0.9131), Var(v=0.0481, grad=0.0189), Var(v=0.0393, grad=0.0500), Var(v=-0.0185, grad=-0.6591), Var(v=0.0411, grad=-1.3953), Var(v=-0.0459, grad=1.2308), Var(v=0.0738, grad=0.8887), Var(v=0.2352, grad=-0.1285), Var(v=0.0229, grad=-0.1645), Var(v=-0.1177, grad=-0.0002), Var(v=0.0154, grad=0.0041), Var(v=0.1350, grad=0.7028), Var(v=0.1065, grad=-0.4655), Var(v=-0.0218, grad=-0.7462), Var(v=0.0969, grad=-0.1838), Var(v=0.1024, grad=-0.7113), Var(v=-0.1358, grad=0.0000), Var(v=-0.1055, grad=0.0151), Var(v=0.0582, grad=0.4068), Var(v=-0.0827, grad=-0.2845), Var(v=-0.0897, grad=-0.2705), Var(v=-0.2325, grad=0.0041), Var(v=0.1361, grad=0.4540), Var(v=-0.1637, grad=0.1013), Var(v=-0.2854, grad=-0.2628), Var(v=0.0508, grad=-0.2628), Var(v=0.0746, grad=0.4041), Var(v=-0.1108, grad=0.1310), Var(v=0.0379, grad=-0.2900), Var(v=0.0738, grad=2.0994), Var(v=0.0578, grad=0.3738), Var(v=0.0428, grad=0.0862), Var(v=-0.0271, grad=0.0038), Var(v=-0.0514, grad=0.0000), Var(v=0.1093, grad=-0.6985), Var(v=0.1265, grad=0.0051), Var(v=0.0811, grad=0.2498), Var(v=-0.0090, grad=-0.0387), Var(v=0.0623, grad=1.6026), Var(v=0.0517, grad=-0.2776), Var(v=0.0093, grad=1.3444), Var(v=-0.1226, grad=0.0197), Var(v=-0.0125, grad=0.0000), Var(v=-0.0849, grad=-0.0395)], [Var(v=0.0106, grad=-0.0012), Var(v=-0.0310, grad=-0.2040), Var(v=0.0541, grad=-0.0015), Var(v=-0.0830, grad=0.0000), Var(v=-0.2858, grad=0.1031), Var(v=-0.0819, grad=-0.0472), Var(v=-0.1647, grad=-0.0530), Var(v=0.0058, grad=0.0015), Var(v=-0.0244, grad=-0.0014), Var(v=-0.1463, grad=0.0357), Var(v=0.1147, grad=0.0535), Var(v=0.0499, grad=0.3255), Var(v=-0.1399, grad=-0.0243), Var(v=-0.0777, grad=0.0081), Var(v=0.0386, grad=-0.2248), Var(v=0.0310, grad=-0.0108), Var(v=-0.0324, grad=-0.0001), Var(v=-0.0968, grad=0.0576), Var(v=-0.1386, grad=-0.1653), Var(v=-0.1168, grad=0.0816), Var(v=0.1596, grad=-0.1373), Var(v=-0.0692, grad=-0.1567), Var(v=-0.0591, grad=-0.0872), Var(v=-0.0573, grad=0.0106), Var(v=-0.0981, grad=0.3679), Var(v=-0.0147, grad=0.0025), Var(v=-0.0550, grad=0.0000), Var(v=0.0219, grad=0.0058), Var(v=0.0667, grad=0.0459), Var(v=0.0600, grad=0.3171), Var(v=-0.0247, grad=-0.3790), Var(v=-0.1339, grad=-0.0254), Var(v=0.0032, grad=-0.0239), Var(v=0.0119, grad=0.1484), Var(v=0.0034, grad=-0.0710), Var(v=0.0715, grad=0.4206), Var(v=0.0533, grad=0.0795), Var(v=-0.0302, grad=0.1317), Var(v=-0.0059, grad=-0.2102), Var(v=0.1015, grad=0.0048), Var(v=0.0766, grad=0.0157), Var(v=-0.0316, grad=0.0023), Var(v=-0.0116, grad=-0.0316), Var(v=0.1539, grad=-0.0078), Var(v=0.0439, grad=0.3311), Var(v=0.0221, grad=-0.1790), Var(v=0.0273, grad=0.1649), Var(v=0.0070, grad=0.1685), Var(v=-0.2293, grad=0.0000), Var(v=-0.0690, grad=0.0047)], [Var(v=0.0396, grad=-0.0714), Var(v=-0.0878, grad=-0.5121), Var(v=0.0306, grad=0.0003), Var(v=-0.0634, grad=0.0000), Var(v=-0.0892, grad=-1.1148), Var(v=-0.0807, grad=-0.0373), Var(v=0.1921, grad=0.5217), Var(v=-0.0007, grad=0.0091), Var(v=0.0045, grad=0.0021), Var(v=-0.0168, grad=-0.2508), Var(v=0.0307, grad=-1.2387), Var(v=0.0665, grad=0.9012), Var(v=0.0420, grad=0.5742), Var(v=0.0722, grad=-0.0758), Var(v=-0.0538, grad=0.1185), Var(v=-0.1457, grad=0.0000), Var(v=-0.0305, grad=0.0005), Var(v=0.0452, grad=0.4118), Var(v=-0.0878, grad=-0.0582), Var(v=-0.0702, grad=-0.5337), Var(v=0.0521, grad=0.1030), Var(v=-0.0943, grad=-0.2159), Var(v=-0.0439, grad=0.0000), Var(v=-0.0607, grad=0.0152), Var(v=0.0041, grad=-0.1355), Var(v=-0.0581, grad=-0.2997), Var(v=0.1604, grad=-0.2489), Var(v=-0.0275, grad=0.0361), Var(v=-0.0705, grad=0.1843), Var(v=-0.0600, grad=0.1059), Var(v=-0.1063, grad=-0.0502), Var(v=0.1341, grad=-0.1507), Var(v=0.0617, grad=0.2829), Var(v=0.1305, grad=-0.0229), Var(v=-0.0992, grad=-0.2213), Var(v=0.1227, grad=1.2018), Var(v=0.0933, grad=0.2571), Var(v=-0.1206, grad=0.0063), Var(v=-0.0226, grad=0.0000), Var(v=-0.0263, grad=0.0000), Var(v=0.0975, grad=-0.5885), Var(v=-0.2057, grad=0.0015), Var(v=-0.1268, grad=0.0810), Var(v=0.1629, grad=-0.0222), Var(v=-0.0517, grad=0.9914), Var(v=-0.1003, grad=-0.0909), Var(v=0.1146, grad=1.1653), Var(v=-0.0906, grad=-0.0987), Var(v=-0.0293, grad=0.0000), Var(v=-0.0697, grad=-0.0536)], [Var(v=0.1539, grad=-0.0801), Var(v=0.0151, grad=-0.1041), Var(v=-0.1726, grad=0.0002), Var(v=-0.0257, grad=0.0000), Var(v=0.0492, grad=-0.5375), Var(v=0.1504, grad=-0.0409), Var(v=0.0134, grad=0.1135), Var(v=0.1957, grad=0.0066), Var(v=-0.1777, grad=0.0114), Var(v=0.1093, grad=-0.0712), Var(v=0.0385, grad=-0.4638), Var(v=0.0228, grad=0.0753), Var(v=-0.0649, grad=0.2619), Var(v=0.0272, grad=-0.0154), Var(v=-0.0416, grad=0.1192), Var(v=-0.0816, grad=0.0000), Var(v=0.0537, grad=0.0007), Var(v=0.0088, grad=0.1140), Var(v=-0.0371, grad=-0.1152), Var(v=-0.1025, grad=-0.0071), Var(v=-0.0491, grad=0.0548), Var(v=0.0597, grad=-0.0781), Var(v=-0.1862, grad=0.0000), Var(v=-0.0628, grad=-0.0029), Var(v=0.2148, grad=-0.1053), Var(v=0.0814, grad=-0.0762), Var(v=0.0386, grad=-0.0552), Var(v=0.0849, grad=0.0364), Var(v=-0.1949, grad=0.0956), Var(v=-0.0747, grad=-0.0239), Var(v=-0.0759, grad=0.2680), Var(v=0.0162, grad=-0.0333), Var(v=-0.0156, grad=0.0535), Var(v=0.1323, grad=-0.0551), Var(v=0.0681, grad=-0.0767), Var(v=0.0042, grad=0.2455), Var(v=0.1556, grad=0.1016), Var(v=-0.1857, grad=0.0160), Var(v=-0.1383, grad=0.0000), Var(v=-0.0916, grad=0.0000), Var(v=0.1829, grad=-0.2448), Var(v=0.0950, grad=0.0022), Var(v=0.0506, grad=0.0731), Var(v=0.0497, grad=-0.0045), Var(v=0.0659, grad=0.2525), Var(v=-0.2635, grad=0.2189), Var(v=0.0862, grad=0.4007), Var(v=-0.0269, grad=-0.1377), Var(v=0.0201, grad=0.0000), Var(v=0.1517, grad=-0.0040)], [Var(v=-0.1387, grad=0.0000), Var(v=0.2002, grad=-0.2657), Var(v=-0.0855, grad=-0.0000), Var(v=-0.0215, grad=0.0000), Var(v=0.0399, grad=-0.5015), Var(v=0.0327, grad=0.0015), Var(v=0.1099, grad=0.2158), Var(v=-0.0660, grad=0.0002), Var(v=-0.0029, grad=-0.0021), Var(v=-0.1736, grad=-0.0648), Var(v=-0.0346, grad=-0.6733), Var(v=-0.0207, grad=0.3885), Var(v=0.0601, grad=0.1600), Var(v=-0.0858, grad=-0.0451), Var(v=-0.0320, grad=0.0439), Var(v=0.0478, grad=0.0027), Var(v=-0.1180, grad=0.0000), Var(v=0.0837, grad=0.1651), Var(v=0.0308, grad=0.0315), Var(v=0.1829, grad=-0.2301), Var(v=0.0735, grad=0.0652), Var(v=-0.2202, grad=-0.0290), Var(v=-0.0971, grad=-0.0205), Var(v=-0.0119, grad=0.0126), Var(v=-0.2005, grad=0.0480), Var(v=-0.0564, grad=-0.1517), Var(v=-0.0276, grad=-0.1232), Var(v=-0.0521, grad=0.0006), Var(v=0.0105, grad=0.0879), Var(v=-0.1153, grad=-0.0195), Var(v=-0.0358, grad=-0.1972), Var(v=-0.1229, grad=-0.0840), Var(v=0.1423, grad=0.1511), Var(v=-0.0315, grad=0.0382), Var(v=0.1882, grad=-0.0833), Var(v=-0.0478, grad=0.5001), Var(v=0.0464, grad=0.0878), Var(v=-0.0747, grad=-0.0311), Var(v=-0.1067, grad=0.0045), Var(v=-0.0694, grad=0.1149), Var(v=-0.0846, grad=-0.2326), Var(v=0.0265, grad=-0.0008), Var(v=0.0956, grad=-0.0170), Var(v=-0.1727, grad=-0.0123), Var(v=0.1697, grad=0.3818), Var(v=-0.0697, grad=-0.2141), Var(v=-0.1207, grad=0.5492), Var(v=-0.0115, grad=-0.1074), Var(v=0.0484, grad=0.0000), Var(v=0.1305, grad=-0.0309)], [Var(v=-0.0522, grad=-0.0022), Var(v=0.0417, grad=0.2281), Var(v=0.1469, grad=0.0006), Var(v=-0.0204, grad=0.0000), Var(v=-0.0460, grad=0.0028), Var(v=-0.1041, grad=-0.7190), Var(v=0.0629, grad=-0.7686), Var(v=-0.0726, grad=0.0018), Var(v=-0.0852, grad=0.0000), Var(v=0.0275, grad=0.7256), Var(v=-0.1123, grad=0.0056), Var(v=0.0339, grad=-1.0014), Var(v=-0.1824, grad=-0.0358), Var(v=0.0726, grad=0.1078), Var(v=0.0147, grad=0.2363), Var(v=-0.0021, grad=-0.0169), Var(v=-0.1272, grad=-0.0008), Var(v=0.2723, grad=-0.4101), Var(v=0.0602, grad=0.1969), Var(v=0.0045, grad=0.9199), Var(v=0.0921, grad=0.2927), Var(v=0.0545, grad=0.4695), Var(v=0.0160, grad=-0.1252), Var(v=0.0765, grad=-0.0391), Var(v=0.0812, grad=-0.3044), Var(v=0.1750, grad=0.2147), Var(v=-0.0437, grad=0.1648), Var(v=-0.0363, grad=0.0885), Var(v=0.0331, grad=-0.0526), Var(v=0.1853, grad=-0.4428), Var(v=0.0608, grad=0.8763), Var(v=-0.1293, grad=0.1561), Var(v=-0.2010, grad=-0.1429), Var(v=0.0168, grad=-0.1120), Var(v=0.0957, grad=0.0136), Var(v=0.1548, grad=-1.2918), Var(v=0.0536, grad=-0.0644), Var(v=-0.0942, grad=0.0072), Var(v=0.0077, grad=-0.1587), Var(v=0.1179, grad=0.3088), Var(v=-0.0901, grad=0.0000), Var(v=0.1794, grad=0.0006), Var(v=-0.0637, grad=-0.0065), Var(v=-0.0058, grad=0.0184), Var(v=-0.1029, grad=-0.5531), Var(v=0.1533, grad=0.9563), Var(v=-0.0794, grad=-0.0136), Var(v=-0.0761, grad=-0.2348), Var(v=-0.0200, grad=0.0000), Var(v=0.0090, grad=0.0874)]] Biases: [Var(v=0.0000, grad=-0.2974), Var(v=0.0000, grad=-0.7727), Var(v=0.0000, grad=0.0020), Var(v=0.0000, grad=0.0000), Var(v=0.0000, grad=-4.4910), Var(v=0.0000, grad=-1.7530), Var(v=0.0000, grad=-0.2259), Var(v=0.0000, grad=0.0220), Var(v=0.0000, grad=0.0681), Var(v=0.0000, grad=0.6924), Var(v=0.0000, grad=-4.7243), Var(v=0.0000, grad=-0.5919), Var(v=0.0000, grad=2.2063), Var(v=0.0000, grad=-0.0358), Var(v=0.0000, grad=1.6178), Var(v=0.0000, grad=0.0065), Var(v=0.0000, grad=0.0027), Var(v=0.0000, grad=0.4042), Var(v=0.0000, grad=0.3930), Var(v=0.0000, grad=1.0677), Var(v=0.0000, grad=1.2964), Var(v=0.0000, grad=-0.0255), Var(v=0.0000, grad=-0.4080), Var(v=0.0000, grad=-0.0909), Var(v=0.0000, grad=-1.0081), Var(v=0.0000, grad=-0.6089), Var(v=0.0000, grad=-0.5817), Var(v=0.0000, grad=0.3932), Var(v=0.0000, grad=0.3674), Var(v=0.0000, grad=-1.1584), Var(v=0.0000, grad=2.4523), Var(v=0.0000, grad=-0.2535), Var(v=0.0000, grad=0.2537), Var(v=0.0000, grad=-0.0842), Var(v=0.0000, grad=-0.6440), Var(v=0.0000, grad=0.2577), Var(v=0.0000, grad=0.6614), Var(v=0.0000, grad=-0.1491), Var(v=0.0000, grad=0.0098), Var(v=0.0000, grad=0.8999), Var(v=0.0000, grad=-2.2400), Var(v=0.0000, grad=0.0025), Var(v=0.0000, grad=-0.0324), Var(v=0.0000, grad=-0.0284), Var(v=0.0000, grad=1.4663), Var(v=0.0000, grad=2.6144), Var(v=0.0000, grad=4.2576), Var(v=0.0000, grad=-1.7274), Var(v=0.0000, grad=0.0000), Var(v=0.0000, grad=0.0983)]\n",
            "Layer 2 \n",
            " Weights: [[Var(v=-0.0765, grad=0.0853)], [Var(v=-0.1260, grad=0.1263)], [Var(v=-0.0008, grad=0.1633)], [Var(v=0.0632, grad=0.0000)], [Var(v=-0.1542, grad=1.9034)], [Var(v=0.1247, grad=-1.9580)], [Var(v=0.0745, grad=3.1711)], [Var(v=0.0034, grad=0.4202)], [Var(v=0.0367, grad=-0.0036)], [Var(v=-0.0944, grad=-2.2809)], [Var(v=-0.1121, grad=1.3004)], [Var(v=0.1330, grad=1.4551)], [Var(v=0.0866, grad=0.6421)], [Var(v=-0.0108, grad=3.0503)], [Var(v=-0.0881, grad=0.3754)], [Var(v=-0.0064, grad=0.1286)], [Var(v=0.0010, grad=0.0575)], [Var(v=0.0555, grad=0.2662)], [Var(v=-0.1338, grad=0.2148)], [Var(v=-0.0868, grad=-2.2978)], [Var(v=-0.0543, grad=-0.2771)], [Var(v=-0.0692, grad=-0.9510)], [Var(v=-0.0412, grad=0.0619)], [Var(v=0.0074, grad=-0.5064)], [Var(v=0.1158, grad=-0.5923)], [Var(v=-0.0474, grad=-0.2324)], [Var(v=-0.0418, grad=0.1686)], [Var(v=-0.0151, grad=-1.3619)], [Var(v=0.0728, grad=0.2982)], [Var(v=0.0899, grad=-0.2141)], [Var(v=-0.1164, grad=-2.4534)], [Var(v=-0.0212, grad=3.2376)], [Var(v=0.0346, grad=0.3053)], [Var(v=0.0731, grad=-0.0872)], [Var(v=-0.0262, grad=1.5074)], [Var(v=0.1716, grad=1.7424)], [Var(v=0.0301, grad=2.1543)], [Var(v=0.0946, grad=0.2392)], [Var(v=-0.1644, grad=0.1063)], [Var(v=-0.2037, grad=-0.0179)], [Var(v=-0.0634, grad=1.9376)], [Var(v=0.0015, grad=0.4568)], [Var(v=0.0574, grad=0.1290)], [Var(v=-0.0032, grad=1.5699)], [Var(v=0.1310, grad=2.7294)], [Var(v=-0.1294, grad=-1.4452)], [Var(v=0.1184, grad=1.5477)], [Var(v=0.0817, grad=-0.1379)], [Var(v=0.1650, grad=0.0000)], [Var(v=-0.0185, grad=0.1079)]] Biases: [Var(v=0.0000, grad=1.5015)]\n",
            "\n",
            "Network after update:\n",
            "Layer 0 \n",
            " Weights: [[Var(v=0.0716, grad=-0.0050), Var(v=0.2061, grad=-0.1281), Var(v=0.0522, grad=1.4535), Var(v=-0.1063, grad=-0.7188), Var(v=0.0532, grad=1.2119), Var(v=0.0352, grad=-0.4675), Var(v=0.0076, grad=-1.0937), Var(v=0.0383, grad=-0.1770), Var(v=-0.0398, grad=0.4940), Var(v=-0.1461, grad=0.3861), Var(v=-0.0740, grad=-0.0511), Var(v=0.1102, grad=-2.2665), Var(v=-0.0087, grad=-0.4622), Var(v=0.0844, grad=-0.4670), Var(v=0.1836, grad=-0.2322)], [Var(v=-0.0435, grad=0.3090), Var(v=-0.1584, grad=-0.0732), Var(v=-0.0002, grad=1.6577), Var(v=0.1116, grad=1.4126), Var(v=-0.0014, grad=0.7763), Var(v=0.1235, grad=-1.1917), Var(v=0.0716, grad=0.1580), Var(v=0.0434, grad=-0.2175), Var(v=0.0422, grad=-0.2440), Var(v=-0.1141, grad=-0.3353), Var(v=0.0959, grad=0.5862), Var(v=-0.0481, grad=-8.4703), Var(v=-0.0357, grad=-1.7338), Var(v=-0.0157, grad=-1.1460), Var(v=0.1837, grad=0.2410)], [Var(v=0.0012, grad=0.1856), Var(v=-0.0429, grad=0.5692), Var(v=0.1790, grad=2.2177), Var(v=-0.0894, grad=0.2458), Var(v=0.0924, grad=2.1683), Var(v=0.2873, grad=-0.1011), Var(v=-0.1046, grad=0.1149), Var(v=-0.0061, grad=0.8382), Var(v=-0.0531, grad=-0.0978), Var(v=0.0152, grad=-1.3415), Var(v=-0.0547, grad=0.2546), Var(v=0.1286, grad=-4.4982), Var(v=0.1204, grad=-3.5384), Var(v=-0.1011, grad=-0.1308), Var(v=0.0771, grad=0.2876)]] Biases: [Var(v=0.0004, grad=-0.0413), Var(v=0.0021, grad=-0.2096), Var(v=-0.0158, grad=1.5828), Var(v=0.0079, grad=-0.7912), Var(v=-0.0166, grad=1.6628), Var(v=-0.0025, grad=0.2531), Var(v=0.0046, grad=-0.4595), Var(v=0.0018, grad=-0.1778), Var(v=-0.0023, grad=0.2260), Var(v=-0.0018, grad=0.1755), Var(v=0.0068, grad=-0.6766), Var(v=-0.0149, grad=1.4868), Var(v=0.0214, grad=-2.1390), Var(v=-0.0040, grad=0.3976), Var(v=-0.0011, grad=0.1074)]\n",
            "Layer 1 \n",
            " Weights: [[Var(v=-0.0377, grad=-0.0012), Var(v=0.0232, grad=-0.1411), Var(v=-0.1963, grad=0.0003), Var(v=-0.0549, grad=0.0000), Var(v=0.0883, grad=-0.3336), Var(v=0.0003, grad=-0.0182), Var(v=-0.0008, grad=0.1406), Var(v=-0.1488, grad=0.0015), Var(v=-0.0874, grad=0.0000), Var(v=-0.0347, grad=-0.0425), Var(v=-0.0591, grad=-0.4572), Var(v=-0.0346, grad=0.2510), Var(v=0.0142, grad=0.1610), Var(v=-0.0630, grad=-0.0233), Var(v=0.0037, grad=0.0251), Var(v=-0.2689, grad=0.0004), Var(v=0.0279, grad=-0.0000), Var(v=0.0116, grad=0.1089), Var(v=-0.2405, grad=0.0423), Var(v=0.1322, grad=-0.1644), Var(v=-0.0773, grad=0.0593), Var(v=-0.0961, grad=-0.0057), Var(v=-0.1129, grad=0.0000), Var(v=-0.0334, grad=0.0042), Var(v=0.1390, grad=-0.0475), Var(v=0.1400, grad=-0.0924), Var(v=-0.1140, grad=-0.0928), Var(v=-0.0655, grad=0.0079), Var(v=-0.0909, grad=0.0401), Var(v=0.0668, grad=-0.0144), Var(v=0.0843, grad=-0.0454), Var(v=0.2248, grad=-0.0475), Var(v=-0.0175, grad=0.1097), Var(v=-0.0750, grad=-0.0022), Var(v=0.1351, grad=-0.0648), Var(v=0.0863, grad=0.3238), Var(v=0.0079, grad=0.0643), Var(v=-0.1476, grad=0.0000), Var(v=-0.0142, grad=0.0013), Var(v=-0.0174, grad=0.0551), Var(v=-0.1489, grad=-0.1929), Var(v=0.0880, grad=-0.0005), Var(v=0.0680, grad=0.0107), Var(v=-0.1018, grad=-0.0073), Var(v=0.0893, grad=0.2736), Var(v=0.1312, grad=-0.0370), Var(v=-0.0411, grad=0.4186), Var(v=-0.1575, grad=-0.0301), Var(v=0.1137, grad=0.0000), Var(v=0.1831, grad=-0.0161)], [Var(v=-0.0392, grad=-0.0016), Var(v=0.0257, grad=-0.8161), Var(v=-0.0944, grad=0.0005), Var(v=-0.1528, grad=0.0000), Var(v=-0.0683, grad=-1.5321), Var(v=-0.0063, grad=0.0415), Var(v=0.0805, grad=0.8067), Var(v=-0.0687, grad=0.0069), Var(v=-0.0852, grad=-0.0004), Var(v=0.0606, grad=-0.3521), Var(v=0.0651, grad=-1.8790), Var(v=0.0662, grad=1.4389), Var(v=-0.0659, grad=0.6913), Var(v=0.0971, grad=-0.1289), Var(v=-0.1068, grad=0.0333), Var(v=-0.0663, grad=0.0022), Var(v=-0.0467, grad=0.0000), Var(v=-0.0605, grad=0.6115), Var(v=-0.2060, grad=0.0647), Var(v=0.0800, grad=-0.9409), Var(v=-0.2150, grad=0.1353), Var(v=0.0866, grad=-0.2426), Var(v=-0.0226, grad=0.0000), Var(v=0.0816, grad=0.0328), Var(v=-0.2394, grad=-0.0614), Var(v=0.0890, grad=-0.4549), Var(v=-0.0061, grad=-0.3995), Var(v=-0.0547, grad=0.0128), Var(v=-0.0147, grad=0.2657), Var(v=0.1039, grad=0.0929), Var(v=0.1602, grad=-0.4811), Var(v=0.1151, grad=-0.2508), Var(v=-0.0746, grad=0.4870), Var(v=-0.0652, grad=0.0478), Var(v=0.0638, grad=-0.3045), Var(v=0.0298, grad=1.8545), Var(v=-0.0235, grad=0.3298), Var(v=-0.0233, grad=-0.0014), Var(v=-0.0187, grad=0.0076), Var(v=0.0213, grad=0.1458), Var(v=0.0222, grad=-0.7824), Var(v=-0.2192, grad=-0.0012), Var(v=-0.0854, grad=0.0679), Var(v=0.1081, grad=-0.0381), Var(v=0.0252, grad=1.4345), Var(v=0.0564, grad=-0.4944), Var(v=0.0263, grad=1.7066), Var(v=0.1072, grad=-0.1114), Var(v=-0.1777, grad=0.0000), Var(v=-0.0071, grad=-0.0909)], [Var(v=0.0177, grad=-0.0004), Var(v=0.0719, grad=0.1267), Var(v=-0.0690, grad=0.0014), Var(v=-0.0958, grad=0.0000), Var(v=0.0440, grad=-0.1006), Var(v=0.0336, grad=-0.8391), Var(v=-0.0387, grad=-0.5775), Var(v=-0.0256, grad=0.0013), Var(v=0.0056, grad=0.0000), Var(v=0.0976, grad=0.7351), Var(v=0.0775, grad=-0.1389), Var(v=0.0696, grad=-1.0324), Var(v=0.1596, grad=-0.0514), Var(v=0.0407, grad=0.0851), Var(v=-0.0048, grad=0.5701), Var(v=-0.1741, grad=-0.0014), Var(v=-0.0537, grad=-0.0017), Var(v=0.0023, grad=-0.3663), Var(v=0.0409, grad=0.3373), Var(v=0.3455, grad=0.7201), Var(v=0.1162, grad=0.4243), Var(v=-0.0488, grad=0.5372), Var(v=-0.0052, grad=-0.0075), Var(v=0.1044, grad=-0.0295), Var(v=-0.0412, grad=-0.8001), Var(v=-0.1281, grad=0.0528), Var(v=0.1377, grad=0.1696), Var(v=0.0807, grad=0.1171), Var(v=0.0081, grad=0.0075), Var(v=0.0678, grad=-0.3167), Var(v=0.0722, grad=1.0148), Var(v=0.0543, grad=0.1444), Var(v=0.1235, grad=-0.1962), Var(v=-0.0700, grad=-0.3738), Var(v=-0.0016, grad=-0.0003), Var(v=-0.1188, grad=-1.3171), Var(v=0.0999, grad=-0.0313), Var(v=-0.0355, grad=0.0034), Var(v=-0.1026, grad=0.0000), Var(v=-0.0288, grad=0.0144), Var(v=-0.1681, grad=-0.0606), Var(v=-0.1441, grad=0.0002), Var(v=-0.0425, grad=0.0100), Var(v=-0.0107, grad=0.0240), Var(v=0.0656, grad=-0.6447), Var(v=-0.0469, grad=0.9770), Var(v=-0.1141, grad=-0.0044), Var(v=-0.0455, grad=-0.4108), Var(v=-0.0566, grad=0.0000), Var(v=-0.0727, grad=0.0226)], [Var(v=-0.0226, grad=-0.0040), Var(v=-0.0149, grad=-0.2573), Var(v=-0.0055, grad=-0.0020), Var(v=-0.1084, grad=0.0000), Var(v=-0.0030, grad=0.1424), Var(v=-0.1763, grad=-0.0282), Var(v=-0.0894, grad=-0.0609), Var(v=-0.0544, grad=0.0020), Var(v=-0.0535, grad=0.0024), Var(v=-0.0391, grad=0.0352), Var(v=-0.0767, grad=0.0688), Var(v=0.2091, grad=0.4146), Var(v=0.0049, grad=-0.0226), Var(v=-0.0476, grad=0.0088), Var(v=0.0705, grad=-0.3019), Var(v=-0.0359, grad=-0.0134), Var(v=-0.1517, grad=0.0000), Var(v=-0.1348, grad=0.0752), Var(v=0.0159, grad=-0.2234), Var(v=-0.1629, grad=0.1061), Var(v=-0.0456, grad=-0.1853), Var(v=0.0562, grad=-0.2172), Var(v=0.0570, grad=-0.1132), Var(v=0.0547, grad=0.0133), Var(v=0.0973, grad=0.5051), Var(v=-0.2437, grad=0.0018), Var(v=0.0819, grad=0.0000), Var(v=-0.0515, grad=0.0060), Var(v=-0.0726, grad=0.0581), Var(v=0.0888, grad=0.4242), Var(v=0.0296, grad=-0.5126), Var(v=0.1523, grad=-0.0370), Var(v=-0.0757, grad=-0.0319), Var(v=0.0009, grad=0.1925), Var(v=0.1032, grad=-0.0925), Var(v=0.0256, grad=0.5647), Var(v=0.0614, grad=0.1035), Var(v=0.2248, grad=0.1786), Var(v=0.0063, grad=-0.2740), Var(v=-0.1009, grad=0.0006), Var(v=-0.1814, grad=0.0167), Var(v=0.0178, grad=0.0031), Var(v=0.0275, grad=-0.0458), Var(v=0.1270, grad=-0.0104), Var(v=0.1478, grad=0.4400), Var(v=-0.0226, grad=-0.2273), Var(v=-0.0003, grad=0.2336), Var(v=0.0348, grad=0.2327), Var(v=-0.0618, grad=0.0000), Var(v=-0.1033, grad=0.0067)], [Var(v=-0.2943, grad=0.0080), Var(v=-0.0663, grad=0.1275), Var(v=0.1316, grad=0.0010), Var(v=0.0170, grad=0.0000), Var(v=0.0177, grad=-0.0401), Var(v=0.0098, grad=-0.5019), Var(v=-0.0403, grad=-0.3784), Var(v=0.0736, grad=0.0005), Var(v=0.1503, grad=0.0000), Var(v=-0.0252, grad=0.4523), Var(v=0.0635, grad=-0.0724), Var(v=-0.1941, grad=-0.6671), Var(v=0.0552, grad=-0.0259), Var(v=0.0047, grad=0.0554), Var(v=-0.0029, grad=0.3301), Var(v=-0.1912, grad=-0.0008), Var(v=-0.0003, grad=-0.0010), Var(v=0.0611, grad=-0.2487), Var(v=0.1145, grad=0.2373), Var(v=-0.0718, grad=0.4515), Var(v=0.0651, grad=0.2695), Var(v=0.1749, grad=0.3469), Var(v=-0.0560, grad=-0.0049), Var(v=0.0464, grad=-0.0212), Var(v=-0.0121, grad=-0.4832), Var(v=-0.0408, grad=0.0507), Var(v=-0.0484, grad=0.1096), Var(v=0.0614, grad=0.0682), Var(v=0.0385, grad=-0.0123), Var(v=-0.0384, grad=-0.2343), Var(v=0.0546, grad=0.6386), Var(v=-0.0674, grad=0.0929), Var(v=-0.2017, grad=-0.1164), Var(v=0.0347, grad=-0.2272), Var(v=-0.2238, grad=0.0090), Var(v=0.0441, grad=-0.8606), Var(v=-0.0331, grad=-0.0357), Var(v=0.0230, grad=0.0000), Var(v=-0.0366, grad=0.0000), Var(v=-0.1856, grad=0.0364), Var(v=-0.1382, grad=-0.0254), Var(v=0.0183, grad=-0.0004), Var(v=-0.1222, grad=0.0005), Var(v=0.0530, grad=0.0153), Var(v=-0.0216, grad=-0.4342), Var(v=0.1570, grad=0.6421), Var(v=-0.0255, grad=-0.0016), Var(v=-0.0041, grad=-0.2287), Var(v=-0.0306, grad=0.0000), Var(v=-0.0117, grad=0.0213)], [Var(v=0.0508, grad=0.0218), Var(v=-0.1237, grad=0.0277), Var(v=-0.0662, grad=0.0017), Var(v=-0.1805, grad=0.0000), Var(v=-0.0589, grad=-0.0311), Var(v=0.2417, grad=-1.3674), Var(v=0.0769, grad=-0.8741), Var(v=-0.0531, grad=-0.0009), Var(v=-0.1796, grad=0.0000), Var(v=0.1086, grad=1.1354), Var(v=-0.1830, grad=-0.0954), Var(v=0.0357, grad=-1.4370), Var(v=-0.0677, grad=-0.1670), Var(v=-0.0044, grad=0.1310), Var(v=0.0122, grad=0.7846), Var(v=0.1028, grad=-0.0068), Var(v=0.0768, grad=-0.0029), Var(v=-0.1087, grad=-0.5163), Var(v=-0.0870, grad=0.4695), Var(v=0.0345, grad=1.0891), Var(v=-0.0462, grad=0.5655), Var(v=0.0811, grad=0.7328), Var(v=-0.0396, grad=-0.0369), Var(v=-0.1155, grad=-0.0346), Var(v=0.1177, grad=-1.1088), Var(v=-0.0988, grad=0.0530), Var(v=-0.0828, grad=0.2506), Var(v=0.0609, grad=0.1759), Var(v=-0.1286, grad=0.0090), Var(v=-0.1013, grad=-0.3049), Var(v=0.1239, grad=1.3125), Var(v=0.0461, grad=0.2074), Var(v=0.1457, grad=-0.3242), Var(v=0.0011, grad=-0.5501), Var(v=-0.1163, grad=-0.0317), Var(v=0.0580, grad=-1.8182), Var(v=-0.1784, grad=-0.0121), Var(v=-0.1147, grad=0.0557), Var(v=-0.2085, grad=0.0009), Var(v=-0.0352, grad=0.0107), Var(v=-0.1282, grad=-0.0443), Var(v=-0.0558, grad=0.0007), Var(v=-0.1362, grad=0.0101), Var(v=0.0811, grad=0.0333), Var(v=0.0237, grad=-0.8396), Var(v=0.0132, grad=1.2816), Var(v=0.0401, grad=-0.0620), Var(v=0.1160, grad=-0.6028), Var(v=0.0193, grad=0.0000), Var(v=0.0069, grad=0.0216)], [Var(v=-0.0883, grad=-0.0032), Var(v=0.0485, grad=-0.0466), Var(v=-0.0197, grad=-0.0013), Var(v=-0.0294, grad=0.0000), Var(v=0.0484, grad=0.0051), Var(v=-0.0195, grad=-0.0020), Var(v=0.0368, grad=-0.0904), Var(v=0.1316, grad=0.0009), Var(v=0.0179, grad=-0.0019), Var(v=-0.0001, grad=0.0015), Var(v=0.0139, grad=-0.0229), Var(v=0.0311, grad=0.1190), Var(v=-0.2821, grad=0.0000), Var(v=-0.2043, grad=0.0023), Var(v=0.0325, grad=-0.1384), Var(v=0.1425, grad=-0.0068), Var(v=0.1148, grad=0.0000), Var(v=0.1541, grad=0.0098), Var(v=0.0389, grad=-0.1530), Var(v=0.0465, grad=0.1342), Var(v=-0.0438, grad=-0.0683), Var(v=-0.0108, grad=-0.0850), Var(v=0.0279, grad=-0.0858), Var(v=0.0386, grad=0.0036), Var(v=0.0690, grad=0.3075), Var(v=-0.0658, grad=0.0185), Var(v=-0.1650, grad=0.0000), Var(v=-0.0060, grad=0.0002), Var(v=0.0915, grad=0.0048), Var(v=0.0488, grad=0.0996), Var(v=0.1066, grad=-0.1598), Var(v=0.0394, grad=-0.0091), Var(v=0.1474, grad=-0.0151), Var(v=-0.0214, grad=0.1485), Var(v=-0.1335, grad=-0.0233), Var(v=0.0820, grad=0.1535), Var(v=0.0516, grad=0.0262), Var(v=-0.0459, grad=0.0367), Var(v=0.1112, grad=-0.1431), Var(v=-0.1849, grad=0.0865), Var(v=-0.1667, grad=0.0033), Var(v=-0.0679, grad=0.0016), Var(v=-0.0484, grad=-0.0473), Var(v=0.0438, grad=-0.0049), Var(v=0.1845, grad=0.1193), Var(v=0.0985, grad=-0.0744), Var(v=0.0030, grad=0.0933), Var(v=0.0175, grad=0.0380), Var(v=0.0277, grad=0.0000), Var(v=0.0470, grad=0.0189)], [Var(v=-0.1305, grad=-0.0004), Var(v=0.0631, grad=0.0490), Var(v=-0.1364, grad=-0.0000), Var(v=-0.2114, grad=0.0000), Var(v=-0.0014, grad=0.0021), Var(v=-0.1481, grad=-0.0966), Var(v=-0.0401, grad=-0.1368), Var(v=-0.0042, grad=0.0005), Var(v=-0.0906, grad=0.0000), Var(v=-0.0288, grad=0.1058), Var(v=0.0550, grad=0.0016), Var(v=0.0677, grad=-0.1538), Var(v=0.1734, grad=-0.0014), Var(v=0.0249, grad=0.0178), Var(v=0.0346, grad=0.0099), Var(v=0.0696, grad=-0.0038), Var(v=0.0014, grad=-0.0001), Var(v=0.0101, grad=-0.0641), Var(v=0.2030, grad=0.0076), Var(v=0.0899, grad=0.1676), Var(v=0.0342, grad=0.0336), Var(v=0.1331, grad=0.0626), Var(v=0.1329, grad=-0.0322), Var(v=0.1349, grad=-0.0071), Var(v=-0.1314, grad=0.0041), Var(v=-0.0673, grad=0.0465), Var(v=0.0675, grad=0.0222), Var(v=-0.0606, grad=0.0117), Var(v=-0.1479, grad=-0.0137), Var(v=-0.1706, grad=-0.0803), Var(v=-0.1987, grad=0.1346), Var(v=0.0835, grad=0.0254), Var(v=0.2680, grad=-0.0193), Var(v=0.0368, grad=0.0139), Var(v=-0.0302, grad=0.0041), Var(v=0.1807, grad=-0.1984), Var(v=0.2057, grad=-0.0127), Var(v=-0.1150, grad=0.0013), Var(v=0.0429, grad=-0.0443), Var(v=-0.0559, grad=0.0702), Var(v=0.0375, grad=0.0000), Var(v=-0.0760, grad=0.0003), Var(v=-0.0629, grad=-0.0051), Var(v=-0.0354, grad=0.0024), Var(v=-0.0494, grad=-0.0809), Var(v=0.0760, grad=0.1474), Var(v=0.0478, grad=0.0010), Var(v=-0.0221, grad=-0.0279), Var(v=0.0273, grad=0.0000), Var(v=-0.0369, grad=0.0203)], [Var(v=0.0264, grad=-0.0039), Var(v=0.0870, grad=-0.0703), Var(v=-0.0482, grad=-0.0008), Var(v=0.0122, grad=0.0000), Var(v=0.1435, grad=0.0385), Var(v=-0.0842, grad=0.0035), Var(v=-0.0043, grad=-0.0245), Var(v=0.0444, grad=0.0005), Var(v=0.0612, grad=0.0002), Var(v=-0.1149, grad=0.0026), Var(v=-0.0531, grad=0.0098), Var(v=-0.1385, grad=0.1314), Var(v=0.0143, grad=-0.0033), Var(v=0.0570, grad=0.0006), Var(v=0.0006, grad=-0.0977), Var(v=-0.1625, grad=-0.0041), Var(v=0.0156, grad=0.0001), Var(v=0.0048, grad=0.0209), Var(v=-0.0283, grad=-0.0797), Var(v=0.0600, grad=0.0428), Var(v=0.0974, grad=-0.0584), Var(v=0.0149, grad=-0.0736), Var(v=-0.0780, grad=-0.0440), Var(v=-0.0154, grad=0.0043), Var(v=-0.0524, grad=0.1891), Var(v=-0.1044, grad=-0.0022), Var(v=0.0571, grad=0.0000), Var(v=-0.1047, grad=0.0004), Var(v=-0.0374, grad=0.0150), Var(v=-0.1985, grad=0.1278), Var(v=0.0707, grad=-0.1729), Var(v=-0.2057, grad=-0.0130), Var(v=-0.0748, grad=-0.0109), Var(v=0.0251, grad=0.0753), Var(v=-0.0518, grad=-0.0271), Var(v=0.0249, grad=0.1790), Var(v=-0.0237, grad=0.0303), Var(v=-0.1542, grad=0.0469), Var(v=-0.0209, grad=-0.0920), Var(v=-0.0360, grad=0.0074), Var(v=0.1792, grad=0.0055), Var(v=0.0257, grad=0.0010), Var(v=-0.0017, grad=-0.0267), Var(v=0.1584, grad=-0.0036), Var(v=0.1495, grad=0.1372), Var(v=-0.1411, grad=-0.0761), Var(v=0.0725, grad=0.0792), Var(v=-0.0042, grad=0.0669), Var(v=-0.0227, grad=0.0000), Var(v=-0.1132, grad=0.0038)], [Var(v=-0.0442, grad=-0.2025), Var(v=0.0089, grad=-0.6832), Var(v=-0.1200, grad=0.0000), Var(v=-0.1167, grad=0.0000), Var(v=0.2567, grad=-1.7523), Var(v=-0.0113, grad=0.5716), Var(v=0.0873, grad=0.9131), Var(v=0.0479, grad=0.0189), Var(v=0.0388, grad=0.0500), Var(v=-0.0119, grad=-0.6591), Var(v=0.0550, grad=-1.3953), Var(v=-0.0582, grad=1.2308), Var(v=0.0649, grad=0.8887), Var(v=0.2364, grad=-0.1285), Var(v=0.0246, grad=-0.1645), Var(v=-0.1177, grad=-0.0002), Var(v=0.0153, grad=0.0041), Var(v=0.1280, grad=0.7028), Var(v=0.1111, grad=-0.4655), Var(v=-0.0144, grad=-0.7462), Var(v=0.0987, grad=-0.1838), Var(v=0.1095, grad=-0.7113), Var(v=-0.1358, grad=0.0000), Var(v=-0.1056, grad=0.0151), Var(v=0.0542, grad=0.4068), Var(v=-0.0798, grad=-0.2845), Var(v=-0.0870, grad=-0.2705), Var(v=-0.2326, grad=0.0041), Var(v=0.1315, grad=0.4540), Var(v=-0.1647, grad=0.1013), Var(v=-0.2828, grad=-0.2628), Var(v=0.0535, grad=-0.2628), Var(v=0.0705, grad=0.4041), Var(v=-0.1121, grad=0.1310), Var(v=0.0408, grad=-0.2900), Var(v=0.0528, grad=2.0994), Var(v=0.0540, grad=0.3738), Var(v=0.0419, grad=0.0862), Var(v=-0.0271, grad=0.0038), Var(v=-0.0514, grad=0.0000), Var(v=0.1162, grad=-0.6985), Var(v=0.1264, grad=0.0051), Var(v=0.0786, grad=0.2498), Var(v=-0.0086, grad=-0.0387), Var(v=0.0463, grad=1.6026), Var(v=0.0545, grad=-0.2776), Var(v=-0.0041, grad=1.3444), Var(v=-0.1228, grad=0.0197), Var(v=-0.0125, grad=0.0000), Var(v=-0.0845, grad=-0.0395)], [Var(v=0.0106, grad=-0.0012), Var(v=-0.0289, grad=-0.2040), Var(v=0.0541, grad=-0.0015), Var(v=-0.0830, grad=0.0000), Var(v=-0.2868, grad=0.1031), Var(v=-0.0814, grad=-0.0472), Var(v=-0.1642, grad=-0.0530), Var(v=0.0058, grad=0.0015), Var(v=-0.0243, grad=-0.0014), Var(v=-0.1467, grad=0.0357), Var(v=0.1142, grad=0.0535), Var(v=0.0467, grad=0.3255), Var(v=-0.1397, grad=-0.0243), Var(v=-0.0778, grad=0.0081), Var(v=0.0409, grad=-0.2248), Var(v=0.0311, grad=-0.0108), Var(v=-0.0324, grad=-0.0001), Var(v=-0.0974, grad=0.0576), Var(v=-0.1370, grad=-0.1653), Var(v=-0.1176, grad=0.0816), Var(v=0.1610, grad=-0.1373), Var(v=-0.0676, grad=-0.1567), Var(v=-0.0582, grad=-0.0872), Var(v=-0.0574, grad=0.0106), Var(v=-0.1018, grad=0.3679), Var(v=-0.0148, grad=0.0025), Var(v=-0.0550, grad=0.0000), Var(v=0.0219, grad=0.0058), Var(v=0.0663, grad=0.0459), Var(v=0.0568, grad=0.3171), Var(v=-0.0209, grad=-0.3790), Var(v=-0.1336, grad=-0.0254), Var(v=0.0035, grad=-0.0239), Var(v=0.0105, grad=0.1484), Var(v=0.0041, grad=-0.0710), Var(v=0.0673, grad=0.4206), Var(v=0.0525, grad=0.0795), Var(v=-0.0315, grad=0.1317), Var(v=-0.0038, grad=-0.2102), Var(v=0.1014, grad=0.0048), Var(v=0.0764, grad=0.0157), Var(v=-0.0316, grad=0.0023), Var(v=-0.0113, grad=-0.0316), Var(v=0.1540, grad=-0.0078), Var(v=0.0406, grad=0.3311), Var(v=0.0239, grad=-0.1790), Var(v=0.0256, grad=0.1649), Var(v=0.0054, grad=0.1685), Var(v=-0.2293, grad=0.0000), Var(v=-0.0690, grad=0.0047)], [Var(v=0.0403, grad=-0.0714), Var(v=-0.0826, grad=-0.5121), Var(v=0.0306, grad=0.0003), Var(v=-0.0634, grad=0.0000), Var(v=-0.0781, grad=-1.1148), Var(v=-0.0803, grad=-0.0373), Var(v=0.1869, grad=0.5217), Var(v=-0.0008, grad=0.0091), Var(v=0.0045, grad=0.0021), Var(v=-0.0143, grad=-0.2508), Var(v=0.0431, grad=-1.2387), Var(v=0.0575, grad=0.9012), Var(v=0.0363, grad=0.5742), Var(v=0.0730, grad=-0.0758), Var(v=-0.0549, grad=0.1185), Var(v=-0.1457, grad=0.0000), Var(v=-0.0305, grad=0.0005), Var(v=0.0410, grad=0.4118), Var(v=-0.0872, grad=-0.0582), Var(v=-0.0648, grad=-0.5337), Var(v=0.0511, grad=0.1030), Var(v=-0.0922, grad=-0.2159), Var(v=-0.0439, grad=0.0000), Var(v=-0.0609, grad=0.0152), Var(v=0.0054, grad=-0.1355), Var(v=-0.0551, grad=-0.2997), Var(v=0.1629, grad=-0.2489), Var(v=-0.0279, grad=0.0361), Var(v=-0.0724, grad=0.1843), Var(v=-0.0611, grad=0.1059), Var(v=-0.1058, grad=-0.0502), Var(v=0.1356, grad=-0.1507), Var(v=0.0589, grad=0.2829), Var(v=0.1307, grad=-0.0229), Var(v=-0.0970, grad=-0.2213), Var(v=0.1107, grad=1.2018), Var(v=0.0907, grad=0.2571), Var(v=-0.1207, grad=0.0063), Var(v=-0.0226, grad=0.0000), Var(v=-0.0263, grad=0.0000), Var(v=0.1034, grad=-0.5885), Var(v=-0.2057, grad=0.0015), Var(v=-0.1276, grad=0.0810), Var(v=0.1631, grad=-0.0222), Var(v=-0.0616, grad=0.9914), Var(v=-0.0994, grad=-0.0909), Var(v=0.1029, grad=1.1653), Var(v=-0.0896, grad=-0.0987), Var(v=-0.0293, grad=0.0000), Var(v=-0.0692, grad=-0.0536)], [Var(v=0.1547, grad=-0.0801), Var(v=0.0161, grad=-0.1041), Var(v=-0.1727, grad=0.0002), Var(v=-0.0257, grad=0.0000), Var(v=0.0546, grad=-0.5375), Var(v=0.1508, grad=-0.0409), Var(v=0.0122, grad=0.1135), Var(v=0.1956, grad=0.0066), Var(v=-0.1778, grad=0.0114), Var(v=0.1100, grad=-0.0712), Var(v=0.0431, grad=-0.4638), Var(v=0.0220, grad=0.0753), Var(v=-0.0675, grad=0.2619), Var(v=0.0273, grad=-0.0154), Var(v=-0.0428, grad=0.1192), Var(v=-0.0816, grad=0.0000), Var(v=0.0537, grad=0.0007), Var(v=0.0076, grad=0.1140), Var(v=-0.0360, grad=-0.1152), Var(v=-0.1025, grad=-0.0071), Var(v=-0.0497, grad=0.0548), Var(v=0.0604, grad=-0.0781), Var(v=-0.1862, grad=0.0000), Var(v=-0.0628, grad=-0.0029), Var(v=0.2159, grad=-0.1053), Var(v=0.0822, grad=-0.0762), Var(v=0.0392, grad=-0.0552), Var(v=0.0846, grad=0.0364), Var(v=-0.1959, grad=0.0956), Var(v=-0.0745, grad=-0.0239), Var(v=-0.0786, grad=0.2680), Var(v=0.0166, grad=-0.0333), Var(v=-0.0162, grad=0.0535), Var(v=0.1328, grad=-0.0551), Var(v=0.0689, grad=-0.0767), Var(v=0.0017, grad=0.2455), Var(v=0.1546, grad=0.1016), Var(v=-0.1858, grad=0.0160), Var(v=-0.1383, grad=0.0000), Var(v=-0.0916, grad=0.0000), Var(v=0.1854, grad=-0.2448), Var(v=0.0949, grad=0.0022), Var(v=0.0498, grad=0.0731), Var(v=0.0497, grad=-0.0045), Var(v=0.0634, grad=0.2525), Var(v=-0.2657, grad=0.2189), Var(v=0.0822, grad=0.4007), Var(v=-0.0255, grad=-0.1377), Var(v=0.0201, grad=0.0000), Var(v=0.1517, grad=-0.0040)], [Var(v=-0.1387, grad=0.0000), Var(v=0.2028, grad=-0.2657), Var(v=-0.0855, grad=-0.0000), Var(v=-0.0215, grad=0.0000), Var(v=0.0449, grad=-0.5015), Var(v=0.0327, grad=0.0015), Var(v=0.1077, grad=0.2158), Var(v=-0.0660, grad=0.0002), Var(v=-0.0029, grad=-0.0021), Var(v=-0.1730, grad=-0.0648), Var(v=-0.0279, grad=-0.6733), Var(v=-0.0246, grad=0.3885), Var(v=0.0585, grad=0.1600), Var(v=-0.0853, grad=-0.0451), Var(v=-0.0325, grad=0.0439), Var(v=0.0478, grad=0.0027), Var(v=-0.1180, grad=0.0000), Var(v=0.0820, grad=0.1651), Var(v=0.0305, grad=0.0315), Var(v=0.1852, grad=-0.2301), Var(v=0.0729, grad=0.0652), Var(v=-0.2199, grad=-0.0290), Var(v=-0.0969, grad=-0.0205), Var(v=-0.0120, grad=0.0126), Var(v=-0.2010, grad=0.0480), Var(v=-0.0549, grad=-0.1517), Var(v=-0.0263, grad=-0.1232), Var(v=-0.0521, grad=0.0006), Var(v=0.0096, grad=0.0879), Var(v=-0.1151, grad=-0.0195), Var(v=-0.0338, grad=-0.1972), Var(v=-0.1221, grad=-0.0840), Var(v=0.1408, grad=0.1511), Var(v=-0.0319, grad=0.0382), Var(v=0.1890, grad=-0.0833), Var(v=-0.0528, grad=0.5001), Var(v=0.0455, grad=0.0878), Var(v=-0.0744, grad=-0.0311), Var(v=-0.1068, grad=0.0045), Var(v=-0.0706, grad=0.1149), Var(v=-0.0823, grad=-0.2326), Var(v=0.0265, grad=-0.0008), Var(v=0.0958, grad=-0.0170), Var(v=-0.1725, grad=-0.0123), Var(v=0.1659, grad=0.3818), Var(v=-0.0676, grad=-0.2141), Var(v=-0.1262, grad=0.5492), Var(v=-0.0104, grad=-0.1074), Var(v=0.0484, grad=0.0000), Var(v=0.1308, grad=-0.0309)], [Var(v=-0.0522, grad=-0.0022), Var(v=0.0394, grad=0.2281), Var(v=0.1469, grad=0.0006), Var(v=-0.0204, grad=0.0000), Var(v=-0.0461, grad=0.0028), Var(v=-0.0969, grad=-0.7190), Var(v=0.0706, grad=-0.7686), Var(v=-0.0726, grad=0.0018), Var(v=-0.0852, grad=0.0000), Var(v=0.0202, grad=0.7256), Var(v=-0.1124, grad=0.0056), Var(v=0.0439, grad=-1.0014), Var(v=-0.1821, grad=-0.0358), Var(v=0.0715, grad=0.1078), Var(v=0.0123, grad=0.2363), Var(v=-0.0019, grad=-0.0169), Var(v=-0.1271, grad=-0.0008), Var(v=0.2764, grad=-0.4101), Var(v=0.0582, grad=0.1969), Var(v=-0.0047, grad=0.9199), Var(v=0.0892, grad=0.2927), Var(v=0.0498, grad=0.4695), Var(v=0.0173, grad=-0.1252), Var(v=0.0769, grad=-0.0391), Var(v=0.0842, grad=-0.3044), Var(v=0.1729, grad=0.2147), Var(v=-0.0454, grad=0.1648), Var(v=-0.0372, grad=0.0885), Var(v=0.0337, grad=-0.0526), Var(v=0.1897, grad=-0.4428), Var(v=0.0520, grad=0.8763), Var(v=-0.1309, grad=0.1561), Var(v=-0.1996, grad=-0.1429), Var(v=0.0179, grad=-0.1120), Var(v=0.0956, grad=0.0136), Var(v=0.1677, grad=-1.2918), Var(v=0.0542, grad=-0.0644), Var(v=-0.0943, grad=0.0072), Var(v=0.0092, grad=-0.1587), Var(v=0.1148, grad=0.3088), Var(v=-0.0901, grad=0.0000), Var(v=0.1794, grad=0.0006), Var(v=-0.0636, grad=-0.0065), Var(v=-0.0060, grad=0.0184), Var(v=-0.0974, grad=-0.5531), Var(v=0.1437, grad=0.9563), Var(v=-0.0793, grad=-0.0136), Var(v=-0.0738, grad=-0.2348), Var(v=-0.0200, grad=0.0000), Var(v=0.0082, grad=0.0874)]] Biases: [Var(v=0.0030, grad=-0.2974), Var(v=0.0077, grad=-0.7727), Var(v=-0.0000, grad=0.0020), Var(v=0.0000, grad=0.0000), Var(v=0.0449, grad=-4.4910), Var(v=0.0175, grad=-1.7530), Var(v=0.0023, grad=-0.2259), Var(v=-0.0002, grad=0.0220), Var(v=-0.0007, grad=0.0681), Var(v=-0.0069, grad=0.6924), Var(v=0.0472, grad=-4.7243), Var(v=0.0059, grad=-0.5919), Var(v=-0.0221, grad=2.2063), Var(v=0.0004, grad=-0.0358), Var(v=-0.0162, grad=1.6178), Var(v=-0.0001, grad=0.0065), Var(v=-0.0000, grad=0.0027), Var(v=-0.0040, grad=0.4042), Var(v=-0.0039, grad=0.3930), Var(v=-0.0107, grad=1.0677), Var(v=-0.0130, grad=1.2964), Var(v=0.0003, grad=-0.0255), Var(v=0.0041, grad=-0.4080), Var(v=0.0009, grad=-0.0909), Var(v=0.0101, grad=-1.0081), Var(v=0.0061, grad=-0.6089), Var(v=0.0058, grad=-0.5817), Var(v=-0.0039, grad=0.3932), Var(v=-0.0037, grad=0.3674), Var(v=0.0116, grad=-1.1584), Var(v=-0.0245, grad=2.4523), Var(v=0.0025, grad=-0.2535), Var(v=-0.0025, grad=0.2537), Var(v=0.0008, grad=-0.0842), Var(v=0.0064, grad=-0.6440), Var(v=-0.0026, grad=0.2577), Var(v=-0.0066, grad=0.6614), Var(v=0.0015, grad=-0.1491), Var(v=-0.0001, grad=0.0098), Var(v=-0.0090, grad=0.8999), Var(v=0.0224, grad=-2.2400), Var(v=-0.0000, grad=0.0025), Var(v=0.0003, grad=-0.0324), Var(v=0.0003, grad=-0.0284), Var(v=-0.0147, grad=1.4663), Var(v=-0.0261, grad=2.6144), Var(v=-0.0426, grad=4.2576), Var(v=0.0173, grad=-1.7274), Var(v=0.0000, grad=0.0000), Var(v=-0.0010, grad=0.0983)]\n",
            "Layer 2 \n",
            " Weights: [[Var(v=-0.0773, grad=0.0853)], [Var(v=-0.1272, grad=0.1263)], [Var(v=-0.0024, grad=0.1633)], [Var(v=0.0632, grad=0.0000)], [Var(v=-0.1732, grad=1.9034)], [Var(v=0.1442, grad=-1.9580)], [Var(v=0.0428, grad=3.1711)], [Var(v=-0.0008, grad=0.4202)], [Var(v=0.0367, grad=-0.0036)], [Var(v=-0.0716, grad=-2.2809)], [Var(v=-0.1251, grad=1.3004)], [Var(v=0.1185, grad=1.4551)], [Var(v=0.0802, grad=0.6421)], [Var(v=-0.0413, grad=3.0503)], [Var(v=-0.0918, grad=0.3754)], [Var(v=-0.0077, grad=0.1286)], [Var(v=0.0004, grad=0.0575)], [Var(v=0.0529, grad=0.2662)], [Var(v=-0.1359, grad=0.2148)], [Var(v=-0.0638, grad=-2.2978)], [Var(v=-0.0515, grad=-0.2771)], [Var(v=-0.0596, grad=-0.9510)], [Var(v=-0.0418, grad=0.0619)], [Var(v=0.0124, grad=-0.5064)], [Var(v=0.1217, grad=-0.5923)], [Var(v=-0.0451, grad=-0.2324)], [Var(v=-0.0435, grad=0.1686)], [Var(v=-0.0015, grad=-1.3619)], [Var(v=0.0698, grad=0.2982)], [Var(v=0.0920, grad=-0.2141)], [Var(v=-0.0919, grad=-2.4534)], [Var(v=-0.0536, grad=3.2376)], [Var(v=0.0316, grad=0.3053)], [Var(v=0.0740, grad=-0.0872)], [Var(v=-0.0413, grad=1.5074)], [Var(v=0.1542, grad=1.7424)], [Var(v=0.0086, grad=2.1543)], [Var(v=0.0922, grad=0.2392)], [Var(v=-0.1655, grad=0.1063)], [Var(v=-0.2036, grad=-0.0179)], [Var(v=-0.0828, grad=1.9376)], [Var(v=-0.0031, grad=0.4568)], [Var(v=0.0561, grad=0.1290)], [Var(v=-0.0189, grad=1.5699)], [Var(v=0.1037, grad=2.7294)], [Var(v=-0.1149, grad=-1.4452)], [Var(v=0.1029, grad=1.5477)], [Var(v=0.0830, grad=-0.1379)], [Var(v=0.1650, grad=0.0000)], [Var(v=-0.0196, grad=0.1079)]] Biases: [Var(v=-0.0150, grad=1.5015)]\n",
            "\n",
            "Network after zeroing gradients:\n",
            "Layer 0 \n",
            " Weights: [[Var(v=0.0716, grad=0.0000), Var(v=0.2061, grad=0.0000), Var(v=0.0522, grad=0.0000), Var(v=-0.1063, grad=0.0000), Var(v=0.0532, grad=0.0000), Var(v=0.0352, grad=0.0000), Var(v=0.0076, grad=0.0000), Var(v=0.0383, grad=0.0000), Var(v=-0.0398, grad=0.0000), Var(v=-0.1461, grad=0.0000), Var(v=-0.0740, grad=0.0000), Var(v=0.1102, grad=0.0000), Var(v=-0.0087, grad=0.0000), Var(v=0.0844, grad=0.0000), Var(v=0.1836, grad=0.0000)], [Var(v=-0.0435, grad=0.0000), Var(v=-0.1584, grad=0.0000), Var(v=-0.0002, grad=0.0000), Var(v=0.1116, grad=0.0000), Var(v=-0.0014, grad=0.0000), Var(v=0.1235, grad=0.0000), Var(v=0.0716, grad=0.0000), Var(v=0.0434, grad=0.0000), Var(v=0.0422, grad=0.0000), Var(v=-0.1141, grad=0.0000), Var(v=0.0959, grad=0.0000), Var(v=-0.0481, grad=0.0000), Var(v=-0.0357, grad=0.0000), Var(v=-0.0157, grad=0.0000), Var(v=0.1837, grad=0.0000)], [Var(v=0.0012, grad=0.0000), Var(v=-0.0429, grad=0.0000), Var(v=0.1790, grad=0.0000), Var(v=-0.0894, grad=0.0000), Var(v=0.0924, grad=0.0000), Var(v=0.2873, grad=0.0000), Var(v=-0.1046, grad=0.0000), Var(v=-0.0061, grad=0.0000), Var(v=-0.0531, grad=0.0000), Var(v=0.0152, grad=0.0000), Var(v=-0.0547, grad=0.0000), Var(v=0.1286, grad=0.0000), Var(v=0.1204, grad=0.0000), Var(v=-0.1011, grad=0.0000), Var(v=0.0771, grad=0.0000)]] Biases: [Var(v=0.0004, grad=0.0000), Var(v=0.0021, grad=0.0000), Var(v=-0.0158, grad=0.0000), Var(v=0.0079, grad=0.0000), Var(v=-0.0166, grad=0.0000), Var(v=-0.0025, grad=0.0000), Var(v=0.0046, grad=0.0000), Var(v=0.0018, grad=0.0000), Var(v=-0.0023, grad=0.0000), Var(v=-0.0018, grad=0.0000), Var(v=0.0068, grad=0.0000), Var(v=-0.0149, grad=0.0000), Var(v=0.0214, grad=0.0000), Var(v=-0.0040, grad=0.0000), Var(v=-0.0011, grad=0.0000)]\n",
            "Layer 1 \n",
            " Weights: [[Var(v=-0.0377, grad=0.0000), Var(v=0.0232, grad=0.0000), Var(v=-0.1963, grad=0.0000), Var(v=-0.0549, grad=0.0000), Var(v=0.0883, grad=0.0000), Var(v=0.0003, grad=0.0000), Var(v=-0.0008, grad=0.0000), Var(v=-0.1488, grad=0.0000), Var(v=-0.0874, grad=0.0000), Var(v=-0.0347, grad=0.0000), Var(v=-0.0591, grad=0.0000), Var(v=-0.0346, grad=0.0000), Var(v=0.0142, grad=0.0000), Var(v=-0.0630, grad=0.0000), Var(v=0.0037, grad=0.0000), Var(v=-0.2689, grad=0.0000), Var(v=0.0279, grad=0.0000), Var(v=0.0116, grad=0.0000), Var(v=-0.2405, grad=0.0000), Var(v=0.1322, grad=0.0000), Var(v=-0.0773, grad=0.0000), Var(v=-0.0961, grad=0.0000), Var(v=-0.1129, grad=0.0000), Var(v=-0.0334, grad=0.0000), Var(v=0.1390, grad=0.0000), Var(v=0.1400, grad=0.0000), Var(v=-0.1140, grad=0.0000), Var(v=-0.0655, grad=0.0000), Var(v=-0.0909, grad=0.0000), Var(v=0.0668, grad=0.0000), Var(v=0.0843, grad=0.0000), Var(v=0.2248, grad=0.0000), Var(v=-0.0175, grad=0.0000), Var(v=-0.0750, grad=0.0000), Var(v=0.1351, grad=0.0000), Var(v=0.0863, grad=0.0000), Var(v=0.0079, grad=0.0000), Var(v=-0.1476, grad=0.0000), Var(v=-0.0142, grad=0.0000), Var(v=-0.0174, grad=0.0000), Var(v=-0.1489, grad=0.0000), Var(v=0.0880, grad=0.0000), Var(v=0.0680, grad=0.0000), Var(v=-0.1018, grad=0.0000), Var(v=0.0893, grad=0.0000), Var(v=0.1312, grad=0.0000), Var(v=-0.0411, grad=0.0000), Var(v=-0.1575, grad=0.0000), Var(v=0.1137, grad=0.0000), Var(v=0.1831, grad=0.0000)], [Var(v=-0.0392, grad=0.0000), Var(v=0.0257, grad=0.0000), Var(v=-0.0944, grad=0.0000), Var(v=-0.1528, grad=0.0000), Var(v=-0.0683, grad=0.0000), Var(v=-0.0063, grad=0.0000), Var(v=0.0805, grad=0.0000), Var(v=-0.0687, grad=0.0000), Var(v=-0.0852, grad=0.0000), Var(v=0.0606, grad=0.0000), Var(v=0.0651, grad=0.0000), Var(v=0.0662, grad=0.0000), Var(v=-0.0659, grad=0.0000), Var(v=0.0971, grad=0.0000), Var(v=-0.1068, grad=0.0000), Var(v=-0.0663, grad=0.0000), Var(v=-0.0467, grad=0.0000), Var(v=-0.0605, grad=0.0000), Var(v=-0.2060, grad=0.0000), Var(v=0.0800, grad=0.0000), Var(v=-0.2150, grad=0.0000), Var(v=0.0866, grad=0.0000), Var(v=-0.0226, grad=0.0000), Var(v=0.0816, grad=0.0000), Var(v=-0.2394, grad=0.0000), Var(v=0.0890, grad=0.0000), Var(v=-0.0061, grad=0.0000), Var(v=-0.0547, grad=0.0000), Var(v=-0.0147, grad=0.0000), Var(v=0.1039, grad=0.0000), Var(v=0.1602, grad=0.0000), Var(v=0.1151, grad=0.0000), Var(v=-0.0746, grad=0.0000), Var(v=-0.0652, grad=0.0000), Var(v=0.0638, grad=0.0000), Var(v=0.0298, grad=0.0000), Var(v=-0.0235, grad=0.0000), Var(v=-0.0233, grad=0.0000), Var(v=-0.0187, grad=0.0000), Var(v=0.0213, grad=0.0000), Var(v=0.0222, grad=0.0000), Var(v=-0.2192, grad=0.0000), Var(v=-0.0854, grad=0.0000), Var(v=0.1081, grad=0.0000), Var(v=0.0252, grad=0.0000), Var(v=0.0564, grad=0.0000), Var(v=0.0263, grad=0.0000), Var(v=0.1072, grad=0.0000), Var(v=-0.1777, grad=0.0000), Var(v=-0.0071, grad=0.0000)], [Var(v=0.0177, grad=0.0000), Var(v=0.0719, grad=0.0000), Var(v=-0.0690, grad=0.0000), Var(v=-0.0958, grad=0.0000), Var(v=0.0440, grad=0.0000), Var(v=0.0336, grad=0.0000), Var(v=-0.0387, grad=0.0000), Var(v=-0.0256, grad=0.0000), Var(v=0.0056, grad=0.0000), Var(v=0.0976, grad=0.0000), Var(v=0.0775, grad=0.0000), Var(v=0.0696, grad=0.0000), Var(v=0.1596, grad=0.0000), Var(v=0.0407, grad=0.0000), Var(v=-0.0048, grad=0.0000), Var(v=-0.1741, grad=0.0000), Var(v=-0.0537, grad=0.0000), Var(v=0.0023, grad=0.0000), Var(v=0.0409, grad=0.0000), Var(v=0.3455, grad=0.0000), Var(v=0.1162, grad=0.0000), Var(v=-0.0488, grad=0.0000), Var(v=-0.0052, grad=0.0000), Var(v=0.1044, grad=0.0000), Var(v=-0.0412, grad=0.0000), Var(v=-0.1281, grad=0.0000), Var(v=0.1377, grad=0.0000), Var(v=0.0807, grad=0.0000), Var(v=0.0081, grad=0.0000), Var(v=0.0678, grad=0.0000), Var(v=0.0722, grad=0.0000), Var(v=0.0543, grad=0.0000), Var(v=0.1235, grad=0.0000), Var(v=-0.0700, grad=0.0000), Var(v=-0.0016, grad=0.0000), Var(v=-0.1188, grad=0.0000), Var(v=0.0999, grad=0.0000), Var(v=-0.0355, grad=0.0000), Var(v=-0.1026, grad=0.0000), Var(v=-0.0288, grad=0.0000), Var(v=-0.1681, grad=0.0000), Var(v=-0.1441, grad=0.0000), Var(v=-0.0425, grad=0.0000), Var(v=-0.0107, grad=0.0000), Var(v=0.0656, grad=0.0000), Var(v=-0.0469, grad=0.0000), Var(v=-0.1141, grad=0.0000), Var(v=-0.0455, grad=0.0000), Var(v=-0.0566, grad=0.0000), Var(v=-0.0727, grad=0.0000)], [Var(v=-0.0226, grad=0.0000), Var(v=-0.0149, grad=0.0000), Var(v=-0.0055, grad=0.0000), Var(v=-0.1084, grad=0.0000), Var(v=-0.0030, grad=0.0000), Var(v=-0.1763, grad=0.0000), Var(v=-0.0894, grad=0.0000), Var(v=-0.0544, grad=0.0000), Var(v=-0.0535, grad=0.0000), Var(v=-0.0391, grad=0.0000), Var(v=-0.0767, grad=0.0000), Var(v=0.2091, grad=0.0000), Var(v=0.0049, grad=0.0000), Var(v=-0.0476, grad=0.0000), Var(v=0.0705, grad=0.0000), Var(v=-0.0359, grad=0.0000), Var(v=-0.1517, grad=0.0000), Var(v=-0.1348, grad=0.0000), Var(v=0.0159, grad=0.0000), Var(v=-0.1629, grad=0.0000), Var(v=-0.0456, grad=0.0000), Var(v=0.0562, grad=0.0000), Var(v=0.0570, grad=0.0000), Var(v=0.0547, grad=0.0000), Var(v=0.0973, grad=0.0000), Var(v=-0.2437, grad=0.0000), Var(v=0.0819, grad=0.0000), Var(v=-0.0515, grad=0.0000), Var(v=-0.0726, grad=0.0000), Var(v=0.0888, grad=0.0000), Var(v=0.0296, grad=0.0000), Var(v=0.1523, grad=0.0000), Var(v=-0.0757, grad=0.0000), Var(v=0.0009, grad=0.0000), Var(v=0.1032, grad=0.0000), Var(v=0.0256, grad=0.0000), Var(v=0.0614, grad=0.0000), Var(v=0.2248, grad=0.0000), Var(v=0.0063, grad=0.0000), Var(v=-0.1009, grad=0.0000), Var(v=-0.1814, grad=0.0000), Var(v=0.0178, grad=0.0000), Var(v=0.0275, grad=0.0000), Var(v=0.1270, grad=0.0000), Var(v=0.1478, grad=0.0000), Var(v=-0.0226, grad=0.0000), Var(v=-0.0003, grad=0.0000), Var(v=0.0348, grad=0.0000), Var(v=-0.0618, grad=0.0000), Var(v=-0.1033, grad=0.0000)], [Var(v=-0.2943, grad=0.0000), Var(v=-0.0663, grad=0.0000), Var(v=0.1316, grad=0.0000), Var(v=0.0170, grad=0.0000), Var(v=0.0177, grad=0.0000), Var(v=0.0098, grad=0.0000), Var(v=-0.0403, grad=0.0000), Var(v=0.0736, grad=0.0000), Var(v=0.1503, grad=0.0000), Var(v=-0.0252, grad=0.0000), Var(v=0.0635, grad=0.0000), Var(v=-0.1941, grad=0.0000), Var(v=0.0552, grad=0.0000), Var(v=0.0047, grad=0.0000), Var(v=-0.0029, grad=0.0000), Var(v=-0.1912, grad=0.0000), Var(v=-0.0003, grad=0.0000), Var(v=0.0611, grad=0.0000), Var(v=0.1145, grad=0.0000), Var(v=-0.0718, grad=0.0000), Var(v=0.0651, grad=0.0000), Var(v=0.1749, grad=0.0000), Var(v=-0.0560, grad=0.0000), Var(v=0.0464, grad=0.0000), Var(v=-0.0121, grad=0.0000), Var(v=-0.0408, grad=0.0000), Var(v=-0.0484, grad=0.0000), Var(v=0.0614, grad=0.0000), Var(v=0.0385, grad=0.0000), Var(v=-0.0384, grad=0.0000), Var(v=0.0546, grad=0.0000), Var(v=-0.0674, grad=0.0000), Var(v=-0.2017, grad=0.0000), Var(v=0.0347, grad=0.0000), Var(v=-0.2238, grad=0.0000), Var(v=0.0441, grad=0.0000), Var(v=-0.0331, grad=0.0000), Var(v=0.0230, grad=0.0000), Var(v=-0.0366, grad=0.0000), Var(v=-0.1856, grad=0.0000), Var(v=-0.1382, grad=0.0000), Var(v=0.0183, grad=0.0000), Var(v=-0.1222, grad=0.0000), Var(v=0.0530, grad=0.0000), Var(v=-0.0216, grad=0.0000), Var(v=0.1570, grad=0.0000), Var(v=-0.0255, grad=0.0000), Var(v=-0.0041, grad=0.0000), Var(v=-0.0306, grad=0.0000), Var(v=-0.0117, grad=0.0000)], [Var(v=0.0508, grad=0.0000), Var(v=-0.1237, grad=0.0000), Var(v=-0.0662, grad=0.0000), Var(v=-0.1805, grad=0.0000), Var(v=-0.0589, grad=0.0000), Var(v=0.2417, grad=0.0000), Var(v=0.0769, grad=0.0000), Var(v=-0.0531, grad=0.0000), Var(v=-0.1796, grad=0.0000), Var(v=0.1086, grad=0.0000), Var(v=-0.1830, grad=0.0000), Var(v=0.0357, grad=0.0000), Var(v=-0.0677, grad=0.0000), Var(v=-0.0044, grad=0.0000), Var(v=0.0122, grad=0.0000), Var(v=0.1028, grad=0.0000), Var(v=0.0768, grad=0.0000), Var(v=-0.1087, grad=0.0000), Var(v=-0.0870, grad=0.0000), Var(v=0.0345, grad=0.0000), Var(v=-0.0462, grad=0.0000), Var(v=0.0811, grad=0.0000), Var(v=-0.0396, grad=0.0000), Var(v=-0.1155, grad=0.0000), Var(v=0.1177, grad=0.0000), Var(v=-0.0988, grad=0.0000), Var(v=-0.0828, grad=0.0000), Var(v=0.0609, grad=0.0000), Var(v=-0.1286, grad=0.0000), Var(v=-0.1013, grad=0.0000), Var(v=0.1239, grad=0.0000), Var(v=0.0461, grad=0.0000), Var(v=0.1457, grad=0.0000), Var(v=0.0011, grad=0.0000), Var(v=-0.1163, grad=0.0000), Var(v=0.0580, grad=0.0000), Var(v=-0.1784, grad=0.0000), Var(v=-0.1147, grad=0.0000), Var(v=-0.2085, grad=0.0000), Var(v=-0.0352, grad=0.0000), Var(v=-0.1282, grad=0.0000), Var(v=-0.0558, grad=0.0000), Var(v=-0.1362, grad=0.0000), Var(v=0.0811, grad=0.0000), Var(v=0.0237, grad=0.0000), Var(v=0.0132, grad=0.0000), Var(v=0.0401, grad=0.0000), Var(v=0.1160, grad=0.0000), Var(v=0.0193, grad=0.0000), Var(v=0.0069, grad=0.0000)], [Var(v=-0.0883, grad=0.0000), Var(v=0.0485, grad=0.0000), Var(v=-0.0197, grad=0.0000), Var(v=-0.0294, grad=0.0000), Var(v=0.0484, grad=0.0000), Var(v=-0.0195, grad=0.0000), Var(v=0.0368, grad=0.0000), Var(v=0.1316, grad=0.0000), Var(v=0.0179, grad=0.0000), Var(v=-0.0001, grad=0.0000), Var(v=0.0139, grad=0.0000), Var(v=0.0311, grad=0.0000), Var(v=-0.2821, grad=0.0000), Var(v=-0.2043, grad=0.0000), Var(v=0.0325, grad=0.0000), Var(v=0.1425, grad=0.0000), Var(v=0.1148, grad=0.0000), Var(v=0.1541, grad=0.0000), Var(v=0.0389, grad=0.0000), Var(v=0.0465, grad=0.0000), Var(v=-0.0438, grad=0.0000), Var(v=-0.0108, grad=0.0000), Var(v=0.0279, grad=0.0000), Var(v=0.0386, grad=0.0000), Var(v=0.0690, grad=0.0000), Var(v=-0.0658, grad=0.0000), Var(v=-0.1650, grad=0.0000), Var(v=-0.0060, grad=0.0000), Var(v=0.0915, grad=0.0000), Var(v=0.0488, grad=0.0000), Var(v=0.1066, grad=0.0000), Var(v=0.0394, grad=0.0000), Var(v=0.1474, grad=0.0000), Var(v=-0.0214, grad=0.0000), Var(v=-0.1335, grad=0.0000), Var(v=0.0820, grad=0.0000), Var(v=0.0516, grad=0.0000), Var(v=-0.0459, grad=0.0000), Var(v=0.1112, grad=0.0000), Var(v=-0.1849, grad=0.0000), Var(v=-0.1667, grad=0.0000), Var(v=-0.0679, grad=0.0000), Var(v=-0.0484, grad=0.0000), Var(v=0.0438, grad=0.0000), Var(v=0.1845, grad=0.0000), Var(v=0.0985, grad=0.0000), Var(v=0.0030, grad=0.0000), Var(v=0.0175, grad=0.0000), Var(v=0.0277, grad=0.0000), Var(v=0.0470, grad=0.0000)], [Var(v=-0.1305, grad=0.0000), Var(v=0.0631, grad=0.0000), Var(v=-0.1364, grad=0.0000), Var(v=-0.2114, grad=0.0000), Var(v=-0.0014, grad=0.0000), Var(v=-0.1481, grad=0.0000), Var(v=-0.0401, grad=0.0000), Var(v=-0.0042, grad=0.0000), Var(v=-0.0906, grad=0.0000), Var(v=-0.0288, grad=0.0000), Var(v=0.0550, grad=0.0000), Var(v=0.0677, grad=0.0000), Var(v=0.1734, grad=0.0000), Var(v=0.0249, grad=0.0000), Var(v=0.0346, grad=0.0000), Var(v=0.0696, grad=0.0000), Var(v=0.0014, grad=0.0000), Var(v=0.0101, grad=0.0000), Var(v=0.2030, grad=0.0000), Var(v=0.0899, grad=0.0000), Var(v=0.0342, grad=0.0000), Var(v=0.1331, grad=0.0000), Var(v=0.1329, grad=0.0000), Var(v=0.1349, grad=0.0000), Var(v=-0.1314, grad=0.0000), Var(v=-0.0673, grad=0.0000), Var(v=0.0675, grad=0.0000), Var(v=-0.0606, grad=0.0000), Var(v=-0.1479, grad=0.0000), Var(v=-0.1706, grad=0.0000), Var(v=-0.1987, grad=0.0000), Var(v=0.0835, grad=0.0000), Var(v=0.2680, grad=0.0000), Var(v=0.0368, grad=0.0000), Var(v=-0.0302, grad=0.0000), Var(v=0.1807, grad=0.0000), Var(v=0.2057, grad=0.0000), Var(v=-0.1150, grad=0.0000), Var(v=0.0429, grad=0.0000), Var(v=-0.0559, grad=0.0000), Var(v=0.0375, grad=0.0000), Var(v=-0.0760, grad=0.0000), Var(v=-0.0629, grad=0.0000), Var(v=-0.0354, grad=0.0000), Var(v=-0.0494, grad=0.0000), Var(v=0.0760, grad=0.0000), Var(v=0.0478, grad=0.0000), Var(v=-0.0221, grad=0.0000), Var(v=0.0273, grad=0.0000), Var(v=-0.0369, grad=0.0000)], [Var(v=0.0264, grad=0.0000), Var(v=0.0870, grad=0.0000), Var(v=-0.0482, grad=0.0000), Var(v=0.0122, grad=0.0000), Var(v=0.1435, grad=0.0000), Var(v=-0.0842, grad=0.0000), Var(v=-0.0043, grad=0.0000), Var(v=0.0444, grad=0.0000), Var(v=0.0612, grad=0.0000), Var(v=-0.1149, grad=0.0000), Var(v=-0.0531, grad=0.0000), Var(v=-0.1385, grad=0.0000), Var(v=0.0143, grad=0.0000), Var(v=0.0570, grad=0.0000), Var(v=0.0006, grad=0.0000), Var(v=-0.1625, grad=0.0000), Var(v=0.0156, grad=0.0000), Var(v=0.0048, grad=0.0000), Var(v=-0.0283, grad=0.0000), Var(v=0.0600, grad=0.0000), Var(v=0.0974, grad=0.0000), Var(v=0.0149, grad=0.0000), Var(v=-0.0780, grad=0.0000), Var(v=-0.0154, grad=0.0000), Var(v=-0.0524, grad=0.0000), Var(v=-0.1044, grad=0.0000), Var(v=0.0571, grad=0.0000), Var(v=-0.1047, grad=0.0000), Var(v=-0.0374, grad=0.0000), Var(v=-0.1985, grad=0.0000), Var(v=0.0707, grad=0.0000), Var(v=-0.2057, grad=0.0000), Var(v=-0.0748, grad=0.0000), Var(v=0.0251, grad=0.0000), Var(v=-0.0518, grad=0.0000), Var(v=0.0249, grad=0.0000), Var(v=-0.0237, grad=0.0000), Var(v=-0.1542, grad=0.0000), Var(v=-0.0209, grad=0.0000), Var(v=-0.0360, grad=0.0000), Var(v=0.1792, grad=0.0000), Var(v=0.0257, grad=0.0000), Var(v=-0.0017, grad=0.0000), Var(v=0.1584, grad=0.0000), Var(v=0.1495, grad=0.0000), Var(v=-0.1411, grad=0.0000), Var(v=0.0725, grad=0.0000), Var(v=-0.0042, grad=0.0000), Var(v=-0.0227, grad=0.0000), Var(v=-0.1132, grad=0.0000)], [Var(v=-0.0442, grad=0.0000), Var(v=0.0089, grad=0.0000), Var(v=-0.1200, grad=0.0000), Var(v=-0.1167, grad=0.0000), Var(v=0.2567, grad=0.0000), Var(v=-0.0113, grad=0.0000), Var(v=0.0873, grad=0.0000), Var(v=0.0479, grad=0.0000), Var(v=0.0388, grad=0.0000), Var(v=-0.0119, grad=0.0000), Var(v=0.0550, grad=0.0000), Var(v=-0.0582, grad=0.0000), Var(v=0.0649, grad=0.0000), Var(v=0.2364, grad=0.0000), Var(v=0.0246, grad=0.0000), Var(v=-0.1177, grad=0.0000), Var(v=0.0153, grad=0.0000), Var(v=0.1280, grad=0.0000), Var(v=0.1111, grad=0.0000), Var(v=-0.0144, grad=0.0000), Var(v=0.0987, grad=0.0000), Var(v=0.1095, grad=0.0000), Var(v=-0.1358, grad=0.0000), Var(v=-0.1056, grad=0.0000), Var(v=0.0542, grad=0.0000), Var(v=-0.0798, grad=0.0000), Var(v=-0.0870, grad=0.0000), Var(v=-0.2326, grad=0.0000), Var(v=0.1315, grad=0.0000), Var(v=-0.1647, grad=0.0000), Var(v=-0.2828, grad=0.0000), Var(v=0.0535, grad=0.0000), Var(v=0.0705, grad=0.0000), Var(v=-0.1121, grad=0.0000), Var(v=0.0408, grad=0.0000), Var(v=0.0528, grad=0.0000), Var(v=0.0540, grad=0.0000), Var(v=0.0419, grad=0.0000), Var(v=-0.0271, grad=0.0000), Var(v=-0.0514, grad=0.0000), Var(v=0.1162, grad=0.0000), Var(v=0.1264, grad=0.0000), Var(v=0.0786, grad=0.0000), Var(v=-0.0086, grad=0.0000), Var(v=0.0463, grad=0.0000), Var(v=0.0545, grad=0.0000), Var(v=-0.0041, grad=0.0000), Var(v=-0.1228, grad=0.0000), Var(v=-0.0125, grad=0.0000), Var(v=-0.0845, grad=0.0000)], [Var(v=0.0106, grad=0.0000), Var(v=-0.0289, grad=0.0000), Var(v=0.0541, grad=0.0000), Var(v=-0.0830, grad=0.0000), Var(v=-0.2868, grad=0.0000), Var(v=-0.0814, grad=0.0000), Var(v=-0.1642, grad=0.0000), Var(v=0.0058, grad=0.0000), Var(v=-0.0243, grad=0.0000), Var(v=-0.1467, grad=0.0000), Var(v=0.1142, grad=0.0000), Var(v=0.0467, grad=0.0000), Var(v=-0.1397, grad=0.0000), Var(v=-0.0778, grad=0.0000), Var(v=0.0409, grad=0.0000), Var(v=0.0311, grad=0.0000), Var(v=-0.0324, grad=0.0000), Var(v=-0.0974, grad=0.0000), Var(v=-0.1370, grad=0.0000), Var(v=-0.1176, grad=0.0000), Var(v=0.1610, grad=0.0000), Var(v=-0.0676, grad=0.0000), Var(v=-0.0582, grad=0.0000), Var(v=-0.0574, grad=0.0000), Var(v=-0.1018, grad=0.0000), Var(v=-0.0148, grad=0.0000), Var(v=-0.0550, grad=0.0000), Var(v=0.0219, grad=0.0000), Var(v=0.0663, grad=0.0000), Var(v=0.0568, grad=0.0000), Var(v=-0.0209, grad=0.0000), Var(v=-0.1336, grad=0.0000), Var(v=0.0035, grad=0.0000), Var(v=0.0105, grad=0.0000), Var(v=0.0041, grad=0.0000), Var(v=0.0673, grad=0.0000), Var(v=0.0525, grad=0.0000), Var(v=-0.0315, grad=0.0000), Var(v=-0.0038, grad=0.0000), Var(v=0.1014, grad=0.0000), Var(v=0.0764, grad=0.0000), Var(v=-0.0316, grad=0.0000), Var(v=-0.0113, grad=0.0000), Var(v=0.1540, grad=0.0000), Var(v=0.0406, grad=0.0000), Var(v=0.0239, grad=0.0000), Var(v=0.0256, grad=0.0000), Var(v=0.0054, grad=0.0000), Var(v=-0.2293, grad=0.0000), Var(v=-0.0690, grad=0.0000)], [Var(v=0.0403, grad=0.0000), Var(v=-0.0826, grad=0.0000), Var(v=0.0306, grad=0.0000), Var(v=-0.0634, grad=0.0000), Var(v=-0.0781, grad=0.0000), Var(v=-0.0803, grad=0.0000), Var(v=0.1869, grad=0.0000), Var(v=-0.0008, grad=0.0000), Var(v=0.0045, grad=0.0000), Var(v=-0.0143, grad=0.0000), Var(v=0.0431, grad=0.0000), Var(v=0.0575, grad=0.0000), Var(v=0.0363, grad=0.0000), Var(v=0.0730, grad=0.0000), Var(v=-0.0549, grad=0.0000), Var(v=-0.1457, grad=0.0000), Var(v=-0.0305, grad=0.0000), Var(v=0.0410, grad=0.0000), Var(v=-0.0872, grad=0.0000), Var(v=-0.0648, grad=0.0000), Var(v=0.0511, grad=0.0000), Var(v=-0.0922, grad=0.0000), Var(v=-0.0439, grad=0.0000), Var(v=-0.0609, grad=0.0000), Var(v=0.0054, grad=0.0000), Var(v=-0.0551, grad=0.0000), Var(v=0.1629, grad=0.0000), Var(v=-0.0279, grad=0.0000), Var(v=-0.0724, grad=0.0000), Var(v=-0.0611, grad=0.0000), Var(v=-0.1058, grad=0.0000), Var(v=0.1356, grad=0.0000), Var(v=0.0589, grad=0.0000), Var(v=0.1307, grad=0.0000), Var(v=-0.0970, grad=0.0000), Var(v=0.1107, grad=0.0000), Var(v=0.0907, grad=0.0000), Var(v=-0.1207, grad=0.0000), Var(v=-0.0226, grad=0.0000), Var(v=-0.0263, grad=0.0000), Var(v=0.1034, grad=0.0000), Var(v=-0.2057, grad=0.0000), Var(v=-0.1276, grad=0.0000), Var(v=0.1631, grad=0.0000), Var(v=-0.0616, grad=0.0000), Var(v=-0.0994, grad=0.0000), Var(v=0.1029, grad=0.0000), Var(v=-0.0896, grad=0.0000), Var(v=-0.0293, grad=0.0000), Var(v=-0.0692, grad=0.0000)], [Var(v=0.1547, grad=0.0000), Var(v=0.0161, grad=0.0000), Var(v=-0.1727, grad=0.0000), Var(v=-0.0257, grad=0.0000), Var(v=0.0546, grad=0.0000), Var(v=0.1508, grad=0.0000), Var(v=0.0122, grad=0.0000), Var(v=0.1956, grad=0.0000), Var(v=-0.1778, grad=0.0000), Var(v=0.1100, grad=0.0000), Var(v=0.0431, grad=0.0000), Var(v=0.0220, grad=0.0000), Var(v=-0.0675, grad=0.0000), Var(v=0.0273, grad=0.0000), Var(v=-0.0428, grad=0.0000), Var(v=-0.0816, grad=0.0000), Var(v=0.0537, grad=0.0000), Var(v=0.0076, grad=0.0000), Var(v=-0.0360, grad=0.0000), Var(v=-0.1025, grad=0.0000), Var(v=-0.0497, grad=0.0000), Var(v=0.0604, grad=0.0000), Var(v=-0.1862, grad=0.0000), Var(v=-0.0628, grad=0.0000), Var(v=0.2159, grad=0.0000), Var(v=0.0822, grad=0.0000), Var(v=0.0392, grad=0.0000), Var(v=0.0846, grad=0.0000), Var(v=-0.1959, grad=0.0000), Var(v=-0.0745, grad=0.0000), Var(v=-0.0786, grad=0.0000), Var(v=0.0166, grad=0.0000), Var(v=-0.0162, grad=0.0000), Var(v=0.1328, grad=0.0000), Var(v=0.0689, grad=0.0000), Var(v=0.0017, grad=0.0000), Var(v=0.1546, grad=0.0000), Var(v=-0.1858, grad=0.0000), Var(v=-0.1383, grad=0.0000), Var(v=-0.0916, grad=0.0000), Var(v=0.1854, grad=0.0000), Var(v=0.0949, grad=0.0000), Var(v=0.0498, grad=0.0000), Var(v=0.0497, grad=0.0000), Var(v=0.0634, grad=0.0000), Var(v=-0.2657, grad=0.0000), Var(v=0.0822, grad=0.0000), Var(v=-0.0255, grad=0.0000), Var(v=0.0201, grad=0.0000), Var(v=0.1517, grad=0.0000)], [Var(v=-0.1387, grad=0.0000), Var(v=0.2028, grad=0.0000), Var(v=-0.0855, grad=0.0000), Var(v=-0.0215, grad=0.0000), Var(v=0.0449, grad=0.0000), Var(v=0.0327, grad=0.0000), Var(v=0.1077, grad=0.0000), Var(v=-0.0660, grad=0.0000), Var(v=-0.0029, grad=0.0000), Var(v=-0.1730, grad=0.0000), Var(v=-0.0279, grad=0.0000), Var(v=-0.0246, grad=0.0000), Var(v=0.0585, grad=0.0000), Var(v=-0.0853, grad=0.0000), Var(v=-0.0325, grad=0.0000), Var(v=0.0478, grad=0.0000), Var(v=-0.1180, grad=0.0000), Var(v=0.0820, grad=0.0000), Var(v=0.0305, grad=0.0000), Var(v=0.1852, grad=0.0000), Var(v=0.0729, grad=0.0000), Var(v=-0.2199, grad=0.0000), Var(v=-0.0969, grad=0.0000), Var(v=-0.0120, grad=0.0000), Var(v=-0.2010, grad=0.0000), Var(v=-0.0549, grad=0.0000), Var(v=-0.0263, grad=0.0000), Var(v=-0.0521, grad=0.0000), Var(v=0.0096, grad=0.0000), Var(v=-0.1151, grad=0.0000), Var(v=-0.0338, grad=0.0000), Var(v=-0.1221, grad=0.0000), Var(v=0.1408, grad=0.0000), Var(v=-0.0319, grad=0.0000), Var(v=0.1890, grad=0.0000), Var(v=-0.0528, grad=0.0000), Var(v=0.0455, grad=0.0000), Var(v=-0.0744, grad=0.0000), Var(v=-0.1068, grad=0.0000), Var(v=-0.0706, grad=0.0000), Var(v=-0.0823, grad=0.0000), Var(v=0.0265, grad=0.0000), Var(v=0.0958, grad=0.0000), Var(v=-0.1725, grad=0.0000), Var(v=0.1659, grad=0.0000), Var(v=-0.0676, grad=0.0000), Var(v=-0.1262, grad=0.0000), Var(v=-0.0104, grad=0.0000), Var(v=0.0484, grad=0.0000), Var(v=0.1308, grad=0.0000)], [Var(v=-0.0522, grad=0.0000), Var(v=0.0394, grad=0.0000), Var(v=0.1469, grad=0.0000), Var(v=-0.0204, grad=0.0000), Var(v=-0.0461, grad=0.0000), Var(v=-0.0969, grad=0.0000), Var(v=0.0706, grad=0.0000), Var(v=-0.0726, grad=0.0000), Var(v=-0.0852, grad=0.0000), Var(v=0.0202, grad=0.0000), Var(v=-0.1124, grad=0.0000), Var(v=0.0439, grad=0.0000), Var(v=-0.1821, grad=0.0000), Var(v=0.0715, grad=0.0000), Var(v=0.0123, grad=0.0000), Var(v=-0.0019, grad=0.0000), Var(v=-0.1271, grad=0.0000), Var(v=0.2764, grad=0.0000), Var(v=0.0582, grad=0.0000), Var(v=-0.0047, grad=0.0000), Var(v=0.0892, grad=0.0000), Var(v=0.0498, grad=0.0000), Var(v=0.0173, grad=0.0000), Var(v=0.0769, grad=0.0000), Var(v=0.0842, grad=0.0000), Var(v=0.1729, grad=0.0000), Var(v=-0.0454, grad=0.0000), Var(v=-0.0372, grad=0.0000), Var(v=0.0337, grad=0.0000), Var(v=0.1897, grad=0.0000), Var(v=0.0520, grad=0.0000), Var(v=-0.1309, grad=0.0000), Var(v=-0.1996, grad=0.0000), Var(v=0.0179, grad=0.0000), Var(v=0.0956, grad=0.0000), Var(v=0.1677, grad=0.0000), Var(v=0.0542, grad=0.0000), Var(v=-0.0943, grad=0.0000), Var(v=0.0092, grad=0.0000), Var(v=0.1148, grad=0.0000), Var(v=-0.0901, grad=0.0000), Var(v=0.1794, grad=0.0000), Var(v=-0.0636, grad=0.0000), Var(v=-0.0060, grad=0.0000), Var(v=-0.0974, grad=0.0000), Var(v=0.1437, grad=0.0000), Var(v=-0.0793, grad=0.0000), Var(v=-0.0738, grad=0.0000), Var(v=-0.0200, grad=0.0000), Var(v=0.0082, grad=0.0000)]] Biases: [Var(v=0.0030, grad=0.0000), Var(v=0.0077, grad=0.0000), Var(v=-0.0000, grad=0.0000), Var(v=0.0000, grad=0.0000), Var(v=0.0449, grad=0.0000), Var(v=0.0175, grad=0.0000), Var(v=0.0023, grad=0.0000), Var(v=-0.0002, grad=0.0000), Var(v=-0.0007, grad=0.0000), Var(v=-0.0069, grad=0.0000), Var(v=0.0472, grad=0.0000), Var(v=0.0059, grad=0.0000), Var(v=-0.0221, grad=0.0000), Var(v=0.0004, grad=0.0000), Var(v=-0.0162, grad=0.0000), Var(v=-0.0001, grad=0.0000), Var(v=-0.0000, grad=0.0000), Var(v=-0.0040, grad=0.0000), Var(v=-0.0039, grad=0.0000), Var(v=-0.0107, grad=0.0000), Var(v=-0.0130, grad=0.0000), Var(v=0.0003, grad=0.0000), Var(v=0.0041, grad=0.0000), Var(v=0.0009, grad=0.0000), Var(v=0.0101, grad=0.0000), Var(v=0.0061, grad=0.0000), Var(v=0.0058, grad=0.0000), Var(v=-0.0039, grad=0.0000), Var(v=-0.0037, grad=0.0000), Var(v=0.0116, grad=0.0000), Var(v=-0.0245, grad=0.0000), Var(v=0.0025, grad=0.0000), Var(v=-0.0025, grad=0.0000), Var(v=0.0008, grad=0.0000), Var(v=0.0064, grad=0.0000), Var(v=-0.0026, grad=0.0000), Var(v=-0.0066, grad=0.0000), Var(v=0.0015, grad=0.0000), Var(v=-0.0001, grad=0.0000), Var(v=-0.0090, grad=0.0000), Var(v=0.0224, grad=0.0000), Var(v=-0.0000, grad=0.0000), Var(v=0.0003, grad=0.0000), Var(v=0.0003, grad=0.0000), Var(v=-0.0147, grad=0.0000), Var(v=-0.0261, grad=0.0000), Var(v=-0.0426, grad=0.0000), Var(v=0.0173, grad=0.0000), Var(v=0.0000, grad=0.0000), Var(v=-0.0010, grad=0.0000)]\n",
            "Layer 2 \n",
            " Weights: [[Var(v=-0.0773, grad=0.0000)], [Var(v=-0.1272, grad=0.0000)], [Var(v=-0.0024, grad=0.0000)], [Var(v=0.0632, grad=0.0000)], [Var(v=-0.1732, grad=0.0000)], [Var(v=0.1442, grad=0.0000)], [Var(v=0.0428, grad=0.0000)], [Var(v=-0.0008, grad=0.0000)], [Var(v=0.0367, grad=0.0000)], [Var(v=-0.0716, grad=0.0000)], [Var(v=-0.1251, grad=0.0000)], [Var(v=0.1185, grad=0.0000)], [Var(v=0.0802, grad=0.0000)], [Var(v=-0.0413, grad=0.0000)], [Var(v=-0.0918, grad=0.0000)], [Var(v=-0.0077, grad=0.0000)], [Var(v=0.0004, grad=0.0000)], [Var(v=0.0529, grad=0.0000)], [Var(v=-0.1359, grad=0.0000)], [Var(v=-0.0638, grad=0.0000)], [Var(v=-0.0515, grad=0.0000)], [Var(v=-0.0596, grad=0.0000)], [Var(v=-0.0418, grad=0.0000)], [Var(v=0.0124, grad=0.0000)], [Var(v=0.1217, grad=0.0000)], [Var(v=-0.0451, grad=0.0000)], [Var(v=-0.0435, grad=0.0000)], [Var(v=-0.0015, grad=0.0000)], [Var(v=0.0698, grad=0.0000)], [Var(v=0.0920, grad=0.0000)], [Var(v=-0.0919, grad=0.0000)], [Var(v=-0.0536, grad=0.0000)], [Var(v=0.0316, grad=0.0000)], [Var(v=0.0740, grad=0.0000)], [Var(v=-0.0413, grad=0.0000)], [Var(v=0.1542, grad=0.0000)], [Var(v=0.0086, grad=0.0000)], [Var(v=0.0922, grad=0.0000)], [Var(v=-0.1655, grad=0.0000)], [Var(v=-0.2036, grad=0.0000)], [Var(v=-0.0828, grad=0.0000)], [Var(v=-0.0031, grad=0.0000)], [Var(v=0.0561, grad=0.0000)], [Var(v=-0.0189, grad=0.0000)], [Var(v=0.1037, grad=0.0000)], [Var(v=-0.1149, grad=0.0000)], [Var(v=0.1029, grad=0.0000)], [Var(v=0.0830, grad=0.0000)], [Var(v=0.1650, grad=0.0000)], [Var(v=-0.0196, grad=0.0000)]] Biases: [Var(v=-0.0150, grad=0.0000)]\n"
          ]
        },
        {
          "output_type": "execute_result",
          "data": {
            "text/plain": [
              "[None, None, None]"
            ]
          },
          "metadata": {},
          "execution_count": 31
        }
      ],
      "source": [
        "print('Network before update:')\n",
        "[print('Layer', i, '\\n', NN[i]) for i in range(len(NN))] \n",
        "\n",
        "def parameters(network):\n",
        "  params = []\n",
        "  for layer in range(len(network)):\n",
        "    params += network[layer].parameters()\n",
        "  return params\n",
        "\n",
        "def update_parameters(params, learning_rate=0.01):\n",
        "  for p in params:\n",
        "    p.v -= learning_rate*p.grad\n",
        "\n",
        "def zero_gradients(params):\n",
        "  for p in params:\n",
        "    p.grad = 0.0\n",
        "\n",
        "update_parameters(parameters(NN))\n",
        "\n",
        "print('\\nNetwork after update:')\n",
        "[print('Layer', i, '\\n', NN[i]) for i in range(len(NN))] \n",
        "\n",
        "zero_gradients(parameters(NN))\n",
        "\n",
        "print('\\nNetwork after zeroing gradients:')\n",
        "[print('Layer', i, '\\n', NN[i]) for i in range(len(NN))] "
      ]
    },
    {
      "cell_type": "code",
      "execution_count": 32,
      "metadata": {
        "id": "woWYpdw6FtIO"
      },
      "outputs": [],
      "source": [
        "# Initialize an arbitrary neural network\n",
        "#NN = [\n",
        "#    DenseLayer(1, 8, lambda x: x.relu()),\n",
        "#    DenseLayer(8, 1, lambda x: x.identity())\n",
        "#]\n",
        "\n",
        "# Recommended hyper-parameters for 3-D: \n",
        "NN = [\n",
        "    DenseLayer(3, 16, lambda x: x.relu()),\n",
        "    DenseLayer(16, 1, lambda x: x.identity())\n",
        "]\n",
        "\n",
        "\n",
        "### Notice that, when we switch from tanh to relu activation, we decrease the learning rate. This is due the stability of the gradients \n",
        "## of the activation functions."
      ]
    },
    {
      "cell_type": "code",
      "execution_count": 33,
      "metadata": {
        "id": "mdqaqYBVFtIR"
      },
      "outputs": [],
      "source": [
        "# Initialize training hyperparameters\n",
        "EPOCHS = 200\n",
        "LEARN_R = 2e-3 "
      ]
    },
    {
      "cell_type": "code",
      "execution_count": 34,
      "metadata": {
        "id": "5kfg76GMFtIW",
        "scrolled": true,
        "outputId": "f0643567-f541-420d-efee-44d06ccb821e",
        "colab": {
          "base_uri": "https://localhost:8080/"
        }
      },
      "outputs": [
        {
          "output_type": "stream",
          "name": "stdout",
          "text": [
            "   0 ( 0.00%) Train loss: 101.109 \t Validation loss: 119.418\n",
            "  10 ( 5.00%) Train loss: 60.400 \t Validation loss: 86.762\n",
            "  20 (10.00%) Train loss: 35.220 \t Validation loss: 60.400\n",
            "  30 (15.00%) Train loss: 21.189 \t Validation loss: 38.849\n",
            "  40 (20.00%) Train loss: 11.529 \t Validation loss: 22.744\n",
            "  50 (25.00%) Train loss: 7.790 \t Validation loss: 16.191\n",
            "  60 (30.00%) Train loss: 6.272 \t Validation loss: 13.445\n",
            "  70 (35.00%) Train loss: 5.320 \t Validation loss: 11.758\n",
            "  80 (40.00%) Train loss: 4.513 \t Validation loss: 10.360\n",
            "  90 (45.00%) Train loss: 3.832 \t Validation loss: 9.177\n",
            " 100 (50.00%) Train loss: 3.276 \t Validation loss: 8.137\n",
            " 110 (55.00%) Train loss: 2.825 \t Validation loss: 7.269\n",
            " 120 (60.00%) Train loss: 2.456 \t Validation loss: 6.538\n",
            " 130 (65.00%) Train loss: 2.125 \t Validation loss: 5.910\n",
            " 140 (70.00%) Train loss: 1.841 \t Validation loss: 5.351\n",
            " 150 (75.00%) Train loss: 1.600 \t Validation loss: 4.868\n",
            " 160 (80.00%) Train loss: 1.407 \t Validation loss: 4.455\n",
            " 170 (85.00%) Train loss: 1.244 \t Validation loss: 4.108\n",
            " 180 (90.00%) Train loss: 1.116 \t Validation loss: 3.813\n",
            " 190 (95.00%) Train loss: 1.011 \t Validation loss: 3.575\n"
          ]
        }
      ],
      "source": [
        "train_loss = []\n",
        "val_loss = []\n",
        "\n",
        "for e in range(EPOCHS):\n",
        "     \n",
        "    # Forward pass and loss computation\n",
        "    Loss = squared_loss(y_train, forward(x_train, NN))\n",
        "\n",
        "    # Backward pass\n",
        "    Loss.backward()\n",
        "    \n",
        "    # gradient descent update\n",
        "    update_parameters(parameters(NN), LEARN_R)\n",
        "    zero_gradients(parameters(NN))\n",
        "    \n",
        "    # Training loss\n",
        "    train_loss.append(Loss.v)\n",
        "    \n",
        "    # Validation\n",
        "    Loss_validation = squared_loss(y_validation, forward(x_validation, NN))\n",
        "    val_loss.append(Loss_validation.v)\n",
        "    \n",
        "    if e%10==0:\n",
        "        print(\"{:4d}\".format(e),\n",
        "              \"({:5.2f}%)\".format(e/EPOCHS*100), \n",
        "              \"Train loss: {:4.3f} \\t Validation loss: {:4.3f}\".format(train_loss[-1], val_loss[-1]))\n",
        "        \n"
      ]
    },
    {
      "cell_type": "code",
      "execution_count": 35,
      "metadata": {
        "id": "VetyRWFwFtIY",
        "outputId": "4155f1a4-dbdb-44b3-9130-ca485fd77f25",
        "colab": {
          "base_uri": "https://localhost:8080/",
          "height": 265
        }
      },
      "outputs": [
        {
          "output_type": "display_data",
          "data": {
            "text/plain": [
              "<Figure size 432x288 with 1 Axes>"
            ],
            "image/png": "[encoded data removed]"
          },
          "metadata": {
            "needs_background": "light"
          }
        }
      ],
      "source": [
        "plt.plot(range(len(train_loss)), train_loss);\n",
        "plt.plot(range(len(val_loss)), val_loss);"
      ]
    },
    {
      "cell_type": "markdown",
      "metadata": {
        "id": "8OgmIrM9FtIb"
      },
      "source": [
        "# Testing\n",
        "\n",
        "We have kept the calculation of the test error separate in order to emphasize that you should not use the test set in optimization."
      ]
    },
    {
      "cell_type": "code",
      "execution_count": 36,
      "metadata": {
        "id": "HmNi7S-vFtIc"
      },
      "outputs": [],
      "source": [
        "output_test = forward(x_test, NN)"
      ]
    },
    {
      "cell_type": "code",
      "execution_count": 37,
      "metadata": {
        "id": "7mmJOTSEFtIf",
        "outputId": "336afc67-b9ed-4067-8e7d-6dca61410546",
        "colab": {
          "base_uri": "https://localhost:8080/",
          "height": 316
        }
      },
      "outputs": [
        {
          "output_type": "stream",
          "name": "stdout",
          "text": [
            "Test loss:  18.167\n"
          ]
        },
        {
          "output_type": "display_data",
          "data": {
            "text/plain": [
              "<Figure size 432x288 with 1 Axes>"
            ],
            "image/png": "[encoded data removed]"
          },
          "metadata": {
            "needs_background": "light"
          }
        }
      ],
      "source": [
        "y_test_np = Var_to_nparray(y_test)\n",
        "plt.scatter(y_test_np, Var_to_nparray(output_test));\n",
        "plt.plot([np.min(y_test_np), np.max(y_test_np)], [np.min(y_test_np), np.max(y_test_np)], color='k');\n",
        "plt.xlabel(\"y\");\n",
        "plt.ylabel(\"$\\hat{y}$\");\n",
        "plt.title(\"Model prediction vs real in the test set, the close to the line the better\")\n",
        "plt.grid(True);\n",
        "plt.axis('equal');\n",
        "plt.tight_layout();\n",
        "\n",
        "Loss_test = squared_loss(y_test, forward(x_test, NN))\n",
        "\n",
        "print(\"Test loss:  {:4.3f}\".format(Loss_test.v))"
      ]
    },
    {
      "cell_type": "code",
      "execution_count": 38,
      "metadata": {
        "id": "ODi0WlmQFtIh",
        "outputId": "50b87e9c-96a3-4ab4-a0e0-2084daebdd50",
        "colab": {
          "base_uri": "https://localhost:8080/",
          "height": 279
        }
      },
      "outputs": [
        {
          "output_type": "display_data",
          "data": {
            "text/plain": [
              "<Figure size 432x288 with 1 Axes>"
            ],
            "image/png": "[encoded data removed]"
          },
          "metadata": {
            "needs_background": "light"
          }
        }
      ],
      "source": [
        "x_test_np = Var_to_nparray(x_test)\n",
        "x_train_np = Var_to_nparray(x_train)\n",
        "y_train_np = Var_to_nparray(y_train)\n",
        "if D1:\n",
        "    plt.scatter(x_train_np, y_train_np, label=\"train data\");\n",
        "    plt.scatter(x_test_np, Var_to_nparray(output_test), label=\"test prediction\");\n",
        "    plt.scatter(x_test_np, y_test_np, label=\"test data\");\n",
        "    plt.legend();\n",
        "    plt.xlabel(\"x\");\n",
        "    plt.ylabel(\"y\");\n",
        "else:\n",
        "    plt.scatter(x_train_np[:,1], y_train_np, label=\"train data\");\n",
        "    plt.scatter(x_test_np[:,1], Var_to_nparray(output_test), label=\"test data prediction\");\n",
        "    plt.scatter(x_test_np[:,1], y_test_np, label=\"test data\");\n",
        "    plt.legend();\n",
        "    plt.xlabel(\"x\");\n",
        "    plt.ylabel(\"y\");"
      ]
    },
    {
      "cell_type": "markdown",
      "metadata": {
        "id": "zTBAmjsAFtIk"
      },
      "source": [
        "## Exercise k) Show overfitting, underfitting and just right fitting\n",
        "\n",
        "Vary the architecture and other things to show clear signs of overfitting (=training loss significantly lower than test loss) and underfitting (=not fitting enoung to training data so that test performance is also hurt).\n",
        "\n",
        "See also if you can get a good compromise which leads to a low validation loss. \n",
        "\n",
        "For this problem do you see any big difference between validation and test loss? The answer here will probably be no. Discuss cases where it is important to keep the two separate.\n",
        "\n",
        "For this simple problem, we do not notice any major difference between the validation and test loss.\n",
        "\n",
        "The test set must exclusively be used to test the model at the end of the experiments. The validation set could thus be used to get some results on data which has not been shown during the training phase and to choose the values for the hyperparameters. In fact, if we were to choose the values using the test set, the results would be biased and it could no longer serve as a proper evaluation of the model.\n"
      ]
    },
    {
      "cell_type": "code",
      "execution_count": 44,
      "metadata": {
        "id": "tQZCn2dxFtIl",
        "outputId": "9c3b6c71-df0a-447a-a618-150f681b0452",
        "colab": {
          "base_uri": "https://localhost:8080/",
          "height": 281
        }
      },
      "outputs": [
        {
          "output_type": "display_data",
          "data": {
            "text/plain": [
              "<Figure size 432x288 with 1 Axes>"
            ],
            "image/png": "[encoded data removed]"
          },
          "metadata": {
            "needs_background": "light"
          }
        }
      ],
      "source": [
        "EPOCHS = 300\n",
        "LEARN_R = 2e-3 \n",
        "\n",
        "NN = [\n",
        "    DenseLayer(3, 16, lambda x: x.relu()),\n",
        "    DenseLayer(16, 1, lambda x: x.identity())\n",
        "]\n",
        "\n",
        "train_loss = []\n",
        "test_loss = []\n",
        "\n",
        "for e in range(EPOCHS):\n",
        "    Loss = squared_loss(y_train, forward(x_train, NN))\n",
        "    Loss.backward()\n",
        "    update_parameters(parameters(NN), LEARN_R)\n",
        "    zero_gradients(parameters(NN))\n",
        "    train_loss.append(Loss.v)\n",
        "    Loss_test = squared_loss(y_test, forward(x_test, NN))\n",
        "    test_loss.append(Loss_test.v)\n",
        "\n",
        "plt.plot(range(len(train_loss)), train_loss, label=\"train\");\n",
        "plt.plot(range(len(test_loss)), test_loss, label=\"test\");\n",
        "plt.title(\"Just right fiting\")\n",
        "plt.legend()\n",
        "plt.show()"
      ]
    },
    {
      "cell_type": "code",
      "source": [
        "EPOCHS = 200\n",
        "LEARN_R = 2e-3 \n",
        "\n",
        "NN = [\n",
        "    DenseLayer(3, 1, lambda x: x.relu()),\n",
        "]\n",
        "\n",
        "train_loss = []\n",
        "test_loss = []\n",
        "\n",
        "for e in range(EPOCHS):\n",
        "    Loss = squared_loss(y_train, forward(x_train, NN))\n",
        "    Loss.backward()\n",
        "    update_parameters(parameters(NN), LEARN_R)\n",
        "    zero_gradients(parameters(NN))\n",
        "    train_loss.append(Loss.v)\n",
        "    Loss_test = squared_loss(y_test, forward(x_test, NN))\n",
        "    test_loss.append(Loss_test.v)\n",
        "\n",
        "plt.plot(range(len(train_loss)), train_loss, label=\"train\");\n",
        "plt.plot(range(len(test_loss)), test_loss, label=\"test\");\n",
        "plt.title(\"Underfiting\")\n",
        "plt.legend()\n",
        "plt.show()"
      ],
      "metadata": {
        "id": "YrUMvHL2YndZ",
        "outputId": "bea69cec-1eb7-4551-9abc-f3b614c9ff64",
        "colab": {
          "base_uri": "https://localhost:8080/",
          "height": 281
        }
      },
      "execution_count": 45,
      "outputs": [
        {
          "output_type": "display_data",
          "data": {
            "text/plain": [
              "<Figure size 432x288 with 1 Axes>"
            ],
            "image/png": "[encoded data removed]"
          },
          "metadata": {
            "needs_background": "light"
          }
        }
      ]
    },
    {
      "cell_type": "markdown",
      "source": [
        "The previous datasets were too similar to obtain a choice of parameters resulting in overfiting, we thus modify the data to obtain a more complex task where simply learning the training set would result in poor generalization."
      ],
      "metadata": {
        "id": "Zh9KDs9PtfY8"
      }
    },
    {
      "cell_type": "code",
      "source": [
        "D1 = False\n",
        "x_train, y_train,  x_validation, y_validation, x_test, y_test = data_generator(noise=100, D1=D1)\n",
        "\n",
        "x_train = nparray_to_Var(x_train)\n",
        "y_train = nparray_to_Var(y_train)\n",
        "x_validation = nparray_to_Var(x_validation)\n",
        "y_validation = nparray_to_Var(y_validation)\n",
        "x_test = nparray_to_Var(x_test)\n",
        "y_test = nparray_to_Var(y_test)\n",
        "\n",
        "EPOCHS = 100\n",
        "LEARN_R = 2e-3 \n",
        "\n",
        "NN = [\n",
        "    DenseLayer(3, 32, lambda x: x.relu()),\n",
        "    DenseLayer(32, 1, lambda x: x.identity())\n",
        "]\n",
        "\n",
        "train_loss = []\n",
        "test_loss = []\n",
        "\n",
        "for e in range(EPOCHS):\n",
        "    Loss = squared_loss(y_train, forward(x_train, NN))\n",
        "    Loss.backward()\n",
        "    update_parameters(parameters(NN), LEARN_R)\n",
        "    zero_gradients(parameters(NN))\n",
        "    train_loss.append(Loss.v)\n",
        "    Loss_test = squared_loss(y_test, forward(x_test, NN))\n",
        "    test_loss.append(Loss_test.v)\n",
        "        \n",
        "\n",
        "plt.plot(range(len(train_loss)), train_loss, label=\"train\");\n",
        "plt.plot(range(len(test_loss)), test_loss, label=\"test\");\n",
        "plt.title(\"Overfiting\")\n",
        "plt.legend()\n",
        "plt.show()"
      ],
      "metadata": {
        "id": "BnEQjndRY3FQ",
        "outputId": "aa065e79-e1f9-4123-bd2d-fac0fa481309",
        "colab": {
          "base_uri": "https://localhost:8080/",
          "height": 281
        }
      },
      "execution_count": 46,
      "outputs": [
        {
          "output_type": "display_data",
          "data": {
            "text/plain": [
              "<Figure size 432x288 with 1 Axes>"
            ],
            "image/png": "[encoded data removed]"
          },
          "metadata": {
            "needs_background": "light"
          }
        }
      ]
    },
    {
      "cell_type": "markdown",
      "metadata": {
        "id": "fYPZP-eTFtIo"
      },
      "source": [
        "# Next steps - classification\n",
        "\n",
        "It is straight forward to extend what we have done to classification. \n",
        "\n",
        "For numerical stability it is better to make softmax and cross-entropy as one function so we write the cross entropy loss as a function of the logits we talked about last week. \n",
        "\n",
        "Next week we will see how to perform classification in PyTorch."
      ]
    },
    {
      "cell_type": "markdown",
      "metadata": {
        "id": "qsVPul3QFtIo"
      },
      "source": [
        "## Exercise l) optional - Implement backpropagation for classification\n",
        "\n",
        "Should be possible with very few lines of code. :-)"
      ]
    },
    {
      "cell_type": "code",
      "execution_count": 42,
      "metadata": {
        "id": "oC8QrI2tFtIp"
      },
      "outputs": [],
      "source": [
        "# Just add code."
      ]
    },
    {
      "cell_type": "markdown",
      "metadata": {
        "id": "APqhJv3tta1O"
      },
      "source": [
        "## Exercise m) optional - Introduce a NeuralNetwork class\n",
        "\n",
        "The functions we applied on the neural network (parameters, update_parameters and zero_gradients) can more naturally be included as methods in a NeuralNetwork class. Make such a class and modify the code to use it. "
      ]
    },
    {
      "cell_type": "code",
      "execution_count": 43,
      "metadata": {
        "id": "Dqfnor1ouMLq"
      },
      "outputs": [],
      "source": [
        "# just add some code"
      ]
    }
  ],
  "metadata": {
    "anaconda-cloud": {},
    "colab": {
      "collapsed_sections": [
        "U4057_ljNvWB",
        "p_8n_SKnIW2F",
        "oLrGJytZFtGm",
        "jpIZPBpNI0pO",
        "_79HOAXrFtHK",
        "mqeyab9qFtGs",
        "-XyXBD37FtHk",
        "SrwSJ2UWFtHu",
        "zTBAmjsAFtIk",
        "qsVPul3QFtIo",
        "APqhJv3tta1O"
      ],
      "name": "2.1-EXE-FNN-AutoDif-Nanograd.ipynb",
      "provenance": []
    },
    "kernelspec": {
      "display_name": "Python 3 (ipykernel)",
      "language": "python",
      "name": "python3"
    },
    "language_info": {
      "codemirror_mode": {
        "name": "ipython",
        "version": 3
      },
      "file_extension": ".py",
      "mimetype": "text/x-python",
      "name": "python",
      "nbconvert_exporter": "python",
      "pygments_lexer": "ipython3",
      "version": "3.8.12"
    }
  },
  "nbformat": 4,
  "nbformat_minor": 0
}